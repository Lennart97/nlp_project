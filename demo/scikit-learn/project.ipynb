{
 "cells": [
  {
   "cell_type": "raw",
   "source": [
    "##%%\n",
    " Taken from https://ourcodingclub.github.io/tutorials/topic-modelling-python/"
   ],
   "metadata": {
    "collapsed": false,
    "pycharm": {
     "name": ""
    }
   }
  },
  {
   "cell_type": "markdown",
   "source": [
    "# Imports"
   ],
   "metadata": {
    "collapsed": false,
    "pycharm": {
     "name": "#%% md\n"
    }
   }
  },
  {
   "cell_type": "code",
   "execution_count": 3,
   "metadata": {
    "collapsed": true,
    "pycharm": {
     "name": "#%%\n"
    }
   },
   "outputs": [],
   "source": [
    "# packages to store and manipulate data\n",
    "import pandas as pd\n",
    "import numpy as np\n",
    "\n",
    "# plotting packages\n",
    "import matplotlib.pyplot as plt\n",
    "import seaborn as sns\n",
    "\n",
    "# model building package\n",
    "import sklearn\n",
    "\n",
    "# package to clean text\n",
    "import re"
   ]
  },
  {
   "cell_type": "markdown",
   "source": [
    "# Exploration"
   ],
   "metadata": {
    "collapsed": false,
    "pycharm": {
     "name": "#%% md\n"
    }
   }
  },
  {
   "cell_type": "code",
   "execution_count": 5,
   "outputs": [
    {
     "data": {
      "text/plain": "                                               tweet\n0  Global warming report urges governments to act...\n1  Fighting poverty and global warming in Africa ...\n2  Carbon offsets: How a Vatican forest failed to...\n3  Carbon offsets: How a Vatican forest failed to...\n4  URUGUAY: Tools Needed for Those Most Vulnerabl...",
      "text/html": "<div>\n<style scoped>\n    .dataframe tbody tr th:only-of-type {\n        vertical-align: middle;\n    }\n\n    .dataframe tbody tr th {\n        vertical-align: top;\n    }\n\n    .dataframe thead th {\n        text-align: right;\n    }\n</style>\n<table border=\"1\" class=\"dataframe\">\n  <thead>\n    <tr style=\"text-align: right;\">\n      <th></th>\n      <th>tweet</th>\n    </tr>\n  </thead>\n  <tbody>\n    <tr>\n      <th>0</th>\n      <td>Global warming report urges governments to act...</td>\n    </tr>\n    <tr>\n      <th>1</th>\n      <td>Fighting poverty and global warming in Africa ...</td>\n    </tr>\n    <tr>\n      <th>2</th>\n      <td>Carbon offsets: How a Vatican forest failed to...</td>\n    </tr>\n    <tr>\n      <th>3</th>\n      <td>Carbon offsets: How a Vatican forest failed to...</td>\n    </tr>\n    <tr>\n      <th>4</th>\n      <td>URUGUAY: Tools Needed for Those Most Vulnerabl...</td>\n    </tr>\n  </tbody>\n</table>\n</div>"
     },
     "execution_count": 5,
     "metadata": {},
     "output_type": "execute_result"
    }
   ],
   "source": [
    "df = pd.read_csv('climate_tweets.csv')\n",
    "df.head()"
   ],
   "metadata": {
    "collapsed": false,
    "pycharm": {
     "name": "#%%\n"
    }
   }
  },
  {
   "cell_type": "code",
   "execution_count": 6,
   "outputs": [
    {
     "data": {
      "text/plain": "773"
     },
     "execution_count": 6,
     "metadata": {},
     "output_type": "execute_result"
    }
   ],
   "source": [
    "# make a new column to highlight retweets\n",
    "df['is_retweet'] = df['tweet'].apply(lambda x: x[:2]=='RT')\n",
    "df['is_retweet'].sum()  # number of retweets"
   ],
   "metadata": {
    "collapsed": false,
    "pycharm": {
     "name": "#%%\n"
    }
   }
  },
  {
   "cell_type": "code",
   "execution_count": 7,
   "outputs": [
    {
     "data": {
      "text/plain": "677"
     },
     "execution_count": 7,
     "metadata": {},
     "output_type": "execute_result"
    }
   ],
   "source": [
    " # number of unique retweets\n",
    "df.loc[df['is_retweet']].tweet.unique().size"
   ],
   "metadata": {
    "collapsed": false,
    "pycharm": {
     "name": "#%%\n"
    }
   }
  },
  {
   "cell_type": "code",
   "execution_count": 8,
   "outputs": [
    {
     "data": {
      "text/plain": "                                                  tweet  counts\n3131  No matter if you believe in global warming or ...      20\n4555  Take Action @change: Help Protect Wildlife Hab...      14\n4027  RT @newtgingrich: Historic snow storm in washi...       9\n1765       Fight Climate Change From All Fronts: [link]       8\n1626  Earth's polar ice sheets vulnerable to even mo...       7\n1941  Global Warming Dent's El Ni'o's Protective Shi...       7\n1799  Foes of California's global warming law pour m...       6\n1351  Coalition of the Tired of Waiting: Fighting Cl...       6\n4271  SCIENCE: Scientists explore the evolution of c...       6\n1040  Carbon offsets: How a Vatican forest failed to...       6",
      "text/html": "<div>\n<style scoped>\n    .dataframe tbody tr th:only-of-type {\n        vertical-align: middle;\n    }\n\n    .dataframe tbody tr th {\n        vertical-align: top;\n    }\n\n    .dataframe thead th {\n        text-align: right;\n    }\n</style>\n<table border=\"1\" class=\"dataframe\">\n  <thead>\n    <tr style=\"text-align: right;\">\n      <th></th>\n      <th>tweet</th>\n      <th>counts</th>\n    </tr>\n  </thead>\n  <tbody>\n    <tr>\n      <th>3131</th>\n      <td>No matter if you believe in global warming or ...</td>\n      <td>20</td>\n    </tr>\n    <tr>\n      <th>4555</th>\n      <td>Take Action @change: Help Protect Wildlife Hab...</td>\n      <td>14</td>\n    </tr>\n    <tr>\n      <th>4027</th>\n      <td>RT @newtgingrich: Historic snow storm in washi...</td>\n      <td>9</td>\n    </tr>\n    <tr>\n      <th>1765</th>\n      <td>Fight Climate Change From All Fronts: [link]</td>\n      <td>8</td>\n    </tr>\n    <tr>\n      <th>1626</th>\n      <td>Earth's polar ice sheets vulnerable to even mo...</td>\n      <td>7</td>\n    </tr>\n    <tr>\n      <th>1941</th>\n      <td>Global Warming Dent's El Ni'o's Protective Shi...</td>\n      <td>7</td>\n    </tr>\n    <tr>\n      <th>1799</th>\n      <td>Foes of California's global warming law pour m...</td>\n      <td>6</td>\n    </tr>\n    <tr>\n      <th>1351</th>\n      <td>Coalition of the Tired of Waiting: Fighting Cl...</td>\n      <td>6</td>\n    </tr>\n    <tr>\n      <th>4271</th>\n      <td>SCIENCE: Scientists explore the evolution of c...</td>\n      <td>6</td>\n    </tr>\n    <tr>\n      <th>1040</th>\n      <td>Carbon offsets: How a Vatican forest failed to...</td>\n      <td>6</td>\n    </tr>\n  </tbody>\n</table>\n</div>"
     },
     "execution_count": 8,
     "metadata": {},
     "output_type": "execute_result"
    }
   ],
   "source": [
    "# 10 most repeated tweets\n",
    "df.groupby(['tweet']).size().reset_index(name='counts')\\\n",
    "  .sort_values('counts', ascending=False).head(10)"
   ],
   "metadata": {
    "collapsed": false,
    "pycharm": {
     "name": "#%%\n"
    }
   }
  },
  {
   "cell_type": "code",
   "execution_count": 9,
   "outputs": [
    {
     "ename": "TypeError",
     "evalue": "LogScale.__init__() got an unexpected keyword argument 'nonposy'",
     "output_type": "error",
     "traceback": [
      "\u001B[0;31m---------------------------------------------------------------------------\u001B[0m",
      "\u001B[0;31mTypeError\u001B[0m                                 Traceback (most recent call last)",
      "Input \u001B[0;32mIn [9]\u001B[0m, in \u001B[0;36m<cell line: 15>\u001B[0;34m()\u001B[0m\n\u001B[1;32m     13\u001B[0m plt\u001B[38;5;241m.\u001B[39mxlabel(\u001B[38;5;124m'\u001B[39m\u001B[38;5;124mcopies of each tweet\u001B[39m\u001B[38;5;124m'\u001B[39m)\n\u001B[1;32m     14\u001B[0m plt\u001B[38;5;241m.\u001B[39mylabel(\u001B[38;5;124m'\u001B[39m\u001B[38;5;124mfrequency\u001B[39m\u001B[38;5;124m'\u001B[39m)\n\u001B[0;32m---> 15\u001B[0m \u001B[43mplt\u001B[49m\u001B[38;5;241;43m.\u001B[39;49m\u001B[43myscale\u001B[49m\u001B[43m(\u001B[49m\u001B[38;5;124;43m'\u001B[39;49m\u001B[38;5;124;43mlog\u001B[39;49m\u001B[38;5;124;43m'\u001B[39;49m\u001B[43m,\u001B[49m\u001B[43m \u001B[49m\u001B[43mnonposy\u001B[49m\u001B[38;5;241;43m=\u001B[39;49m\u001B[38;5;124;43m'\u001B[39;49m\u001B[38;5;124;43mclip\u001B[39;49m\u001B[38;5;124;43m'\u001B[39;49m\u001B[43m)\u001B[49m\n\u001B[1;32m     16\u001B[0m plt\u001B[38;5;241m.\u001B[39mshow()\n",
      "File \u001B[0;32m~/uni/nlp/problem-solution/venv/lib64/python3.10/site-packages/matplotlib/pyplot.py:3067\u001B[0m, in \u001B[0;36myscale\u001B[0;34m(value, **kwargs)\u001B[0m\n\u001B[1;32m   3065\u001B[0m \u001B[38;5;129m@_copy_docstring_and_deprecators\u001B[39m(Axes\u001B[38;5;241m.\u001B[39mset_yscale)\n\u001B[1;32m   3066\u001B[0m \u001B[38;5;28;01mdef\u001B[39;00m \u001B[38;5;21myscale\u001B[39m(value, \u001B[38;5;241m*\u001B[39m\u001B[38;5;241m*\u001B[39mkwargs):\n\u001B[0;32m-> 3067\u001B[0m     \u001B[38;5;28;01mreturn\u001B[39;00m \u001B[43mgca\u001B[49m\u001B[43m(\u001B[49m\u001B[43m)\u001B[49m\u001B[38;5;241;43m.\u001B[39;49m\u001B[43mset_yscale\u001B[49m\u001B[43m(\u001B[49m\u001B[43mvalue\u001B[49m\u001B[43m,\u001B[49m\u001B[43m \u001B[49m\u001B[38;5;241;43m*\u001B[39;49m\u001B[38;5;241;43m*\u001B[39;49m\u001B[43mkwargs\u001B[49m\u001B[43m)\u001B[49m\n",
      "File \u001B[0;32m~/uni/nlp/problem-solution/venv/lib64/python3.10/site-packages/matplotlib/axes/_base.py:4117\u001B[0m, in \u001B[0;36m_AxesBase.set_yscale\u001B[0;34m(self, value, **kwargs)\u001B[0m\n\u001B[1;32m   4115\u001B[0m g \u001B[38;5;241m=\u001B[39m \u001B[38;5;28mself\u001B[39m\u001B[38;5;241m.\u001B[39mget_shared_y_axes()\n\u001B[1;32m   4116\u001B[0m \u001B[38;5;28;01mfor\u001B[39;00m ax \u001B[38;5;129;01min\u001B[39;00m g\u001B[38;5;241m.\u001B[39mget_siblings(\u001B[38;5;28mself\u001B[39m):\n\u001B[0;32m-> 4117\u001B[0m     \u001B[43max\u001B[49m\u001B[38;5;241;43m.\u001B[39;49m\u001B[43myaxis\u001B[49m\u001B[38;5;241;43m.\u001B[39;49m\u001B[43m_set_scale\u001B[49m\u001B[43m(\u001B[49m\u001B[43mvalue\u001B[49m\u001B[43m,\u001B[49m\u001B[43m \u001B[49m\u001B[38;5;241;43m*\u001B[39;49m\u001B[38;5;241;43m*\u001B[39;49m\u001B[43mkwargs\u001B[49m\u001B[43m)\u001B[49m\n\u001B[1;32m   4118\u001B[0m     ax\u001B[38;5;241m.\u001B[39m_update_transScale()\n\u001B[1;32m   4119\u001B[0m     ax\u001B[38;5;241m.\u001B[39mstale \u001B[38;5;241m=\u001B[39m \u001B[38;5;28;01mTrue\u001B[39;00m\n",
      "File \u001B[0;32m~/uni/nlp/problem-solution/venv/lib64/python3.10/site-packages/matplotlib/axis.py:761\u001B[0m, in \u001B[0;36mAxis._set_scale\u001B[0;34m(self, value, **kwargs)\u001B[0m\n\u001B[1;32m    759\u001B[0m \u001B[38;5;28;01mdef\u001B[39;00m \u001B[38;5;21m_set_scale\u001B[39m(\u001B[38;5;28mself\u001B[39m, value, \u001B[38;5;241m*\u001B[39m\u001B[38;5;241m*\u001B[39mkwargs):\n\u001B[1;32m    760\u001B[0m     \u001B[38;5;28;01mif\u001B[39;00m \u001B[38;5;129;01mnot\u001B[39;00m \u001B[38;5;28misinstance\u001B[39m(value, mscale\u001B[38;5;241m.\u001B[39mScaleBase):\n\u001B[0;32m--> 761\u001B[0m         \u001B[38;5;28mself\u001B[39m\u001B[38;5;241m.\u001B[39m_scale \u001B[38;5;241m=\u001B[39m \u001B[43mmscale\u001B[49m\u001B[38;5;241;43m.\u001B[39;49m\u001B[43mscale_factory\u001B[49m\u001B[43m(\u001B[49m\u001B[43mvalue\u001B[49m\u001B[43m,\u001B[49m\u001B[43m \u001B[49m\u001B[38;5;28;43mself\u001B[39;49m\u001B[43m,\u001B[49m\u001B[43m \u001B[49m\u001B[38;5;241;43m*\u001B[39;49m\u001B[38;5;241;43m*\u001B[39;49m\u001B[43mkwargs\u001B[49m\u001B[43m)\u001B[49m\n\u001B[1;32m    762\u001B[0m     \u001B[38;5;28;01melse\u001B[39;00m:\n\u001B[1;32m    763\u001B[0m         \u001B[38;5;28mself\u001B[39m\u001B[38;5;241m.\u001B[39m_scale \u001B[38;5;241m=\u001B[39m value\n",
      "File \u001B[0;32m~/uni/nlp/problem-solution/venv/lib64/python3.10/site-packages/matplotlib/scale.py:597\u001B[0m, in \u001B[0;36mscale_factory\u001B[0;34m(scale, axis, **kwargs)\u001B[0m\n\u001B[1;32m    595\u001B[0m     scale \u001B[38;5;241m=\u001B[39m scale\u001B[38;5;241m.\u001B[39mlower()\n\u001B[1;32m    596\u001B[0m scale_cls \u001B[38;5;241m=\u001B[39m _api\u001B[38;5;241m.\u001B[39mcheck_getitem(_scale_mapping, scale\u001B[38;5;241m=\u001B[39mscale)\n\u001B[0;32m--> 597\u001B[0m \u001B[38;5;28;01mreturn\u001B[39;00m \u001B[43mscale_cls\u001B[49m\u001B[43m(\u001B[49m\u001B[43maxis\u001B[49m\u001B[43m,\u001B[49m\u001B[43m \u001B[49m\u001B[38;5;241;43m*\u001B[39;49m\u001B[38;5;241;43m*\u001B[39;49m\u001B[43mkwargs\u001B[49m\u001B[43m)\u001B[49m\n",
      "\u001B[0;31mTypeError\u001B[0m: LogScale.__init__() got an unexpected keyword argument 'nonposy'"
     ]
    },
    {
     "data": {
      "text/plain": "<Figure size 432x288 with 1 Axes>",
      "image/png": "[encoded data removed]"
     },
     "metadata": {
      "needs_background": "light"
     },
     "output_type": "display_data"
    }
   ],
   "source": [
    "# number of times each tweet appears\n",
    "counts = df.groupby(['tweet']).size()\\\n",
    "           .reset_index(name='counts')\\\n",
    "           .counts\n",
    "\n",
    "# define bins for histogram\n",
    "my_bins = np.arange(0,counts.max()+2, 1)-0.5\n",
    "\n",
    "# plot histogram of tweet counts\n",
    "plt.figure()\n",
    "plt.hist(counts, bins = my_bins)\n",
    "plt.xlabels = np.arange(1,counts.max()+1, 1)\n",
    "plt.xlabel('copies of each tweet')\n",
    "plt.ylabel('frequency')\n",
    "plt.yscale('log', nonposy='clip')\n",
    "plt.show()"
   ],
   "metadata": {
    "collapsed": false,
    "pycharm": {
     "name": "#%%\n"
    }
   }
  },
  {
   "cell_type": "markdown",
   "source": [
    "# Extract Substrings"
   ],
   "metadata": {
    "collapsed": false,
    "pycharm": {
     "name": "#%% md\n"
    }
   }
  },
  {
   "cell_type": "code",
   "execution_count": 14,
   "outputs": [
    {
     "data": {
      "text/plain": "                                                tweet  is_retweet  \\\n0   Global warming report urges governments to act...       False   \n1   Fighting poverty and global warming in Africa ...       False   \n2   Carbon offsets: How a Vatican forest failed to...       False   \n3   Carbon offsets: How a Vatican forest failed to...       False   \n4   URUGUAY: Tools Needed for Those Most Vulnerabl...       False   \n5   RT @sejorg: RT @JaymiHeimbuch: Ocean Saltiness...        True   \n6   Global warming evidence all around us|A messag...       False   \n7   Migratory Birds' New Climate Change Strategy: ...       False   \n8   Southern Africa: Competing for Limpopo Water: ...       False   \n9   Global warming to impact wheat, rice productio...       False   \n10  How do we solve this global warming thing? [link]       False   \n11  Blog|A preliminary analysis suggests that natu...       False   \n12  Ecotone: #Climate change from a #population pe...       False   \n13  Climate change blamed as coastal whale migrati...       False   \n14  Spring storm season starting a little late thi...       False   \n15  Government Report Says Global Warming May Caus...       False   \n16  For #EarthDay Global warming could affect pati...       False   \n17  Wait here's an idea: it's natural climate chan...       False   \n18  EPA issues report on U.S. climate change indic...       False   \n19        QUT researchers track climate change [link]       False   \n20  Global Warming: Ocean chemistry is changing fa...       False   \n21  Topography of Mountains Could Complicate Rates...       False   \n22  Soaring mercury; Blame it on global warming|Ag...       False   \n23  RT @WGofNYC Leader of National Indigenous Wome...        True   \n24  @GregMitch has there been any reporting on if ...       False   \n25  effects of global warming •A_ YouTube •A_ Effe...       False   \n26  It's global climate change-not warming. #ac Re...       False   \n27  A preliminary analysis suggests that natural g...       False   \n28  SCIENCE: Scientists explore the evolution of c...       False   \n29  Eaarth: global warming is here to stay, how wi...       False   \n\n                    retweeted     mentioned                 hashtags  \n0                          []            []                       []  \n1                          []            []                       []  \n2                          []            []                       []  \n3                          []            []                       []  \n4                          []            []                       []  \n5   [@sejorg, @JaymiHeimbuch]            []                       []  \n6                          []            []                       []  \n7                          []            []                       []  \n8                          []            []                       []  \n9                          []            []                       []  \n10                         []            []                       []  \n11                         []            []                       []  \n12                         []            []  [#Climate, #population]  \n13                         []            []                       []  \n14                         []            []                       []  \n15                         []            []                       []  \n16                         []            []              [#EarthDay]  \n17                         []            []                       []  \n18                         []            []                       []  \n19                         []            []                       []  \n20                         []            []                       []  \n21                         []            []                       []  \n22                         []            []                       []  \n23                 [@WGofNYC]            []                       []  \n24                         []  [@GregMitch]                       []  \n25                         []            []                       []  \n26                         []            []                    [#ac]  \n27                         []            []                       []  \n28                         []            []                       []  \n29                         []            []                       []  ",
      "text/html": "<div>\n<style scoped>\n    .dataframe tbody tr th:only-of-type {\n        vertical-align: middle;\n    }\n\n    .dataframe tbody tr th {\n        vertical-align: top;\n    }\n\n    .dataframe thead th {\n        text-align: right;\n    }\n</style>\n<table border=\"1\" class=\"dataframe\">\n  <thead>\n    <tr style=\"text-align: right;\">\n      <th></th>\n      <th>tweet</th>\n      <th>is_retweet</th>\n      <th>retweeted</th>\n      <th>mentioned</th>\n      <th>hashtags</th>\n    </tr>\n  </thead>\n  <tbody>\n    <tr>\n      <th>0</th>\n      <td>Global warming report urges governments to act...</td>\n      <td>False</td>\n      <td>[]</td>\n      <td>[]</td>\n      <td>[]</td>\n    </tr>\n    <tr>\n      <th>1</th>\n      <td>Fighting poverty and global warming in Africa ...</td>\n      <td>False</td>\n      <td>[]</td>\n      <td>[]</td>\n      <td>[]</td>\n    </tr>\n    <tr>\n      <th>2</th>\n      <td>Carbon offsets: How a Vatican forest failed to...</td>\n      <td>False</td>\n      <td>[]</td>\n      <td>[]</td>\n      <td>[]</td>\n    </tr>\n    <tr>\n      <th>3</th>\n      <td>Carbon offsets: How a Vatican forest failed to...</td>\n      <td>False</td>\n      <td>[]</td>\n      <td>[]</td>\n      <td>[]</td>\n    </tr>\n    <tr>\n      <th>4</th>\n      <td>URUGUAY: Tools Needed for Those Most Vulnerabl...</td>\n      <td>False</td>\n      <td>[]</td>\n      <td>[]</td>\n      <td>[]</td>\n    </tr>\n    <tr>\n      <th>5</th>\n      <td>RT @sejorg: RT @JaymiHeimbuch: Ocean Saltiness...</td>\n      <td>True</td>\n      <td>[@sejorg, @JaymiHeimbuch]</td>\n      <td>[]</td>\n      <td>[]</td>\n    </tr>\n    <tr>\n      <th>6</th>\n      <td>Global warming evidence all around us|A messag...</td>\n      <td>False</td>\n      <td>[]</td>\n      <td>[]</td>\n      <td>[]</td>\n    </tr>\n    <tr>\n      <th>7</th>\n      <td>Migratory Birds' New Climate Change Strategy: ...</td>\n      <td>False</td>\n      <td>[]</td>\n      <td>[]</td>\n      <td>[]</td>\n    </tr>\n    <tr>\n      <th>8</th>\n      <td>Southern Africa: Competing for Limpopo Water: ...</td>\n      <td>False</td>\n      <td>[]</td>\n      <td>[]</td>\n      <td>[]</td>\n    </tr>\n    <tr>\n      <th>9</th>\n      <td>Global warming to impact wheat, rice productio...</td>\n      <td>False</td>\n      <td>[]</td>\n      <td>[]</td>\n      <td>[]</td>\n    </tr>\n    <tr>\n      <th>10</th>\n      <td>How do we solve this global warming thing? [link]</td>\n      <td>False</td>\n      <td>[]</td>\n      <td>[]</td>\n      <td>[]</td>\n    </tr>\n    <tr>\n      <th>11</th>\n      <td>Blog|A preliminary analysis suggests that natu...</td>\n      <td>False</td>\n      <td>[]</td>\n      <td>[]</td>\n      <td>[]</td>\n    </tr>\n    <tr>\n      <th>12</th>\n      <td>Ecotone: #Climate change from a #population pe...</td>\n      <td>False</td>\n      <td>[]</td>\n      <td>[]</td>\n      <td>[#Climate, #population]</td>\n    </tr>\n    <tr>\n      <th>13</th>\n      <td>Climate change blamed as coastal whale migrati...</td>\n      <td>False</td>\n      <td>[]</td>\n      <td>[]</td>\n      <td>[]</td>\n    </tr>\n    <tr>\n      <th>14</th>\n      <td>Spring storm season starting a little late thi...</td>\n      <td>False</td>\n      <td>[]</td>\n      <td>[]</td>\n      <td>[]</td>\n    </tr>\n    <tr>\n      <th>15</th>\n      <td>Government Report Says Global Warming May Caus...</td>\n      <td>False</td>\n      <td>[]</td>\n      <td>[]</td>\n      <td>[]</td>\n    </tr>\n    <tr>\n      <th>16</th>\n      <td>For #EarthDay Global warming could affect pati...</td>\n      <td>False</td>\n      <td>[]</td>\n      <td>[]</td>\n      <td>[#EarthDay]</td>\n    </tr>\n    <tr>\n      <th>17</th>\n      <td>Wait here's an idea: it's natural climate chan...</td>\n      <td>False</td>\n      <td>[]</td>\n      <td>[]</td>\n      <td>[]</td>\n    </tr>\n    <tr>\n      <th>18</th>\n      <td>EPA issues report on U.S. climate change indic...</td>\n      <td>False</td>\n      <td>[]</td>\n      <td>[]</td>\n      <td>[]</td>\n    </tr>\n    <tr>\n      <th>19</th>\n      <td>QUT researchers track climate change [link]</td>\n      <td>False</td>\n      <td>[]</td>\n      <td>[]</td>\n      <td>[]</td>\n    </tr>\n    <tr>\n      <th>20</th>\n      <td>Global Warming: Ocean chemistry is changing fa...</td>\n      <td>False</td>\n      <td>[]</td>\n      <td>[]</td>\n      <td>[]</td>\n    </tr>\n    <tr>\n      <th>21</th>\n      <td>Topography of Mountains Could Complicate Rates...</td>\n      <td>False</td>\n      <td>[]</td>\n      <td>[]</td>\n      <td>[]</td>\n    </tr>\n    <tr>\n      <th>22</th>\n      <td>Soaring mercury; Blame it on global warming|Ag...</td>\n      <td>False</td>\n      <td>[]</td>\n      <td>[]</td>\n      <td>[]</td>\n    </tr>\n    <tr>\n      <th>23</th>\n      <td>RT @WGofNYC Leader of National Indigenous Wome...</td>\n      <td>True</td>\n      <td>[@WGofNYC]</td>\n      <td>[]</td>\n      <td>[]</td>\n    </tr>\n    <tr>\n      <th>24</th>\n      <td>@GregMitch has there been any reporting on if ...</td>\n      <td>False</td>\n      <td>[]</td>\n      <td>[@GregMitch]</td>\n      <td>[]</td>\n    </tr>\n    <tr>\n      <th>25</th>\n      <td>effects of global warming •A_ YouTube •A_ Effe...</td>\n      <td>False</td>\n      <td>[]</td>\n      <td>[]</td>\n      <td>[]</td>\n    </tr>\n    <tr>\n      <th>26</th>\n      <td>It's global climate change-not warming. #ac Re...</td>\n      <td>False</td>\n      <td>[]</td>\n      <td>[]</td>\n      <td>[#ac]</td>\n    </tr>\n    <tr>\n      <th>27</th>\n      <td>A preliminary analysis suggests that natural g...</td>\n      <td>False</td>\n      <td>[]</td>\n      <td>[]</td>\n      <td>[]</td>\n    </tr>\n    <tr>\n      <th>28</th>\n      <td>SCIENCE: Scientists explore the evolution of c...</td>\n      <td>False</td>\n      <td>[]</td>\n      <td>[]</td>\n      <td>[]</td>\n    </tr>\n    <tr>\n      <th>29</th>\n      <td>Eaarth: global warming is here to stay, how wi...</td>\n      <td>False</td>\n      <td>[]</td>\n      <td>[]</td>\n      <td>[]</td>\n    </tr>\n  </tbody>\n</table>\n</div>"
     },
     "execution_count": 14,
     "metadata": {},
     "output_type": "execute_result"
    }
   ],
   "source": [
    "def find_retweeted(tweet):\n",
    "    '''This function will extract the twitter handles of retweed people'''\n",
    "    return re.findall('(?<=RT\\s)(@[A-Za-z]+[A-Za-z0-9-_]+)', tweet)\n",
    "\n",
    "def find_mentioned(tweet):\n",
    "    '''This function will extract the twitter handles of people mentioned in the tweet'''\n",
    "    return re.findall('(?<!RT\\s)(@[A-Za-z]+[A-Za-z0-9-_]+)', tweet)\n",
    "\n",
    "def find_hashtags(tweet):\n",
    "    '''This function will extract hashtags'''\n",
    "    return re.findall('(#[A-Za-z]+[A-Za-z0-9-_]+)', tweet)\n",
    "\n",
    "# make new columns for retweeted usernames, mentioned usernames and hashtags\n",
    "df['retweeted'] = df.tweet.apply(find_retweeted)\n",
    "df['mentioned'] = df.tweet.apply(find_mentioned)\n",
    "df['hashtags'] = df.tweet.apply(find_hashtags)\n",
    "df.head(30)"
   ],
   "metadata": {
    "collapsed": false,
    "pycharm": {
     "name": "#%%\n"
    }
   }
  },
  {
   "cell_type": "markdown",
   "source": [
    "# Keyword correlations"
   ],
   "metadata": {
    "collapsed": false,
    "pycharm": {
     "name": "#%% md\n"
    }
   }
  },
  {
   "cell_type": "code",
   "execution_count": 16,
   "outputs": [],
   "source": [
    "# take the rows from the hashtag columns where there are actually hashtags\n",
    "hashtags_list_df = df.loc[\n",
    "                       df.hashtags.apply(\n",
    "                           lambda hashtags_list: hashtags_list !=[]\n",
    "                       ),['hashtags']]\n",
    "\n",
    "# create dataframe where each use of hashtag gets its own row\n",
    "flattened_hashtags_df = pd.DataFrame(\n",
    "    [hashtag for hashtags_list in hashtags_list_df.hashtags\n",
    "    for hashtag in hashtags_list],\n",
    "    columns=['hashtag'])\n",
    "\n",
    "# number of unique hashtags\n",
    "flattened_hashtags_df['hashtag'].unique().size\n",
    "\n",
    "# count of appearances of each hashtag\n",
    "popular_hashtags = flattened_hashtags_df.groupby('hashtag').size()\\\n",
    "                                        .reset_index(name='counts')\\\n",
    "                                        .sort_values('counts', ascending=False)\\\n",
    "                                        .reset_index(drop=True)"
   ],
   "metadata": {
    "collapsed": false,
    "pycharm": {
     "name": "#%%\n"
    }
   }
  },
  {
   "cell_type": "markdown",
   "source": [],
   "metadata": {
    "collapsed": false,
    "pycharm": {
     "name": "#%% md\n"
    }
   }
  },
  {
   "cell_type": "code",
   "execution_count": 17,
   "outputs": [
    {
     "ename": "TypeError",
     "evalue": "LogScale.__init__() got an unexpected keyword argument 'nonposy'",
     "output_type": "error",
     "traceback": [
      "\u001B[0;31m---------------------------------------------------------------------------\u001B[0m",
      "\u001B[0;31mTypeError\u001B[0m                                 Traceback (most recent call last)",
      "Input \u001B[0;32mIn [17]\u001B[0m, in \u001B[0;36m<cell line: 15>\u001B[0;34m()\u001B[0m\n\u001B[1;32m     13\u001B[0m plt\u001B[38;5;241m.\u001B[39mxlabel(\u001B[38;5;124m'\u001B[39m\u001B[38;5;124mhashtag number of appearances\u001B[39m\u001B[38;5;124m'\u001B[39m)\n\u001B[1;32m     14\u001B[0m plt\u001B[38;5;241m.\u001B[39mylabel(\u001B[38;5;124m'\u001B[39m\u001B[38;5;124mfrequency\u001B[39m\u001B[38;5;124m'\u001B[39m)\n\u001B[0;32m---> 15\u001B[0m \u001B[43mplt\u001B[49m\u001B[38;5;241;43m.\u001B[39;49m\u001B[43myscale\u001B[49m\u001B[43m(\u001B[49m\u001B[38;5;124;43m'\u001B[39;49m\u001B[38;5;124;43mlog\u001B[39;49m\u001B[38;5;124;43m'\u001B[39;49m\u001B[43m,\u001B[49m\u001B[43m \u001B[49m\u001B[43mnonposy\u001B[49m\u001B[38;5;241;43m=\u001B[39;49m\u001B[38;5;124;43m'\u001B[39;49m\u001B[38;5;124;43mclip\u001B[39;49m\u001B[38;5;124;43m'\u001B[39;49m\u001B[43m)\u001B[49m\n\u001B[1;32m     16\u001B[0m plt\u001B[38;5;241m.\u001B[39mshow()\n",
      "File \u001B[0;32m~/uni/nlp/problem-solution/venv/lib64/python3.10/site-packages/matplotlib/pyplot.py:3067\u001B[0m, in \u001B[0;36myscale\u001B[0;34m(value, **kwargs)\u001B[0m\n\u001B[1;32m   3065\u001B[0m \u001B[38;5;129m@_copy_docstring_and_deprecators\u001B[39m(Axes\u001B[38;5;241m.\u001B[39mset_yscale)\n\u001B[1;32m   3066\u001B[0m \u001B[38;5;28;01mdef\u001B[39;00m \u001B[38;5;21myscale\u001B[39m(value, \u001B[38;5;241m*\u001B[39m\u001B[38;5;241m*\u001B[39mkwargs):\n\u001B[0;32m-> 3067\u001B[0m     \u001B[38;5;28;01mreturn\u001B[39;00m \u001B[43mgca\u001B[49m\u001B[43m(\u001B[49m\u001B[43m)\u001B[49m\u001B[38;5;241;43m.\u001B[39;49m\u001B[43mset_yscale\u001B[49m\u001B[43m(\u001B[49m\u001B[43mvalue\u001B[49m\u001B[43m,\u001B[49m\u001B[43m \u001B[49m\u001B[38;5;241;43m*\u001B[39;49m\u001B[38;5;241;43m*\u001B[39;49m\u001B[43mkwargs\u001B[49m\u001B[43m)\u001B[49m\n",
      "File \u001B[0;32m~/uni/nlp/problem-solution/venv/lib64/python3.10/site-packages/matplotlib/axes/_base.py:4117\u001B[0m, in \u001B[0;36m_AxesBase.set_yscale\u001B[0;34m(self, value, **kwargs)\u001B[0m\n\u001B[1;32m   4115\u001B[0m g \u001B[38;5;241m=\u001B[39m \u001B[38;5;28mself\u001B[39m\u001B[38;5;241m.\u001B[39mget_shared_y_axes()\n\u001B[1;32m   4116\u001B[0m \u001B[38;5;28;01mfor\u001B[39;00m ax \u001B[38;5;129;01min\u001B[39;00m g\u001B[38;5;241m.\u001B[39mget_siblings(\u001B[38;5;28mself\u001B[39m):\n\u001B[0;32m-> 4117\u001B[0m     \u001B[43max\u001B[49m\u001B[38;5;241;43m.\u001B[39;49m\u001B[43myaxis\u001B[49m\u001B[38;5;241;43m.\u001B[39;49m\u001B[43m_set_scale\u001B[49m\u001B[43m(\u001B[49m\u001B[43mvalue\u001B[49m\u001B[43m,\u001B[49m\u001B[43m \u001B[49m\u001B[38;5;241;43m*\u001B[39;49m\u001B[38;5;241;43m*\u001B[39;49m\u001B[43mkwargs\u001B[49m\u001B[43m)\u001B[49m\n\u001B[1;32m   4118\u001B[0m     ax\u001B[38;5;241m.\u001B[39m_update_transScale()\n\u001B[1;32m   4119\u001B[0m     ax\u001B[38;5;241m.\u001B[39mstale \u001B[38;5;241m=\u001B[39m \u001B[38;5;28;01mTrue\u001B[39;00m\n",
      "File \u001B[0;32m~/uni/nlp/problem-solution/venv/lib64/python3.10/site-packages/matplotlib/axis.py:761\u001B[0m, in \u001B[0;36mAxis._set_scale\u001B[0;34m(self, value, **kwargs)\u001B[0m\n\u001B[1;32m    759\u001B[0m \u001B[38;5;28;01mdef\u001B[39;00m \u001B[38;5;21m_set_scale\u001B[39m(\u001B[38;5;28mself\u001B[39m, value, \u001B[38;5;241m*\u001B[39m\u001B[38;5;241m*\u001B[39mkwargs):\n\u001B[1;32m    760\u001B[0m     \u001B[38;5;28;01mif\u001B[39;00m \u001B[38;5;129;01mnot\u001B[39;00m \u001B[38;5;28misinstance\u001B[39m(value, mscale\u001B[38;5;241m.\u001B[39mScaleBase):\n\u001B[0;32m--> 761\u001B[0m         \u001B[38;5;28mself\u001B[39m\u001B[38;5;241m.\u001B[39m_scale \u001B[38;5;241m=\u001B[39m \u001B[43mmscale\u001B[49m\u001B[38;5;241;43m.\u001B[39;49m\u001B[43mscale_factory\u001B[49m\u001B[43m(\u001B[49m\u001B[43mvalue\u001B[49m\u001B[43m,\u001B[49m\u001B[43m \u001B[49m\u001B[38;5;28;43mself\u001B[39;49m\u001B[43m,\u001B[49m\u001B[43m \u001B[49m\u001B[38;5;241;43m*\u001B[39;49m\u001B[38;5;241;43m*\u001B[39;49m\u001B[43mkwargs\u001B[49m\u001B[43m)\u001B[49m\n\u001B[1;32m    762\u001B[0m     \u001B[38;5;28;01melse\u001B[39;00m:\n\u001B[1;32m    763\u001B[0m         \u001B[38;5;28mself\u001B[39m\u001B[38;5;241m.\u001B[39m_scale \u001B[38;5;241m=\u001B[39m value\n",
      "File \u001B[0;32m~/uni/nlp/problem-solution/venv/lib64/python3.10/site-packages/matplotlib/scale.py:597\u001B[0m, in \u001B[0;36mscale_factory\u001B[0;34m(scale, axis, **kwargs)\u001B[0m\n\u001B[1;32m    595\u001B[0m     scale \u001B[38;5;241m=\u001B[39m scale\u001B[38;5;241m.\u001B[39mlower()\n\u001B[1;32m    596\u001B[0m scale_cls \u001B[38;5;241m=\u001B[39m _api\u001B[38;5;241m.\u001B[39mcheck_getitem(_scale_mapping, scale\u001B[38;5;241m=\u001B[39mscale)\n\u001B[0;32m--> 597\u001B[0m \u001B[38;5;28;01mreturn\u001B[39;00m \u001B[43mscale_cls\u001B[49m\u001B[43m(\u001B[49m\u001B[43maxis\u001B[49m\u001B[43m,\u001B[49m\u001B[43m \u001B[49m\u001B[38;5;241;43m*\u001B[39;49m\u001B[38;5;241;43m*\u001B[39;49m\u001B[43mkwargs\u001B[49m\u001B[43m)\u001B[49m\n",
      "\u001B[0;31mTypeError\u001B[0m: LogScale.__init__() got an unexpected keyword argument 'nonposy'"
     ]
    },
    {
     "data": {
      "text/plain": "<Figure size 432x288 with 1 Axes>",
      "image/png": "[encoded data removed]"
     },
     "metadata": {
      "needs_background": "light"
     },
     "output_type": "display_data"
    }
   ],
   "source": [
    "# number of times each hashtag appears\n",
    "counts = flattened_hashtags_df.groupby(['hashtag']).size()\\\n",
    "                              .reset_index(name='counts')\\\n",
    "                              .counts\n",
    "\n",
    "# define bins for histogram\n",
    "my_bins = np.arange(0,counts.max()+2, 5)-0.5\n",
    "\n",
    "# plot histogram of tweet counts\n",
    "plt.figure()\n",
    "plt.hist(counts, bins = my_bins)\n",
    "plt.xlabels = np.arange(1,counts.max()+1, 1)\n",
    "plt.xlabel('hashtag number of appearances')\n",
    "plt.ylabel('frequency')\n",
    "plt.yscale('log', nonposy='clip')\n",
    "plt.show()\n"
   ],
   "metadata": {
    "collapsed": false,
    "pycharm": {
     "name": "#%%\n"
    }
   }
  },
  {
   "cell_type": "markdown",
   "source": [
    "# Vectorize"
   ],
   "metadata": {
    "collapsed": false,
    "pycharm": {
     "name": "#%% md\n"
    }
   }
  },
  {
   "cell_type": "code",
   "execution_count": 24,
   "outputs": [
    {
     "data": {
      "text/plain": "            hashtag  counts\n0             #tcot     227\n1          #climate     202\n2               #p2     112\n3            #green      50\n4    #climatechange      47\n..              ...     ...\n472           #home       1\n473           #hoth       1\n474        #houston       1\n475    #humanrights       1\n476           #digg       1\n\n[477 rows x 2 columns]",
      "text/html": "<div>\n<style scoped>\n    .dataframe tbody tr th:only-of-type {\n        vertical-align: middle;\n    }\n\n    .dataframe tbody tr th {\n        vertical-align: top;\n    }\n\n    .dataframe thead th {\n        text-align: right;\n    }\n</style>\n<table border=\"1\" class=\"dataframe\">\n  <thead>\n    <tr style=\"text-align: right;\">\n      <th></th>\n      <th>hashtag</th>\n      <th>counts</th>\n    </tr>\n  </thead>\n  <tbody>\n    <tr>\n      <th>0</th>\n      <td>#tcot</td>\n      <td>227</td>\n    </tr>\n    <tr>\n      <th>1</th>\n      <td>#climate</td>\n      <td>202</td>\n    </tr>\n    <tr>\n      <th>2</th>\n      <td>#p2</td>\n      <td>112</td>\n    </tr>\n    <tr>\n      <th>3</th>\n      <td>#green</td>\n      <td>50</td>\n    </tr>\n    <tr>\n      <th>4</th>\n      <td>#climatechange</td>\n      <td>47</td>\n    </tr>\n    <tr>\n      <th>...</th>\n      <td>...</td>\n      <td>...</td>\n    </tr>\n    <tr>\n      <th>472</th>\n      <td>#home</td>\n      <td>1</td>\n    </tr>\n    <tr>\n      <th>473</th>\n      <td>#hoth</td>\n      <td>1</td>\n    </tr>\n    <tr>\n      <th>474</th>\n      <td>#houston</td>\n      <td>1</td>\n    </tr>\n    <tr>\n      <th>475</th>\n      <td>#humanrights</td>\n      <td>1</td>\n    </tr>\n    <tr>\n      <th>476</th>\n      <td>#digg</td>\n      <td>1</td>\n    </tr>\n  </tbody>\n</table>\n<p>477 rows × 2 columns</p>\n</div>"
     },
     "execution_count": 24,
     "metadata": {},
     "output_type": "execute_result"
    }
   ],
   "source": [
    "# take hashtags which appear at least this amount of times\n",
    "min_appearance = 10\n",
    "# find popular hashtags - make into python set for efficiency\n",
    "popular_hashtags_set = set(popular_hashtags[\n",
    "                           popular_hashtags.counts>=min_appearance\n",
    "                           ]['hashtag'])\n",
    "popular_hashtags"
   ],
   "metadata": {
    "collapsed": false,
    "pycharm": {
     "name": "#%%\n"
    }
   }
  },
  {
   "cell_type": "code",
   "execution_count": 23,
   "outputs": [
    {
     "data": {
      "text/plain": "                                             hashtags  \\\n12                            [#Climate, #population]   \n16                                        [#EarthDay]   \n31                                            [#tcot]   \n36  [#tornadocot, #ocra, #sgp, #gop, #ucot, #tlot,...   \n39                                       [#tcot, #p2]   \n\n                   popular_hashtags  \n12                       [#Climate]  \n16                      [#EarthDay]  \n31                          [#tcot]  \n36  [#ocra, #sgp, #gop, #tlot, #p2]  \n39                     [#tcot, #p2]  ",
      "text/html": "<div>\n<style scoped>\n    .dataframe tbody tr th:only-of-type {\n        vertical-align: middle;\n    }\n\n    .dataframe tbody tr th {\n        vertical-align: top;\n    }\n\n    .dataframe thead th {\n        text-align: right;\n    }\n</style>\n<table border=\"1\" class=\"dataframe\">\n  <thead>\n    <tr style=\"text-align: right;\">\n      <th></th>\n      <th>hashtags</th>\n      <th>popular_hashtags</th>\n    </tr>\n  </thead>\n  <tbody>\n    <tr>\n      <th>12</th>\n      <td>[#Climate, #population]</td>\n      <td>[#Climate]</td>\n    </tr>\n    <tr>\n      <th>16</th>\n      <td>[#EarthDay]</td>\n      <td>[#EarthDay]</td>\n    </tr>\n    <tr>\n      <th>31</th>\n      <td>[#tcot]</td>\n      <td>[#tcot]</td>\n    </tr>\n    <tr>\n      <th>36</th>\n      <td>[#tornadocot, #ocra, #sgp, #gop, #ucot, #tlot,...</td>\n      <td>[#ocra, #sgp, #gop, #tlot, #p2]</td>\n    </tr>\n    <tr>\n      <th>39</th>\n      <td>[#tcot, #p2]</td>\n      <td>[#tcot, #p2]</td>\n    </tr>\n  </tbody>\n</table>\n</div>"
     },
     "execution_count": 23,
     "metadata": {},
     "output_type": "execute_result"
    }
   ],
   "source": [
    "# make a new column with only the popular hashtags\n",
    "hashtags_list_df['popular_hashtags'] = hashtags_list_df.hashtags.apply(\n",
    "            lambda hashtag_list: [hashtag for hashtag in hashtag_list\n",
    "                                  if hashtag in popular_hashtags_set])\n",
    "# drop rows without popular hashtag\n",
    "popular_hashtags_list_df = hashtags_list_df.loc[\n",
    "            hashtags_list_df.popular_hashtags.apply(lambda hashtag_list: hashtag_list !=[])]\n",
    "\n",
    "popular_hashtags_list_df.head()"
   ],
   "metadata": {
    "collapsed": false,
    "pycharm": {
     "name": "#%%\n"
    }
   }
  },
  {
   "cell_type": "code",
   "execution_count": 36,
   "outputs": [
    {
     "data": {
      "text/plain": "<Figure size 720x720 with 2 Axes>",
      "image/png": "[encoded data removed]"
     },
     "metadata": {
      "needs_background": "light"
     },
     "output_type": "display_data"
    }
   ],
   "source": [
    "# make new dataframe\n",
    "hashtag_vector_df = popular_hashtags_list_df.loc[:, ['popular_hashtags']]\n",
    "\n",
    "for hashtag in popular_hashtags_set:\n",
    "    # make columns to encode presence of hashtags\n",
    "    hashtag_vector_df['{}'.format(hashtag)] = hashtag_vector_df.popular_hashtags.apply(\n",
    "        lambda hashtag_list: int(hashtag in hashtag_list))\n",
    "\n",
    "hashtag_matrix = hashtag_vector_df.drop('popular_hashtags', axis=1)\n",
    "hashtag_matrix.head()"
   ],
   "metadata": {
    "collapsed": false,
    "pycharm": {
     "name": "#%%\n"
    }
   }
  },
  {
   "cell_type": "code",
   "execution_count": 31,
   "outputs": [],
   "source": [
    "# calculate the correlation matrix\n",
    "correlations = hashtag_matrix.corr()\n",
    "\n",
    "# plot the correlation matrix\n",
    "plt.figure(figsize=(10,10))\n",
    "sns.heatmap(correlations,\n",
    "    cmap='RdBu',\n",
    "    vmin=-1,\n",
    "    vmax=1,\n",
    "    square = True,\n",
    "    cbar_kws={'label':'correlation'})\n",
    "plt.show()\n"
   ],
   "metadata": {
    "collapsed": false,
    "pycharm": {
     "name": "#%%\n"
    }
   }
  },
  {
   "cell_type": "markdown",
   "source": [
    "# Cleaning data"
   ],
   "metadata": {
    "collapsed": false,
    "pycharm": {
     "name": "#%% md\n"
    }
   }
  },
  {
   "cell_type": "code",
   "execution_count": null,
   "outputs": [],
   "source": [],
   "metadata": {
    "collapsed": false,
    "pycharm": {
     "name": "#%%\n"
    }
   }
  },
  {
   "cell_type": "code",
   "execution_count": 45,
   "outputs": [
    {
     "name": "stderr",
     "output_type": "stream",
     "text": [
      "[nltk_data] Downloading package stopwords to /home/sifr/nltk_data...\n",
      "[nltk_data]   Unzipping corpora/stopwords.zip.\n"
     ]
    },
    {
     "data": {
      "text/plain": "                                               tweet  is_retweet retweeted  \\\n0  Global warming report urges governments to act...       False        []   \n1  Fighting poverty and global warming in Africa ...       False        []   \n2  Carbon offsets: How a Vatican forest failed to...       False        []   \n3  Carbon offsets: How a Vatican forest failed to...       False        []   \n4  URUGUAY: Tools Needed for Those Most Vulnerabl...       False        []   \n\n  mentioned hashtags                                        clean_tweet  \n0        []       []  global warm report urg govern act brussel belg...  \n1        []       []                  fight poverti global warm africa   \n2        []       []  carbon offset vatican forest fail reduc global...  \n3        []       []  carbon offset vatican forest fail reduc global...  \n4        []       []             uruguay tool need vulner climat chang   ",
      "text/html": "<div>\n<style scoped>\n    .dataframe tbody tr th:only-of-type {\n        vertical-align: middle;\n    }\n\n    .dataframe tbody tr th {\n        vertical-align: top;\n    }\n\n    .dataframe thead th {\n        text-align: right;\n    }\n</style>\n<table border=\"1\" class=\"dataframe\">\n  <thead>\n    <tr style=\"text-align: right;\">\n      <th></th>\n      <th>tweet</th>\n      <th>is_retweet</th>\n      <th>retweeted</th>\n      <th>mentioned</th>\n      <th>hashtags</th>\n      <th>clean_tweet</th>\n    </tr>\n  </thead>\n  <tbody>\n    <tr>\n      <th>0</th>\n      <td>Global warming report urges governments to act...</td>\n      <td>False</td>\n      <td>[]</td>\n      <td>[]</td>\n      <td>[]</td>\n      <td>global warm report urg govern act brussel belg...</td>\n    </tr>\n    <tr>\n      <th>1</th>\n      <td>Fighting poverty and global warming in Africa ...</td>\n      <td>False</td>\n      <td>[]</td>\n      <td>[]</td>\n      <td>[]</td>\n      <td>fight poverti global warm africa</td>\n    </tr>\n    <tr>\n      <th>2</th>\n      <td>Carbon offsets: How a Vatican forest failed to...</td>\n      <td>False</td>\n      <td>[]</td>\n      <td>[]</td>\n      <td>[]</td>\n      <td>carbon offset vatican forest fail reduc global...</td>\n    </tr>\n    <tr>\n      <th>3</th>\n      <td>Carbon offsets: How a Vatican forest failed to...</td>\n      <td>False</td>\n      <td>[]</td>\n      <td>[]</td>\n      <td>[]</td>\n      <td>carbon offset vatican forest fail reduc global...</td>\n    </tr>\n    <tr>\n      <th>4</th>\n      <td>URUGUAY: Tools Needed for Those Most Vulnerabl...</td>\n      <td>False</td>\n      <td>[]</td>\n      <td>[]</td>\n      <td>[]</td>\n      <td>uruguay tool need vulner climat chang</td>\n    </tr>\n  </tbody>\n</table>\n</div>"
     },
     "execution_count": 45,
     "metadata": {},
     "output_type": "execute_result"
    }
   ],
   "source": [],
   "metadata": {
    "collapsed": false,
    "pycharm": {
     "name": "#%%\n"
    }
   }
  },
  {
   "cell_type": "code",
   "execution_count": 46,
   "outputs": [
    {
     "name": "stderr",
     "output_type": "stream",
     "text": [
      "/home/sifr/uni/nlp/problem-solution/venv/lib64/python3.10/site-packages/sklearn/utils/deprecation.py:87: FutureWarning: Function get_feature_names is deprecated; get_feature_names is deprecated in 1.0 and will be removed in 1.2. Please use get_feature_names_out instead.\n",
      "  warnings.warn(msg, category=FutureWarning)\n"
     ]
    }
   ],
   "source": [
    "\n",
    "\n",
    "\n",
    "import nltk\n",
    "from nltk.tokenize import RegexpTokenizer\n",
    "from nltk.corpus import stopwords\n",
    "\n",
    "nltk.download('stopwords')\n",
    "\n",
    "\n",
    "\n",
    "def remove_links(tweet):\n",
    "    '''Takes a string and removes web links from it'''\n",
    "    tweet = re.sub(r'http\\S+', '', tweet) # remove http links\n",
    "    tweet = re.sub(r'bit.ly/\\S+', '', tweet) # rempve bitly links\n",
    "    tweet = tweet.strip('[link]') # remove [links]\n",
    "    return tweet\n",
    "\n",
    "def remove_users(tweet):\n",
    "    '''Takes a string and removes retweet and @user information'''\n",
    "    tweet = re.sub('(RT\\s@[A-Za-z]+[A-Za-z0-9-_]+)', '', tweet) # remove retweet\n",
    "    tweet = re.sub('(@[A-Za-z]+[A-Za-z0-9-_]+)', '', tweet) # remove tweeted at\n",
    "    return tweet\n",
    "\n",
    "my_stopwords = nltk.corpus.stopwords.words('english')\n",
    "word_rooter = nltk.stem.snowball.PorterStemmer(ignore_stopwords=False).stem\n",
    "my_punctuation = '!\"$%&\\'()*+,-./:;<=>?[\\\\]^_`{|}~•@'\n",
    "\n",
    "# cleaning master function\n",
    "def clean_tweet(tweet, bigrams=False):\n",
    "    tweet = remove_users(tweet)\n",
    "    tweet = remove_links(tweet)\n",
    "    tweet = tweet.lower() # lower case\n",
    "    tweet = re.sub('['+my_punctuation + ']+', ' ', tweet) # strip punctuation\n",
    "    tweet = re.sub('\\s+', ' ', tweet) #remove double spacing\n",
    "    tweet = re.sub('([0-9]+)', '', tweet) # remove numbers\n",
    "    tweet_token_list = [word for word in tweet.split(' ')\n",
    "                            if word not in my_stopwords] # remove stopwords\n",
    "\n",
    "    tweet_token_list = [word_rooter(word) if '#' not in word else word\n",
    "                        for word in tweet_token_list] # apply word rooter\n",
    "    if bigrams:\n",
    "        tweet_token_list = tweet_token_list+[tweet_token_list[i]+'_'+tweet_token_list[i+1]\n",
    "                                            for i in range(len(tweet_token_list)-1)]\n",
    "    tweet = ' '.join(tweet_token_list)\n",
    "    return tweet\n",
    "\n",
    "df['clean_tweet'] = df.tweet.apply(clean_tweet)\n",
    "df.head()"
   ],
   "metadata": {
    "collapsed": false,
    "pycharm": {
     "name": "#%%\n"
    }
   }
  },
  {
   "cell_type": "code",
   "execution_count": 48,
   "outputs": [
    {
     "data": {
      "text/plain": "LatentDirichletAllocation(random_state=0)",
      "text/html": "<style>#sk-container-id-1 {color: black;background-color: white;}#sk-container-id-1 pre{padding: 0;}#sk-container-id-1 div.sk-toggleable {background-color: white;}#sk-container-id-1 label.sk-toggleable__label {cursor: pointer;display: block;width: 100%;margin-bottom: 0;padding: 0.3em;box-sizing: border-box;text-align: center;}#sk-container-id-1 label.sk-toggleable__label-arrow:before {content: \"▸\";float: left;margin-right: 0.25em;color: #696969;}#sk-container-id-1 label.sk-toggleable__label-arrow:hover:before {color: black;}#sk-container-id-1 div.sk-estimator:hover label.sk-toggleable__label-arrow:before {color: black;}#sk-container-id-1 div.sk-toggleable__content {max-height: 0;max-width: 0;overflow: hidden;text-align: left;background-color: #f0f8ff;}#sk-container-id-1 div.sk-toggleable__content pre {margin: 0.2em;color: black;border-radius: 0.25em;background-color: #f0f8ff;}#sk-container-id-1 input.sk-toggleable__control:checked~div.sk-toggleable__content {max-height: 200px;max-width: 100%;overflow: auto;}#sk-container-id-1 input.sk-toggleable__control:checked~label.sk-toggleable__label-arrow:before {content: \"▾\";}#sk-container-id-1 div.sk-estimator input.sk-toggleable__control:checked~label.sk-toggleable__label {background-color: #d4ebff;}#sk-container-id-1 div.sk-label input.sk-toggleable__control:checked~label.sk-toggleable__label {background-color: #d4ebff;}#sk-container-id-1 input.sk-hidden--visually {border: 0;clip: rect(1px 1px 1px 1px);clip: rect(1px, 1px, 1px, 1px);height: 1px;margin: -1px;overflow: hidden;padding: 0;position: absolute;width: 1px;}#sk-container-id-1 div.sk-estimator {font-family: monospace;background-color: #f0f8ff;border: 1px dotted black;border-radius: 0.25em;box-sizing: border-box;margin-bottom: 0.5em;}#sk-container-id-1 div.sk-estimator:hover {background-color: #d4ebff;}#sk-container-id-1 div.sk-parallel-item::after {content: \"\";width: 100%;border-bottom: 1px solid gray;flex-grow: 1;}#sk-container-id-1 div.sk-label:hover label.sk-toggleable__label {background-color: #d4ebff;}#sk-container-id-1 div.sk-serial::before {content: \"\";position: absolute;border-left: 1px solid gray;box-sizing: border-box;top: 0;bottom: 0;left: 50%;z-index: 0;}#sk-container-id-1 div.sk-serial {display: flex;flex-direction: column;align-items: center;background-color: white;padding-right: 0.2em;padding-left: 0.2em;position: relative;}#sk-container-id-1 div.sk-item {position: relative;z-index: 1;}#sk-container-id-1 div.sk-parallel {display: flex;align-items: stretch;justify-content: center;background-color: white;position: relative;}#sk-container-id-1 div.sk-item::before, #sk-container-id-1 div.sk-parallel-item::before {content: \"\";position: absolute;border-left: 1px solid gray;box-sizing: border-box;top: 0;bottom: 0;left: 50%;z-index: -1;}#sk-container-id-1 div.sk-parallel-item {display: flex;flex-direction: column;z-index: 1;position: relative;background-color: white;}#sk-container-id-1 div.sk-parallel-item:first-child::after {align-self: flex-end;width: 50%;}#sk-container-id-1 div.sk-parallel-item:last-child::after {align-self: flex-start;width: 50%;}#sk-container-id-1 div.sk-parallel-item:only-child::after {width: 0;}#sk-container-id-1 div.sk-dashed-wrapped {border: 1px dashed gray;margin: 0 0.4em 0.5em 0.4em;box-sizing: border-box;padding-bottom: 0.4em;background-color: white;}#sk-container-id-1 div.sk-label label {font-family: monospace;font-weight: bold;display: inline-block;line-height: 1.2em;}#sk-container-id-1 div.sk-label-container {text-align: center;}#sk-container-id-1 div.sk-container {/* jupyter's `normalize.less` sets `[hidden] { display: none; }` but bootstrap.min.css set `[hidden] { display: none !important; }` so we also need the `!important` here to be able to override the default hidden behavior on the sphinx rendered scikit-learn.org. See: https://github.com/scikit-learn/scikit-learn/issues/21755 */display: inline-block !important;position: relative;}#sk-container-id-1 div.sk-text-repr-fallback {display: none;}</style><div id=\"sk-container-id-1\" class=\"sk-top-container\"><div class=\"sk-text-repr-fallback\"><pre>LatentDirichletAllocation(random_state=0)</pre><b>In a Jupyter environment, please rerun this cell to show the HTML representation or trust the notebook. <br />On GitHub, the HTML representation is unable to render, please try loading this page with nbviewer.org.</b></div><div class=\"sk-container\" hidden><div class=\"sk-item\"><div class=\"sk-estimator sk-toggleable\"><input class=\"sk-toggleable__control sk-hidden--visually\" id=\"sk-estimator-id-1\" type=\"checkbox\" checked><label for=\"sk-estimator-id-1\" class=\"sk-toggleable__label sk-toggleable__label-arrow\">LatentDirichletAllocation</label><div class=\"sk-toggleable__content\"><pre>LatentDirichletAllocation(random_state=0)</pre></div></div></div></div></div>"
     },
     "execution_count": 48,
     "metadata": {},
     "output_type": "execute_result"
    }
   ],
   "source": [
    "from sklearn.feature_extraction.text import CountVectorizer\n",
    "\n",
    "# the vectorizer object will be used to transform text to vector form\n",
    "vectorizer = CountVectorizer(max_df=0.9, min_df=25, token_pattern='\\w+|\\$[\\d\\.]+|\\S+')\n",
    "\n",
    "# apply transformation\n",
    "tf = vectorizer.fit_transform(df['clean_tweet']).toarray()\n",
    "\n",
    "# tf_feature_names tells us what word each column in the matric represents\n",
    "tf_feature_names = vectorizer.get_feature_names()\n"
   ],
   "metadata": {
    "collapsed": false,
    "pycharm": {
     "name": "#%%\n"
    }
   }
  },
  {
   "cell_type": "code",
   "execution_count": 49,
   "outputs": [],
   "source": [
    "from sklearn.decomposition import LatentDirichletAllocation\n",
    "\n",
    "number_of_topics = 10\n",
    "\n",
    "model = LatentDirichletAllocation(n_components=number_of_topics, random_state=0)\n",
    "model.fit(tf)\n"
   ],
   "metadata": {
    "collapsed": false,
    "pycharm": {
     "name": "#%%\n"
    }
   }
  },
  {
   "cell_type": "code",
   "execution_count": 50,
   "outputs": [
    {
     "data": {
      "text/plain": "  Topic 0 words Topic 0 weights Topic 1 words Topic 1 weights Topic 2 words  \\\n0        climat          1220.2        global           666.5        global   \n1         chang          1184.5          warm           658.1          warm   \n2           via           257.9          snow           160.5     scientist   \n3        scienc           112.9         #tcot           121.6           say   \n4          news            79.5          like            99.0        scienc   \n5           day            77.8      blizzard            90.9         debat   \n6         earth            68.2            dc            86.5           man   \n7         trial            68.1         think            83.3          made   \n8        clinic            68.1           due            80.1          show   \n9        carbon            64.5          make            70.4         water   \n\n  Topic 2 weights Topic 3 words Topic 3 weights Topic 4 words Topic 4 weights  \\\n0          1147.2        global           473.1        climat           422.0   \n1          1102.1          warm           450.7         chang           401.8   \n2           150.2        believ           101.3        legisl           123.2   \n3            87.1    california            87.1            us           105.1   \n4            71.7         blame            82.1           via            60.5   \n5            66.6           law            78.6           say            55.9   \n6            61.1        report            77.8         video            55.9   \n7            54.0          save            61.8         place            54.1   \n8            51.9         money            56.1          good            52.6   \n9            50.6          live            49.3         human            48.2   \n\n  Topic 5 words Topic 5 weights Topic 6 words Topic 6 weights Topic 7 words  \\\n0        global           783.0         chang           666.1          warm   \n1          warm           764.7        climat           661.6      #climate   \n2          gore           137.1        energi           178.8       volcano   \n3          snow           123.7             u           109.8        global   \n4            al           122.1           via            96.5         chang   \n5         great            94.1        nation            89.0          help   \n6          cold            77.1          make            74.5          take   \n7          call            76.5        impact            67.5        climat   \n8         #tcot            75.3        report            63.4       iceland   \n9           one            72.1          issu            58.8         could   \n\n  Topic 7 weights Topic 8 words Topic 8 weights Topic 9 words Topic 9 weights  \n0           167.9        climat           568.3        climat           529.9  \n1           139.2         chang           550.5         chang           520.6  \n2           128.9           new           321.1         peopl           153.4  \n3           128.6          bill           116.9         world           151.3  \n4           122.0         senat           106.1        confer           110.1  \n5           114.1         agenc            95.1          bill           106.4  \n6            96.8        immigr            77.7          talk            94.8  \n7            76.7         obama            75.6        graham            92.1  \n8            67.1         feder            67.1            un            77.6  \n9            64.5           via            58.6           put            68.8  ",
      "text/html": "<div>\n<style scoped>\n    .dataframe tbody tr th:only-of-type {\n        vertical-align: middle;\n    }\n\n    .dataframe tbody tr th {\n        vertical-align: top;\n    }\n\n    .dataframe thead th {\n        text-align: right;\n    }\n</style>\n<table border=\"1\" class=\"dataframe\">\n  <thead>\n    <tr style=\"text-align: right;\">\n      <th></th>\n      <th>Topic 0 words</th>\n      <th>Topic 0 weights</th>\n      <th>Topic 1 words</th>\n      <th>Topic 1 weights</th>\n      <th>Topic 2 words</th>\n      <th>Topic 2 weights</th>\n      <th>Topic 3 words</th>\n      <th>Topic 3 weights</th>\n      <th>Topic 4 words</th>\n      <th>Topic 4 weights</th>\n      <th>Topic 5 words</th>\n      <th>Topic 5 weights</th>\n      <th>Topic 6 words</th>\n      <th>Topic 6 weights</th>\n      <th>Topic 7 words</th>\n      <th>Topic 7 weights</th>\n      <th>Topic 8 words</th>\n      <th>Topic 8 weights</th>\n      <th>Topic 9 words</th>\n      <th>Topic 9 weights</th>\n    </tr>\n  </thead>\n  <tbody>\n    <tr>\n      <th>0</th>\n      <td>climat</td>\n      <td>1220.2</td>\n      <td>global</td>\n      <td>666.5</td>\n      <td>global</td>\n      <td>1147.2</td>\n      <td>global</td>\n      <td>473.1</td>\n      <td>climat</td>\n      <td>422.0</td>\n      <td>global</td>\n      <td>783.0</td>\n      <td>chang</td>\n      <td>666.1</td>\n      <td>warm</td>\n      <td>167.9</td>\n      <td>climat</td>\n      <td>568.3</td>\n      <td>climat</td>\n      <td>529.9</td>\n    </tr>\n    <tr>\n      <th>1</th>\n      <td>chang</td>\n      <td>1184.5</td>\n      <td>warm</td>\n      <td>658.1</td>\n      <td>warm</td>\n      <td>1102.1</td>\n      <td>warm</td>\n      <td>450.7</td>\n      <td>chang</td>\n      <td>401.8</td>\n      <td>warm</td>\n      <td>764.7</td>\n      <td>climat</td>\n      <td>661.6</td>\n      <td>#climate</td>\n      <td>139.2</td>\n      <td>chang</td>\n      <td>550.5</td>\n      <td>chang</td>\n      <td>520.6</td>\n    </tr>\n    <tr>\n      <th>2</th>\n      <td>via</td>\n      <td>257.9</td>\n      <td>snow</td>\n      <td>160.5</td>\n      <td>scientist</td>\n      <td>150.2</td>\n      <td>believ</td>\n      <td>101.3</td>\n      <td>legisl</td>\n      <td>123.2</td>\n      <td>gore</td>\n      <td>137.1</td>\n      <td>energi</td>\n      <td>178.8</td>\n      <td>volcano</td>\n      <td>128.9</td>\n      <td>new</td>\n      <td>321.1</td>\n      <td>peopl</td>\n      <td>153.4</td>\n    </tr>\n    <tr>\n      <th>3</th>\n      <td>scienc</td>\n      <td>112.9</td>\n      <td>#tcot</td>\n      <td>121.6</td>\n      <td>say</td>\n      <td>87.1</td>\n      <td>california</td>\n      <td>87.1</td>\n      <td>us</td>\n      <td>105.1</td>\n      <td>snow</td>\n      <td>123.7</td>\n      <td>u</td>\n      <td>109.8</td>\n      <td>global</td>\n      <td>128.6</td>\n      <td>bill</td>\n      <td>116.9</td>\n      <td>world</td>\n      <td>151.3</td>\n    </tr>\n    <tr>\n      <th>4</th>\n      <td>news</td>\n      <td>79.5</td>\n      <td>like</td>\n      <td>99.0</td>\n      <td>scienc</td>\n      <td>71.7</td>\n      <td>blame</td>\n      <td>82.1</td>\n      <td>via</td>\n      <td>60.5</td>\n      <td>al</td>\n      <td>122.1</td>\n      <td>via</td>\n      <td>96.5</td>\n      <td>chang</td>\n      <td>122.0</td>\n      <td>senat</td>\n      <td>106.1</td>\n      <td>confer</td>\n      <td>110.1</td>\n    </tr>\n    <tr>\n      <th>5</th>\n      <td>day</td>\n      <td>77.8</td>\n      <td>blizzard</td>\n      <td>90.9</td>\n      <td>debat</td>\n      <td>66.6</td>\n      <td>law</td>\n      <td>78.6</td>\n      <td>say</td>\n      <td>55.9</td>\n      <td>great</td>\n      <td>94.1</td>\n      <td>nation</td>\n      <td>89.0</td>\n      <td>help</td>\n      <td>114.1</td>\n      <td>agenc</td>\n      <td>95.1</td>\n      <td>bill</td>\n      <td>106.4</td>\n    </tr>\n    <tr>\n      <th>6</th>\n      <td>earth</td>\n      <td>68.2</td>\n      <td>dc</td>\n      <td>86.5</td>\n      <td>man</td>\n      <td>61.1</td>\n      <td>report</td>\n      <td>77.8</td>\n      <td>video</td>\n      <td>55.9</td>\n      <td>cold</td>\n      <td>77.1</td>\n      <td>make</td>\n      <td>74.5</td>\n      <td>take</td>\n      <td>96.8</td>\n      <td>immigr</td>\n      <td>77.7</td>\n      <td>talk</td>\n      <td>94.8</td>\n    </tr>\n    <tr>\n      <th>7</th>\n      <td>trial</td>\n      <td>68.1</td>\n      <td>think</td>\n      <td>83.3</td>\n      <td>made</td>\n      <td>54.0</td>\n      <td>save</td>\n      <td>61.8</td>\n      <td>place</td>\n      <td>54.1</td>\n      <td>call</td>\n      <td>76.5</td>\n      <td>impact</td>\n      <td>67.5</td>\n      <td>climat</td>\n      <td>76.7</td>\n      <td>obama</td>\n      <td>75.6</td>\n      <td>graham</td>\n      <td>92.1</td>\n    </tr>\n    <tr>\n      <th>8</th>\n      <td>clinic</td>\n      <td>68.1</td>\n      <td>due</td>\n      <td>80.1</td>\n      <td>show</td>\n      <td>51.9</td>\n      <td>money</td>\n      <td>56.1</td>\n      <td>good</td>\n      <td>52.6</td>\n      <td>#tcot</td>\n      <td>75.3</td>\n      <td>report</td>\n      <td>63.4</td>\n      <td>iceland</td>\n      <td>67.1</td>\n      <td>feder</td>\n      <td>67.1</td>\n      <td>un</td>\n      <td>77.6</td>\n    </tr>\n    <tr>\n      <th>9</th>\n      <td>carbon</td>\n      <td>64.5</td>\n      <td>make</td>\n      <td>70.4</td>\n      <td>water</td>\n      <td>50.6</td>\n      <td>live</td>\n      <td>49.3</td>\n      <td>human</td>\n      <td>48.2</td>\n      <td>one</td>\n      <td>72.1</td>\n      <td>issu</td>\n      <td>58.8</td>\n      <td>could</td>\n      <td>64.5</td>\n      <td>via</td>\n      <td>58.6</td>\n      <td>put</td>\n      <td>68.8</td>\n    </tr>\n  </tbody>\n</table>\n</div>"
     },
     "execution_count": 50,
     "metadata": {},
     "output_type": "execute_result"
    }
   ],
   "source": [
    "def display_topics(model, feature_names, no_top_words):\n",
    "    topic_dict = {}\n",
    "    for topic_idx, topic in enumerate(model.components_):\n",
    "        topic_dict[\"Topic %d words\" % (topic_idx)]= ['{}'.format(feature_names[i])\n",
    "                        for i in topic.argsort()[:-no_top_words - 1:-1]]\n",
    "        topic_dict[\"Topic %d weights\" % (topic_idx)]= ['{:.1f}'.format(topic[i])\n",
    "                        for i in topic.argsort()[:-no_top_words - 1:-1]]\n",
    "    return pd.DataFrame(topic_dict)\n"
   ],
   "metadata": {
    "collapsed": false,
    "pycharm": {
     "name": "#%%\n"
    }
   }
  },
  {
   "cell_type": "code",
   "execution_count": null,
   "outputs": [],
   "source": [
    "no_top_words = 10\n",
    "display_topics(model, tf_feature_names, no_top_words)"
   ],
   "metadata": {
    "collapsed": false,
    "pycharm": {
     "name": "#%%\n"
    }
   }
  }
 ],
 "metadata": {
  "kernelspec": {
   "display_name": "Python 3",
   "language": "python",
   "name": "python3"
  },
  "language_info": {
   "codemirror_mode": {
    "name": "ipython",
    "version": 2
   },
   "file_extension": ".py",
   "mimetype": "text/x-python",
   "name": "python",
   "nbconvert_exporter": "python",
   "pygments_lexer": "ipython2",
   "version": "2.7.6"
  }
 },
 "nbformat": 4,
 "nbformat_minor": 0
}