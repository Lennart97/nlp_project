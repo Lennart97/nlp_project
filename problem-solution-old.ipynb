{
 "cells": [
  {
   "cell_type": "code",
   "execution_count": 1,
   "outputs": [
    {
     "name": "stderr",
     "output_type": "stream",
     "text": [
      "[nltk_data] Downloading package stopwords to /home/sifr/nltk_data...\n",
      "[nltk_data]   Package stopwords is already up-to-date!\n",
      "/home/sifr/uni/nlp/nlp_project/venv/lib/python3.10/site-packages/past/builtins/misc.py:45: DeprecationWarning: the imp module is deprecated in favour of importlib and slated for removal in Python 3.12; see the module's documentation for alternative uses\n",
      "  from imp import reload\n"
     ]
    }
   ],
   "source": [
    "import numpy as np\n",
    "import glob\n",
    "import re\n",
    "#Gensim\n",
    "import gensim\n",
    "import gensim.corpora as corpora\n",
    "from gensim.utils import simple_preprocess\n",
    "from gensim.models import CoherenceModel\n",
    "\n",
    "#spacy\n",
    "import spacy\n",
    "# python -m spacy download en_core_web_sm\n",
    "#nltk stopwords\n",
    "import nltk\n",
    "nltk.download('stopwords')\n",
    "from nltk.corpus import stopwords\n",
    "\n",
    "#pandas\n",
    "import pandas as pd\n",
    "\n",
    "#vis\n",
    "import pyLDAvis\n",
    "import pyLDAvis.gensim_models\n",
    "pyLDAvis.enable_notebook()"
   ],
   "metadata": {
    "collapsed": false,
    "pycharm": {
     "name": "#%%\n"
    }
   }
  },
  {
   "cell_type": "code",
   "execution_count": 7,
   "outputs": [
    {
     "name": "stderr",
     "output_type": "stream",
     "text": [
      "/tmp/ipykernel_39632/3638647574.py:7: FutureWarning: The frame.append method is deprecated and will be removed from pandas in a future version. Use pandas.concat instead.\n",
      "  df_slim = democrats.append(republican)\n"
     ]
    }
   ],
   "source": [
    "df = pd.read_csv(\"data/ExtractedTweets.csv\")\n",
    "df.head()\n",
    "\n",
    "democrats = df.query(\"Party == 'Democrat'\").sample(10000)\n",
    "republican = df.query(\"Party == 'Republican'\").sample(10000)\n",
    "\n",
    "df_slim = democrats.append(republican)\n",
    "df_slim.head()\n",
    "df = df_slim"
   ],
   "metadata": {
    "collapsed": false,
    "pycharm": {
     "name": "#%%\n"
    }
   }
  },
  {
   "cell_type": "markdown",
   "source": [
    "### Extract tweet information"
   ],
   "metadata": {
    "collapsed": false,
    "pycharm": {
     "name": "#%% md\n"
    }
   }
  },
  {
   "cell_type": "code",
   "execution_count": 8,
   "outputs": [
    {
     "name": "stdout",
     "output_type": "stream",
     "text": [
      "Extracted tweet metadata\n"
     ]
    }
   ],
   "source": [
    "def find_retweeted(tweet):\n",
    "    '''This function will extract the twitter handles of retweed people'''\n",
    "    return re.findall('(?<=RT\\\\s)(@[A-Za-z]+[A-Za-z0-9-_]+)', tweet)\n",
    "\n",
    "def find_mentioned(tweet):\n",
    "    '''This function will extract the twitter handles of people mentioned in the tweet'''\n",
    "    return re.findall('(?<!RT\\\\s)(@[A-Za-z]+[A-Za-z0-9-_]+)', tweet)\n",
    "\n",
    "def find_hashtags(tweet):\n",
    "    '''This function will extract hashtags'''\n",
    "    return re.findall('(#[A-Za-z]+[A-Za-z0-9-_]+)', tweet)\n",
    "\n",
    "# make new columns for retweeted usernames, mentioned usernames and hashtags\n",
    "df['retweeted'] = df['Tweet'].apply(find_retweeted)\n",
    "df['mentioned'] = df['Tweet'].apply(find_mentioned)\n",
    "df['hashtags'] = df['Tweet'].apply(find_hashtags)\n",
    "df.head(30)\n",
    "\n",
    "print(\"Extracted tweet metadata\")"
   ],
   "metadata": {
    "collapsed": false,
    "pycharm": {
     "name": "#%%\n"
    }
   }
  },
  {
   "cell_type": "markdown",
   "source": [
    "### Clean metioned, retweets and hashtags from tweet"
   ],
   "metadata": {
    "collapsed": false,
    "pycharm": {
     "name": "#%% md\n"
    }
   }
  },
  {
   "cell_type": "code",
   "execution_count": 9,
   "outputs": [
    {
     "name": "stdout",
     "output_type": "stream",
     "text": [
      "Cleaned tweets\n"
     ]
    }
   ],
   "source": [
    "stop_words = stopwords.words('english')\n",
    "stop_words.append(\"rt\")\n",
    "\n",
    "def clean_retweeted(tweet):\n",
    "    '''This function will extract the twitter handles of retweed people'''\n",
    "    return re.sub('(?<=RT\\\\s)(@[A-Za-z]+[A-Za-z0-9-_]+)', '', tweet)\n",
    "\n",
    "def clean_mentioned(tweet):\n",
    "    '''This function will extract the twitter handles of people mentioned in the tweet'''\n",
    "    return re.sub('(?<!RT\\\\s)(@[A-Za-z]+[A-Za-z0-9-_]+)', '', tweet)\n",
    "\n",
    "def clean_hashtags(tweet):\n",
    "    '''This function will extract hashtags'''\n",
    "    return re.sub('(#[A-Za-z]+[A-Za-z0-9-_]+)', '', tweet)\n",
    "\n",
    "def clean(tweet):\n",
    "    # Remove mentions, retweets and hashtags\n",
    "    tweet = clean_hashtags(tweet)\n",
    "    tweet = clean_mentioned(tweet)\n",
    "    tweet = clean_retweeted(tweet)\n",
    "    tweet = tweet.lower()\n",
    "    # Remove punctuation\n",
    "    tweet = re.sub(\"[\\\\.,;:!/\\\\?]*\", \"\", tweet)\n",
    "    # Remove links\n",
    "    tweet = re.sub(r\"http\\S+\", \"\", tweet)\n",
    "    # Remove stop words\n",
    "    tweet = ' '.join([word for word in tweet.split(' ') if not word in stop_words])\n",
    "    # Remove multiple spaces\n",
    "    tweet = re.sub(\"\\\\s+\", \" \", tweet)\n",
    "    return tweet\n",
    "\n",
    "df['TweetCleaned'] = df['Tweet'].apply(clean)\n",
    "df.head()\n",
    "\n",
    "print(\"Cleaned tweets\")"
   ],
   "metadata": {
    "collapsed": false,
    "pycharm": {
     "name": "#%%\n"
    }
   }
  },
  {
   "cell_type": "markdown",
   "source": [
    "### Lemmatize the text"
   ],
   "metadata": {
    "collapsed": false,
    "pycharm": {
     "name": "#%% md\n"
    }
   }
  },
  {
   "cell_type": "code",
   "execution_count": 10,
   "outputs": [
    {
     "name": "stdout",
     "output_type": "stream",
     "text": [
      "Lemmatized tweets\n"
     ]
    }
   ],
   "source": [
    "import warnings\n",
    "# Ignore DeprecationWarning from SelectableGroups\n",
    "warnings.filterwarnings(\"ignore\", category=DeprecationWarning)\n",
    "nlp = spacy.load(\"en_core_web_sm\", disable=[\"parser\", \"ner\"])\n",
    "\n",
    "def lemmatization(tweet, allowed_postags=[\"NOUN\", \"ADJ\", \"VERB\", \"ADV\"]):\n",
    "    doc = nlp(tweet)\n",
    "    new_text = []\n",
    "    for token in doc:\n",
    "        if token.pos_ in allowed_postags:\n",
    "            new_text.append(token.lemma_)\n",
    "    final = \" \".join(new_text)\n",
    "    return final\n",
    "\n",
    "df['TweetCleaned'] = df['TweetCleaned'].apply(lemmatization)\n",
    "df.head()\n",
    "print(\"Lemmatized tweets\")"
   ],
   "metadata": {
    "collapsed": false,
    "pycharm": {
     "name": "#%%\n"
    }
   }
  },
  {
   "cell_type": "code",
   "execution_count": null,
   "outputs": [],
   "source": [
    "gensim.utils.simple_preprocess(\"today vote proud support similar legislation\", deacc=True)\n",
    "df.head()"
   ],
   "metadata": {
    "collapsed": false,
    "pycharm": {
     "name": "#%%\n"
    }
   }
  },
  {
   "cell_type": "code",
   "execution_count": 11,
   "outputs": [
    {
     "name": "stdout",
     "output_type": "stream",
     "text": [
      "Generated tokens\n"
     ]
    }
   ],
   "source": [
    "def gen_words(tweet):\n",
    "    # Use gensims simple simple_preprocess to remove accents, lowercase and tokenize\n",
    "    return gensim.utils.simple_preprocess(tweet, deacc=True)\n",
    "\n",
    "df['TweetWords'] = df['TweetCleaned'].apply(gen_words)\n",
    "df.head()\n",
    "\n",
    "print(\"Generated tokens\")"
   ],
   "metadata": {
    "collapsed": false,
    "pycharm": {
     "name": "#%%\n"
    }
   }
  },
  {
   "cell_type": "code",
   "execution_count": 12,
   "outputs": [
    {
     "name": "stdout",
     "output_type": "stream",
     "text": [
      "Generated trigrams\n"
     ]
    }
   ],
   "source": [
    "#BIGRAMS AND TRIGRAMS\n",
    "bigram_phrases = gensim.models.Phrases(df['TweetWords'], min_count=5, threshold=100)\n",
    "trigram_phrases = gensim.models.Phrases(bigram_phrases[df['TweetWords']], threshold=100)\n",
    "\n",
    "bigram = gensim.models.phrases.Phraser(bigram_phrases)\n",
    "trigram = gensim.models.phrases.Phraser(trigram_phrases)\n",
    "\n",
    "def make_bigrams(tweetWords):\n",
    "    return bigram[tweetWords]\n",
    "\n",
    "def make_trigrams(bigrams):\n",
    "    return trigram[bigram[bigrams]]\n",
    "\n",
    "df['bigramms'] =  df['TweetWords'].apply(make_bigrams)\n",
    "df['trigrams'] = df['bigramms'].apply(make_trigrams)\n",
    "df.head(30)\n",
    "\n",
    "print(\"Generated trigrams\")"
   ],
   "metadata": {
    "collapsed": false,
    "pycharm": {
     "name": "#%%\n"
    }
   }
  },
  {
   "cell_type": "code",
   "execution_count": 13,
   "outputs": [
    {
     "name": "stdout",
     "output_type": "stream",
     "text": [
      "TF-IDF removal\n",
      "Finish preprocessing\n"
     ]
    }
   ],
   "source": [
    "#TF-IDF REMOVAL\n",
    "from gensim.models import TfidfModel\n",
    "\n",
    "id2word = corpora.Dictionary(df['trigrams'])\n",
    "\n",
    "texts = df['trigrams']\n",
    "\n",
    "corpus = [id2word.doc2bow(text) for text in texts]\n",
    "# print (corpus[0][0:20])\n",
    "\n",
    "tfidf = TfidfModel(corpus, id2word=id2word)\n",
    "\n",
    "low_value = 0.03\n",
    "words  = []\n",
    "words_missing_in_tfidf = []\n",
    "for i in range(0, len(corpus)):\n",
    "    bow = corpus[i]\n",
    "    low_value_words = [] #reinitialize to be safe. You can skip this.\n",
    "    tfidf_ids = [id for id, value in tfidf[bow]]\n",
    "    bow_ids = [id for id, value in bow]\n",
    "    low_value_words = [id for id, value in tfidf[bow] if value < low_value]\n",
    "    drops = low_value_words+words_missing_in_tfidf\n",
    "    for item in drops:\n",
    "        words.append(id2word[item])\n",
    "    words_missing_in_tfidf = [id for id in bow_ids if id not in tfidf_ids] # The words with tf-idf socre 0 will be missing\n",
    "\n",
    "    new_bow = [b for b in bow if b[0] not in low_value_words and b[0] not in words_missing_in_tfidf]\n",
    "    corpus[i] = new_bow\n",
    "\n",
    "print(\"TF-IDF removal\")\n",
    "print(\"Finish preprocessing\")\n",
    "\n",
    "import pickle\n"
   ],
   "metadata": {
    "collapsed": false,
    "pycharm": {
     "name": "#%%\n"
    }
   }
  },
  {
   "cell_type": "code",
   "execution_count": null,
   "outputs": [],
   "source": [
    "\n",
    "file = open(\"data.bin\", \"wb\")\n",
    "pickle.dump((df, id2word, corpus, tfidf), file)\n"
   ],
   "metadata": {
    "collapsed": false,
    "pycharm": {
     "name": "#%%\n"
    }
   }
  },
  {
   "cell_type": "code",
   "execution_count": null,
   "outputs": [],
   "source": [
    "import pickle\n",
    "(df, id2word, corpus, tfidf) = pickle.load(open(\"data.bin\", \"rb\"))\n",
    "df.head()\n",
    "texts = df['trigrams']"
   ],
   "metadata": {
    "collapsed": false,
    "pycharm": {
     "name": "#%%\n"
    }
   }
  },
  {
   "cell_type": "code",
   "execution_count": null,
   "outputs": [],
   "source": [],
   "metadata": {
    "collapsed": false,
    "pycharm": {
     "name": "#%%\n"
    }
   }
  },
  {
   "cell_type": "code",
   "execution_count": 14,
   "outputs": [],
   "source": [
    "lda_model = gensim.models.LdaMulticore(\n",
    "                corpus=corpus[:-1],\n",
    "                id2word=id2word,\n",
    "                num_topics=10,\n",
    "                random_state=100,\n",
    "                chunksize=100,\n",
    "                passes=10\n",
    "            )\n"
   ],
   "metadata": {
    "collapsed": false,
    "pycharm": {
     "name": "#%%\n"
    }
   }
  },
  {
   "cell_type": "code",
   "execution_count": null,
   "outputs": [],
   "source": [
    "vis = pyLDAvis.gensim_models.prepare(lda_model, corpus, id2word, mds=\"mmds\", R=30)\n",
    "vis"
   ],
   "metadata": {
    "collapsed": false,
    "pycharm": {
     "name": "#%%\n"
    }
   }
  },
  {
   "cell_type": "code",
   "execution_count": 15,
   "outputs": [
    {
     "data": {
      "text/plain": "          Party           Handle  \\\n17807  Democrat    RepSusanDavis   \n9003   Democrat     repmarkpocan   \n8311   Democrat       RepTimWalz   \n1784   Democrat        RepKihuen   \n16515  Democrat  BettyMcCollum04   \n\n                                                   Tweet retweeted  \\\n17807  Wonderful to see so much Star Power at the Gir...        []   \n9003   You should vote on the #DREAMAct because it’s ...        []   \n8311   The VA Medicinal Cannabis Research Act of 2018...        []   \n1784   Hoping for a speedy rescue for this pilot and ...        []   \n16515  While big corporations and @HouseGOP’s wealthy...        []   \n\n         mentioned       hashtags  \\\n17807           []             []   \n9003            []    [#DREAMAct]   \n8311            []  [#bipartisan]   \n1784            []             []   \n16515  [@HouseGOP]  [#GOPTaxScam]   \n\n                                            TweetCleaned  \\\n17807  wonderful see much star power girl run awesome...   \n9003      vote ’s right thing hold future young people h   \n8311                pragmatic piece legislation help imp   \n1784   hope speedy rescue pilot hold nelli afb family...   \n16515  big corporation wealthy donor get huge tax bre...   \n\n                                              TweetWords  \\\n17807  [wonderful, see, much, star, power, girl, run,...   \n9003   [vote, right, thing, hold, future, young, people]   \n8311          [pragmatic, piece, legislation, help, imp]   \n1784   [hope, speedy, rescue, pilot, hold, nelli, afb...   \n16515  [big, corporation, wealthy, donor, get, huge, ...   \n\n                                                bigramms  \\\n17807  [wonderful, see, much, star, power, girl, run,...   \n9003   [vote, right, thing, hold, future, young, people]   \n8311          [pragmatic, piece, legislation, help, imp]   \n1784   [hope, speedy, rescue, pilot, hold, nelli, afb...   \n16515  [big, corporation_wealthy, donor, get, huge, t...   \n\n                                                trigrams  \n17807  [wonderful, see, much, star, power, girl, run,...  \n9003   [vote, right, thing, hold, future, young, people]  \n8311          [pragmatic, piece, legislation, help, imp]  \n1784   [hope, speedy, rescue, pilot, hold, nelli, afb...  \n16515  [big, corporation_wealthy, donor, get, huge, t...  ",
      "text/html": "<div>\n<style scoped>\n    .dataframe tbody tr th:only-of-type {\n        vertical-align: middle;\n    }\n\n    .dataframe tbody tr th {\n        vertical-align: top;\n    }\n\n    .dataframe thead th {\n        text-align: right;\n    }\n</style>\n<table border=\"1\" class=\"dataframe\">\n  <thead>\n    <tr style=\"text-align: right;\">\n      <th></th>\n      <th>Party</th>\n      <th>Handle</th>\n      <th>Tweet</th>\n      <th>retweeted</th>\n      <th>mentioned</th>\n      <th>hashtags</th>\n      <th>TweetCleaned</th>\n      <th>TweetWords</th>\n      <th>bigramms</th>\n      <th>trigrams</th>\n    </tr>\n  </thead>\n  <tbody>\n    <tr>\n      <th>17807</th>\n      <td>Democrat</td>\n      <td>RepSusanDavis</td>\n      <td>Wonderful to see so much Star Power at the Gir...</td>\n      <td>[]</td>\n      <td>[]</td>\n      <td>[]</td>\n      <td>wonderful see much star power girl run awesome...</td>\n      <td>[wonderful, see, much, star, power, girl, run,...</td>\n      <td>[wonderful, see, much, star, power, girl, run,...</td>\n      <td>[wonderful, see, much, star, power, girl, run,...</td>\n    </tr>\n    <tr>\n      <th>9003</th>\n      <td>Democrat</td>\n      <td>repmarkpocan</td>\n      <td>You should vote on the #DREAMAct because it’s ...</td>\n      <td>[]</td>\n      <td>[]</td>\n      <td>[#DREAMAct]</td>\n      <td>vote ’s right thing hold future young people h</td>\n      <td>[vote, right, thing, hold, future, young, people]</td>\n      <td>[vote, right, thing, hold, future, young, people]</td>\n      <td>[vote, right, thing, hold, future, young, people]</td>\n    </tr>\n    <tr>\n      <th>8311</th>\n      <td>Democrat</td>\n      <td>RepTimWalz</td>\n      <td>The VA Medicinal Cannabis Research Act of 2018...</td>\n      <td>[]</td>\n      <td>[]</td>\n      <td>[#bipartisan]</td>\n      <td>pragmatic piece legislation help imp</td>\n      <td>[pragmatic, piece, legislation, help, imp]</td>\n      <td>[pragmatic, piece, legislation, help, imp]</td>\n      <td>[pragmatic, piece, legislation, help, imp]</td>\n    </tr>\n    <tr>\n      <th>1784</th>\n      <td>Democrat</td>\n      <td>RepKihuen</td>\n      <td>Hoping for a speedy rescue for this pilot and ...</td>\n      <td>[]</td>\n      <td>[]</td>\n      <td>[]</td>\n      <td>hope speedy rescue pilot hold nelli afb family...</td>\n      <td>[hope, speedy, rescue, pilot, hold, nelli, afb...</td>\n      <td>[hope, speedy, rescue, pilot, hold, nelli, afb...</td>\n      <td>[hope, speedy, rescue, pilot, hold, nelli, afb...</td>\n    </tr>\n    <tr>\n      <th>16515</th>\n      <td>Democrat</td>\n      <td>BettyMcCollum04</td>\n      <td>While big corporations and @HouseGOP’s wealthy...</td>\n      <td>[]</td>\n      <td>[@HouseGOP]</td>\n      <td>[#GOPTaxScam]</td>\n      <td>big corporation wealthy donor get huge tax bre...</td>\n      <td>[big, corporation, wealthy, donor, get, huge, ...</td>\n      <td>[big, corporation_wealthy, donor, get, huge, t...</td>\n      <td>[big, corporation_wealthy, donor, get, huge, t...</td>\n    </tr>\n  </tbody>\n</table>\n</div>"
     },
     "execution_count": 15,
     "metadata": {},
     "output_type": "execute_result"
    }
   ],
   "source": [
    "def get_document_topic(model, tri):\n",
    "    doc_bow = id2word.doc2bow(tri)\n",
    "    vec = model.get_document_topics(bow=doc_bow, minimum_probability=0)\n",
    "    return [v for _, v in vec]\n",
    "\n",
    "#df['topic_vec'] = df['trigrams'].apply(lambda trigram: get_document_topic(lda_model, trigram))\n",
    "df.head()"
   ],
   "metadata": {
    "collapsed": false,
    "pycharm": {
     "name": "#%%\n"
    }
   }
  },
  {
   "cell_type": "code",
   "execution_count": 16,
   "outputs": [],
   "source": [
    "from sklearn.neural_network import MLPClassifier\n",
    "from sklearn.naive_bayes import GaussianNB\n",
    "from sklearn.svm import LinearSVC\n",
    "from sklearn.metrics import precision_recall_fscore_support, accuracy_score, confusion_matrix, plot_confusion_matrix\n",
    "from sklearn.model_selection import train_test_split\n",
    "from matplotlib import pyplot as plt\n",
    "\n",
    "def evaluate_model(model):\n",
    "    df['topic_vec'] = df['trigrams'].apply(lambda trigram: get_document_topic(model, trigram))\n",
    "    df['len'] = df['topic_vec'].apply(lambda x: len(x))\n",
    "\n",
    "    result = {}\n",
    "\n",
    "    text_train, text_test, label_train, label_test = train_test_split(df[\"topic_vec\"], df['Party'], train_size=0.70, random_state=101, test_size=0.30, shuffle=True)\n",
    "    classifiers = [('MLP', MLPClassifier()), ('G-NB', GaussianNB()), ('L-SVM', LinearSVC())]\n",
    "    for name, cl in classifiers:\n",
    "\n",
    "        # Train and predict\n",
    "        cl.fit(text_train.to_list(), label_train)\n",
    "\n",
    "        prediction = cl.predict(text_test.to_list())\n",
    "\n",
    "        # Confusion matrix\n",
    "        confusion = confusion_matrix(label_test, prediction)\n",
    "        # increase size of plot and fontsize for improved visibility\n",
    "        #fig, ax_cm = plt.subplots(figsize=(10, 10))\n",
    "        #plt.rcParams.update({'font.size': 14})\n",
    "        # create plot for multi-class confusion matrix, use prepared axes object and change colormap for better contrast\n",
    "        #plot_confusion_matrix(cl, text_test.to_list(), label_test.to_list(), ax=ax_cm, cmap=plt.cm.Reds_r)\n",
    "        # show plot corresponding to printed name and accuracy\n",
    "        #plt.show()\n",
    "        accuracy = accuracy_score(label_test, prediction)\n",
    "        precision, recall, fscore, *rest = precision_recall_fscore_support(label_test, prediction, average='macro')\n",
    "        result[name] = confusion, accuracy, precision, recall, fscore\n",
    "    return result"
   ],
   "metadata": {
    "collapsed": false,
    "pycharm": {
     "name": "#%%\n"
    }
   }
  },
  {
   "cell_type": "markdown",
   "source": [
    "Evaluating the model see: https://www.machinelearningplus.com/nlp/topic-modeling-gensim-python/#5preparestopwords"
   ],
   "metadata": {
    "collapsed": false,
    "pycharm": {
     "name": "#%% md\n"
    }
   }
  },
  {
   "cell_type": "code",
   "execution_count": 17,
   "outputs": [],
   "source": [
    "def compute_coherence_values(dictionary, corpus, texts, limit, start=2, step=3):\n",
    "    \"\"\"\n",
    "    Compute c_v coherence for various number of topics\n",
    "\n",
    "    Parameters:\n",
    "    ----------\n",
    "    dictionary : Gensim dictionary\n",
    "    corpus : Gensim corpus\n",
    "    texts : List of input texts\n",
    "    limit : Max num of topics\n",
    "\n",
    "    Returns:\n",
    "    -------\n",
    "    model_list : List of LDA topic models\n",
    "    coherence_values : Coherence values corresponding to the LDA model with respective number of topics\n",
    "    \"\"\"\n",
    "    perplexitiy_values = []\n",
    "    model_list = []\n",
    "    evaluations = []\n",
    "    for num_topics in range(start, limit, step):\n",
    "        print(\"Generated model with \" + str(num_topics) + \" topics\")\n",
    "        model = gensim.models.ldamodel.LdaModel(corpus=corpus,\n",
    "                                           id2word=dictionary,\n",
    "                                           num_topics=num_topics,\n",
    "                                           random_state=100,\n",
    "                                           alpha='auto',\n",
    "                                           per_word_topics=True)\n",
    "        model_list.append(model)\n",
    "        perplexity = model.log_perplexity(corpus)\n",
    "        print('Perplexity: ', perplexity)  # a measure of how good the model is. lower the better.\n",
    "        #coherencemodel = CoherenceModel(model=model, texts=texts, dictionary=dictionary, coherence='c_v')\n",
    "        #coherence_values.append(coherencemodel.get_coherence())\n",
    "        evaluation = evaluate_model(model)\n",
    "        evaluations.append(evaluation)\n",
    "        perplexitiy_values.append(perplexity)\n",
    "        #print(\"Coherence: \" + str(coherencemodel.get_coherence()))\n",
    "        print(\"Evaluation: \" + str(evaluation))\n",
    "\n",
    "    return model_list, perplexitiy_values, evaluations\n"
   ],
   "metadata": {
    "collapsed": false,
    "pycharm": {
     "name": "#%%\n"
    }
   }
  },
  {
   "cell_type": "code",
   "execution_count": 18,
   "outputs": [
    {
     "name": "stdout",
     "output_type": "stream",
     "text": [
      "Generated model with 2 topics\n",
      "Perplexity:  -7.905141759834616\n",
      "Evaluation: {'MLP': (array([[1912, 1095],\n",
      "       [1699, 1294]]), 0.5343333333333333, 0.5355712203966323, 0.5340959078554983, 0.5293401024805495), 'G-NB': (array([[1207, 1800],\n",
      "       [1039, 1954]]), 0.5268333333333334, 0.528955638177099, 0.5271267032453844, 0.5193836599078194), 'L-SVM': (array([[1336, 1671],\n",
      "       [1258, 1735]]), 0.5118333333333334, 0.5122149402093725, 0.5119912875081208, 0.5096649491547329)}\n",
      "Generated model with 7 topics\n",
      "Perplexity:  -8.310491268764789\n",
      "Evaluation: {'MLP': (array([[1713, 1294],\n",
      "       [1345, 1648]]), 0.5601666666666667, 0.560166600049174, 0.5601444385641655, 0.5601150412791501), 'G-NB': (array([[1433, 1574],\n",
      "       [1118, 1875]]), 0.5513333333333333, 0.552688165199146, 0.5515082248781132, 0.5488852337445911), 'L-SVM': (array([[1696, 1311],\n",
      "       [1496, 1497]]), 0.5321666666666667, 0.5322239894608316, 0.5320921747240623, 0.5316514702742869)}\n",
      "Generated model with 12 topics\n",
      "Perplexity:  -9.394043884070888\n",
      "Evaluation: {'MLP': (array([[1395, 1612],\n",
      "       [1144, 1849]]), 0.5406666666666666, 0.5418337841831542, 0.5408461668291304, 0.5380216352044948), 'G-NB': (array([[1461, 1546],\n",
      "       [1185, 1808]]), 0.5448333333333333, 0.5456060181973803, 0.5449712448434442, 0.5433058308830778), 'L-SVM': (array([[1670, 1337],\n",
      "       [1513, 1480]]), 0.525, 0.525021939971969, 0.5249289690577205, 0.5245232024335514)}\n",
      "Generated model with 17 topics\n",
      "Perplexity:  -10.382965235061258\n"
     ]
    },
    {
     "name": "stderr",
     "output_type": "stream",
     "text": [
      "/home/sifr/uni/nlp/nlp_project/venv/lib64/python3.10/site-packages/sklearn/neural_network/_multilayer_perceptron.py:702: ConvergenceWarning: Stochastic Optimizer: Maximum iterations (200) reached and the optimization hasn't converged yet.\n",
      "  warnings.warn(\n"
     ]
    },
    {
     "name": "stdout",
     "output_type": "stream",
     "text": [
      "Evaluation: {'MLP': (array([[1620, 1387],\n",
      "       [1302, 1691]]), 0.5518333333333333, 0.5518987502218167, 0.5518639490370558, 0.5517705687621426), 'G-NB': (array([[1482, 1525],\n",
      "       [1144, 1849]]), 0.5551666666666667, 0.5561853310405136, 0.5553124122564668, 0.5534961344682052), 'L-SVM': (array([[1647, 1360],\n",
      "       [1399, 1594]]), 0.5401666666666667, 0.5401582194213661, 0.5401489963667581, 0.5401307840936811)}\n",
      "Generated model with 22 topics\n",
      "Perplexity:  -11.118587668875396\n"
     ]
    },
    {
     "name": "stderr",
     "output_type": "stream",
     "text": [
      "/home/sifr/uni/nlp/nlp_project/venv/lib64/python3.10/site-packages/sklearn/neural_network/_multilayer_perceptron.py:702: ConvergenceWarning: Stochastic Optimizer: Maximum iterations (200) reached and the optimization hasn't converged yet.\n",
      "  warnings.warn(\n"
     ]
    },
    {
     "name": "stdout",
     "output_type": "stream",
     "text": [
      "Evaluation: {'MLP': (array([[1607, 1400],\n",
      "       [1287, 1706]]), 0.5521666666666667, 0.5522731490113657, 0.552208173133387, 0.5520447108391926), 'G-NB': (array([[1380, 1627],\n",
      "       [1114, 1879]]), 0.5431666666666667, 0.544633189249178, 0.543363680535594, 0.5399848826602021), 'L-SVM': (array([[1646, 1361],\n",
      "       [1411, 1582]]), 0.538, 0.5379915482822633, 0.5379780401026628, 0.5379474286852193)}\n",
      "Generated model with 27 topics\n",
      "Perplexity:  -11.811146859272185\n"
     ]
    },
    {
     "name": "stderr",
     "output_type": "stream",
     "text": [
      "/home/sifr/uni/nlp/nlp_project/venv/lib64/python3.10/site-packages/sklearn/neural_network/_multilayer_perceptron.py:702: ConvergenceWarning: Stochastic Optimizer: Maximum iterations (200) reached and the optimization hasn't converged yet.\n",
      "  warnings.warn(\n"
     ]
    },
    {
     "name": "stdout",
     "output_type": "stream",
     "text": [
      "Evaluation: {'MLP': (array([[1667, 1340],\n",
      "       [1402, 1591]]), 0.543, 0.5429959115038522, 0.542973400632959, 0.5429266651227153), 'G-NB': (array([[1444, 1563],\n",
      "       [1093, 1900]]), 0.5573333333333333, 0.5589167129828239, 0.5575137020190444, 0.5547616365460233), 'L-SVM': (array([[1738, 1269],\n",
      "       [1424, 1569]]), 0.5511666666666667, 0.5512531207668228, 0.5511039448992556, 0.5508102970248148)}\n",
      "Generated model with 32 topics\n",
      "Perplexity:  -12.546773553856092\n"
     ]
    },
    {
     "name": "stderr",
     "output_type": "stream",
     "text": [
      "/home/sifr/uni/nlp/nlp_project/venv/lib64/python3.10/site-packages/sklearn/neural_network/_multilayer_perceptron.py:702: ConvergenceWarning: Stochastic Optimizer: Maximum iterations (200) reached and the optimization hasn't converged yet.\n",
      "  warnings.warn(\n"
     ]
    },
    {
     "name": "stdout",
     "output_type": "stream",
     "text": [
      "Evaluation: {'MLP': (array([[1604, 1403],\n",
      "       [1335, 1658]]), 0.5436666666666666, 0.5437084599088134, 0.5436906267600791, 0.5436297006724211), 'G-NB': (array([[1426, 1581],\n",
      "       [1138, 1855]]), 0.5468333333333333, 0.5480170953054653, 0.5470031447948994, 0.5445047276271452), 'L-SVM': (array([[1702, 1305],\n",
      "       [1448, 1545]]), 0.5411666666666667, 0.5412113617376775, 0.541108557146589, 0.540852290780985)}\n",
      "Generated model with 37 topics\n",
      "Perplexity:  -13.247600662488155\n"
     ]
    },
    {
     "name": "stderr",
     "output_type": "stream",
     "text": [
      "/home/sifr/uni/nlp/nlp_project/venv/lib64/python3.10/site-packages/sklearn/neural_network/_multilayer_perceptron.py:702: ConvergenceWarning: Stochastic Optimizer: Maximum iterations (200) reached and the optimization hasn't converged yet.\n",
      "  warnings.warn(\n"
     ]
    },
    {
     "name": "stdout",
     "output_type": "stream",
     "text": [
      "Evaluation: {'MLP': (array([[1529, 1478],\n",
      "       [1193, 1800]]), 0.5548333333333333, 0.5554173191212182, 0.554941743571715, 0.5539233245243442), 'G-NB': (array([[1406, 1601],\n",
      "       [1072, 1921]]), 0.5545, 0.5564108962962657, 0.554703297829066, 0.5511934803003518), 'L-SVM': (array([[1702, 1305],\n",
      "       [1377, 1616]]), 0.553, 0.5530060345179363, 0.552969566167638, 0.5529081474627399)}\n",
      "Generated model with 42 topics\n",
      "Perplexity:  -13.978358826256207\n"
     ]
    },
    {
     "name": "stderr",
     "output_type": "stream",
     "text": [
      "/home/sifr/uni/nlp/nlp_project/venv/lib64/python3.10/site-packages/sklearn/neural_network/_multilayer_perceptron.py:702: ConvergenceWarning: Stochastic Optimizer: Maximum iterations (200) reached and the optimization hasn't converged yet.\n",
      "  warnings.warn(\n"
     ]
    },
    {
     "name": "stdout",
     "output_type": "stream",
     "text": [
      "Evaluation: {'MLP': (array([[1605, 1402],\n",
      "       [1243, 1750]]), 0.5591666666666667, 0.559378208235898, 0.5592261002309902, 0.5589090573036057), 'G-NB': (array([[1315, 1692],\n",
      "       [1008, 1985]]), 0.55, 0.5529603048396502, 0.5502635514348911, 0.5443178973365099), 'L-SVM': (array([[1634, 1373],\n",
      "       [1382, 1611]]), 0.5408333333333334, 0.5408282724486385, 0.5408273333932596, 0.5408265860351115)}\n",
      "Generated model with 47 topics\n",
      "Perplexity:  -14.690347077288154\n"
     ]
    },
    {
     "name": "stderr",
     "output_type": "stream",
     "text": [
      "/home/sifr/uni/nlp/nlp_project/venv/lib64/python3.10/site-packages/sklearn/neural_network/_multilayer_perceptron.py:702: ConvergenceWarning: Stochastic Optimizer: Maximum iterations (200) reached and the optimization hasn't converged yet.\n",
      "  warnings.warn(\n"
     ]
    },
    {
     "name": "stdout",
     "output_type": "stream",
     "text": [
      "Evaluation: {'MLP': (array([[1608, 1399],\n",
      "       [1275, 1718]]), 0.5543333333333333, 0.5544616695326926, 0.5543791293974822, 0.554183489450621), 'G-NB': (array([[1421, 1586],\n",
      "       [1085, 1908]]), 0.5548333333333333, 0.5565590493519617, 0.5550257440290508, 0.5518811136623943), 'L-SVM': (array([[1702, 1305],\n",
      "       [1354, 1639]]), 0.5568333333333333, 0.5568313581265649, 0.5568118648645977, 0.5567844688210208)}\n",
      "Generated model with 52 topics\n",
      "Perplexity:  -15.442874291832466\n"
     ]
    },
    {
     "name": "stderr",
     "output_type": "stream",
     "text": [
      "/home/sifr/uni/nlp/nlp_project/venv/lib64/python3.10/site-packages/sklearn/neural_network/_multilayer_perceptron.py:702: ConvergenceWarning: Stochastic Optimizer: Maximum iterations (200) reached and the optimization hasn't converged yet.\n",
      "  warnings.warn(\n"
     ]
    },
    {
     "name": "stdout",
     "output_type": "stream",
     "text": [
      "Evaluation: {'MLP': (array([[1544, 1463],\n",
      "       [1292, 1701]]), 0.5408333333333334, 0.5410196961943159, 0.5408973337743728, 0.5405187290597944), 'G-NB': (array([[1349, 1658],\n",
      "       [1054, 1939]]), 0.548, 0.5502209671882902, 0.5482324292654482, 0.5435867373127379), 'L-SVM': (array([[1647, 1360],\n",
      "       [1353, 1640]]), 0.5478333333333333, 0.5478333333333334, 0.5478335937606771, 0.5478327178834215)}\n",
      "Generated model with 57 topics\n",
      "Perplexity:  -16.274448065919604\n"
     ]
    },
    {
     "name": "stderr",
     "output_type": "stream",
     "text": [
      "/home/sifr/uni/nlp/nlp_project/venv/lib64/python3.10/site-packages/sklearn/neural_network/_multilayer_perceptron.py:702: ConvergenceWarning: Stochastic Optimizer: Maximum iterations (200) reached and the optimization hasn't converged yet.\n",
      "  warnings.warn(\n"
     ]
    },
    {
     "name": "stdout",
     "output_type": "stream",
     "text": [
      "Evaluation: {'MLP': (array([[1713, 1294],\n",
      "       [1363, 1630]]), 0.5571666666666667, 0.5571738039879817, 0.557137422192632, 0.5570819093687123), 'G-NB': (array([[1433, 1574],\n",
      "       [1094, 1899]]), 0.5553333333333333, 0.5569325514218966, 0.5555175800401579, 0.5526347765985287), 'L-SVM': (array([[1643, 1364],\n",
      "       [1300, 1693]]), 0.556, 0.5560423979723347, 0.5560224716779013, 0.5559691645253142)}\n",
      "Generated model with 62 topics\n",
      "Perplexity:  -17.035934224926226\n"
     ]
    },
    {
     "name": "stderr",
     "output_type": "stream",
     "text": [
      "/home/sifr/uni/nlp/nlp_project/venv/lib64/python3.10/site-packages/sklearn/neural_network/_multilayer_perceptron.py:702: ConvergenceWarning: Stochastic Optimizer: Maximum iterations (200) reached and the optimization hasn't converged yet.\n",
      "  warnings.warn(\n"
     ]
    },
    {
     "name": "stdout",
     "output_type": "stream",
     "text": [
      "Evaluation: {'MLP': (array([[1498, 1509],\n",
      "       [1176, 1817]]), 0.5525, 0.5532556440923959, 0.5526270643029056, 0.5512314684851254), 'G-NB': (array([[1417, 1590],\n",
      "       [1088, 1905]]), 0.5536666666666666, 0.5553665201785271, 0.5538594599015039, 0.5506944606007027), 'L-SVM': (array([[1689, 1318],\n",
      "       [1381, 1612]]), 0.5501666666666667, 0.5501667574568376, 0.5501397174273505, 0.5500925694123346)}\n",
      "Generated model with 67 topics\n",
      "Perplexity:  -17.98589087863017\n"
     ]
    },
    {
     "name": "stderr",
     "output_type": "stream",
     "text": [
      "/home/sifr/uni/nlp/nlp_project/venv/lib64/python3.10/site-packages/sklearn/neural_network/_multilayer_perceptron.py:702: ConvergenceWarning: Stochastic Optimizer: Maximum iterations (200) reached and the optimization hasn't converged yet.\n",
      "  warnings.warn(\n"
     ]
    },
    {
     "name": "stdout",
     "output_type": "stream",
     "text": [
      "Evaluation: {'MLP': (array([[1716, 1291],\n",
      "       [1465, 1528]]), 0.5406666666666666, 0.5407445926220993, 0.5405964988031602, 0.5402152602265958), 'G-NB': (array([[1292, 1715],\n",
      "       [ 999, 1994]]), 0.5476666666666666, 0.5507785455624298, 0.5479426499099829, 0.5413887370886735), 'L-SVM': (array([[1554, 1453],\n",
      "       [1262, 1731]]), 0.5475, 0.5477511849017817, 0.547571814557657, 0.5471058688823949)}\n",
      "Generated model with 72 topics\n",
      "Perplexity:  -18.980719763087457\n"
     ]
    },
    {
     "name": "stderr",
     "output_type": "stream",
     "text": [
      "/home/sifr/uni/nlp/nlp_project/venv/lib64/python3.10/site-packages/sklearn/neural_network/_multilayer_perceptron.py:702: ConvergenceWarning: Stochastic Optimizer: Maximum iterations (200) reached and the optimization hasn't converged yet.\n",
      "  warnings.warn(\n"
     ]
    },
    {
     "name": "stdout",
     "output_type": "stream",
     "text": [
      "Evaluation: {'MLP': (array([[1655, 1352],\n",
      "       [1286, 1707]]), 0.5603333333333333, 0.5603796312773863, 0.5603566063859681, 0.5603003070008369), 'G-NB': (array([[1441, 1566],\n",
      "       [1087, 1906]]), 0.5578333333333333, 0.5594894782126816, 0.558017204760337, 0.5551615222262045), 'L-SVM': (array([[1664, 1343],\n",
      "       [1263, 1730]]), 0.5656666666666667, 0.5657339773739363, 0.5656954132305831, 0.5656141059734895)}\n",
      "Generated model with 77 topics\n",
      "Perplexity:  -20.091200238680674\n"
     ]
    },
    {
     "name": "stderr",
     "output_type": "stream",
     "text": [
      "/home/sifr/uni/nlp/nlp_project/venv/lib64/python3.10/site-packages/sklearn/neural_network/_multilayer_perceptron.py:702: ConvergenceWarning: Stochastic Optimizer: Maximum iterations (200) reached and the optimization hasn't converged yet.\n",
      "  warnings.warn(\n"
     ]
    },
    {
     "name": "stdout",
     "output_type": "stream",
     "text": [
      "Evaluation: {'MLP': (array([[1747, 1260],\n",
      "       [1366, 1627]]), 0.5623333333333334, 0.5623778892519843, 0.5622897280218526, 0.5621581966119781), 'G-NB': (array([[1479, 1528],\n",
      "       [1146, 1847]]), 0.5543333333333333, 0.5553439153439153, 0.5544794632770779, 0.5526505039401552), 'L-SVM': (array([[1656, 1351],\n",
      "       [1307, 1686]]), 0.557, 0.5570230627303198, 0.5570146993022518, 0.5569889247231181)}\n",
      "Generated model with 82 topics\n",
      "Perplexity:  -21.10606136511144\n"
     ]
    },
    {
     "name": "stderr",
     "output_type": "stream",
     "text": [
      "/home/sifr/uni/nlp/nlp_project/venv/lib64/python3.10/site-packages/sklearn/neural_network/_multilayer_perceptron.py:702: ConvergenceWarning: Stochastic Optimizer: Maximum iterations (200) reached and the optimization hasn't converged yet.\n",
      "  warnings.warn(\n"
     ]
    },
    {
     "name": "stdout",
     "output_type": "stream",
     "text": [
      "Evaluation: {'MLP': (array([[1551, 1456],\n",
      "       [1154, 1839]]), 0.565, 0.5657504929611045, 0.56511507673764, 0.5639954455064469), 'G-NB': (array([[1392, 1615],\n",
      "       [1022, 1971]]), 0.5605, 0.5631368837017381, 0.5607282195203063, 0.5563687953141644), 'L-SVM': (array([[1663, 1344],\n",
      "       [1244, 1749]]), 0.5686666666666667, 0.5687689202657087, 0.5687032073841292, 0.5685780334204217)}\n",
      "Generated model with 87 topics\n",
      "Perplexity:  -22.648949434109237\n"
     ]
    },
    {
     "name": "stderr",
     "output_type": "stream",
     "text": [
      "/home/sifr/uni/nlp/nlp_project/venv/lib64/python3.10/site-packages/sklearn/neural_network/_multilayer_perceptron.py:702: ConvergenceWarning: Stochastic Optimizer: Maximum iterations (200) reached and the optimization hasn't converged yet.\n",
      "  warnings.warn(\n"
     ]
    },
    {
     "name": "stdout",
     "output_type": "stream",
     "text": [
      "Evaluation: {'MLP': (array([[1682, 1325],\n",
      "       [1324, 1669]]), 0.5585, 0.5584979006582693, 0.5584979851556969, 0.5584979273930482), 'G-NB': (array([[1541, 1466],\n",
      "       [1184, 1809]]), 0.5583333333333333, 0.5589354996848519, 0.5584405959543557, 0.557450397704576), 'L-SVM': (array([[1802, 1205],\n",
      "       [1437, 1556]]), 0.5596666666666666, 0.5599542384505035, 0.5595740465698091, 0.5589252199614219)}\n",
      "Generated model with 92 topics\n",
      "Perplexity:  -24.20710932406246\n"
     ]
    },
    {
     "name": "stderr",
     "output_type": "stream",
     "text": [
      "/home/sifr/uni/nlp/nlp_project/venv/lib64/python3.10/site-packages/sklearn/neural_network/_multilayer_perceptron.py:702: ConvergenceWarning: Stochastic Optimizer: Maximum iterations (200) reached and the optimization hasn't converged yet.\n",
      "  warnings.warn(\n"
     ]
    },
    {
     "name": "stdout",
     "output_type": "stream",
     "text": [
      "Evaluation: {'MLP': (array([[1637, 1370],\n",
      "       [1270, 1723]]), 0.56, 0.5600939169208277, 0.5600364935320203, 0.5599095858693637), 'G-NB': (array([[1448, 1559],\n",
      "       [1088, 1905]]), 0.5588333333333333, 0.5604600906302591, 0.5590140990767616, 0.5562590317366435), 'L-SVM': (array([[1699, 1308],\n",
      "       [1319, 1674]]), 0.5621666666666667, 0.5621619044952285, 0.5621600050933611, 0.5621590652615498)}\n",
      "Generated model with 97 topics\n",
      "Perplexity:  -26.381608458400905\n"
     ]
    },
    {
     "name": "stderr",
     "output_type": "stream",
     "text": [
      "/home/sifr/uni/nlp/nlp_project/venv/lib64/python3.10/site-packages/sklearn/neural_network/_multilayer_perceptron.py:702: ConvergenceWarning: Stochastic Optimizer: Maximum iterations (200) reached and the optimization hasn't converged yet.\n",
      "  warnings.warn(\n"
     ]
    },
    {
     "name": "stdout",
     "output_type": "stream",
     "text": [
      "Evaluation: {'MLP': (array([[1710, 1297],\n",
      "       [1275, 1718]]), 0.5713333333333334, 0.5713409501904214, 0.5713395550709109, 0.5713325712579045), 'G-NB': (array([[1553, 1454],\n",
      "       [1146, 1847]]), 0.5666666666666667, 0.5674628557998131, 0.5667840858244673, 0.5656237292405732), 'L-SVM': (array([[1753, 1254],\n",
      "       [1329, 1664]]), 0.5695, 0.569520050313145, 0.5694684893284419, 0.569405257195618)}\n",
      "Generated model with 102 topics\n",
      "Perplexity:  -28.663028420270972\n"
     ]
    },
    {
     "name": "stderr",
     "output_type": "stream",
     "text": [
      "/home/sifr/uni/nlp/nlp_project/venv/lib64/python3.10/site-packages/sklearn/neural_network/_multilayer_perceptron.py:702: ConvergenceWarning: Stochastic Optimizer: Maximum iterations (200) reached and the optimization hasn't converged yet.\n",
      "  warnings.warn(\n"
     ]
    },
    {
     "name": "stdout",
     "output_type": "stream",
     "text": [
      "Evaluation: {'MLP': (array([[1747, 1260],\n",
      "       [1375, 1618]]), 0.5608333333333333, 0.5608865817647763, 0.5607862198360858, 0.5606302346593046), 'G-NB': (array([[1365, 1642],\n",
      "       [ 992, 2001]]), 0.561, 0.5641992925914026, 0.5612503890298959, 0.5560113434550611), 'L-SVM': (array([[1650, 1357],\n",
      "       [1271, 1722]]), 0.562, 0.5620737669310463, 0.5620310599468819, 0.5619369189163239)}\n",
      "Generated model with 107 topics\n",
      "Perplexity:  -31.234854358401954\n"
     ]
    },
    {
     "name": "stderr",
     "output_type": "stream",
     "text": [
      "/home/sifr/uni/nlp/nlp_project/venv/lib64/python3.10/site-packages/sklearn/neural_network/_multilayer_perceptron.py:702: ConvergenceWarning: Stochastic Optimizer: Maximum iterations (200) reached and the optimization hasn't converged yet.\n",
      "  warnings.warn(\n"
     ]
    },
    {
     "name": "stdout",
     "output_type": "stream",
     "text": [
      "Evaluation: {'MLP': (array([[1751, 1256],\n",
      "       [1310, 1683]]), 0.5723333333333334, 0.5723395194835554, 0.572310004798915, 0.5722783948693855), 'G-NB': (array([[1327, 1680],\n",
      "       [1045, 1948]]), 0.5458333333333333, 0.5481892289872102, 0.5460778064236128, 0.5409155054566614), 'L-SVM': (array([[1665, 1342],\n",
      "       [1262, 1731]]), 0.566, 0.5660675081945743, 0.5660287483787412, 0.565947479645037)}\n",
      "Generated model with 112 topics\n",
      "Perplexity:  -36.05987388639533\n"
     ]
    },
    {
     "name": "stderr",
     "output_type": "stream",
     "text": [
      "/home/sifr/uni/nlp/nlp_project/venv/lib64/python3.10/site-packages/sklearn/neural_network/_multilayer_perceptron.py:702: ConvergenceWarning: Stochastic Optimizer: Maximum iterations (200) reached and the optimization hasn't converged yet.\n",
      "  warnings.warn(\n"
     ]
    },
    {
     "name": "stdout",
     "output_type": "stream",
     "text": [
      "Evaluation: {'MLP': (array([[1756, 1251],\n",
      "       [1315, 1678]]), 0.5723333333333334, 0.572346244157422, 0.5723061158888532, 0.5722610454500143), 'G-NB': (array([[1438, 1569],\n",
      "       [1119, 1874]]), 0.552, 0.553335277201729, 0.5521725618283921, 0.5496218029514963), 'L-SVM': (array([[1664, 1343],\n",
      "       [1264, 1729]]), 0.5655, 0.5655657658811475, 0.565528356765498, 0.5654490006118775)}\n",
      "Generated model with 117 topics\n",
      "Perplexity:  -40.44125400810101\n"
     ]
    },
    {
     "name": "stderr",
     "output_type": "stream",
     "text": [
      "/home/sifr/uni/nlp/nlp_project/venv/lib64/python3.10/site-packages/sklearn/neural_network/_multilayer_perceptron.py:702: ConvergenceWarning: Stochastic Optimizer: Maximum iterations (200) reached and the optimization hasn't converged yet.\n",
      "  warnings.warn(\n"
     ]
    },
    {
     "name": "stdout",
     "output_type": "stream",
     "text": [
      "Evaluation: {'MLP': (array([[1792, 1215],\n",
      "       [1383, 1610]]), 0.567, 0.5671604766218382, 0.5669323088536815, 0.5666012249715544), 'G-NB': (array([[1364, 1643],\n",
      "       [1044, 1949]]), 0.5521666666666667, 0.5545199187563357, 0.5523971741623926, 0.5478685924738714), 'L-SVM': (array([[1773, 1234],\n",
      "       [1312, 1681]]), 0.5756666666666667, 0.5756943768747689, 0.5756340228963469, 0.575566877723696)}\n",
      "Generated model with 122 topics\n",
      "Perplexity:  -45.52950306627054\n"
     ]
    },
    {
     "name": "stderr",
     "output_type": "stream",
     "text": [
      "/home/sifr/uni/nlp/nlp_project/venv/lib64/python3.10/site-packages/sklearn/neural_network/_multilayer_perceptron.py:702: ConvergenceWarning: Stochastic Optimizer: Maximum iterations (200) reached and the optimization hasn't converged yet.\n",
      "  warnings.warn(\n"
     ]
    },
    {
     "name": "stdout",
     "output_type": "stream",
     "text": [
      "Evaluation: {'MLP': (array([[1715, 1292],\n",
      "       [1278, 1715]]), 0.5716666666666667, 0.5716697790910195, 0.5716697790910195, 0.5716666666666667), 'G-NB': (array([[1564, 1443],\n",
      "       [1162, 1831]]), 0.5658333333333333, 0.5664945718305276, 0.5659402478969052, 0.5649718688766763), 'L-SVM': (array([[1735, 1272],\n",
      "       [1318, 1675]]), 0.5683333333333334, 0.5683340500385065, 0.5683130941490682, 0.5682901623495682)}\n",
      "Generated model with 127 topics\n",
      "Perplexity:  -54.85649047413461\n"
     ]
    },
    {
     "name": "stderr",
     "output_type": "stream",
     "text": [
      "/home/sifr/uni/nlp/nlp_project/venv/lib64/python3.10/site-packages/sklearn/neural_network/_multilayer_perceptron.py:702: ConvergenceWarning: Stochastic Optimizer: Maximum iterations (200) reached and the optimization hasn't converged yet.\n",
      "  warnings.warn(\n"
     ]
    },
    {
     "name": "stdout",
     "output_type": "stream",
     "text": [
      "Evaluation: {'MLP': (array([[1670, 1337],\n",
      "       [1290, 1703]]), 0.5621666666666667, 0.5621932788051209, 0.5621825607717198, 0.5621534218076765), 'G-NB': (array([[1528, 1479],\n",
      "       [1153, 1840]]), 0.5613333333333334, 0.562160220690858, 0.5614577234920501, 0.5601439626082261), 'L-SVM': (array([[1764, 1243],\n",
      "       [1320, 1673]]), 0.5728333333333333, 0.5728577871718094, 0.5728010630280098, 0.5727350505264835)}\n",
      "Generated model with 132 topics\n",
      "Perplexity:  -64.25257871567177\n"
     ]
    },
    {
     "name": "stderr",
     "output_type": "stream",
     "text": [
      "/home/sifr/uni/nlp/nlp_project/venv/lib64/python3.10/site-packages/sklearn/neural_network/_multilayer_perceptron.py:702: ConvergenceWarning: Stochastic Optimizer: Maximum iterations (200) reached and the optimization hasn't converged yet.\n",
      "  warnings.warn(\n"
     ]
    },
    {
     "name": "stdout",
     "output_type": "stream",
     "text": [
      "Evaluation: {'MLP': (array([[1721, 1286],\n",
      "       [1235, 1758]]), 0.5798333333333333, 0.5798676248579695, 0.5798508791881201, 0.5798173547210725), 'G-NB': (array([[1428, 1579],\n",
      "       [1059, 1934]]), 0.5603333333333333, 0.5623561907057605, 0.5605331629027759, 0.5571839765729397), 'L-SVM': (array([[1746, 1261],\n",
      "       [1270, 1723]]), 0.5781666666666667, 0.5781626677381045, 0.5781608699869588, 0.5781604679690988)}\n",
      "Generated model with 137 topics\n",
      "Perplexity:  -73.7034874657484\n"
     ]
    },
    {
     "name": "stderr",
     "output_type": "stream",
     "text": [
      "/home/sifr/uni/nlp/nlp_project/venv/lib64/python3.10/site-packages/sklearn/neural_network/_multilayer_perceptron.py:702: ConvergenceWarning: Stochastic Optimizer: Maximum iterations (200) reached and the optimization hasn't converged yet.\n",
      "  warnings.warn(\n"
     ]
    },
    {
     "name": "stdout",
     "output_type": "stream",
     "text": [
      "Evaluation: {'MLP': (array([[1512, 1495],\n",
      "       [1076, 1917]]), 0.5715, 0.5730377465840175, 0.5716606123744451, 0.5695387107508587), 'G-NB': (array([[1296, 1711],\n",
      "       [1054, 1939]]), 0.5391666666666667, 0.5413611192072283, 0.5394196590625882, 0.5338126473678216), 'L-SVM': (array([[1671, 1336],\n",
      "       [1308, 1685]]), 0.5593333333333333, 0.5593444078759859, 0.559341823083259, 0.5593309341350858)}\n",
      "Generated model with 142 topics\n",
      "Perplexity:  -88.14301020246654\n"
     ]
    },
    {
     "name": "stderr",
     "output_type": "stream",
     "text": [
      "/home/sifr/uni/nlp/nlp_project/venv/lib64/python3.10/site-packages/sklearn/neural_network/_multilayer_perceptron.py:702: ConvergenceWarning: Stochastic Optimizer: Maximum iterations (200) reached and the optimization hasn't converged yet.\n",
      "  warnings.warn(\n"
     ]
    },
    {
     "name": "stdout",
     "output_type": "stream",
     "text": [
      "Evaluation: {'MLP': (array([[1399, 1608],\n",
      "       [1073, 1920]]), 0.5531666666666667, 0.5550780992008454, 0.553372290582471, 0.5497719345468146), 'G-NB': (array([[1648, 1359],\n",
      "       [1332, 1661]]), 0.5515, 0.551510067114094, 0.5515080582105392, 0.5514978945317828), 'L-SVM': (array([[1429, 1578],\n",
      "       [1096, 1897]]), 0.5543333333333333, 0.5559199373174728, 0.5545183523776963, 0.5516052999784019)}\n",
      "Generated model with 147 topics\n",
      "Perplexity:  -106.26649267926805\n"
     ]
    },
    {
     "name": "stderr",
     "output_type": "stream",
     "text": [
      "/home/sifr/uni/nlp/nlp_project/venv/lib64/python3.10/site-packages/sklearn/neural_network/_multilayer_perceptron.py:702: ConvergenceWarning: Stochastic Optimizer: Maximum iterations (200) reached and the optimization hasn't converged yet.\n",
      "  warnings.warn(\n"
     ]
    },
    {
     "name": "stdout",
     "output_type": "stream",
     "text": [
      "Evaluation: {'MLP': (array([[1919, 1088],\n",
      "       [1635, 1358]]), 0.5461666666666667, 0.5475735653767984, 0.5459514724024609, 0.5421641512176492), 'G-NB': (array([[1792, 1215],\n",
      "       [1518, 1475]]), 0.5445, 0.5448584328215726, 0.5443796860671797, 0.5432249759613716), 'L-SVM': (array([[1412, 1595],\n",
      "       [1101, 1892]]), 0.5506666666666666, 0.5522324919880344, 0.5508563324400322, 0.5477724100912507)}\n",
      "Generated model with 152 topics\n",
      "Perplexity:  -119.96160668403394\n"
     ]
    },
    {
     "name": "stderr",
     "output_type": "stream",
     "text": [
      "/home/sifr/uni/nlp/nlp_project/venv/lib64/python3.10/site-packages/sklearn/neural_network/_multilayer_perceptron.py:702: ConvergenceWarning: Stochastic Optimizer: Maximum iterations (200) reached and the optimization hasn't converged yet.\n",
      "  warnings.warn(\n"
     ]
    },
    {
     "name": "stdout",
     "output_type": "stream",
     "text": [
      "Evaluation: {'MLP': (array([[1769, 1238],\n",
      "       [1540, 1453]]), 0.537, 0.5372752868515414, 0.5368800341246303, 0.5357121687311337), 'G-NB': (array([[1890, 1117],\n",
      "       [1707, 1286]]), 0.5293333333333333, 0.5303011213742066, 0.5291013251072144, 0.5245148727168072), 'L-SVM': (array([[1411, 1596],\n",
      "       [1093, 1900]]), 0.5518333333333333, 0.5534883317127379, 0.552026505477641, 0.5488365931944794)}\n",
      "Generated model with 157 topics\n",
      "Perplexity:  -141.76490525236704\n"
     ]
    },
    {
     "name": "stderr",
     "output_type": "stream",
     "text": [
      "/home/sifr/uni/nlp/nlp_project/venv/lib64/python3.10/site-packages/sklearn/neural_network/_multilayer_perceptron.py:702: ConvergenceWarning: Stochastic Optimizer: Maximum iterations (200) reached and the optimization hasn't converged yet.\n",
      "  warnings.warn(\n"
     ]
    },
    {
     "name": "stdout",
     "output_type": "stream",
     "text": [
      "Evaluation: {'MLP': (array([[1440, 1567],\n",
      "       [1184, 1809]]), 0.5415, 0.5423108600161831, 0.5416464489639999, 0.539759254440106), 'G-NB': (array([[2119,  888],\n",
      "       [1969, 1024]]), 0.5238333333333334, 0.5269556166021174, 0.5234103496785705, 0.5074275936234545), 'L-SVM': (array([[1236, 1771],\n",
      "       [ 990, 2003]]), 0.5398333333333334, 0.54299634183097, 0.5401345518436711, 0.5321886592828006)}\n",
      "Generated model with 162 topics\n",
      "Perplexity:  -183.46507572319965\n",
      "Evaluation: {'MLP': (array([[2169,  838],\n",
      "       [1990, 1003]]), 0.5286666666666666, 0.5331660989517834, 0.5282160980654228, 0.510167941265418), 'G-NB': (array([[1586, 1421],\n",
      "       [1510, 1483]]), 0.5115, 0.511474416469131, 0.5114627290748583, 0.5113559993276907), 'L-SVM': (array([[1899, 1108],\n",
      "       [1743, 1250]]), 0.5248333333333334, 0.525763533444281, 0.5245838005118029, 0.5192080542122852)}\n",
      "Generated model with 167 topics\n",
      "Perplexity:  -190.03477326334362\n",
      "Evaluation: {'MLP': (array([[2213,  794],\n",
      "       [2016,  977]]), 0.5316666666666666, 0.5374786419333901, 0.5311888920284121, 0.5109117162577819), 'G-NB': (array([[1830, 1177],\n",
      "       [1717, 1276]]), 0.5176666666666667, 0.5180541631214909, 0.5174540394719926, 0.5135192016470194), 'L-SVM': (array([[2197,  810],\n",
      "       [1997,  996]]), 0.5321666666666667, 0.5376693013433207, 0.5317025059358657, 0.5126397525476234)}\n",
      "Generated model with 172 topics\n",
      "Perplexity:  -206.9863195214924\n",
      "Evaluation: {'MLP': (array([[ 756, 2251],\n",
      "       [ 558, 2435]]), 0.5318333333333334, 0.5474877074819193, 0.5324891768855186, 0.49205808066005574), 'G-NB': (array([[1523, 1484],\n",
      "       [1435, 1558]]), 0.5135, 0.5135189830540119, 0.5135164069226599, 0.5134834449227788), 'L-SVM': (array([[ 762, 2245],\n",
      "       [ 572, 2421]]), 0.5305, 0.5450371149615933, 0.5311480584727628, 0.4916342982807332)}\n",
      "Generated model with 177 topics\n",
      "Perplexity:  -226.2366703427459\n",
      "Evaluation: {'MLP': (array([[2245,  762],\n",
      "       [2106,  887]]), 0.522, 0.5269375490518968, 0.5214747280290748, 0.49619151467995104), 'G-NB': (array([[1781, 1226],\n",
      "       [1726, 1267]]), 0.508, 0.5080322422028901, 0.5078028758156572, 0.5043626274646011), 'L-SVM': (array([[1987, 1020],\n",
      "       [1868, 1125]]), 0.5186666666666667, 0.5199550125620165, 0.518334266486562, 0.5085225168049108)}\n",
      "Generated model with 182 topics\n",
      "Perplexity:  -292.00290274790945\n",
      "Evaluation: {'MLP': (array([[ 271, 2736],\n",
      "       [ 207, 2786]]), 0.5095, 0.535736475929678, 0.5104808348401008, 0.4049491529421874), 'G-NB': (array([[ 467, 2540],\n",
      "       [ 448, 2545]]), 0.502, 0.5054370778728823, 0.5028108486368426, 0.4341251330885417), 'L-SVM': (array([[ 271, 2736],\n",
      "       [ 207, 2786]]), 0.5095, 0.535736475929678, 0.5104808348401008, 0.4049491529421874)}\n",
      "Generated model with 187 topics\n",
      "Perplexity:  -266.33763833619656\n",
      "Evaluation: {'MLP': (array([[2595,  412],\n",
      "       [2506,  487]]), 0.5136666666666667, 0.5252183970557802, 0.5128496810704858, 0.44518273604388037), 'G-NB': (array([[2255,  752],\n",
      "       [2210,  783]]), 0.5063333333333333, 0.5075684567993551, 0.5057636424909424, 0.4747173901529196), 'L-SVM': (array([[2622,  385],\n",
      "       [2535,  458]]), 0.5133333333333333, 0.5258664414260547, 0.5124945680259815, 0.44056129838825453)}\n",
      "Generated model with 192 topics\n",
      "Perplexity:  -383.38616943359375\n"
     ]
    },
    {
     "name": "stderr",
     "output_type": "stream",
     "text": [
      "/home/sifr/uni/nlp/nlp_project/venv/lib64/python3.10/site-packages/sklearn/metrics/_classification.py:1327: UndefinedMetricWarning: Precision and F-score are ill-defined and being set to 0.0 in labels with no predicted samples. Use `zero_division` parameter to control this behavior.\n",
      "  _warn_prf(average, modifier, msg_start, len(result))\n",
      "/home/sifr/uni/nlp/nlp_project/venv/lib64/python3.10/site-packages/sklearn/metrics/_classification.py:1327: UndefinedMetricWarning: Precision and F-score are ill-defined and being set to 0.0 in labels with no predicted samples. Use `zero_division` parameter to control this behavior.\n",
      "  _warn_prf(average, modifier, msg_start, len(result))\n",
      "/home/sifr/uni/nlp/nlp_project/venv/lib64/python3.10/site-packages/sklearn/metrics/_classification.py:1327: UndefinedMetricWarning: Precision and F-score are ill-defined and being set to 0.0 in labels with no predicted samples. Use `zero_division` parameter to control this behavior.\n",
      "  _warn_prf(average, modifier, msg_start, len(result))\n"
     ]
    },
    {
     "name": "stdout",
     "output_type": "stream",
     "text": [
      "Evaluation: {'MLP': (array([[3007,    0],\n",
      "       [2993,    0]]), 0.5011666666666666, 0.2505833333333333, 0.5, 0.33385144887309864), 'G-NB': (array([[   0, 3007],\n",
      "       [   0, 2993]]), 0.49883333333333335, 0.24941666666666668, 0.5, 0.3328144112087179), 'L-SVM': (array([[   0, 3007],\n",
      "       [   0, 2993]]), 0.49883333333333335, 0.24941666666666668, 0.5, 0.3328144112087179)}\n",
      "Generated model with 197 topics\n",
      "Perplexity:  -393.3426208496094\n"
     ]
    },
    {
     "name": "stderr",
     "output_type": "stream",
     "text": [
      "/home/sifr/uni/nlp/nlp_project/venv/lib64/python3.10/site-packages/sklearn/metrics/_classification.py:1327: UndefinedMetricWarning: Precision and F-score are ill-defined and being set to 0.0 in labels with no predicted samples. Use `zero_division` parameter to control this behavior.\n",
      "  _warn_prf(average, modifier, msg_start, len(result))\n",
      "/home/sifr/uni/nlp/nlp_project/venv/lib64/python3.10/site-packages/sklearn/metrics/_classification.py:1327: UndefinedMetricWarning: Precision and F-score are ill-defined and being set to 0.0 in labels with no predicted samples. Use `zero_division` parameter to control this behavior.\n",
      "  _warn_prf(average, modifier, msg_start, len(result))\n",
      "/home/sifr/uni/nlp/nlp_project/venv/lib64/python3.10/site-packages/sklearn/metrics/_classification.py:1327: UndefinedMetricWarning: Precision and F-score are ill-defined and being set to 0.0 in labels with no predicted samples. Use `zero_division` parameter to control this behavior.\n",
      "  _warn_prf(average, modifier, msg_start, len(result))\n"
     ]
    },
    {
     "name": "stdout",
     "output_type": "stream",
     "text": [
      "Evaluation: {'MLP': (array([[   0, 3007],\n",
      "       [   0, 2993]]), 0.49883333333333335, 0.24941666666666668, 0.5, 0.3328144112087179), 'G-NB': (array([[   0, 3007],\n",
      "       [   0, 2993]]), 0.49883333333333335, 0.24941666666666668, 0.5, 0.3328144112087179), 'L-SVM': (array([[   0, 3007],\n",
      "       [   0, 2993]]), 0.49883333333333335, 0.24941666666666668, 0.5, 0.3328144112087179)}\n",
      "Generated model with 202 topics\n",
      "Perplexity:  -403.2926330566406\n"
     ]
    },
    {
     "name": "stderr",
     "output_type": "stream",
     "text": [
      "/home/sifr/uni/nlp/nlp_project/venv/lib64/python3.10/site-packages/sklearn/metrics/_classification.py:1327: UndefinedMetricWarning: Precision and F-score are ill-defined and being set to 0.0 in labels with no predicted samples. Use `zero_division` parameter to control this behavior.\n",
      "  _warn_prf(average, modifier, msg_start, len(result))\n",
      "/home/sifr/uni/nlp/nlp_project/venv/lib64/python3.10/site-packages/sklearn/metrics/_classification.py:1327: UndefinedMetricWarning: Precision and F-score are ill-defined and being set to 0.0 in labels with no predicted samples. Use `zero_division` parameter to control this behavior.\n",
      "  _warn_prf(average, modifier, msg_start, len(result))\n",
      "/home/sifr/uni/nlp/nlp_project/venv/lib64/python3.10/site-packages/sklearn/metrics/_classification.py:1327: UndefinedMetricWarning: Precision and F-score are ill-defined and being set to 0.0 in labels with no predicted samples. Use `zero_division` parameter to control this behavior.\n",
      "  _warn_prf(average, modifier, msg_start, len(result))\n"
     ]
    },
    {
     "name": "stdout",
     "output_type": "stream",
     "text": [
      "Evaluation: {'MLP': (array([[   0, 3007],\n",
      "       [   0, 2993]]), 0.49883333333333335, 0.24941666666666668, 0.5, 0.3328144112087179), 'G-NB': (array([[   0, 3007],\n",
      "       [   0, 2993]]), 0.49883333333333335, 0.24941666666666668, 0.5, 0.3328144112087179), 'L-SVM': (array([[   0, 3007],\n",
      "       [   0, 2993]]), 0.49883333333333335, 0.24941666666666668, 0.5, 0.3328144112087179)}\n",
      "Generated model with 207 topics\n",
      "Perplexity:  -413.2434997558594\n"
     ]
    },
    {
     "name": "stderr",
     "output_type": "stream",
     "text": [
      "/home/sifr/uni/nlp/nlp_project/venv/lib64/python3.10/site-packages/sklearn/metrics/_classification.py:1327: UndefinedMetricWarning: Precision and F-score are ill-defined and being set to 0.0 in labels with no predicted samples. Use `zero_division` parameter to control this behavior.\n",
      "  _warn_prf(average, modifier, msg_start, len(result))\n",
      "/home/sifr/uni/nlp/nlp_project/venv/lib64/python3.10/site-packages/sklearn/metrics/_classification.py:1327: UndefinedMetricWarning: Precision and F-score are ill-defined and being set to 0.0 in labels with no predicted samples. Use `zero_division` parameter to control this behavior.\n",
      "  _warn_prf(average, modifier, msg_start, len(result))\n",
      "/home/sifr/uni/nlp/nlp_project/venv/lib64/python3.10/site-packages/sklearn/metrics/_classification.py:1327: UndefinedMetricWarning: Precision and F-score are ill-defined and being set to 0.0 in labels with no predicted samples. Use `zero_division` parameter to control this behavior.\n",
      "  _warn_prf(average, modifier, msg_start, len(result))\n"
     ]
    },
    {
     "name": "stdout",
     "output_type": "stream",
     "text": [
      "Evaluation: {'MLP': (array([[3007,    0],\n",
      "       [2993,    0]]), 0.5011666666666666, 0.2505833333333333, 0.5, 0.33385144887309864), 'G-NB': (array([[   0, 3007],\n",
      "       [   0, 2993]]), 0.49883333333333335, 0.24941666666666668, 0.5, 0.3328144112087179), 'L-SVM': (array([[   0, 3007],\n",
      "       [   0, 2993]]), 0.49883333333333335, 0.24941666666666668, 0.5, 0.3328144112087179)}\n",
      "Generated model with 212 topics\n",
      "Perplexity:  -423.1960754394531\n"
     ]
    },
    {
     "name": "stderr",
     "output_type": "stream",
     "text": [
      "/home/sifr/uni/nlp/nlp_project/venv/lib64/python3.10/site-packages/sklearn/metrics/_classification.py:1327: UndefinedMetricWarning: Precision and F-score are ill-defined and being set to 0.0 in labels with no predicted samples. Use `zero_division` parameter to control this behavior.\n",
      "  _warn_prf(average, modifier, msg_start, len(result))\n",
      "/home/sifr/uni/nlp/nlp_project/venv/lib64/python3.10/site-packages/sklearn/metrics/_classification.py:1327: UndefinedMetricWarning: Precision and F-score are ill-defined and being set to 0.0 in labels with no predicted samples. Use `zero_division` parameter to control this behavior.\n",
      "  _warn_prf(average, modifier, msg_start, len(result))\n",
      "/home/sifr/uni/nlp/nlp_project/venv/lib64/python3.10/site-packages/sklearn/metrics/_classification.py:1327: UndefinedMetricWarning: Precision and F-score are ill-defined and being set to 0.0 in labels with no predicted samples. Use `zero_division` parameter to control this behavior.\n",
      "  _warn_prf(average, modifier, msg_start, len(result))\n"
     ]
    },
    {
     "name": "stdout",
     "output_type": "stream",
     "text": [
      "Evaluation: {'MLP': (array([[3007,    0],\n",
      "       [2993,    0]]), 0.5011666666666666, 0.2505833333333333, 0.5, 0.33385144887309864), 'G-NB': (array([[   0, 3007],\n",
      "       [   0, 2993]]), 0.49883333333333335, 0.24941666666666668, 0.5, 0.3328144112087179), 'L-SVM': (array([[   0, 3007],\n",
      "       [   0, 2993]]), 0.49883333333333335, 0.24941666666666668, 0.5, 0.3328144112087179)}\n",
      "Generated model with 217 topics\n",
      "Perplexity:  -433.1492614746094\n"
     ]
    },
    {
     "name": "stderr",
     "output_type": "stream",
     "text": [
      "/home/sifr/uni/nlp/nlp_project/venv/lib64/python3.10/site-packages/sklearn/metrics/_classification.py:1327: UndefinedMetricWarning: Precision and F-score are ill-defined and being set to 0.0 in labels with no predicted samples. Use `zero_division` parameter to control this behavior.\n",
      "  _warn_prf(average, modifier, msg_start, len(result))\n",
      "/home/sifr/uni/nlp/nlp_project/venv/lib64/python3.10/site-packages/sklearn/metrics/_classification.py:1327: UndefinedMetricWarning: Precision and F-score are ill-defined and being set to 0.0 in labels with no predicted samples. Use `zero_division` parameter to control this behavior.\n",
      "  _warn_prf(average, modifier, msg_start, len(result))\n",
      "/home/sifr/uni/nlp/nlp_project/venv/lib64/python3.10/site-packages/sklearn/metrics/_classification.py:1327: UndefinedMetricWarning: Precision and F-score are ill-defined and being set to 0.0 in labels with no predicted samples. Use `zero_division` parameter to control this behavior.\n",
      "  _warn_prf(average, modifier, msg_start, len(result))\n"
     ]
    },
    {
     "name": "stdout",
     "output_type": "stream",
     "text": [
      "Evaluation: {'MLP': (array([[   0, 3007],\n",
      "       [   0, 2993]]), 0.49883333333333335, 0.24941666666666668, 0.5, 0.3328144112087179), 'G-NB': (array([[   0, 3007],\n",
      "       [   0, 2993]]), 0.49883333333333335, 0.24941666666666668, 0.5, 0.3328144112087179), 'L-SVM': (array([[   0, 3007],\n",
      "       [   0, 2993]]), 0.49883333333333335, 0.24941666666666668, 0.5, 0.3328144112087179)}\n",
      "Generated model with 222 topics\n",
      "Perplexity:  -443.103759765625\n"
     ]
    },
    {
     "name": "stderr",
     "output_type": "stream",
     "text": [
      "/home/sifr/uni/nlp/nlp_project/venv/lib64/python3.10/site-packages/sklearn/metrics/_classification.py:1327: UndefinedMetricWarning: Precision and F-score are ill-defined and being set to 0.0 in labels with no predicted samples. Use `zero_division` parameter to control this behavior.\n",
      "  _warn_prf(average, modifier, msg_start, len(result))\n",
      "/home/sifr/uni/nlp/nlp_project/venv/lib64/python3.10/site-packages/sklearn/metrics/_classification.py:1327: UndefinedMetricWarning: Precision and F-score are ill-defined and being set to 0.0 in labels with no predicted samples. Use `zero_division` parameter to control this behavior.\n",
      "  _warn_prf(average, modifier, msg_start, len(result))\n",
      "/home/sifr/uni/nlp/nlp_project/venv/lib64/python3.10/site-packages/sklearn/metrics/_classification.py:1327: UndefinedMetricWarning: Precision and F-score are ill-defined and being set to 0.0 in labels with no predicted samples. Use `zero_division` parameter to control this behavior.\n",
      "  _warn_prf(average, modifier, msg_start, len(result))\n"
     ]
    },
    {
     "name": "stdout",
     "output_type": "stream",
     "text": [
      "Evaluation: {'MLP': (array([[3007,    0],\n",
      "       [2993,    0]]), 0.5011666666666666, 0.2505833333333333, 0.5, 0.33385144887309864), 'G-NB': (array([[3007,    0],\n",
      "       [2993,    0]]), 0.5011666666666666, 0.2505833333333333, 0.5, 0.33385144887309864), 'L-SVM': (array([[   0, 3007],\n",
      "       [   0, 2993]]), 0.49883333333333335, 0.24941666666666668, 0.5, 0.3328144112087179)}\n",
      "Generated model with 227 topics\n",
      "Perplexity:  -453.0592346191406\n"
     ]
    },
    {
     "name": "stderr",
     "output_type": "stream",
     "text": [
      "/home/sifr/uni/nlp/nlp_project/venv/lib64/python3.10/site-packages/sklearn/metrics/_classification.py:1327: UndefinedMetricWarning: Precision and F-score are ill-defined and being set to 0.0 in labels with no predicted samples. Use `zero_division` parameter to control this behavior.\n",
      "  _warn_prf(average, modifier, msg_start, len(result))\n",
      "/home/sifr/uni/nlp/nlp_project/venv/lib64/python3.10/site-packages/sklearn/metrics/_classification.py:1327: UndefinedMetricWarning: Precision and F-score are ill-defined and being set to 0.0 in labels with no predicted samples. Use `zero_division` parameter to control this behavior.\n",
      "  _warn_prf(average, modifier, msg_start, len(result))\n",
      "/home/sifr/uni/nlp/nlp_project/venv/lib64/python3.10/site-packages/sklearn/metrics/_classification.py:1327: UndefinedMetricWarning: Precision and F-score are ill-defined and being set to 0.0 in labels with no predicted samples. Use `zero_division` parameter to control this behavior.\n",
      "  _warn_prf(average, modifier, msg_start, len(result))\n"
     ]
    },
    {
     "name": "stdout",
     "output_type": "stream",
     "text": [
      "Evaluation: {'MLP': (array([[3007,    0],\n",
      "       [2993,    0]]), 0.5011666666666666, 0.2505833333333333, 0.5, 0.33385144887309864), 'G-NB': (array([[3007,    0],\n",
      "       [2993,    0]]), 0.5011666666666666, 0.2505833333333333, 0.5, 0.33385144887309864), 'L-SVM': (array([[   0, 3007],\n",
      "       [   0, 2993]]), 0.49883333333333335, 0.24941666666666668, 0.5, 0.3328144112087179)}\n",
      "Generated model with 232 topics\n",
      "Perplexity:  -463.0155334472656\n"
     ]
    },
    {
     "name": "stderr",
     "output_type": "stream",
     "text": [
      "/home/sifr/uni/nlp/nlp_project/venv/lib64/python3.10/site-packages/sklearn/metrics/_classification.py:1327: UndefinedMetricWarning: Precision and F-score are ill-defined and being set to 0.0 in labels with no predicted samples. Use `zero_division` parameter to control this behavior.\n",
      "  _warn_prf(average, modifier, msg_start, len(result))\n",
      "/home/sifr/uni/nlp/nlp_project/venv/lib64/python3.10/site-packages/sklearn/metrics/_classification.py:1327: UndefinedMetricWarning: Precision and F-score are ill-defined and being set to 0.0 in labels with no predicted samples. Use `zero_division` parameter to control this behavior.\n",
      "  _warn_prf(average, modifier, msg_start, len(result))\n",
      "/home/sifr/uni/nlp/nlp_project/venv/lib64/python3.10/site-packages/sklearn/metrics/_classification.py:1327: UndefinedMetricWarning: Precision and F-score are ill-defined and being set to 0.0 in labels with no predicted samples. Use `zero_division` parameter to control this behavior.\n",
      "  _warn_prf(average, modifier, msg_start, len(result))\n"
     ]
    },
    {
     "name": "stdout",
     "output_type": "stream",
     "text": [
      "Evaluation: {'MLP': (array([[3007,    0],\n",
      "       [2993,    0]]), 0.5011666666666666, 0.2505833333333333, 0.5, 0.33385144887309864), 'G-NB': (array([[   0, 3007],\n",
      "       [   0, 2993]]), 0.49883333333333335, 0.24941666666666668, 0.5, 0.3328144112087179), 'L-SVM': (array([[   0, 3007],\n",
      "       [   0, 2993]]), 0.49883333333333335, 0.24941666666666668, 0.5, 0.3328144112087179)}\n",
      "Generated model with 237 topics\n",
      "Perplexity:  -472.9727478027344\n"
     ]
    },
    {
     "name": "stderr",
     "output_type": "stream",
     "text": [
      "/home/sifr/uni/nlp/nlp_project/venv/lib64/python3.10/site-packages/sklearn/metrics/_classification.py:1327: UndefinedMetricWarning: Precision and F-score are ill-defined and being set to 0.0 in labels with no predicted samples. Use `zero_division` parameter to control this behavior.\n",
      "  _warn_prf(average, modifier, msg_start, len(result))\n",
      "/home/sifr/uni/nlp/nlp_project/venv/lib64/python3.10/site-packages/sklearn/metrics/_classification.py:1327: UndefinedMetricWarning: Precision and F-score are ill-defined and being set to 0.0 in labels with no predicted samples. Use `zero_division` parameter to control this behavior.\n",
      "  _warn_prf(average, modifier, msg_start, len(result))\n",
      "/home/sifr/uni/nlp/nlp_project/venv/lib64/python3.10/site-packages/sklearn/metrics/_classification.py:1327: UndefinedMetricWarning: Precision and F-score are ill-defined and being set to 0.0 in labels with no predicted samples. Use `zero_division` parameter to control this behavior.\n",
      "  _warn_prf(average, modifier, msg_start, len(result))\n"
     ]
    },
    {
     "name": "stdout",
     "output_type": "stream",
     "text": [
      "Evaluation: {'MLP': (array([[3007,    0],\n",
      "       [2993,    0]]), 0.5011666666666666, 0.2505833333333333, 0.5, 0.33385144887309864), 'G-NB': (array([[3007,    0],\n",
      "       [2993,    0]]), 0.5011666666666666, 0.2505833333333333, 0.5, 0.33385144887309864), 'L-SVM': (array([[   0, 3007],\n",
      "       [   0, 2993]]), 0.49883333333333335, 0.24941666666666668, 0.5, 0.3328144112087179)}\n",
      "Generated model with 242 topics\n",
      "Perplexity:  -482.93072509765625\n"
     ]
    },
    {
     "name": "stderr",
     "output_type": "stream",
     "text": [
      "/home/sifr/uni/nlp/nlp_project/venv/lib64/python3.10/site-packages/sklearn/metrics/_classification.py:1327: UndefinedMetricWarning: Precision and F-score are ill-defined and being set to 0.0 in labels with no predicted samples. Use `zero_division` parameter to control this behavior.\n",
      "  _warn_prf(average, modifier, msg_start, len(result))\n",
      "/home/sifr/uni/nlp/nlp_project/venv/lib64/python3.10/site-packages/sklearn/metrics/_classification.py:1327: UndefinedMetricWarning: Precision and F-score are ill-defined and being set to 0.0 in labels with no predicted samples. Use `zero_division` parameter to control this behavior.\n",
      "  _warn_prf(average, modifier, msg_start, len(result))\n",
      "/home/sifr/uni/nlp/nlp_project/venv/lib64/python3.10/site-packages/sklearn/metrics/_classification.py:1327: UndefinedMetricWarning: Precision and F-score are ill-defined and being set to 0.0 in labels with no predicted samples. Use `zero_division` parameter to control this behavior.\n",
      "  _warn_prf(average, modifier, msg_start, len(result))\n"
     ]
    },
    {
     "name": "stdout",
     "output_type": "stream",
     "text": [
      "Evaluation: {'MLP': (array([[   0, 3007],\n",
      "       [   0, 2993]]), 0.49883333333333335, 0.24941666666666668, 0.5, 0.3328144112087179), 'G-NB': (array([[3007,    0],\n",
      "       [2993,    0]]), 0.5011666666666666, 0.2505833333333333, 0.5, 0.33385144887309864), 'L-SVM': (array([[   0, 3007],\n",
      "       [   0, 2993]]), 0.49883333333333335, 0.24941666666666668, 0.5, 0.3328144112087179)}\n",
      "Generated model with 247 topics\n",
      "Perplexity:  -492.889892578125\n"
     ]
    },
    {
     "name": "stderr",
     "output_type": "stream",
     "text": [
      "/home/sifr/uni/nlp/nlp_project/venv/lib64/python3.10/site-packages/sklearn/metrics/_classification.py:1327: UndefinedMetricWarning: Precision and F-score are ill-defined and being set to 0.0 in labels with no predicted samples. Use `zero_division` parameter to control this behavior.\n",
      "  _warn_prf(average, modifier, msg_start, len(result))\n",
      "/home/sifr/uni/nlp/nlp_project/venv/lib64/python3.10/site-packages/sklearn/metrics/_classification.py:1327: UndefinedMetricWarning: Precision and F-score are ill-defined and being set to 0.0 in labels with no predicted samples. Use `zero_division` parameter to control this behavior.\n",
      "  _warn_prf(average, modifier, msg_start, len(result))\n",
      "/home/sifr/uni/nlp/nlp_project/venv/lib64/python3.10/site-packages/sklearn/metrics/_classification.py:1327: UndefinedMetricWarning: Precision and F-score are ill-defined and being set to 0.0 in labels with no predicted samples. Use `zero_division` parameter to control this behavior.\n",
      "  _warn_prf(average, modifier, msg_start, len(result))\n"
     ]
    },
    {
     "name": "stdout",
     "output_type": "stream",
     "text": [
      "Evaluation: {'MLP': (array([[   0, 3007],\n",
      "       [   0, 2993]]), 0.49883333333333335, 0.24941666666666668, 0.5, 0.3328144112087179), 'G-NB': (array([[3007,    0],\n",
      "       [2993,    0]]), 0.5011666666666666, 0.2505833333333333, 0.5, 0.33385144887309864), 'L-SVM': (array([[   0, 3007],\n",
      "       [   0, 2993]]), 0.49883333333333335, 0.24941666666666668, 0.5, 0.3328144112087179)}\n",
      "Generated model with 252 topics\n",
      "Perplexity:  -502.8497314453125\n"
     ]
    },
    {
     "name": "stderr",
     "output_type": "stream",
     "text": [
      "/home/sifr/uni/nlp/nlp_project/venv/lib64/python3.10/site-packages/sklearn/metrics/_classification.py:1327: UndefinedMetricWarning: Precision and F-score are ill-defined and being set to 0.0 in labels with no predicted samples. Use `zero_division` parameter to control this behavior.\n",
      "  _warn_prf(average, modifier, msg_start, len(result))\n",
      "/home/sifr/uni/nlp/nlp_project/venv/lib64/python3.10/site-packages/sklearn/metrics/_classification.py:1327: UndefinedMetricWarning: Precision and F-score are ill-defined and being set to 0.0 in labels with no predicted samples. Use `zero_division` parameter to control this behavior.\n",
      "  _warn_prf(average, modifier, msg_start, len(result))\n",
      "/home/sifr/uni/nlp/nlp_project/venv/lib64/python3.10/site-packages/sklearn/metrics/_classification.py:1327: UndefinedMetricWarning: Precision and F-score are ill-defined and being set to 0.0 in labels with no predicted samples. Use `zero_division` parameter to control this behavior.\n",
      "  _warn_prf(average, modifier, msg_start, len(result))\n"
     ]
    },
    {
     "name": "stdout",
     "output_type": "stream",
     "text": [
      "Evaluation: {'MLP': (array([[   0, 3007],\n",
      "       [   0, 2993]]), 0.49883333333333335, 0.24941666666666668, 0.5, 0.3328144112087179), 'G-NB': (array([[3007,    0],\n",
      "       [2993,    0]]), 0.5011666666666666, 0.2505833333333333, 0.5, 0.33385144887309864), 'L-SVM': (array([[   0, 3007],\n",
      "       [   0, 2993]]), 0.49883333333333335, 0.24941666666666668, 0.5, 0.3328144112087179)}\n",
      "Generated model with 257 topics\n",
      "Perplexity:  -512.810546875\n"
     ]
    },
    {
     "name": "stderr",
     "output_type": "stream",
     "text": [
      "/home/sifr/uni/nlp/nlp_project/venv/lib64/python3.10/site-packages/sklearn/metrics/_classification.py:1327: UndefinedMetricWarning: Precision and F-score are ill-defined and being set to 0.0 in labels with no predicted samples. Use `zero_division` parameter to control this behavior.\n",
      "  _warn_prf(average, modifier, msg_start, len(result))\n",
      "/home/sifr/uni/nlp/nlp_project/venv/lib64/python3.10/site-packages/sklearn/metrics/_classification.py:1327: UndefinedMetricWarning: Precision and F-score are ill-defined and being set to 0.0 in labels with no predicted samples. Use `zero_division` parameter to control this behavior.\n",
      "  _warn_prf(average, modifier, msg_start, len(result))\n",
      "/home/sifr/uni/nlp/nlp_project/venv/lib64/python3.10/site-packages/sklearn/metrics/_classification.py:1327: UndefinedMetricWarning: Precision and F-score are ill-defined and being set to 0.0 in labels with no predicted samples. Use `zero_division` parameter to control this behavior.\n",
      "  _warn_prf(average, modifier, msg_start, len(result))\n"
     ]
    },
    {
     "name": "stdout",
     "output_type": "stream",
     "text": [
      "Evaluation: {'MLP': (array([[3007,    0],\n",
      "       [2993,    0]]), 0.5011666666666666, 0.2505833333333333, 0.5, 0.33385144887309864), 'G-NB': (array([[   0, 3007],\n",
      "       [   0, 2993]]), 0.49883333333333335, 0.24941666666666668, 0.5, 0.3328144112087179), 'L-SVM': (array([[   0, 3007],\n",
      "       [   0, 2993]]), 0.49883333333333335, 0.24941666666666668, 0.5, 0.3328144112087179)}\n",
      "Generated model with 262 topics\n",
      "Perplexity:  -522.7719116210938\n"
     ]
    },
    {
     "name": "stderr",
     "output_type": "stream",
     "text": [
      "/home/sifr/uni/nlp/nlp_project/venv/lib64/python3.10/site-packages/sklearn/metrics/_classification.py:1327: UndefinedMetricWarning: Precision and F-score are ill-defined and being set to 0.0 in labels with no predicted samples. Use `zero_division` parameter to control this behavior.\n",
      "  _warn_prf(average, modifier, msg_start, len(result))\n",
      "/home/sifr/uni/nlp/nlp_project/venv/lib64/python3.10/site-packages/sklearn/metrics/_classification.py:1327: UndefinedMetricWarning: Precision and F-score are ill-defined and being set to 0.0 in labels with no predicted samples. Use `zero_division` parameter to control this behavior.\n",
      "  _warn_prf(average, modifier, msg_start, len(result))\n",
      "/home/sifr/uni/nlp/nlp_project/venv/lib64/python3.10/site-packages/sklearn/metrics/_classification.py:1327: UndefinedMetricWarning: Precision and F-score are ill-defined and being set to 0.0 in labels with no predicted samples. Use `zero_division` parameter to control this behavior.\n",
      "  _warn_prf(average, modifier, msg_start, len(result))\n"
     ]
    },
    {
     "name": "stdout",
     "output_type": "stream",
     "text": [
      "Evaluation: {'MLP': (array([[3007,    0],\n",
      "       [2993,    0]]), 0.5011666666666666, 0.2505833333333333, 0.5, 0.33385144887309864), 'G-NB': (array([[   0, 3007],\n",
      "       [   0, 2993]]), 0.49883333333333335, 0.24941666666666668, 0.5, 0.3328144112087179), 'L-SVM': (array([[   0, 3007],\n",
      "       [   0, 2993]]), 0.49883333333333335, 0.24941666666666668, 0.5, 0.3328144112087179)}\n",
      "Generated model with 267 topics\n",
      "Perplexity:  -532.7340087890625\n"
     ]
    },
    {
     "name": "stderr",
     "output_type": "stream",
     "text": [
      "/home/sifr/uni/nlp/nlp_project/venv/lib64/python3.10/site-packages/sklearn/metrics/_classification.py:1327: UndefinedMetricWarning: Precision and F-score are ill-defined and being set to 0.0 in labels with no predicted samples. Use `zero_division` parameter to control this behavior.\n",
      "  _warn_prf(average, modifier, msg_start, len(result))\n",
      "/home/sifr/uni/nlp/nlp_project/venv/lib64/python3.10/site-packages/sklearn/metrics/_classification.py:1327: UndefinedMetricWarning: Precision and F-score are ill-defined and being set to 0.0 in labels with no predicted samples. Use `zero_division` parameter to control this behavior.\n",
      "  _warn_prf(average, modifier, msg_start, len(result))\n",
      "/home/sifr/uni/nlp/nlp_project/venv/lib64/python3.10/site-packages/sklearn/metrics/_classification.py:1327: UndefinedMetricWarning: Precision and F-score are ill-defined and being set to 0.0 in labels with no predicted samples. Use `zero_division` parameter to control this behavior.\n",
      "  _warn_prf(average, modifier, msg_start, len(result))\n"
     ]
    },
    {
     "name": "stdout",
     "output_type": "stream",
     "text": [
      "Evaluation: {'MLP': (array([[   0, 3007],\n",
      "       [   0, 2993]]), 0.49883333333333335, 0.24941666666666668, 0.5, 0.3328144112087179), 'G-NB': (array([[3007,    0],\n",
      "       [2993,    0]]), 0.5011666666666666, 0.2505833333333333, 0.5, 0.33385144887309864), 'L-SVM': (array([[   0, 3007],\n",
      "       [   0, 2993]]), 0.49883333333333335, 0.24941666666666668, 0.5, 0.3328144112087179)}\n",
      "Generated model with 272 topics\n",
      "Perplexity:  -542.6968383789062\n"
     ]
    },
    {
     "name": "stderr",
     "output_type": "stream",
     "text": [
      "/home/sifr/uni/nlp/nlp_project/venv/lib64/python3.10/site-packages/sklearn/metrics/_classification.py:1327: UndefinedMetricWarning: Precision and F-score are ill-defined and being set to 0.0 in labels with no predicted samples. Use `zero_division` parameter to control this behavior.\n",
      "  _warn_prf(average, modifier, msg_start, len(result))\n",
      "/home/sifr/uni/nlp/nlp_project/venv/lib64/python3.10/site-packages/sklearn/metrics/_classification.py:1327: UndefinedMetricWarning: Precision and F-score are ill-defined and being set to 0.0 in labels with no predicted samples. Use `zero_division` parameter to control this behavior.\n",
      "  _warn_prf(average, modifier, msg_start, len(result))\n",
      "/home/sifr/uni/nlp/nlp_project/venv/lib64/python3.10/site-packages/sklearn/metrics/_classification.py:1327: UndefinedMetricWarning: Precision and F-score are ill-defined and being set to 0.0 in labels with no predicted samples. Use `zero_division` parameter to control this behavior.\n",
      "  _warn_prf(average, modifier, msg_start, len(result))\n"
     ]
    },
    {
     "name": "stdout",
     "output_type": "stream",
     "text": [
      "Evaluation: {'MLP': (array([[3007,    0],\n",
      "       [2993,    0]]), 0.5011666666666666, 0.2505833333333333, 0.5, 0.33385144887309864), 'G-NB': (array([[3007,    0],\n",
      "       [2993,    0]]), 0.5011666666666666, 0.2505833333333333, 0.5, 0.33385144887309864), 'L-SVM': (array([[   0, 3007],\n",
      "       [   0, 2993]]), 0.49883333333333335, 0.24941666666666668, 0.5, 0.3328144112087179)}\n",
      "Generated model with 277 topics\n",
      "Perplexity:  -552.6600952148438\n"
     ]
    },
    {
     "name": "stderr",
     "output_type": "stream",
     "text": [
      "/home/sifr/uni/nlp/nlp_project/venv/lib64/python3.10/site-packages/sklearn/metrics/_classification.py:1327: UndefinedMetricWarning: Precision and F-score are ill-defined and being set to 0.0 in labels with no predicted samples. Use `zero_division` parameter to control this behavior.\n",
      "  _warn_prf(average, modifier, msg_start, len(result))\n",
      "/home/sifr/uni/nlp/nlp_project/venv/lib64/python3.10/site-packages/sklearn/metrics/_classification.py:1327: UndefinedMetricWarning: Precision and F-score are ill-defined and being set to 0.0 in labels with no predicted samples. Use `zero_division` parameter to control this behavior.\n",
      "  _warn_prf(average, modifier, msg_start, len(result))\n",
      "/home/sifr/uni/nlp/nlp_project/venv/lib64/python3.10/site-packages/sklearn/metrics/_classification.py:1327: UndefinedMetricWarning: Precision and F-score are ill-defined and being set to 0.0 in labels with no predicted samples. Use `zero_division` parameter to control this behavior.\n",
      "  _warn_prf(average, modifier, msg_start, len(result))\n"
     ]
    },
    {
     "name": "stdout",
     "output_type": "stream",
     "text": [
      "Evaluation: {'MLP': (array([[3007,    0],\n",
      "       [2993,    0]]), 0.5011666666666666, 0.2505833333333333, 0.5, 0.33385144887309864), 'G-NB': (array([[3007,    0],\n",
      "       [2993,    0]]), 0.5011666666666666, 0.2505833333333333, 0.5, 0.33385144887309864), 'L-SVM': (array([[   0, 3007],\n",
      "       [   0, 2993]]), 0.49883333333333335, 0.24941666666666668, 0.5, 0.3328144112087179)}\n",
      "Generated model with 282 topics\n",
      "Perplexity:  -562.624267578125\n"
     ]
    },
    {
     "name": "stderr",
     "output_type": "stream",
     "text": [
      "/home/sifr/uni/nlp/nlp_project/venv/lib64/python3.10/site-packages/sklearn/metrics/_classification.py:1327: UndefinedMetricWarning: Precision and F-score are ill-defined and being set to 0.0 in labels with no predicted samples. Use `zero_division` parameter to control this behavior.\n",
      "  _warn_prf(average, modifier, msg_start, len(result))\n",
      "/home/sifr/uni/nlp/nlp_project/venv/lib64/python3.10/site-packages/sklearn/metrics/_classification.py:1327: UndefinedMetricWarning: Precision and F-score are ill-defined and being set to 0.0 in labels with no predicted samples. Use `zero_division` parameter to control this behavior.\n",
      "  _warn_prf(average, modifier, msg_start, len(result))\n",
      "/home/sifr/uni/nlp/nlp_project/venv/lib64/python3.10/site-packages/sklearn/metrics/_classification.py:1327: UndefinedMetricWarning: Precision and F-score are ill-defined and being set to 0.0 in labels with no predicted samples. Use `zero_division` parameter to control this behavior.\n",
      "  _warn_prf(average, modifier, msg_start, len(result))\n"
     ]
    },
    {
     "name": "stdout",
     "output_type": "stream",
     "text": [
      "Evaluation: {'MLP': (array([[3007,    0],\n",
      "       [2993,    0]]), 0.5011666666666666, 0.2505833333333333, 0.5, 0.33385144887309864), 'G-NB': (array([[3007,    0],\n",
      "       [2993,    0]]), 0.5011666666666666, 0.2505833333333333, 0.5, 0.33385144887309864), 'L-SVM': (array([[   0, 3007],\n",
      "       [   0, 2993]]), 0.49883333333333335, 0.24941666666666668, 0.5, 0.3328144112087179)}\n",
      "Generated model with 287 topics\n",
      "Perplexity:  -572.5889282226562\n"
     ]
    },
    {
     "name": "stderr",
     "output_type": "stream",
     "text": [
      "/home/sifr/uni/nlp/nlp_project/venv/lib64/python3.10/site-packages/sklearn/metrics/_classification.py:1327: UndefinedMetricWarning: Precision and F-score are ill-defined and being set to 0.0 in labels with no predicted samples. Use `zero_division` parameter to control this behavior.\n",
      "  _warn_prf(average, modifier, msg_start, len(result))\n",
      "/home/sifr/uni/nlp/nlp_project/venv/lib64/python3.10/site-packages/sklearn/metrics/_classification.py:1327: UndefinedMetricWarning: Precision and F-score are ill-defined and being set to 0.0 in labels with no predicted samples. Use `zero_division` parameter to control this behavior.\n",
      "  _warn_prf(average, modifier, msg_start, len(result))\n",
      "/home/sifr/uni/nlp/nlp_project/venv/lib64/python3.10/site-packages/sklearn/metrics/_classification.py:1327: UndefinedMetricWarning: Precision and F-score are ill-defined and being set to 0.0 in labels with no predicted samples. Use `zero_division` parameter to control this behavior.\n",
      "  _warn_prf(average, modifier, msg_start, len(result))\n"
     ]
    },
    {
     "name": "stdout",
     "output_type": "stream",
     "text": [
      "Evaluation: {'MLP': (array([[   0, 3007],\n",
      "       [   0, 2993]]), 0.49883333333333335, 0.24941666666666668, 0.5, 0.3328144112087179), 'G-NB': (array([[3007,    0],\n",
      "       [2993,    0]]), 0.5011666666666666, 0.2505833333333333, 0.5, 0.33385144887309864), 'L-SVM': (array([[   0, 3007],\n",
      "       [   0, 2993]]), 0.49883333333333335, 0.24941666666666668, 0.5, 0.3328144112087179)}\n",
      "Generated model with 292 topics\n",
      "Perplexity:  -582.554443359375\n"
     ]
    },
    {
     "name": "stderr",
     "output_type": "stream",
     "text": [
      "/home/sifr/uni/nlp/nlp_project/venv/lib64/python3.10/site-packages/sklearn/metrics/_classification.py:1327: UndefinedMetricWarning: Precision and F-score are ill-defined and being set to 0.0 in labels with no predicted samples. Use `zero_division` parameter to control this behavior.\n",
      "  _warn_prf(average, modifier, msg_start, len(result))\n",
      "/home/sifr/uni/nlp/nlp_project/venv/lib64/python3.10/site-packages/sklearn/metrics/_classification.py:1327: UndefinedMetricWarning: Precision and F-score are ill-defined and being set to 0.0 in labels with no predicted samples. Use `zero_division` parameter to control this behavior.\n",
      "  _warn_prf(average, modifier, msg_start, len(result))\n",
      "/home/sifr/uni/nlp/nlp_project/venv/lib64/python3.10/site-packages/sklearn/metrics/_classification.py:1327: UndefinedMetricWarning: Precision and F-score are ill-defined and being set to 0.0 in labels with no predicted samples. Use `zero_division` parameter to control this behavior.\n",
      "  _warn_prf(average, modifier, msg_start, len(result))\n"
     ]
    },
    {
     "name": "stdout",
     "output_type": "stream",
     "text": [
      "Evaluation: {'MLP': (array([[   0, 3007],\n",
      "       [   0, 2993]]), 0.49883333333333335, 0.24941666666666668, 0.5, 0.3328144112087179), 'G-NB': (array([[3007,    0],\n",
      "       [2993,    0]]), 0.5011666666666666, 0.2505833333333333, 0.5, 0.33385144887309864), 'L-SVM': (array([[   0, 3007],\n",
      "       [   0, 2993]]), 0.49883333333333335, 0.24941666666666668, 0.5, 0.3328144112087179)}\n",
      "Generated model with 297 topics\n",
      "Perplexity:  -592.5201416015625\n"
     ]
    },
    {
     "name": "stderr",
     "output_type": "stream",
     "text": [
      "/home/sifr/uni/nlp/nlp_project/venv/lib64/python3.10/site-packages/sklearn/metrics/_classification.py:1327: UndefinedMetricWarning: Precision and F-score are ill-defined and being set to 0.0 in labels with no predicted samples. Use `zero_division` parameter to control this behavior.\n",
      "  _warn_prf(average, modifier, msg_start, len(result))\n",
      "/home/sifr/uni/nlp/nlp_project/venv/lib64/python3.10/site-packages/sklearn/metrics/_classification.py:1327: UndefinedMetricWarning: Precision and F-score are ill-defined and being set to 0.0 in labels with no predicted samples. Use `zero_division` parameter to control this behavior.\n",
      "  _warn_prf(average, modifier, msg_start, len(result))\n"
     ]
    },
    {
     "name": "stdout",
     "output_type": "stream",
     "text": [
      "Evaluation: {'MLP': (array([[   0, 3007],\n",
      "       [   0, 2993]]), 0.49883333333333335, 0.24941666666666668, 0.5, 0.3328144112087179), 'G-NB': (array([[3007,    0],\n",
      "       [2993,    0]]), 0.5011666666666666, 0.2505833333333333, 0.5, 0.33385144887309864), 'L-SVM': (array([[   0, 3007],\n",
      "       [   0, 2993]]), 0.49883333333333335, 0.24941666666666668, 0.5, 0.3328144112087179)}\n"
     ]
    },
    {
     "name": "stderr",
     "output_type": "stream",
     "text": [
      "/home/sifr/uni/nlp/nlp_project/venv/lib64/python3.10/site-packages/sklearn/metrics/_classification.py:1327: UndefinedMetricWarning: Precision and F-score are ill-defined and being set to 0.0 in labels with no predicted samples. Use `zero_division` parameter to control this behavior.\n",
      "  _warn_prf(average, modifier, msg_start, len(result))\n"
     ]
    }
   ],
   "source": [
    "limit=300\n",
    "start=2\n",
    "step=5\n",
    "\n",
    "model_list, perplexitiy_values, evaluations = compute_coherence_values(dictionary=id2word, corpus=corpus, texts=texts, start=start, limit=limit, step=step)"
   ],
   "metadata": {
    "collapsed": false,
    "pycharm": {
     "name": "#%%\n"
    }
   }
  },
  {
   "cell_type": "code",
   "execution_count": 24,
   "outputs": [
    {
     "data": {
      "text/plain": "<Figure size 432x288 with 1 Axes>",
      "image/png": "[encoded data removed]"
     },
     "metadata": {
      "needs_background": "light"
     },
     "output_type": "display_data"
    }
   ],
   "source": [
    "# Create Perplexity Plot for topic numbers\n",
    "\n",
    "import matplotlib.pyplot as plt\n",
    "x = range(start, limit, step)\n",
    "plt.plot(x, perplexitiy_values)\n",
    "plt.xlabel(\"Num Topics\")\n",
    "plt.ylabel(\"Perplexity\")\n",
    "plt.legend(\"perplexitiy_values\", loc='best')\n",
    "plt.savefig(\"img/topic_count.pdf\")\n",
    "plt.show()"
   ],
   "metadata": {
    "collapsed": false,
    "pycharm": {
     "name": "#%%\n"
    }
   }
  },
  {
   "cell_type": "code",
   "execution_count": 29,
   "outputs": [
    {
     "name": "stdout",
     "output_type": "stream",
     "text": [
      "{'MLP': [0.5343333333333333], 'G-NB': [0.5268333333333334], 'L-SVM': [0.5118333333333334]}\n",
      "{'MLP': [0.5343333333333333, 0.5601666666666667], 'G-NB': [0.5268333333333334, 0.5513333333333333], 'L-SVM': [0.5118333333333334, 0.5321666666666667]}\n",
      "{'MLP': [0.5343333333333333, 0.5601666666666667, 0.5406666666666666], 'G-NB': [0.5268333333333334, 0.5513333333333333, 0.5448333333333333], 'L-SVM': [0.5118333333333334, 0.5321666666666667, 0.525]}\n",
      "{'MLP': [0.5343333333333333, 0.5601666666666667, 0.5406666666666666, 0.5518333333333333], 'G-NB': [0.5268333333333334, 0.5513333333333333, 0.5448333333333333, 0.5551666666666667], 'L-SVM': [0.5118333333333334, 0.5321666666666667, 0.525, 0.5401666666666667]}\n",
      "{'MLP': [0.5343333333333333, 0.5601666666666667, 0.5406666666666666, 0.5518333333333333, 0.5521666666666667], 'G-NB': [0.5268333333333334, 0.5513333333333333, 0.5448333333333333, 0.5551666666666667, 0.5431666666666667], 'L-SVM': [0.5118333333333334, 0.5321666666666667, 0.525, 0.5401666666666667, 0.538]}\n",
      "{'MLP': [0.5343333333333333, 0.5601666666666667, 0.5406666666666666, 0.5518333333333333, 0.5521666666666667, 0.543], 'G-NB': [0.5268333333333334, 0.5513333333333333, 0.5448333333333333, 0.5551666666666667, 0.5431666666666667, 0.5573333333333333], 'L-SVM': [0.5118333333333334, 0.5321666666666667, 0.525, 0.5401666666666667, 0.538, 0.5511666666666667]}\n",
      "{'MLP': [0.5343333333333333, 0.5601666666666667, 0.5406666666666666, 0.5518333333333333, 0.5521666666666667, 0.543, 0.5436666666666666], 'G-NB': [0.5268333333333334, 0.5513333333333333, 0.5448333333333333, 0.5551666666666667, 0.5431666666666667, 0.5573333333333333, 0.5468333333333333], 'L-SVM': [0.5118333333333334, 0.5321666666666667, 0.525, 0.5401666666666667, 0.538, 0.5511666666666667, 0.5411666666666667]}\n",
      "{'MLP': [0.5343333333333333, 0.5601666666666667, 0.5406666666666666, 0.5518333333333333, 0.5521666666666667, 0.543, 0.5436666666666666, 0.5548333333333333], 'G-NB': [0.5268333333333334, 0.5513333333333333, 0.5448333333333333, 0.5551666666666667, 0.5431666666666667, 0.5573333333333333, 0.5468333333333333, 0.5545], 'L-SVM': [0.5118333333333334, 0.5321666666666667, 0.525, 0.5401666666666667, 0.538, 0.5511666666666667, 0.5411666666666667, 0.553]}\n",
      "{'MLP': [0.5343333333333333, 0.5601666666666667, 0.5406666666666666, 0.5518333333333333, 0.5521666666666667, 0.543, 0.5436666666666666, 0.5548333333333333, 0.5591666666666667], 'G-NB': [0.5268333333333334, 0.5513333333333333, 0.5448333333333333, 0.5551666666666667, 0.5431666666666667, 0.5573333333333333, 0.5468333333333333, 0.5545, 0.55], 'L-SVM': [0.5118333333333334, 0.5321666666666667, 0.525, 0.5401666666666667, 0.538, 0.5511666666666667, 0.5411666666666667, 0.553, 0.5408333333333334]}\n",
      "{'MLP': [0.5343333333333333, 0.5601666666666667, 0.5406666666666666, 0.5518333333333333, 0.5521666666666667, 0.543, 0.5436666666666666, 0.5548333333333333, 0.5591666666666667, 0.5543333333333333], 'G-NB': [0.5268333333333334, 0.5513333333333333, 0.5448333333333333, 0.5551666666666667, 0.5431666666666667, 0.5573333333333333, 0.5468333333333333, 0.5545, 0.55, 0.5548333333333333], 'L-SVM': [0.5118333333333334, 0.5321666666666667, 0.525, 0.5401666666666667, 0.538, 0.5511666666666667, 0.5411666666666667, 0.553, 0.5408333333333334, 0.5568333333333333]}\n",
      "{'MLP': [0.5343333333333333, 0.5601666666666667, 0.5406666666666666, 0.5518333333333333, 0.5521666666666667, 0.543, 0.5436666666666666, 0.5548333333333333, 0.5591666666666667, 0.5543333333333333, 0.5408333333333334], 'G-NB': [0.5268333333333334, 0.5513333333333333, 0.5448333333333333, 0.5551666666666667, 0.5431666666666667, 0.5573333333333333, 0.5468333333333333, 0.5545, 0.55, 0.5548333333333333, 0.548], 'L-SVM': [0.5118333333333334, 0.5321666666666667, 0.525, 0.5401666666666667, 0.538, 0.5511666666666667, 0.5411666666666667, 0.553, 0.5408333333333334, 0.5568333333333333, 0.5478333333333333]}\n",
      "{'MLP': [0.5343333333333333, 0.5601666666666667, 0.5406666666666666, 0.5518333333333333, 0.5521666666666667, 0.543, 0.5436666666666666, 0.5548333333333333, 0.5591666666666667, 0.5543333333333333, 0.5408333333333334, 0.5571666666666667], 'G-NB': [0.5268333333333334, 0.5513333333333333, 0.5448333333333333, 0.5551666666666667, 0.5431666666666667, 0.5573333333333333, 0.5468333333333333, 0.5545, 0.55, 0.5548333333333333, 0.548, 0.5553333333333333], 'L-SVM': [0.5118333333333334, 0.5321666666666667, 0.525, 0.5401666666666667, 0.538, 0.5511666666666667, 0.5411666666666667, 0.553, 0.5408333333333334, 0.5568333333333333, 0.5478333333333333, 0.556]}\n",
      "{'MLP': [0.5343333333333333, 0.5601666666666667, 0.5406666666666666, 0.5518333333333333, 0.5521666666666667, 0.543, 0.5436666666666666, 0.5548333333333333, 0.5591666666666667, 0.5543333333333333, 0.5408333333333334, 0.5571666666666667, 0.5525], 'G-NB': [0.5268333333333334, 0.5513333333333333, 0.5448333333333333, 0.5551666666666667, 0.5431666666666667, 0.5573333333333333, 0.5468333333333333, 0.5545, 0.55, 0.5548333333333333, 0.548, 0.5553333333333333, 0.5536666666666666], 'L-SVM': [0.5118333333333334, 0.5321666666666667, 0.525, 0.5401666666666667, 0.538, 0.5511666666666667, 0.5411666666666667, 0.553, 0.5408333333333334, 0.5568333333333333, 0.5478333333333333, 0.556, 0.5501666666666667]}\n",
      "{'MLP': [0.5343333333333333, 0.5601666666666667, 0.5406666666666666, 0.5518333333333333, 0.5521666666666667, 0.543, 0.5436666666666666, 0.5548333333333333, 0.5591666666666667, 0.5543333333333333, 0.5408333333333334, 0.5571666666666667, 0.5525, 0.5406666666666666], 'G-NB': [0.5268333333333334, 0.5513333333333333, 0.5448333333333333, 0.5551666666666667, 0.5431666666666667, 0.5573333333333333, 0.5468333333333333, 0.5545, 0.55, 0.5548333333333333, 0.548, 0.5553333333333333, 0.5536666666666666, 0.5476666666666666], 'L-SVM': [0.5118333333333334, 0.5321666666666667, 0.525, 0.5401666666666667, 0.538, 0.5511666666666667, 0.5411666666666667, 0.553, 0.5408333333333334, 0.5568333333333333, 0.5478333333333333, 0.556, 0.5501666666666667, 0.5475]}\n",
      "{'MLP': [0.5343333333333333, 0.5601666666666667, 0.5406666666666666, 0.5518333333333333, 0.5521666666666667, 0.543, 0.5436666666666666, 0.5548333333333333, 0.5591666666666667, 0.5543333333333333, 0.5408333333333334, 0.5571666666666667, 0.5525, 0.5406666666666666, 0.5603333333333333], 'G-NB': [0.5268333333333334, 0.5513333333333333, 0.5448333333333333, 0.5551666666666667, 0.5431666666666667, 0.5573333333333333, 0.5468333333333333, 0.5545, 0.55, 0.5548333333333333, 0.548, 0.5553333333333333, 0.5536666666666666, 0.5476666666666666, 0.5578333333333333], 'L-SVM': [0.5118333333333334, 0.5321666666666667, 0.525, 0.5401666666666667, 0.538, 0.5511666666666667, 0.5411666666666667, 0.553, 0.5408333333333334, 0.5568333333333333, 0.5478333333333333, 0.556, 0.5501666666666667, 0.5475, 0.5656666666666667]}\n",
      "{'MLP': [0.5343333333333333, 0.5601666666666667, 0.5406666666666666, 0.5518333333333333, 0.5521666666666667, 0.543, 0.5436666666666666, 0.5548333333333333, 0.5591666666666667, 0.5543333333333333, 0.5408333333333334, 0.5571666666666667, 0.5525, 0.5406666666666666, 0.5603333333333333, 0.5623333333333334], 'G-NB': [0.5268333333333334, 0.5513333333333333, 0.5448333333333333, 0.5551666666666667, 0.5431666666666667, 0.5573333333333333, 0.5468333333333333, 0.5545, 0.55, 0.5548333333333333, 0.548, 0.5553333333333333, 0.5536666666666666, 0.5476666666666666, 0.5578333333333333, 0.5543333333333333], 'L-SVM': [0.5118333333333334, 0.5321666666666667, 0.525, 0.5401666666666667, 0.538, 0.5511666666666667, 0.5411666666666667, 0.553, 0.5408333333333334, 0.5568333333333333, 0.5478333333333333, 0.556, 0.5501666666666667, 0.5475, 0.5656666666666667, 0.557]}\n",
      "{'MLP': [0.5343333333333333, 0.5601666666666667, 0.5406666666666666, 0.5518333333333333, 0.5521666666666667, 0.543, 0.5436666666666666, 0.5548333333333333, 0.5591666666666667, 0.5543333333333333, 0.5408333333333334, 0.5571666666666667, 0.5525, 0.5406666666666666, 0.5603333333333333, 0.5623333333333334, 0.565], 'G-NB': [0.5268333333333334, 0.5513333333333333, 0.5448333333333333, 0.5551666666666667, 0.5431666666666667, 0.5573333333333333, 0.5468333333333333, 0.5545, 0.55, 0.5548333333333333, 0.548, 0.5553333333333333, 0.5536666666666666, 0.5476666666666666, 0.5578333333333333, 0.5543333333333333, 0.5605], 'L-SVM': [0.5118333333333334, 0.5321666666666667, 0.525, 0.5401666666666667, 0.538, 0.5511666666666667, 0.5411666666666667, 0.553, 0.5408333333333334, 0.5568333333333333, 0.5478333333333333, 0.556, 0.5501666666666667, 0.5475, 0.5656666666666667, 0.557, 0.5686666666666667]}\n",
      "{'MLP': [0.5343333333333333, 0.5601666666666667, 0.5406666666666666, 0.5518333333333333, 0.5521666666666667, 0.543, 0.5436666666666666, 0.5548333333333333, 0.5591666666666667, 0.5543333333333333, 0.5408333333333334, 0.5571666666666667, 0.5525, 0.5406666666666666, 0.5603333333333333, 0.5623333333333334, 0.565, 0.5585], 'G-NB': [0.5268333333333334, 0.5513333333333333, 0.5448333333333333, 0.5551666666666667, 0.5431666666666667, 0.5573333333333333, 0.5468333333333333, 0.5545, 0.55, 0.5548333333333333, 0.548, 0.5553333333333333, 0.5536666666666666, 0.5476666666666666, 0.5578333333333333, 0.5543333333333333, 0.5605, 0.5583333333333333], 'L-SVM': [0.5118333333333334, 0.5321666666666667, 0.525, 0.5401666666666667, 0.538, 0.5511666666666667, 0.5411666666666667, 0.553, 0.5408333333333334, 0.5568333333333333, 0.5478333333333333, 0.556, 0.5501666666666667, 0.5475, 0.5656666666666667, 0.557, 0.5686666666666667, 0.5596666666666666]}\n",
      "{'MLP': [0.5343333333333333, 0.5601666666666667, 0.5406666666666666, 0.5518333333333333, 0.5521666666666667, 0.543, 0.5436666666666666, 0.5548333333333333, 0.5591666666666667, 0.5543333333333333, 0.5408333333333334, 0.5571666666666667, 0.5525, 0.5406666666666666, 0.5603333333333333, 0.5623333333333334, 0.565, 0.5585, 0.56], 'G-NB': [0.5268333333333334, 0.5513333333333333, 0.5448333333333333, 0.5551666666666667, 0.5431666666666667, 0.5573333333333333, 0.5468333333333333, 0.5545, 0.55, 0.5548333333333333, 0.548, 0.5553333333333333, 0.5536666666666666, 0.5476666666666666, 0.5578333333333333, 0.5543333333333333, 0.5605, 0.5583333333333333, 0.5588333333333333], 'L-SVM': [0.5118333333333334, 0.5321666666666667, 0.525, 0.5401666666666667, 0.538, 0.5511666666666667, 0.5411666666666667, 0.553, 0.5408333333333334, 0.5568333333333333, 0.5478333333333333, 0.556, 0.5501666666666667, 0.5475, 0.5656666666666667, 0.557, 0.5686666666666667, 0.5596666666666666, 0.5621666666666667]}\n",
      "{'MLP': [0.5343333333333333, 0.5601666666666667, 0.5406666666666666, 0.5518333333333333, 0.5521666666666667, 0.543, 0.5436666666666666, 0.5548333333333333, 0.5591666666666667, 0.5543333333333333, 0.5408333333333334, 0.5571666666666667, 0.5525, 0.5406666666666666, 0.5603333333333333, 0.5623333333333334, 0.565, 0.5585, 0.56, 0.5713333333333334], 'G-NB': [0.5268333333333334, 0.5513333333333333, 0.5448333333333333, 0.5551666666666667, 0.5431666666666667, 0.5573333333333333, 0.5468333333333333, 0.5545, 0.55, 0.5548333333333333, 0.548, 0.5553333333333333, 0.5536666666666666, 0.5476666666666666, 0.5578333333333333, 0.5543333333333333, 0.5605, 0.5583333333333333, 0.5588333333333333, 0.5666666666666667], 'L-SVM': [0.5118333333333334, 0.5321666666666667, 0.525, 0.5401666666666667, 0.538, 0.5511666666666667, 0.5411666666666667, 0.553, 0.5408333333333334, 0.5568333333333333, 0.5478333333333333, 0.556, 0.5501666666666667, 0.5475, 0.5656666666666667, 0.557, 0.5686666666666667, 0.5596666666666666, 0.5621666666666667, 0.5695]}\n",
      "{'MLP': [0.5343333333333333, 0.5601666666666667, 0.5406666666666666, 0.5518333333333333, 0.5521666666666667, 0.543, 0.5436666666666666, 0.5548333333333333, 0.5591666666666667, 0.5543333333333333, 0.5408333333333334, 0.5571666666666667, 0.5525, 0.5406666666666666, 0.5603333333333333, 0.5623333333333334, 0.565, 0.5585, 0.56, 0.5713333333333334, 0.5608333333333333], 'G-NB': [0.5268333333333334, 0.5513333333333333, 0.5448333333333333, 0.5551666666666667, 0.5431666666666667, 0.5573333333333333, 0.5468333333333333, 0.5545, 0.55, 0.5548333333333333, 0.548, 0.5553333333333333, 0.5536666666666666, 0.5476666666666666, 0.5578333333333333, 0.5543333333333333, 0.5605, 0.5583333333333333, 0.5588333333333333, 0.5666666666666667, 0.561], 'L-SVM': [0.5118333333333334, 0.5321666666666667, 0.525, 0.5401666666666667, 0.538, 0.5511666666666667, 0.5411666666666667, 0.553, 0.5408333333333334, 0.5568333333333333, 0.5478333333333333, 0.556, 0.5501666666666667, 0.5475, 0.5656666666666667, 0.557, 0.5686666666666667, 0.5596666666666666, 0.5621666666666667, 0.5695, 0.562]}\n",
      "{'MLP': [0.5343333333333333, 0.5601666666666667, 0.5406666666666666, 0.5518333333333333, 0.5521666666666667, 0.543, 0.5436666666666666, 0.5548333333333333, 0.5591666666666667, 0.5543333333333333, 0.5408333333333334, 0.5571666666666667, 0.5525, 0.5406666666666666, 0.5603333333333333, 0.5623333333333334, 0.565, 0.5585, 0.56, 0.5713333333333334, 0.5608333333333333, 0.5723333333333334], 'G-NB': [0.5268333333333334, 0.5513333333333333, 0.5448333333333333, 0.5551666666666667, 0.5431666666666667, 0.5573333333333333, 0.5468333333333333, 0.5545, 0.55, 0.5548333333333333, 0.548, 0.5553333333333333, 0.5536666666666666, 0.5476666666666666, 0.5578333333333333, 0.5543333333333333, 0.5605, 0.5583333333333333, 0.5588333333333333, 0.5666666666666667, 0.561, 0.5458333333333333], 'L-SVM': [0.5118333333333334, 0.5321666666666667, 0.525, 0.5401666666666667, 0.538, 0.5511666666666667, 0.5411666666666667, 0.553, 0.5408333333333334, 0.5568333333333333, 0.5478333333333333, 0.556, 0.5501666666666667, 0.5475, 0.5656666666666667, 0.557, 0.5686666666666667, 0.5596666666666666, 0.5621666666666667, 0.5695, 0.562, 0.566]}\n",
      "{'MLP': [0.5343333333333333, 0.5601666666666667, 0.5406666666666666, 0.5518333333333333, 0.5521666666666667, 0.543, 0.5436666666666666, 0.5548333333333333, 0.5591666666666667, 0.5543333333333333, 0.5408333333333334, 0.5571666666666667, 0.5525, 0.5406666666666666, 0.5603333333333333, 0.5623333333333334, 0.565, 0.5585, 0.56, 0.5713333333333334, 0.5608333333333333, 0.5723333333333334, 0.5723333333333334], 'G-NB': [0.5268333333333334, 0.5513333333333333, 0.5448333333333333, 0.5551666666666667, 0.5431666666666667, 0.5573333333333333, 0.5468333333333333, 0.5545, 0.55, 0.5548333333333333, 0.548, 0.5553333333333333, 0.5536666666666666, 0.5476666666666666, 0.5578333333333333, 0.5543333333333333, 0.5605, 0.5583333333333333, 0.5588333333333333, 0.5666666666666667, 0.561, 0.5458333333333333, 0.552], 'L-SVM': [0.5118333333333334, 0.5321666666666667, 0.525, 0.5401666666666667, 0.538, 0.5511666666666667, 0.5411666666666667, 0.553, 0.5408333333333334, 0.5568333333333333, 0.5478333333333333, 0.556, 0.5501666666666667, 0.5475, 0.5656666666666667, 0.557, 0.5686666666666667, 0.5596666666666666, 0.5621666666666667, 0.5695, 0.562, 0.566, 0.5655]}\n",
      "{'MLP': [0.5343333333333333, 0.5601666666666667, 0.5406666666666666, 0.5518333333333333, 0.5521666666666667, 0.543, 0.5436666666666666, 0.5548333333333333, 0.5591666666666667, 0.5543333333333333, 0.5408333333333334, 0.5571666666666667, 0.5525, 0.5406666666666666, 0.5603333333333333, 0.5623333333333334, 0.565, 0.5585, 0.56, 0.5713333333333334, 0.5608333333333333, 0.5723333333333334, 0.5723333333333334, 0.567], 'G-NB': [0.5268333333333334, 0.5513333333333333, 0.5448333333333333, 0.5551666666666667, 0.5431666666666667, 0.5573333333333333, 0.5468333333333333, 0.5545, 0.55, 0.5548333333333333, 0.548, 0.5553333333333333, 0.5536666666666666, 0.5476666666666666, 0.5578333333333333, 0.5543333333333333, 0.5605, 0.5583333333333333, 0.5588333333333333, 0.5666666666666667, 0.561, 0.5458333333333333, 0.552, 0.5521666666666667], 'L-SVM': [0.5118333333333334, 0.5321666666666667, 0.525, 0.5401666666666667, 0.538, 0.5511666666666667, 0.5411666666666667, 0.553, 0.5408333333333334, 0.5568333333333333, 0.5478333333333333, 0.556, 0.5501666666666667, 0.5475, 0.5656666666666667, 0.557, 0.5686666666666667, 0.5596666666666666, 0.5621666666666667, 0.5695, 0.562, 0.566, 0.5655, 0.5756666666666667]}\n",
      "{'MLP': [0.5343333333333333, 0.5601666666666667, 0.5406666666666666, 0.5518333333333333, 0.5521666666666667, 0.543, 0.5436666666666666, 0.5548333333333333, 0.5591666666666667, 0.5543333333333333, 0.5408333333333334, 0.5571666666666667, 0.5525, 0.5406666666666666, 0.5603333333333333, 0.5623333333333334, 0.565, 0.5585, 0.56, 0.5713333333333334, 0.5608333333333333, 0.5723333333333334, 0.5723333333333334, 0.567, 0.5716666666666667], 'G-NB': [0.5268333333333334, 0.5513333333333333, 0.5448333333333333, 0.5551666666666667, 0.5431666666666667, 0.5573333333333333, 0.5468333333333333, 0.5545, 0.55, 0.5548333333333333, 0.548, 0.5553333333333333, 0.5536666666666666, 0.5476666666666666, 0.5578333333333333, 0.5543333333333333, 0.5605, 0.5583333333333333, 0.5588333333333333, 0.5666666666666667, 0.561, 0.5458333333333333, 0.552, 0.5521666666666667, 0.5658333333333333], 'L-SVM': [0.5118333333333334, 0.5321666666666667, 0.525, 0.5401666666666667, 0.538, 0.5511666666666667, 0.5411666666666667, 0.553, 0.5408333333333334, 0.5568333333333333, 0.5478333333333333, 0.556, 0.5501666666666667, 0.5475, 0.5656666666666667, 0.557, 0.5686666666666667, 0.5596666666666666, 0.5621666666666667, 0.5695, 0.562, 0.566, 0.5655, 0.5756666666666667, 0.5683333333333334]}\n",
      "{'MLP': [0.5343333333333333, 0.5601666666666667, 0.5406666666666666, 0.5518333333333333, 0.5521666666666667, 0.543, 0.5436666666666666, 0.5548333333333333, 0.5591666666666667, 0.5543333333333333, 0.5408333333333334, 0.5571666666666667, 0.5525, 0.5406666666666666, 0.5603333333333333, 0.5623333333333334, 0.565, 0.5585, 0.56, 0.5713333333333334, 0.5608333333333333, 0.5723333333333334, 0.5723333333333334, 0.567, 0.5716666666666667, 0.5621666666666667], 'G-NB': [0.5268333333333334, 0.5513333333333333, 0.5448333333333333, 0.5551666666666667, 0.5431666666666667, 0.5573333333333333, 0.5468333333333333, 0.5545, 0.55, 0.5548333333333333, 0.548, 0.5553333333333333, 0.5536666666666666, 0.5476666666666666, 0.5578333333333333, 0.5543333333333333, 0.5605, 0.5583333333333333, 0.5588333333333333, 0.5666666666666667, 0.561, 0.5458333333333333, 0.552, 0.5521666666666667, 0.5658333333333333, 0.5613333333333334], 'L-SVM': [0.5118333333333334, 0.5321666666666667, 0.525, 0.5401666666666667, 0.538, 0.5511666666666667, 0.5411666666666667, 0.553, 0.5408333333333334, 0.5568333333333333, 0.5478333333333333, 0.556, 0.5501666666666667, 0.5475, 0.5656666666666667, 0.557, 0.5686666666666667, 0.5596666666666666, 0.5621666666666667, 0.5695, 0.562, 0.566, 0.5655, 0.5756666666666667, 0.5683333333333334, 0.5728333333333333]}\n",
      "{'MLP': [0.5343333333333333, 0.5601666666666667, 0.5406666666666666, 0.5518333333333333, 0.5521666666666667, 0.543, 0.5436666666666666, 0.5548333333333333, 0.5591666666666667, 0.5543333333333333, 0.5408333333333334, 0.5571666666666667, 0.5525, 0.5406666666666666, 0.5603333333333333, 0.5623333333333334, 0.565, 0.5585, 0.56, 0.5713333333333334, 0.5608333333333333, 0.5723333333333334, 0.5723333333333334, 0.567, 0.5716666666666667, 0.5621666666666667, 0.5798333333333333], 'G-NB': [0.5268333333333334, 0.5513333333333333, 0.5448333333333333, 0.5551666666666667, 0.5431666666666667, 0.5573333333333333, 0.5468333333333333, 0.5545, 0.55, 0.5548333333333333, 0.548, 0.5553333333333333, 0.5536666666666666, 0.5476666666666666, 0.5578333333333333, 0.5543333333333333, 0.5605, 0.5583333333333333, 0.5588333333333333, 0.5666666666666667, 0.561, 0.5458333333333333, 0.552, 0.5521666666666667, 0.5658333333333333, 0.5613333333333334, 0.5603333333333333], 'L-SVM': [0.5118333333333334, 0.5321666666666667, 0.525, 0.5401666666666667, 0.538, 0.5511666666666667, 0.5411666666666667, 0.553, 0.5408333333333334, 0.5568333333333333, 0.5478333333333333, 0.556, 0.5501666666666667, 0.5475, 0.5656666666666667, 0.557, 0.5686666666666667, 0.5596666666666666, 0.5621666666666667, 0.5695, 0.562, 0.566, 0.5655, 0.5756666666666667, 0.5683333333333334, 0.5728333333333333, 0.5781666666666667]}\n",
      "{'MLP': [0.5343333333333333, 0.5601666666666667, 0.5406666666666666, 0.5518333333333333, 0.5521666666666667, 0.543, 0.5436666666666666, 0.5548333333333333, 0.5591666666666667, 0.5543333333333333, 0.5408333333333334, 0.5571666666666667, 0.5525, 0.5406666666666666, 0.5603333333333333, 0.5623333333333334, 0.565, 0.5585, 0.56, 0.5713333333333334, 0.5608333333333333, 0.5723333333333334, 0.5723333333333334, 0.567, 0.5716666666666667, 0.5621666666666667, 0.5798333333333333, 0.5715], 'G-NB': [0.5268333333333334, 0.5513333333333333, 0.5448333333333333, 0.5551666666666667, 0.5431666666666667, 0.5573333333333333, 0.5468333333333333, 0.5545, 0.55, 0.5548333333333333, 0.548, 0.5553333333333333, 0.5536666666666666, 0.5476666666666666, 0.5578333333333333, 0.5543333333333333, 0.5605, 0.5583333333333333, 0.5588333333333333, 0.5666666666666667, 0.561, 0.5458333333333333, 0.552, 0.5521666666666667, 0.5658333333333333, 0.5613333333333334, 0.5603333333333333, 0.5391666666666667], 'L-SVM': [0.5118333333333334, 0.5321666666666667, 0.525, 0.5401666666666667, 0.538, 0.5511666666666667, 0.5411666666666667, 0.553, 0.5408333333333334, 0.5568333333333333, 0.5478333333333333, 0.556, 0.5501666666666667, 0.5475, 0.5656666666666667, 0.557, 0.5686666666666667, 0.5596666666666666, 0.5621666666666667, 0.5695, 0.562, 0.566, 0.5655, 0.5756666666666667, 0.5683333333333334, 0.5728333333333333, 0.5781666666666667, 0.5593333333333333]}\n",
      "{'MLP': [0.5343333333333333, 0.5601666666666667, 0.5406666666666666, 0.5518333333333333, 0.5521666666666667, 0.543, 0.5436666666666666, 0.5548333333333333, 0.5591666666666667, 0.5543333333333333, 0.5408333333333334, 0.5571666666666667, 0.5525, 0.5406666666666666, 0.5603333333333333, 0.5623333333333334, 0.565, 0.5585, 0.56, 0.5713333333333334, 0.5608333333333333, 0.5723333333333334, 0.5723333333333334, 0.567, 0.5716666666666667, 0.5621666666666667, 0.5798333333333333, 0.5715, 0.5531666666666667], 'G-NB': [0.5268333333333334, 0.5513333333333333, 0.5448333333333333, 0.5551666666666667, 0.5431666666666667, 0.5573333333333333, 0.5468333333333333, 0.5545, 0.55, 0.5548333333333333, 0.548, 0.5553333333333333, 0.5536666666666666, 0.5476666666666666, 0.5578333333333333, 0.5543333333333333, 0.5605, 0.5583333333333333, 0.5588333333333333, 0.5666666666666667, 0.561, 0.5458333333333333, 0.552, 0.5521666666666667, 0.5658333333333333, 0.5613333333333334, 0.5603333333333333, 0.5391666666666667, 0.5515], 'L-SVM': [0.5118333333333334, 0.5321666666666667, 0.525, 0.5401666666666667, 0.538, 0.5511666666666667, 0.5411666666666667, 0.553, 0.5408333333333334, 0.5568333333333333, 0.5478333333333333, 0.556, 0.5501666666666667, 0.5475, 0.5656666666666667, 0.557, 0.5686666666666667, 0.5596666666666666, 0.5621666666666667, 0.5695, 0.562, 0.566, 0.5655, 0.5756666666666667, 0.5683333333333334, 0.5728333333333333, 0.5781666666666667, 0.5593333333333333, 0.5543333333333333]}\n",
      "{'MLP': [0.5343333333333333, 0.5601666666666667, 0.5406666666666666, 0.5518333333333333, 0.5521666666666667, 0.543, 0.5436666666666666, 0.5548333333333333, 0.5591666666666667, 0.5543333333333333, 0.5408333333333334, 0.5571666666666667, 0.5525, 0.5406666666666666, 0.5603333333333333, 0.5623333333333334, 0.565, 0.5585, 0.56, 0.5713333333333334, 0.5608333333333333, 0.5723333333333334, 0.5723333333333334, 0.567, 0.5716666666666667, 0.5621666666666667, 0.5798333333333333, 0.5715, 0.5531666666666667, 0.5461666666666667], 'G-NB': [0.5268333333333334, 0.5513333333333333, 0.5448333333333333, 0.5551666666666667, 0.5431666666666667, 0.5573333333333333, 0.5468333333333333, 0.5545, 0.55, 0.5548333333333333, 0.548, 0.5553333333333333, 0.5536666666666666, 0.5476666666666666, 0.5578333333333333, 0.5543333333333333, 0.5605, 0.5583333333333333, 0.5588333333333333, 0.5666666666666667, 0.561, 0.5458333333333333, 0.552, 0.5521666666666667, 0.5658333333333333, 0.5613333333333334, 0.5603333333333333, 0.5391666666666667, 0.5515, 0.5445], 'L-SVM': [0.5118333333333334, 0.5321666666666667, 0.525, 0.5401666666666667, 0.538, 0.5511666666666667, 0.5411666666666667, 0.553, 0.5408333333333334, 0.5568333333333333, 0.5478333333333333, 0.556, 0.5501666666666667, 0.5475, 0.5656666666666667, 0.557, 0.5686666666666667, 0.5596666666666666, 0.5621666666666667, 0.5695, 0.562, 0.566, 0.5655, 0.5756666666666667, 0.5683333333333334, 0.5728333333333333, 0.5781666666666667, 0.5593333333333333, 0.5543333333333333, 0.5506666666666666]}\n",
      "{'MLP': [0.5343333333333333, 0.5601666666666667, 0.5406666666666666, 0.5518333333333333, 0.5521666666666667, 0.543, 0.5436666666666666, 0.5548333333333333, 0.5591666666666667, 0.5543333333333333, 0.5408333333333334, 0.5571666666666667, 0.5525, 0.5406666666666666, 0.5603333333333333, 0.5623333333333334, 0.565, 0.5585, 0.56, 0.5713333333333334, 0.5608333333333333, 0.5723333333333334, 0.5723333333333334, 0.567, 0.5716666666666667, 0.5621666666666667, 0.5798333333333333, 0.5715, 0.5531666666666667, 0.5461666666666667, 0.537], 'G-NB': [0.5268333333333334, 0.5513333333333333, 0.5448333333333333, 0.5551666666666667, 0.5431666666666667, 0.5573333333333333, 0.5468333333333333, 0.5545, 0.55, 0.5548333333333333, 0.548, 0.5553333333333333, 0.5536666666666666, 0.5476666666666666, 0.5578333333333333, 0.5543333333333333, 0.5605, 0.5583333333333333, 0.5588333333333333, 0.5666666666666667, 0.561, 0.5458333333333333, 0.552, 0.5521666666666667, 0.5658333333333333, 0.5613333333333334, 0.5603333333333333, 0.5391666666666667, 0.5515, 0.5445, 0.5293333333333333], 'L-SVM': [0.5118333333333334, 0.5321666666666667, 0.525, 0.5401666666666667, 0.538, 0.5511666666666667, 0.5411666666666667, 0.553, 0.5408333333333334, 0.5568333333333333, 0.5478333333333333, 0.556, 0.5501666666666667, 0.5475, 0.5656666666666667, 0.557, 0.5686666666666667, 0.5596666666666666, 0.5621666666666667, 0.5695, 0.562, 0.566, 0.5655, 0.5756666666666667, 0.5683333333333334, 0.5728333333333333, 0.5781666666666667, 0.5593333333333333, 0.5543333333333333, 0.5506666666666666, 0.5518333333333333]}\n",
      "{'MLP': [0.5343333333333333, 0.5601666666666667, 0.5406666666666666, 0.5518333333333333, 0.5521666666666667, 0.543, 0.5436666666666666, 0.5548333333333333, 0.5591666666666667, 0.5543333333333333, 0.5408333333333334, 0.5571666666666667, 0.5525, 0.5406666666666666, 0.5603333333333333, 0.5623333333333334, 0.565, 0.5585, 0.56, 0.5713333333333334, 0.5608333333333333, 0.5723333333333334, 0.5723333333333334, 0.567, 0.5716666666666667, 0.5621666666666667, 0.5798333333333333, 0.5715, 0.5531666666666667, 0.5461666666666667, 0.537, 0.5415], 'G-NB': [0.5268333333333334, 0.5513333333333333, 0.5448333333333333, 0.5551666666666667, 0.5431666666666667, 0.5573333333333333, 0.5468333333333333, 0.5545, 0.55, 0.5548333333333333, 0.548, 0.5553333333333333, 0.5536666666666666, 0.5476666666666666, 0.5578333333333333, 0.5543333333333333, 0.5605, 0.5583333333333333, 0.5588333333333333, 0.5666666666666667, 0.561, 0.5458333333333333, 0.552, 0.5521666666666667, 0.5658333333333333, 0.5613333333333334, 0.5603333333333333, 0.5391666666666667, 0.5515, 0.5445, 0.5293333333333333, 0.5238333333333334], 'L-SVM': [0.5118333333333334, 0.5321666666666667, 0.525, 0.5401666666666667, 0.538, 0.5511666666666667, 0.5411666666666667, 0.553, 0.5408333333333334, 0.5568333333333333, 0.5478333333333333, 0.556, 0.5501666666666667, 0.5475, 0.5656666666666667, 0.557, 0.5686666666666667, 0.5596666666666666, 0.5621666666666667, 0.5695, 0.562, 0.566, 0.5655, 0.5756666666666667, 0.5683333333333334, 0.5728333333333333, 0.5781666666666667, 0.5593333333333333, 0.5543333333333333, 0.5506666666666666, 0.5518333333333333, 0.5398333333333334]}\n",
      "{'MLP': [0.5343333333333333, 0.5601666666666667, 0.5406666666666666, 0.5518333333333333, 0.5521666666666667, 0.543, 0.5436666666666666, 0.5548333333333333, 0.5591666666666667, 0.5543333333333333, 0.5408333333333334, 0.5571666666666667, 0.5525, 0.5406666666666666, 0.5603333333333333, 0.5623333333333334, 0.565, 0.5585, 0.56, 0.5713333333333334, 0.5608333333333333, 0.5723333333333334, 0.5723333333333334, 0.567, 0.5716666666666667, 0.5621666666666667, 0.5798333333333333, 0.5715, 0.5531666666666667, 0.5461666666666667, 0.537, 0.5415, 0.5286666666666666], 'G-NB': [0.5268333333333334, 0.5513333333333333, 0.5448333333333333, 0.5551666666666667, 0.5431666666666667, 0.5573333333333333, 0.5468333333333333, 0.5545, 0.55, 0.5548333333333333, 0.548, 0.5553333333333333, 0.5536666666666666, 0.5476666666666666, 0.5578333333333333, 0.5543333333333333, 0.5605, 0.5583333333333333, 0.5588333333333333, 0.5666666666666667, 0.561, 0.5458333333333333, 0.552, 0.5521666666666667, 0.5658333333333333, 0.5613333333333334, 0.5603333333333333, 0.5391666666666667, 0.5515, 0.5445, 0.5293333333333333, 0.5238333333333334, 0.5115], 'L-SVM': [0.5118333333333334, 0.5321666666666667, 0.525, 0.5401666666666667, 0.538, 0.5511666666666667, 0.5411666666666667, 0.553, 0.5408333333333334, 0.5568333333333333, 0.5478333333333333, 0.556, 0.5501666666666667, 0.5475, 0.5656666666666667, 0.557, 0.5686666666666667, 0.5596666666666666, 0.5621666666666667, 0.5695, 0.562, 0.566, 0.5655, 0.5756666666666667, 0.5683333333333334, 0.5728333333333333, 0.5781666666666667, 0.5593333333333333, 0.5543333333333333, 0.5506666666666666, 0.5518333333333333, 0.5398333333333334, 0.5248333333333334]}\n",
      "{'MLP': [0.5343333333333333, 0.5601666666666667, 0.5406666666666666, 0.5518333333333333, 0.5521666666666667, 0.543, 0.5436666666666666, 0.5548333333333333, 0.5591666666666667, 0.5543333333333333, 0.5408333333333334, 0.5571666666666667, 0.5525, 0.5406666666666666, 0.5603333333333333, 0.5623333333333334, 0.565, 0.5585, 0.56, 0.5713333333333334, 0.5608333333333333, 0.5723333333333334, 0.5723333333333334, 0.567, 0.5716666666666667, 0.5621666666666667, 0.5798333333333333, 0.5715, 0.5531666666666667, 0.5461666666666667, 0.537, 0.5415, 0.5286666666666666, 0.5316666666666666], 'G-NB': [0.5268333333333334, 0.5513333333333333, 0.5448333333333333, 0.5551666666666667, 0.5431666666666667, 0.5573333333333333, 0.5468333333333333, 0.5545, 0.55, 0.5548333333333333, 0.548, 0.5553333333333333, 0.5536666666666666, 0.5476666666666666, 0.5578333333333333, 0.5543333333333333, 0.5605, 0.5583333333333333, 0.5588333333333333, 0.5666666666666667, 0.561, 0.5458333333333333, 0.552, 0.5521666666666667, 0.5658333333333333, 0.5613333333333334, 0.5603333333333333, 0.5391666666666667, 0.5515, 0.5445, 0.5293333333333333, 0.5238333333333334, 0.5115, 0.5176666666666667], 'L-SVM': [0.5118333333333334, 0.5321666666666667, 0.525, 0.5401666666666667, 0.538, 0.5511666666666667, 0.5411666666666667, 0.553, 0.5408333333333334, 0.5568333333333333, 0.5478333333333333, 0.556, 0.5501666666666667, 0.5475, 0.5656666666666667, 0.557, 0.5686666666666667, 0.5596666666666666, 0.5621666666666667, 0.5695, 0.562, 0.566, 0.5655, 0.5756666666666667, 0.5683333333333334, 0.5728333333333333, 0.5781666666666667, 0.5593333333333333, 0.5543333333333333, 0.5506666666666666, 0.5518333333333333, 0.5398333333333334, 0.5248333333333334, 0.5321666666666667]}\n",
      "{'MLP': [0.5343333333333333, 0.5601666666666667, 0.5406666666666666, 0.5518333333333333, 0.5521666666666667, 0.543, 0.5436666666666666, 0.5548333333333333, 0.5591666666666667, 0.5543333333333333, 0.5408333333333334, 0.5571666666666667, 0.5525, 0.5406666666666666, 0.5603333333333333, 0.5623333333333334, 0.565, 0.5585, 0.56, 0.5713333333333334, 0.5608333333333333, 0.5723333333333334, 0.5723333333333334, 0.567, 0.5716666666666667, 0.5621666666666667, 0.5798333333333333, 0.5715, 0.5531666666666667, 0.5461666666666667, 0.537, 0.5415, 0.5286666666666666, 0.5316666666666666, 0.5318333333333334], 'G-NB': [0.5268333333333334, 0.5513333333333333, 0.5448333333333333, 0.5551666666666667, 0.5431666666666667, 0.5573333333333333, 0.5468333333333333, 0.5545, 0.55, 0.5548333333333333, 0.548, 0.5553333333333333, 0.5536666666666666, 0.5476666666666666, 0.5578333333333333, 0.5543333333333333, 0.5605, 0.5583333333333333, 0.5588333333333333, 0.5666666666666667, 0.561, 0.5458333333333333, 0.552, 0.5521666666666667, 0.5658333333333333, 0.5613333333333334, 0.5603333333333333, 0.5391666666666667, 0.5515, 0.5445, 0.5293333333333333, 0.5238333333333334, 0.5115, 0.5176666666666667, 0.5135], 'L-SVM': [0.5118333333333334, 0.5321666666666667, 0.525, 0.5401666666666667, 0.538, 0.5511666666666667, 0.5411666666666667, 0.553, 0.5408333333333334, 0.5568333333333333, 0.5478333333333333, 0.556, 0.5501666666666667, 0.5475, 0.5656666666666667, 0.557, 0.5686666666666667, 0.5596666666666666, 0.5621666666666667, 0.5695, 0.562, 0.566, 0.5655, 0.5756666666666667, 0.5683333333333334, 0.5728333333333333, 0.5781666666666667, 0.5593333333333333, 0.5543333333333333, 0.5506666666666666, 0.5518333333333333, 0.5398333333333334, 0.5248333333333334, 0.5321666666666667, 0.5305]}\n",
      "{'MLP': [0.5343333333333333, 0.5601666666666667, 0.5406666666666666, 0.5518333333333333, 0.5521666666666667, 0.543, 0.5436666666666666, 0.5548333333333333, 0.5591666666666667, 0.5543333333333333, 0.5408333333333334, 0.5571666666666667, 0.5525, 0.5406666666666666, 0.5603333333333333, 0.5623333333333334, 0.565, 0.5585, 0.56, 0.5713333333333334, 0.5608333333333333, 0.5723333333333334, 0.5723333333333334, 0.567, 0.5716666666666667, 0.5621666666666667, 0.5798333333333333, 0.5715, 0.5531666666666667, 0.5461666666666667, 0.537, 0.5415, 0.5286666666666666, 0.5316666666666666, 0.5318333333333334, 0.522], 'G-NB': [0.5268333333333334, 0.5513333333333333, 0.5448333333333333, 0.5551666666666667, 0.5431666666666667, 0.5573333333333333, 0.5468333333333333, 0.5545, 0.55, 0.5548333333333333, 0.548, 0.5553333333333333, 0.5536666666666666, 0.5476666666666666, 0.5578333333333333, 0.5543333333333333, 0.5605, 0.5583333333333333, 0.5588333333333333, 0.5666666666666667, 0.561, 0.5458333333333333, 0.552, 0.5521666666666667, 0.5658333333333333, 0.5613333333333334, 0.5603333333333333, 0.5391666666666667, 0.5515, 0.5445, 0.5293333333333333, 0.5238333333333334, 0.5115, 0.5176666666666667, 0.5135, 0.508], 'L-SVM': [0.5118333333333334, 0.5321666666666667, 0.525, 0.5401666666666667, 0.538, 0.5511666666666667, 0.5411666666666667, 0.553, 0.5408333333333334, 0.5568333333333333, 0.5478333333333333, 0.556, 0.5501666666666667, 0.5475, 0.5656666666666667, 0.557, 0.5686666666666667, 0.5596666666666666, 0.5621666666666667, 0.5695, 0.562, 0.566, 0.5655, 0.5756666666666667, 0.5683333333333334, 0.5728333333333333, 0.5781666666666667, 0.5593333333333333, 0.5543333333333333, 0.5506666666666666, 0.5518333333333333, 0.5398333333333334, 0.5248333333333334, 0.5321666666666667, 0.5305, 0.5186666666666667]}\n",
      "{'MLP': [0.5343333333333333, 0.5601666666666667, 0.5406666666666666, 0.5518333333333333, 0.5521666666666667, 0.543, 0.5436666666666666, 0.5548333333333333, 0.5591666666666667, 0.5543333333333333, 0.5408333333333334, 0.5571666666666667, 0.5525, 0.5406666666666666, 0.5603333333333333, 0.5623333333333334, 0.565, 0.5585, 0.56, 0.5713333333333334, 0.5608333333333333, 0.5723333333333334, 0.5723333333333334, 0.567, 0.5716666666666667, 0.5621666666666667, 0.5798333333333333, 0.5715, 0.5531666666666667, 0.5461666666666667, 0.537, 0.5415, 0.5286666666666666, 0.5316666666666666, 0.5318333333333334, 0.522, 0.5095], 'G-NB': [0.5268333333333334, 0.5513333333333333, 0.5448333333333333, 0.5551666666666667, 0.5431666666666667, 0.5573333333333333, 0.5468333333333333, 0.5545, 0.55, 0.5548333333333333, 0.548, 0.5553333333333333, 0.5536666666666666, 0.5476666666666666, 0.5578333333333333, 0.5543333333333333, 0.5605, 0.5583333333333333, 0.5588333333333333, 0.5666666666666667, 0.561, 0.5458333333333333, 0.552, 0.5521666666666667, 0.5658333333333333, 0.5613333333333334, 0.5603333333333333, 0.5391666666666667, 0.5515, 0.5445, 0.5293333333333333, 0.5238333333333334, 0.5115, 0.5176666666666667, 0.5135, 0.508, 0.502], 'L-SVM': [0.5118333333333334, 0.5321666666666667, 0.525, 0.5401666666666667, 0.538, 0.5511666666666667, 0.5411666666666667, 0.553, 0.5408333333333334, 0.5568333333333333, 0.5478333333333333, 0.556, 0.5501666666666667, 0.5475, 0.5656666666666667, 0.557, 0.5686666666666667, 0.5596666666666666, 0.5621666666666667, 0.5695, 0.562, 0.566, 0.5655, 0.5756666666666667, 0.5683333333333334, 0.5728333333333333, 0.5781666666666667, 0.5593333333333333, 0.5543333333333333, 0.5506666666666666, 0.5518333333333333, 0.5398333333333334, 0.5248333333333334, 0.5321666666666667, 0.5305, 0.5186666666666667, 0.5095]}\n",
      "{'MLP': [0.5343333333333333, 0.5601666666666667, 0.5406666666666666, 0.5518333333333333, 0.5521666666666667, 0.543, 0.5436666666666666, 0.5548333333333333, 0.5591666666666667, 0.5543333333333333, 0.5408333333333334, 0.5571666666666667, 0.5525, 0.5406666666666666, 0.5603333333333333, 0.5623333333333334, 0.565, 0.5585, 0.56, 0.5713333333333334, 0.5608333333333333, 0.5723333333333334, 0.5723333333333334, 0.567, 0.5716666666666667, 0.5621666666666667, 0.5798333333333333, 0.5715, 0.5531666666666667, 0.5461666666666667, 0.537, 0.5415, 0.5286666666666666, 0.5316666666666666, 0.5318333333333334, 0.522, 0.5095, 0.5136666666666667], 'G-NB': [0.5268333333333334, 0.5513333333333333, 0.5448333333333333, 0.5551666666666667, 0.5431666666666667, 0.5573333333333333, 0.5468333333333333, 0.5545, 0.55, 0.5548333333333333, 0.548, 0.5553333333333333, 0.5536666666666666, 0.5476666666666666, 0.5578333333333333, 0.5543333333333333, 0.5605, 0.5583333333333333, 0.5588333333333333, 0.5666666666666667, 0.561, 0.5458333333333333, 0.552, 0.5521666666666667, 0.5658333333333333, 0.5613333333333334, 0.5603333333333333, 0.5391666666666667, 0.5515, 0.5445, 0.5293333333333333, 0.5238333333333334, 0.5115, 0.5176666666666667, 0.5135, 0.508, 0.502, 0.5063333333333333], 'L-SVM': [0.5118333333333334, 0.5321666666666667, 0.525, 0.5401666666666667, 0.538, 0.5511666666666667, 0.5411666666666667, 0.553, 0.5408333333333334, 0.5568333333333333, 0.5478333333333333, 0.556, 0.5501666666666667, 0.5475, 0.5656666666666667, 0.557, 0.5686666666666667, 0.5596666666666666, 0.5621666666666667, 0.5695, 0.562, 0.566, 0.5655, 0.5756666666666667, 0.5683333333333334, 0.5728333333333333, 0.5781666666666667, 0.5593333333333333, 0.5543333333333333, 0.5506666666666666, 0.5518333333333333, 0.5398333333333334, 0.5248333333333334, 0.5321666666666667, 0.5305, 0.5186666666666667, 0.5095, 0.5133333333333333]}\n",
      "{'MLP': [0.5343333333333333, 0.5601666666666667, 0.5406666666666666, 0.5518333333333333, 0.5521666666666667, 0.543, 0.5436666666666666, 0.5548333333333333, 0.5591666666666667, 0.5543333333333333, 0.5408333333333334, 0.5571666666666667, 0.5525, 0.5406666666666666, 0.5603333333333333, 0.5623333333333334, 0.565, 0.5585, 0.56, 0.5713333333333334, 0.5608333333333333, 0.5723333333333334, 0.5723333333333334, 0.567, 0.5716666666666667, 0.5621666666666667, 0.5798333333333333, 0.5715, 0.5531666666666667, 0.5461666666666667, 0.537, 0.5415, 0.5286666666666666, 0.5316666666666666, 0.5318333333333334, 0.522, 0.5095, 0.5136666666666667, 0.5011666666666666], 'G-NB': [0.5268333333333334, 0.5513333333333333, 0.5448333333333333, 0.5551666666666667, 0.5431666666666667, 0.5573333333333333, 0.5468333333333333, 0.5545, 0.55, 0.5548333333333333, 0.548, 0.5553333333333333, 0.5536666666666666, 0.5476666666666666, 0.5578333333333333, 0.5543333333333333, 0.5605, 0.5583333333333333, 0.5588333333333333, 0.5666666666666667, 0.561, 0.5458333333333333, 0.552, 0.5521666666666667, 0.5658333333333333, 0.5613333333333334, 0.5603333333333333, 0.5391666666666667, 0.5515, 0.5445, 0.5293333333333333, 0.5238333333333334, 0.5115, 0.5176666666666667, 0.5135, 0.508, 0.502, 0.5063333333333333, 0.49883333333333335], 'L-SVM': [0.5118333333333334, 0.5321666666666667, 0.525, 0.5401666666666667, 0.538, 0.5511666666666667, 0.5411666666666667, 0.553, 0.5408333333333334, 0.5568333333333333, 0.5478333333333333, 0.556, 0.5501666666666667, 0.5475, 0.5656666666666667, 0.557, 0.5686666666666667, 0.5596666666666666, 0.5621666666666667, 0.5695, 0.562, 0.566, 0.5655, 0.5756666666666667, 0.5683333333333334, 0.5728333333333333, 0.5781666666666667, 0.5593333333333333, 0.5543333333333333, 0.5506666666666666, 0.5518333333333333, 0.5398333333333334, 0.5248333333333334, 0.5321666666666667, 0.5305, 0.5186666666666667, 0.5095, 0.5133333333333333, 0.49883333333333335]}\n",
      "{'MLP': [0.5343333333333333, 0.5601666666666667, 0.5406666666666666, 0.5518333333333333, 0.5521666666666667, 0.543, 0.5436666666666666, 0.5548333333333333, 0.5591666666666667, 0.5543333333333333, 0.5408333333333334, 0.5571666666666667, 0.5525, 0.5406666666666666, 0.5603333333333333, 0.5623333333333334, 0.565, 0.5585, 0.56, 0.5713333333333334, 0.5608333333333333, 0.5723333333333334, 0.5723333333333334, 0.567, 0.5716666666666667, 0.5621666666666667, 0.5798333333333333, 0.5715, 0.5531666666666667, 0.5461666666666667, 0.537, 0.5415, 0.5286666666666666, 0.5316666666666666, 0.5318333333333334, 0.522, 0.5095, 0.5136666666666667, 0.5011666666666666, 0.49883333333333335], 'G-NB': [0.5268333333333334, 0.5513333333333333, 0.5448333333333333, 0.5551666666666667, 0.5431666666666667, 0.5573333333333333, 0.5468333333333333, 0.5545, 0.55, 0.5548333333333333, 0.548, 0.5553333333333333, 0.5536666666666666, 0.5476666666666666, 0.5578333333333333, 0.5543333333333333, 0.5605, 0.5583333333333333, 0.5588333333333333, 0.5666666666666667, 0.561, 0.5458333333333333, 0.552, 0.5521666666666667, 0.5658333333333333, 0.5613333333333334, 0.5603333333333333, 0.5391666666666667, 0.5515, 0.5445, 0.5293333333333333, 0.5238333333333334, 0.5115, 0.5176666666666667, 0.5135, 0.508, 0.502, 0.5063333333333333, 0.49883333333333335, 0.49883333333333335], 'L-SVM': [0.5118333333333334, 0.5321666666666667, 0.525, 0.5401666666666667, 0.538, 0.5511666666666667, 0.5411666666666667, 0.553, 0.5408333333333334, 0.5568333333333333, 0.5478333333333333, 0.556, 0.5501666666666667, 0.5475, 0.5656666666666667, 0.557, 0.5686666666666667, 0.5596666666666666, 0.5621666666666667, 0.5695, 0.562, 0.566, 0.5655, 0.5756666666666667, 0.5683333333333334, 0.5728333333333333, 0.5781666666666667, 0.5593333333333333, 0.5543333333333333, 0.5506666666666666, 0.5518333333333333, 0.5398333333333334, 0.5248333333333334, 0.5321666666666667, 0.5305, 0.5186666666666667, 0.5095, 0.5133333333333333, 0.49883333333333335, 0.49883333333333335]}\n",
      "{'MLP': [0.5343333333333333, 0.5601666666666667, 0.5406666666666666, 0.5518333333333333, 0.5521666666666667, 0.543, 0.5436666666666666, 0.5548333333333333, 0.5591666666666667, 0.5543333333333333, 0.5408333333333334, 0.5571666666666667, 0.5525, 0.5406666666666666, 0.5603333333333333, 0.5623333333333334, 0.565, 0.5585, 0.56, 0.5713333333333334, 0.5608333333333333, 0.5723333333333334, 0.5723333333333334, 0.567, 0.5716666666666667, 0.5621666666666667, 0.5798333333333333, 0.5715, 0.5531666666666667, 0.5461666666666667, 0.537, 0.5415, 0.5286666666666666, 0.5316666666666666, 0.5318333333333334, 0.522, 0.5095, 0.5136666666666667, 0.5011666666666666, 0.49883333333333335, 0.49883333333333335], 'G-NB': [0.5268333333333334, 0.5513333333333333, 0.5448333333333333, 0.5551666666666667, 0.5431666666666667, 0.5573333333333333, 0.5468333333333333, 0.5545, 0.55, 0.5548333333333333, 0.548, 0.5553333333333333, 0.5536666666666666, 0.5476666666666666, 0.5578333333333333, 0.5543333333333333, 0.5605, 0.5583333333333333, 0.5588333333333333, 0.5666666666666667, 0.561, 0.5458333333333333, 0.552, 0.5521666666666667, 0.5658333333333333, 0.5613333333333334, 0.5603333333333333, 0.5391666666666667, 0.5515, 0.5445, 0.5293333333333333, 0.5238333333333334, 0.5115, 0.5176666666666667, 0.5135, 0.508, 0.502, 0.5063333333333333, 0.49883333333333335, 0.49883333333333335, 0.49883333333333335], 'L-SVM': [0.5118333333333334, 0.5321666666666667, 0.525, 0.5401666666666667, 0.538, 0.5511666666666667, 0.5411666666666667, 0.553, 0.5408333333333334, 0.5568333333333333, 0.5478333333333333, 0.556, 0.5501666666666667, 0.5475, 0.5656666666666667, 0.557, 0.5686666666666667, 0.5596666666666666, 0.5621666666666667, 0.5695, 0.562, 0.566, 0.5655, 0.5756666666666667, 0.5683333333333334, 0.5728333333333333, 0.5781666666666667, 0.5593333333333333, 0.5543333333333333, 0.5506666666666666, 0.5518333333333333, 0.5398333333333334, 0.5248333333333334, 0.5321666666666667, 0.5305, 0.5186666666666667, 0.5095, 0.5133333333333333, 0.49883333333333335, 0.49883333333333335, 0.49883333333333335]}\n",
      "{'MLP': [0.5343333333333333, 0.5601666666666667, 0.5406666666666666, 0.5518333333333333, 0.5521666666666667, 0.543, 0.5436666666666666, 0.5548333333333333, 0.5591666666666667, 0.5543333333333333, 0.5408333333333334, 0.5571666666666667, 0.5525, 0.5406666666666666, 0.5603333333333333, 0.5623333333333334, 0.565, 0.5585, 0.56, 0.5713333333333334, 0.5608333333333333, 0.5723333333333334, 0.5723333333333334, 0.567, 0.5716666666666667, 0.5621666666666667, 0.5798333333333333, 0.5715, 0.5531666666666667, 0.5461666666666667, 0.537, 0.5415, 0.5286666666666666, 0.5316666666666666, 0.5318333333333334, 0.522, 0.5095, 0.5136666666666667, 0.5011666666666666, 0.49883333333333335, 0.49883333333333335, 0.5011666666666666], 'G-NB': [0.5268333333333334, 0.5513333333333333, 0.5448333333333333, 0.5551666666666667, 0.5431666666666667, 0.5573333333333333, 0.5468333333333333, 0.5545, 0.55, 0.5548333333333333, 0.548, 0.5553333333333333, 0.5536666666666666, 0.5476666666666666, 0.5578333333333333, 0.5543333333333333, 0.5605, 0.5583333333333333, 0.5588333333333333, 0.5666666666666667, 0.561, 0.5458333333333333, 0.552, 0.5521666666666667, 0.5658333333333333, 0.5613333333333334, 0.5603333333333333, 0.5391666666666667, 0.5515, 0.5445, 0.5293333333333333, 0.5238333333333334, 0.5115, 0.5176666666666667, 0.5135, 0.508, 0.502, 0.5063333333333333, 0.49883333333333335, 0.49883333333333335, 0.49883333333333335, 0.49883333333333335], 'L-SVM': [0.5118333333333334, 0.5321666666666667, 0.525, 0.5401666666666667, 0.538, 0.5511666666666667, 0.5411666666666667, 0.553, 0.5408333333333334, 0.5568333333333333, 0.5478333333333333, 0.556, 0.5501666666666667, 0.5475, 0.5656666666666667, 0.557, 0.5686666666666667, 0.5596666666666666, 0.5621666666666667, 0.5695, 0.562, 0.566, 0.5655, 0.5756666666666667, 0.5683333333333334, 0.5728333333333333, 0.5781666666666667, 0.5593333333333333, 0.5543333333333333, 0.5506666666666666, 0.5518333333333333, 0.5398333333333334, 0.5248333333333334, 0.5321666666666667, 0.5305, 0.5186666666666667, 0.5095, 0.5133333333333333, 0.49883333333333335, 0.49883333333333335, 0.49883333333333335, 0.49883333333333335]}\n",
      "{'MLP': [0.5343333333333333, 0.5601666666666667, 0.5406666666666666, 0.5518333333333333, 0.5521666666666667, 0.543, 0.5436666666666666, 0.5548333333333333, 0.5591666666666667, 0.5543333333333333, 0.5408333333333334, 0.5571666666666667, 0.5525, 0.5406666666666666, 0.5603333333333333, 0.5623333333333334, 0.565, 0.5585, 0.56, 0.5713333333333334, 0.5608333333333333, 0.5723333333333334, 0.5723333333333334, 0.567, 0.5716666666666667, 0.5621666666666667, 0.5798333333333333, 0.5715, 0.5531666666666667, 0.5461666666666667, 0.537, 0.5415, 0.5286666666666666, 0.5316666666666666, 0.5318333333333334, 0.522, 0.5095, 0.5136666666666667, 0.5011666666666666, 0.49883333333333335, 0.49883333333333335, 0.5011666666666666, 0.5011666666666666], 'G-NB': [0.5268333333333334, 0.5513333333333333, 0.5448333333333333, 0.5551666666666667, 0.5431666666666667, 0.5573333333333333, 0.5468333333333333, 0.5545, 0.55, 0.5548333333333333, 0.548, 0.5553333333333333, 0.5536666666666666, 0.5476666666666666, 0.5578333333333333, 0.5543333333333333, 0.5605, 0.5583333333333333, 0.5588333333333333, 0.5666666666666667, 0.561, 0.5458333333333333, 0.552, 0.5521666666666667, 0.5658333333333333, 0.5613333333333334, 0.5603333333333333, 0.5391666666666667, 0.5515, 0.5445, 0.5293333333333333, 0.5238333333333334, 0.5115, 0.5176666666666667, 0.5135, 0.508, 0.502, 0.5063333333333333, 0.49883333333333335, 0.49883333333333335, 0.49883333333333335, 0.49883333333333335, 0.49883333333333335], 'L-SVM': [0.5118333333333334, 0.5321666666666667, 0.525, 0.5401666666666667, 0.538, 0.5511666666666667, 0.5411666666666667, 0.553, 0.5408333333333334, 0.5568333333333333, 0.5478333333333333, 0.556, 0.5501666666666667, 0.5475, 0.5656666666666667, 0.557, 0.5686666666666667, 0.5596666666666666, 0.5621666666666667, 0.5695, 0.562, 0.566, 0.5655, 0.5756666666666667, 0.5683333333333334, 0.5728333333333333, 0.5781666666666667, 0.5593333333333333, 0.5543333333333333, 0.5506666666666666, 0.5518333333333333, 0.5398333333333334, 0.5248333333333334, 0.5321666666666667, 0.5305, 0.5186666666666667, 0.5095, 0.5133333333333333, 0.49883333333333335, 0.49883333333333335, 0.49883333333333335, 0.49883333333333335, 0.49883333333333335]}\n",
      "{'MLP': [0.5343333333333333, 0.5601666666666667, 0.5406666666666666, 0.5518333333333333, 0.5521666666666667, 0.543, 0.5436666666666666, 0.5548333333333333, 0.5591666666666667, 0.5543333333333333, 0.5408333333333334, 0.5571666666666667, 0.5525, 0.5406666666666666, 0.5603333333333333, 0.5623333333333334, 0.565, 0.5585, 0.56, 0.5713333333333334, 0.5608333333333333, 0.5723333333333334, 0.5723333333333334, 0.567, 0.5716666666666667, 0.5621666666666667, 0.5798333333333333, 0.5715, 0.5531666666666667, 0.5461666666666667, 0.537, 0.5415, 0.5286666666666666, 0.5316666666666666, 0.5318333333333334, 0.522, 0.5095, 0.5136666666666667, 0.5011666666666666, 0.49883333333333335, 0.49883333333333335, 0.5011666666666666, 0.5011666666666666, 0.49883333333333335], 'G-NB': [0.5268333333333334, 0.5513333333333333, 0.5448333333333333, 0.5551666666666667, 0.5431666666666667, 0.5573333333333333, 0.5468333333333333, 0.5545, 0.55, 0.5548333333333333, 0.548, 0.5553333333333333, 0.5536666666666666, 0.5476666666666666, 0.5578333333333333, 0.5543333333333333, 0.5605, 0.5583333333333333, 0.5588333333333333, 0.5666666666666667, 0.561, 0.5458333333333333, 0.552, 0.5521666666666667, 0.5658333333333333, 0.5613333333333334, 0.5603333333333333, 0.5391666666666667, 0.5515, 0.5445, 0.5293333333333333, 0.5238333333333334, 0.5115, 0.5176666666666667, 0.5135, 0.508, 0.502, 0.5063333333333333, 0.49883333333333335, 0.49883333333333335, 0.49883333333333335, 0.49883333333333335, 0.49883333333333335, 0.49883333333333335], 'L-SVM': [0.5118333333333334, 0.5321666666666667, 0.525, 0.5401666666666667, 0.538, 0.5511666666666667, 0.5411666666666667, 0.553, 0.5408333333333334, 0.5568333333333333, 0.5478333333333333, 0.556, 0.5501666666666667, 0.5475, 0.5656666666666667, 0.557, 0.5686666666666667, 0.5596666666666666, 0.5621666666666667, 0.5695, 0.562, 0.566, 0.5655, 0.5756666666666667, 0.5683333333333334, 0.5728333333333333, 0.5781666666666667, 0.5593333333333333, 0.5543333333333333, 0.5506666666666666, 0.5518333333333333, 0.5398333333333334, 0.5248333333333334, 0.5321666666666667, 0.5305, 0.5186666666666667, 0.5095, 0.5133333333333333, 0.49883333333333335, 0.49883333333333335, 0.49883333333333335, 0.49883333333333335, 0.49883333333333335, 0.49883333333333335]}\n",
      "{'MLP': [0.5343333333333333, 0.5601666666666667, 0.5406666666666666, 0.5518333333333333, 0.5521666666666667, 0.543, 0.5436666666666666, 0.5548333333333333, 0.5591666666666667, 0.5543333333333333, 0.5408333333333334, 0.5571666666666667, 0.5525, 0.5406666666666666, 0.5603333333333333, 0.5623333333333334, 0.565, 0.5585, 0.56, 0.5713333333333334, 0.5608333333333333, 0.5723333333333334, 0.5723333333333334, 0.567, 0.5716666666666667, 0.5621666666666667, 0.5798333333333333, 0.5715, 0.5531666666666667, 0.5461666666666667, 0.537, 0.5415, 0.5286666666666666, 0.5316666666666666, 0.5318333333333334, 0.522, 0.5095, 0.5136666666666667, 0.5011666666666666, 0.49883333333333335, 0.49883333333333335, 0.5011666666666666, 0.5011666666666666, 0.49883333333333335, 0.5011666666666666], 'G-NB': [0.5268333333333334, 0.5513333333333333, 0.5448333333333333, 0.5551666666666667, 0.5431666666666667, 0.5573333333333333, 0.5468333333333333, 0.5545, 0.55, 0.5548333333333333, 0.548, 0.5553333333333333, 0.5536666666666666, 0.5476666666666666, 0.5578333333333333, 0.5543333333333333, 0.5605, 0.5583333333333333, 0.5588333333333333, 0.5666666666666667, 0.561, 0.5458333333333333, 0.552, 0.5521666666666667, 0.5658333333333333, 0.5613333333333334, 0.5603333333333333, 0.5391666666666667, 0.5515, 0.5445, 0.5293333333333333, 0.5238333333333334, 0.5115, 0.5176666666666667, 0.5135, 0.508, 0.502, 0.5063333333333333, 0.49883333333333335, 0.49883333333333335, 0.49883333333333335, 0.49883333333333335, 0.49883333333333335, 0.49883333333333335, 0.5011666666666666], 'L-SVM': [0.5118333333333334, 0.5321666666666667, 0.525, 0.5401666666666667, 0.538, 0.5511666666666667, 0.5411666666666667, 0.553, 0.5408333333333334, 0.5568333333333333, 0.5478333333333333, 0.556, 0.5501666666666667, 0.5475, 0.5656666666666667, 0.557, 0.5686666666666667, 0.5596666666666666, 0.5621666666666667, 0.5695, 0.562, 0.566, 0.5655, 0.5756666666666667, 0.5683333333333334, 0.5728333333333333, 0.5781666666666667, 0.5593333333333333, 0.5543333333333333, 0.5506666666666666, 0.5518333333333333, 0.5398333333333334, 0.5248333333333334, 0.5321666666666667, 0.5305, 0.5186666666666667, 0.5095, 0.5133333333333333, 0.49883333333333335, 0.49883333333333335, 0.49883333333333335, 0.49883333333333335, 0.49883333333333335, 0.49883333333333335, 0.49883333333333335]}\n",
      "{'MLP': [0.5343333333333333, 0.5601666666666667, 0.5406666666666666, 0.5518333333333333, 0.5521666666666667, 0.543, 0.5436666666666666, 0.5548333333333333, 0.5591666666666667, 0.5543333333333333, 0.5408333333333334, 0.5571666666666667, 0.5525, 0.5406666666666666, 0.5603333333333333, 0.5623333333333334, 0.565, 0.5585, 0.56, 0.5713333333333334, 0.5608333333333333, 0.5723333333333334, 0.5723333333333334, 0.567, 0.5716666666666667, 0.5621666666666667, 0.5798333333333333, 0.5715, 0.5531666666666667, 0.5461666666666667, 0.537, 0.5415, 0.5286666666666666, 0.5316666666666666, 0.5318333333333334, 0.522, 0.5095, 0.5136666666666667, 0.5011666666666666, 0.49883333333333335, 0.49883333333333335, 0.5011666666666666, 0.5011666666666666, 0.49883333333333335, 0.5011666666666666, 0.5011666666666666], 'G-NB': [0.5268333333333334, 0.5513333333333333, 0.5448333333333333, 0.5551666666666667, 0.5431666666666667, 0.5573333333333333, 0.5468333333333333, 0.5545, 0.55, 0.5548333333333333, 0.548, 0.5553333333333333, 0.5536666666666666, 0.5476666666666666, 0.5578333333333333, 0.5543333333333333, 0.5605, 0.5583333333333333, 0.5588333333333333, 0.5666666666666667, 0.561, 0.5458333333333333, 0.552, 0.5521666666666667, 0.5658333333333333, 0.5613333333333334, 0.5603333333333333, 0.5391666666666667, 0.5515, 0.5445, 0.5293333333333333, 0.5238333333333334, 0.5115, 0.5176666666666667, 0.5135, 0.508, 0.502, 0.5063333333333333, 0.49883333333333335, 0.49883333333333335, 0.49883333333333335, 0.49883333333333335, 0.49883333333333335, 0.49883333333333335, 0.5011666666666666, 0.5011666666666666], 'L-SVM': [0.5118333333333334, 0.5321666666666667, 0.525, 0.5401666666666667, 0.538, 0.5511666666666667, 0.5411666666666667, 0.553, 0.5408333333333334, 0.5568333333333333, 0.5478333333333333, 0.556, 0.5501666666666667, 0.5475, 0.5656666666666667, 0.557, 0.5686666666666667, 0.5596666666666666, 0.5621666666666667, 0.5695, 0.562, 0.566, 0.5655, 0.5756666666666667, 0.5683333333333334, 0.5728333333333333, 0.5781666666666667, 0.5593333333333333, 0.5543333333333333, 0.5506666666666666, 0.5518333333333333, 0.5398333333333334, 0.5248333333333334, 0.5321666666666667, 0.5305, 0.5186666666666667, 0.5095, 0.5133333333333333, 0.49883333333333335, 0.49883333333333335, 0.49883333333333335, 0.49883333333333335, 0.49883333333333335, 0.49883333333333335, 0.49883333333333335, 0.49883333333333335]}\n",
      "{'MLP': [0.5343333333333333, 0.5601666666666667, 0.5406666666666666, 0.5518333333333333, 0.5521666666666667, 0.543, 0.5436666666666666, 0.5548333333333333, 0.5591666666666667, 0.5543333333333333, 0.5408333333333334, 0.5571666666666667, 0.5525, 0.5406666666666666, 0.5603333333333333, 0.5623333333333334, 0.565, 0.5585, 0.56, 0.5713333333333334, 0.5608333333333333, 0.5723333333333334, 0.5723333333333334, 0.567, 0.5716666666666667, 0.5621666666666667, 0.5798333333333333, 0.5715, 0.5531666666666667, 0.5461666666666667, 0.537, 0.5415, 0.5286666666666666, 0.5316666666666666, 0.5318333333333334, 0.522, 0.5095, 0.5136666666666667, 0.5011666666666666, 0.49883333333333335, 0.49883333333333335, 0.5011666666666666, 0.5011666666666666, 0.49883333333333335, 0.5011666666666666, 0.5011666666666666, 0.5011666666666666], 'G-NB': [0.5268333333333334, 0.5513333333333333, 0.5448333333333333, 0.5551666666666667, 0.5431666666666667, 0.5573333333333333, 0.5468333333333333, 0.5545, 0.55, 0.5548333333333333, 0.548, 0.5553333333333333, 0.5536666666666666, 0.5476666666666666, 0.5578333333333333, 0.5543333333333333, 0.5605, 0.5583333333333333, 0.5588333333333333, 0.5666666666666667, 0.561, 0.5458333333333333, 0.552, 0.5521666666666667, 0.5658333333333333, 0.5613333333333334, 0.5603333333333333, 0.5391666666666667, 0.5515, 0.5445, 0.5293333333333333, 0.5238333333333334, 0.5115, 0.5176666666666667, 0.5135, 0.508, 0.502, 0.5063333333333333, 0.49883333333333335, 0.49883333333333335, 0.49883333333333335, 0.49883333333333335, 0.49883333333333335, 0.49883333333333335, 0.5011666666666666, 0.5011666666666666, 0.49883333333333335], 'L-SVM': [0.5118333333333334, 0.5321666666666667, 0.525, 0.5401666666666667, 0.538, 0.5511666666666667, 0.5411666666666667, 0.553, 0.5408333333333334, 0.5568333333333333, 0.5478333333333333, 0.556, 0.5501666666666667, 0.5475, 0.5656666666666667, 0.557, 0.5686666666666667, 0.5596666666666666, 0.5621666666666667, 0.5695, 0.562, 0.566, 0.5655, 0.5756666666666667, 0.5683333333333334, 0.5728333333333333, 0.5781666666666667, 0.5593333333333333, 0.5543333333333333, 0.5506666666666666, 0.5518333333333333, 0.5398333333333334, 0.5248333333333334, 0.5321666666666667, 0.5305, 0.5186666666666667, 0.5095, 0.5133333333333333, 0.49883333333333335, 0.49883333333333335, 0.49883333333333335, 0.49883333333333335, 0.49883333333333335, 0.49883333333333335, 0.49883333333333335, 0.49883333333333335, 0.49883333333333335]}\n",
      "{'MLP': [0.5343333333333333, 0.5601666666666667, 0.5406666666666666, 0.5518333333333333, 0.5521666666666667, 0.543, 0.5436666666666666, 0.5548333333333333, 0.5591666666666667, 0.5543333333333333, 0.5408333333333334, 0.5571666666666667, 0.5525, 0.5406666666666666, 0.5603333333333333, 0.5623333333333334, 0.565, 0.5585, 0.56, 0.5713333333333334, 0.5608333333333333, 0.5723333333333334, 0.5723333333333334, 0.567, 0.5716666666666667, 0.5621666666666667, 0.5798333333333333, 0.5715, 0.5531666666666667, 0.5461666666666667, 0.537, 0.5415, 0.5286666666666666, 0.5316666666666666, 0.5318333333333334, 0.522, 0.5095, 0.5136666666666667, 0.5011666666666666, 0.49883333333333335, 0.49883333333333335, 0.5011666666666666, 0.5011666666666666, 0.49883333333333335, 0.5011666666666666, 0.5011666666666666, 0.5011666666666666, 0.5011666666666666], 'G-NB': [0.5268333333333334, 0.5513333333333333, 0.5448333333333333, 0.5551666666666667, 0.5431666666666667, 0.5573333333333333, 0.5468333333333333, 0.5545, 0.55, 0.5548333333333333, 0.548, 0.5553333333333333, 0.5536666666666666, 0.5476666666666666, 0.5578333333333333, 0.5543333333333333, 0.5605, 0.5583333333333333, 0.5588333333333333, 0.5666666666666667, 0.561, 0.5458333333333333, 0.552, 0.5521666666666667, 0.5658333333333333, 0.5613333333333334, 0.5603333333333333, 0.5391666666666667, 0.5515, 0.5445, 0.5293333333333333, 0.5238333333333334, 0.5115, 0.5176666666666667, 0.5135, 0.508, 0.502, 0.5063333333333333, 0.49883333333333335, 0.49883333333333335, 0.49883333333333335, 0.49883333333333335, 0.49883333333333335, 0.49883333333333335, 0.5011666666666666, 0.5011666666666666, 0.49883333333333335, 0.5011666666666666], 'L-SVM': [0.5118333333333334, 0.5321666666666667, 0.525, 0.5401666666666667, 0.538, 0.5511666666666667, 0.5411666666666667, 0.553, 0.5408333333333334, 0.5568333333333333, 0.5478333333333333, 0.556, 0.5501666666666667, 0.5475, 0.5656666666666667, 0.557, 0.5686666666666667, 0.5596666666666666, 0.5621666666666667, 0.5695, 0.562, 0.566, 0.5655, 0.5756666666666667, 0.5683333333333334, 0.5728333333333333, 0.5781666666666667, 0.5593333333333333, 0.5543333333333333, 0.5506666666666666, 0.5518333333333333, 0.5398333333333334, 0.5248333333333334, 0.5321666666666667, 0.5305, 0.5186666666666667, 0.5095, 0.5133333333333333, 0.49883333333333335, 0.49883333333333335, 0.49883333333333335, 0.49883333333333335, 0.49883333333333335, 0.49883333333333335, 0.49883333333333335, 0.49883333333333335, 0.49883333333333335, 0.49883333333333335]}\n",
      "{'MLP': [0.5343333333333333, 0.5601666666666667, 0.5406666666666666, 0.5518333333333333, 0.5521666666666667, 0.543, 0.5436666666666666, 0.5548333333333333, 0.5591666666666667, 0.5543333333333333, 0.5408333333333334, 0.5571666666666667, 0.5525, 0.5406666666666666, 0.5603333333333333, 0.5623333333333334, 0.565, 0.5585, 0.56, 0.5713333333333334, 0.5608333333333333, 0.5723333333333334, 0.5723333333333334, 0.567, 0.5716666666666667, 0.5621666666666667, 0.5798333333333333, 0.5715, 0.5531666666666667, 0.5461666666666667, 0.537, 0.5415, 0.5286666666666666, 0.5316666666666666, 0.5318333333333334, 0.522, 0.5095, 0.5136666666666667, 0.5011666666666666, 0.49883333333333335, 0.49883333333333335, 0.5011666666666666, 0.5011666666666666, 0.49883333333333335, 0.5011666666666666, 0.5011666666666666, 0.5011666666666666, 0.5011666666666666, 0.49883333333333335], 'G-NB': [0.5268333333333334, 0.5513333333333333, 0.5448333333333333, 0.5551666666666667, 0.5431666666666667, 0.5573333333333333, 0.5468333333333333, 0.5545, 0.55, 0.5548333333333333, 0.548, 0.5553333333333333, 0.5536666666666666, 0.5476666666666666, 0.5578333333333333, 0.5543333333333333, 0.5605, 0.5583333333333333, 0.5588333333333333, 0.5666666666666667, 0.561, 0.5458333333333333, 0.552, 0.5521666666666667, 0.5658333333333333, 0.5613333333333334, 0.5603333333333333, 0.5391666666666667, 0.5515, 0.5445, 0.5293333333333333, 0.5238333333333334, 0.5115, 0.5176666666666667, 0.5135, 0.508, 0.502, 0.5063333333333333, 0.49883333333333335, 0.49883333333333335, 0.49883333333333335, 0.49883333333333335, 0.49883333333333335, 0.49883333333333335, 0.5011666666666666, 0.5011666666666666, 0.49883333333333335, 0.5011666666666666, 0.5011666666666666], 'L-SVM': [0.5118333333333334, 0.5321666666666667, 0.525, 0.5401666666666667, 0.538, 0.5511666666666667, 0.5411666666666667, 0.553, 0.5408333333333334, 0.5568333333333333, 0.5478333333333333, 0.556, 0.5501666666666667, 0.5475, 0.5656666666666667, 0.557, 0.5686666666666667, 0.5596666666666666, 0.5621666666666667, 0.5695, 0.562, 0.566, 0.5655, 0.5756666666666667, 0.5683333333333334, 0.5728333333333333, 0.5781666666666667, 0.5593333333333333, 0.5543333333333333, 0.5506666666666666, 0.5518333333333333, 0.5398333333333334, 0.5248333333333334, 0.5321666666666667, 0.5305, 0.5186666666666667, 0.5095, 0.5133333333333333, 0.49883333333333335, 0.49883333333333335, 0.49883333333333335, 0.49883333333333335, 0.49883333333333335, 0.49883333333333335, 0.49883333333333335, 0.49883333333333335, 0.49883333333333335, 0.49883333333333335, 0.49883333333333335]}\n",
      "{'MLP': [0.5343333333333333, 0.5601666666666667, 0.5406666666666666, 0.5518333333333333, 0.5521666666666667, 0.543, 0.5436666666666666, 0.5548333333333333, 0.5591666666666667, 0.5543333333333333, 0.5408333333333334, 0.5571666666666667, 0.5525, 0.5406666666666666, 0.5603333333333333, 0.5623333333333334, 0.565, 0.5585, 0.56, 0.5713333333333334, 0.5608333333333333, 0.5723333333333334, 0.5723333333333334, 0.567, 0.5716666666666667, 0.5621666666666667, 0.5798333333333333, 0.5715, 0.5531666666666667, 0.5461666666666667, 0.537, 0.5415, 0.5286666666666666, 0.5316666666666666, 0.5318333333333334, 0.522, 0.5095, 0.5136666666666667, 0.5011666666666666, 0.49883333333333335, 0.49883333333333335, 0.5011666666666666, 0.5011666666666666, 0.49883333333333335, 0.5011666666666666, 0.5011666666666666, 0.5011666666666666, 0.5011666666666666, 0.49883333333333335, 0.49883333333333335], 'G-NB': [0.5268333333333334, 0.5513333333333333, 0.5448333333333333, 0.5551666666666667, 0.5431666666666667, 0.5573333333333333, 0.5468333333333333, 0.5545, 0.55, 0.5548333333333333, 0.548, 0.5553333333333333, 0.5536666666666666, 0.5476666666666666, 0.5578333333333333, 0.5543333333333333, 0.5605, 0.5583333333333333, 0.5588333333333333, 0.5666666666666667, 0.561, 0.5458333333333333, 0.552, 0.5521666666666667, 0.5658333333333333, 0.5613333333333334, 0.5603333333333333, 0.5391666666666667, 0.5515, 0.5445, 0.5293333333333333, 0.5238333333333334, 0.5115, 0.5176666666666667, 0.5135, 0.508, 0.502, 0.5063333333333333, 0.49883333333333335, 0.49883333333333335, 0.49883333333333335, 0.49883333333333335, 0.49883333333333335, 0.49883333333333335, 0.5011666666666666, 0.5011666666666666, 0.49883333333333335, 0.5011666666666666, 0.5011666666666666, 0.5011666666666666], 'L-SVM': [0.5118333333333334, 0.5321666666666667, 0.525, 0.5401666666666667, 0.538, 0.5511666666666667, 0.5411666666666667, 0.553, 0.5408333333333334, 0.5568333333333333, 0.5478333333333333, 0.556, 0.5501666666666667, 0.5475, 0.5656666666666667, 0.557, 0.5686666666666667, 0.5596666666666666, 0.5621666666666667, 0.5695, 0.562, 0.566, 0.5655, 0.5756666666666667, 0.5683333333333334, 0.5728333333333333, 0.5781666666666667, 0.5593333333333333, 0.5543333333333333, 0.5506666666666666, 0.5518333333333333, 0.5398333333333334, 0.5248333333333334, 0.5321666666666667, 0.5305, 0.5186666666666667, 0.5095, 0.5133333333333333, 0.49883333333333335, 0.49883333333333335, 0.49883333333333335, 0.49883333333333335, 0.49883333333333335, 0.49883333333333335, 0.49883333333333335, 0.49883333333333335, 0.49883333333333335, 0.49883333333333335, 0.49883333333333335, 0.49883333333333335]}\n",
      "{'MLP': [0.5343333333333333, 0.5601666666666667, 0.5406666666666666, 0.5518333333333333, 0.5521666666666667, 0.543, 0.5436666666666666, 0.5548333333333333, 0.5591666666666667, 0.5543333333333333, 0.5408333333333334, 0.5571666666666667, 0.5525, 0.5406666666666666, 0.5603333333333333, 0.5623333333333334, 0.565, 0.5585, 0.56, 0.5713333333333334, 0.5608333333333333, 0.5723333333333334, 0.5723333333333334, 0.567, 0.5716666666666667, 0.5621666666666667, 0.5798333333333333, 0.5715, 0.5531666666666667, 0.5461666666666667, 0.537, 0.5415, 0.5286666666666666, 0.5316666666666666, 0.5318333333333334, 0.522, 0.5095, 0.5136666666666667, 0.5011666666666666, 0.49883333333333335, 0.49883333333333335, 0.5011666666666666, 0.5011666666666666, 0.49883333333333335, 0.5011666666666666, 0.5011666666666666, 0.5011666666666666, 0.5011666666666666, 0.49883333333333335, 0.49883333333333335, 0.49883333333333335], 'G-NB': [0.5268333333333334, 0.5513333333333333, 0.5448333333333333, 0.5551666666666667, 0.5431666666666667, 0.5573333333333333, 0.5468333333333333, 0.5545, 0.55, 0.5548333333333333, 0.548, 0.5553333333333333, 0.5536666666666666, 0.5476666666666666, 0.5578333333333333, 0.5543333333333333, 0.5605, 0.5583333333333333, 0.5588333333333333, 0.5666666666666667, 0.561, 0.5458333333333333, 0.552, 0.5521666666666667, 0.5658333333333333, 0.5613333333333334, 0.5603333333333333, 0.5391666666666667, 0.5515, 0.5445, 0.5293333333333333, 0.5238333333333334, 0.5115, 0.5176666666666667, 0.5135, 0.508, 0.502, 0.5063333333333333, 0.49883333333333335, 0.49883333333333335, 0.49883333333333335, 0.49883333333333335, 0.49883333333333335, 0.49883333333333335, 0.5011666666666666, 0.5011666666666666, 0.49883333333333335, 0.5011666666666666, 0.5011666666666666, 0.5011666666666666, 0.5011666666666666], 'L-SVM': [0.5118333333333334, 0.5321666666666667, 0.525, 0.5401666666666667, 0.538, 0.5511666666666667, 0.5411666666666667, 0.553, 0.5408333333333334, 0.5568333333333333, 0.5478333333333333, 0.556, 0.5501666666666667, 0.5475, 0.5656666666666667, 0.557, 0.5686666666666667, 0.5596666666666666, 0.5621666666666667, 0.5695, 0.562, 0.566, 0.5655, 0.5756666666666667, 0.5683333333333334, 0.5728333333333333, 0.5781666666666667, 0.5593333333333333, 0.5543333333333333, 0.5506666666666666, 0.5518333333333333, 0.5398333333333334, 0.5248333333333334, 0.5321666666666667, 0.5305, 0.5186666666666667, 0.5095, 0.5133333333333333, 0.49883333333333335, 0.49883333333333335, 0.49883333333333335, 0.49883333333333335, 0.49883333333333335, 0.49883333333333335, 0.49883333333333335, 0.49883333333333335, 0.49883333333333335, 0.49883333333333335, 0.49883333333333335, 0.49883333333333335, 0.49883333333333335]}\n",
      "{'MLP': [0.5343333333333333, 0.5601666666666667, 0.5406666666666666, 0.5518333333333333, 0.5521666666666667, 0.543, 0.5436666666666666, 0.5548333333333333, 0.5591666666666667, 0.5543333333333333, 0.5408333333333334, 0.5571666666666667, 0.5525, 0.5406666666666666, 0.5603333333333333, 0.5623333333333334, 0.565, 0.5585, 0.56, 0.5713333333333334, 0.5608333333333333, 0.5723333333333334, 0.5723333333333334, 0.567, 0.5716666666666667, 0.5621666666666667, 0.5798333333333333, 0.5715, 0.5531666666666667, 0.5461666666666667, 0.537, 0.5415, 0.5286666666666666, 0.5316666666666666, 0.5318333333333334, 0.522, 0.5095, 0.5136666666666667, 0.5011666666666666, 0.49883333333333335, 0.49883333333333335, 0.5011666666666666, 0.5011666666666666, 0.49883333333333335, 0.5011666666666666, 0.5011666666666666, 0.5011666666666666, 0.5011666666666666, 0.49883333333333335, 0.49883333333333335, 0.49883333333333335, 0.5011666666666666], 'G-NB': [0.5268333333333334, 0.5513333333333333, 0.5448333333333333, 0.5551666666666667, 0.5431666666666667, 0.5573333333333333, 0.5468333333333333, 0.5545, 0.55, 0.5548333333333333, 0.548, 0.5553333333333333, 0.5536666666666666, 0.5476666666666666, 0.5578333333333333, 0.5543333333333333, 0.5605, 0.5583333333333333, 0.5588333333333333, 0.5666666666666667, 0.561, 0.5458333333333333, 0.552, 0.5521666666666667, 0.5658333333333333, 0.5613333333333334, 0.5603333333333333, 0.5391666666666667, 0.5515, 0.5445, 0.5293333333333333, 0.5238333333333334, 0.5115, 0.5176666666666667, 0.5135, 0.508, 0.502, 0.5063333333333333, 0.49883333333333335, 0.49883333333333335, 0.49883333333333335, 0.49883333333333335, 0.49883333333333335, 0.49883333333333335, 0.5011666666666666, 0.5011666666666666, 0.49883333333333335, 0.5011666666666666, 0.5011666666666666, 0.5011666666666666, 0.5011666666666666, 0.49883333333333335], 'L-SVM': [0.5118333333333334, 0.5321666666666667, 0.525, 0.5401666666666667, 0.538, 0.5511666666666667, 0.5411666666666667, 0.553, 0.5408333333333334, 0.5568333333333333, 0.5478333333333333, 0.556, 0.5501666666666667, 0.5475, 0.5656666666666667, 0.557, 0.5686666666666667, 0.5596666666666666, 0.5621666666666667, 0.5695, 0.562, 0.566, 0.5655, 0.5756666666666667, 0.5683333333333334, 0.5728333333333333, 0.5781666666666667, 0.5593333333333333, 0.5543333333333333, 0.5506666666666666, 0.5518333333333333, 0.5398333333333334, 0.5248333333333334, 0.5321666666666667, 0.5305, 0.5186666666666667, 0.5095, 0.5133333333333333, 0.49883333333333335, 0.49883333333333335, 0.49883333333333335, 0.49883333333333335, 0.49883333333333335, 0.49883333333333335, 0.49883333333333335, 0.49883333333333335, 0.49883333333333335, 0.49883333333333335, 0.49883333333333335, 0.49883333333333335, 0.49883333333333335, 0.49883333333333335]}\n",
      "{'MLP': [0.5343333333333333, 0.5601666666666667, 0.5406666666666666, 0.5518333333333333, 0.5521666666666667, 0.543, 0.5436666666666666, 0.5548333333333333, 0.5591666666666667, 0.5543333333333333, 0.5408333333333334, 0.5571666666666667, 0.5525, 0.5406666666666666, 0.5603333333333333, 0.5623333333333334, 0.565, 0.5585, 0.56, 0.5713333333333334, 0.5608333333333333, 0.5723333333333334, 0.5723333333333334, 0.567, 0.5716666666666667, 0.5621666666666667, 0.5798333333333333, 0.5715, 0.5531666666666667, 0.5461666666666667, 0.537, 0.5415, 0.5286666666666666, 0.5316666666666666, 0.5318333333333334, 0.522, 0.5095, 0.5136666666666667, 0.5011666666666666, 0.49883333333333335, 0.49883333333333335, 0.5011666666666666, 0.5011666666666666, 0.49883333333333335, 0.5011666666666666, 0.5011666666666666, 0.5011666666666666, 0.5011666666666666, 0.49883333333333335, 0.49883333333333335, 0.49883333333333335, 0.5011666666666666, 0.5011666666666666], 'G-NB': [0.5268333333333334, 0.5513333333333333, 0.5448333333333333, 0.5551666666666667, 0.5431666666666667, 0.5573333333333333, 0.5468333333333333, 0.5545, 0.55, 0.5548333333333333, 0.548, 0.5553333333333333, 0.5536666666666666, 0.5476666666666666, 0.5578333333333333, 0.5543333333333333, 0.5605, 0.5583333333333333, 0.5588333333333333, 0.5666666666666667, 0.561, 0.5458333333333333, 0.552, 0.5521666666666667, 0.5658333333333333, 0.5613333333333334, 0.5603333333333333, 0.5391666666666667, 0.5515, 0.5445, 0.5293333333333333, 0.5238333333333334, 0.5115, 0.5176666666666667, 0.5135, 0.508, 0.502, 0.5063333333333333, 0.49883333333333335, 0.49883333333333335, 0.49883333333333335, 0.49883333333333335, 0.49883333333333335, 0.49883333333333335, 0.5011666666666666, 0.5011666666666666, 0.49883333333333335, 0.5011666666666666, 0.5011666666666666, 0.5011666666666666, 0.5011666666666666, 0.49883333333333335, 0.49883333333333335], 'L-SVM': [0.5118333333333334, 0.5321666666666667, 0.525, 0.5401666666666667, 0.538, 0.5511666666666667, 0.5411666666666667, 0.553, 0.5408333333333334, 0.5568333333333333, 0.5478333333333333, 0.556, 0.5501666666666667, 0.5475, 0.5656666666666667, 0.557, 0.5686666666666667, 0.5596666666666666, 0.5621666666666667, 0.5695, 0.562, 0.566, 0.5655, 0.5756666666666667, 0.5683333333333334, 0.5728333333333333, 0.5781666666666667, 0.5593333333333333, 0.5543333333333333, 0.5506666666666666, 0.5518333333333333, 0.5398333333333334, 0.5248333333333334, 0.5321666666666667, 0.5305, 0.5186666666666667, 0.5095, 0.5133333333333333, 0.49883333333333335, 0.49883333333333335, 0.49883333333333335, 0.49883333333333335, 0.49883333333333335, 0.49883333333333335, 0.49883333333333335, 0.49883333333333335, 0.49883333333333335, 0.49883333333333335, 0.49883333333333335, 0.49883333333333335, 0.49883333333333335, 0.49883333333333335, 0.49883333333333335]}\n",
      "{'MLP': [0.5343333333333333, 0.5601666666666667, 0.5406666666666666, 0.5518333333333333, 0.5521666666666667, 0.543, 0.5436666666666666, 0.5548333333333333, 0.5591666666666667, 0.5543333333333333, 0.5408333333333334, 0.5571666666666667, 0.5525, 0.5406666666666666, 0.5603333333333333, 0.5623333333333334, 0.565, 0.5585, 0.56, 0.5713333333333334, 0.5608333333333333, 0.5723333333333334, 0.5723333333333334, 0.567, 0.5716666666666667, 0.5621666666666667, 0.5798333333333333, 0.5715, 0.5531666666666667, 0.5461666666666667, 0.537, 0.5415, 0.5286666666666666, 0.5316666666666666, 0.5318333333333334, 0.522, 0.5095, 0.5136666666666667, 0.5011666666666666, 0.49883333333333335, 0.49883333333333335, 0.5011666666666666, 0.5011666666666666, 0.49883333333333335, 0.5011666666666666, 0.5011666666666666, 0.5011666666666666, 0.5011666666666666, 0.49883333333333335, 0.49883333333333335, 0.49883333333333335, 0.5011666666666666, 0.5011666666666666, 0.49883333333333335], 'G-NB': [0.5268333333333334, 0.5513333333333333, 0.5448333333333333, 0.5551666666666667, 0.5431666666666667, 0.5573333333333333, 0.5468333333333333, 0.5545, 0.55, 0.5548333333333333, 0.548, 0.5553333333333333, 0.5536666666666666, 0.5476666666666666, 0.5578333333333333, 0.5543333333333333, 0.5605, 0.5583333333333333, 0.5588333333333333, 0.5666666666666667, 0.561, 0.5458333333333333, 0.552, 0.5521666666666667, 0.5658333333333333, 0.5613333333333334, 0.5603333333333333, 0.5391666666666667, 0.5515, 0.5445, 0.5293333333333333, 0.5238333333333334, 0.5115, 0.5176666666666667, 0.5135, 0.508, 0.502, 0.5063333333333333, 0.49883333333333335, 0.49883333333333335, 0.49883333333333335, 0.49883333333333335, 0.49883333333333335, 0.49883333333333335, 0.5011666666666666, 0.5011666666666666, 0.49883333333333335, 0.5011666666666666, 0.5011666666666666, 0.5011666666666666, 0.5011666666666666, 0.49883333333333335, 0.49883333333333335, 0.5011666666666666], 'L-SVM': [0.5118333333333334, 0.5321666666666667, 0.525, 0.5401666666666667, 0.538, 0.5511666666666667, 0.5411666666666667, 0.553, 0.5408333333333334, 0.5568333333333333, 0.5478333333333333, 0.556, 0.5501666666666667, 0.5475, 0.5656666666666667, 0.557, 0.5686666666666667, 0.5596666666666666, 0.5621666666666667, 0.5695, 0.562, 0.566, 0.5655, 0.5756666666666667, 0.5683333333333334, 0.5728333333333333, 0.5781666666666667, 0.5593333333333333, 0.5543333333333333, 0.5506666666666666, 0.5518333333333333, 0.5398333333333334, 0.5248333333333334, 0.5321666666666667, 0.5305, 0.5186666666666667, 0.5095, 0.5133333333333333, 0.49883333333333335, 0.49883333333333335, 0.49883333333333335, 0.49883333333333335, 0.49883333333333335, 0.49883333333333335, 0.49883333333333335, 0.49883333333333335, 0.49883333333333335, 0.49883333333333335, 0.49883333333333335, 0.49883333333333335, 0.49883333333333335, 0.49883333333333335, 0.49883333333333335, 0.49883333333333335]}\n",
      "{'MLP': [0.5343333333333333, 0.5601666666666667, 0.5406666666666666, 0.5518333333333333, 0.5521666666666667, 0.543, 0.5436666666666666, 0.5548333333333333, 0.5591666666666667, 0.5543333333333333, 0.5408333333333334, 0.5571666666666667, 0.5525, 0.5406666666666666, 0.5603333333333333, 0.5623333333333334, 0.565, 0.5585, 0.56, 0.5713333333333334, 0.5608333333333333, 0.5723333333333334, 0.5723333333333334, 0.567, 0.5716666666666667, 0.5621666666666667, 0.5798333333333333, 0.5715, 0.5531666666666667, 0.5461666666666667, 0.537, 0.5415, 0.5286666666666666, 0.5316666666666666, 0.5318333333333334, 0.522, 0.5095, 0.5136666666666667, 0.5011666666666666, 0.49883333333333335, 0.49883333333333335, 0.5011666666666666, 0.5011666666666666, 0.49883333333333335, 0.5011666666666666, 0.5011666666666666, 0.5011666666666666, 0.5011666666666666, 0.49883333333333335, 0.49883333333333335, 0.49883333333333335, 0.5011666666666666, 0.5011666666666666, 0.49883333333333335, 0.5011666666666666], 'G-NB': [0.5268333333333334, 0.5513333333333333, 0.5448333333333333, 0.5551666666666667, 0.5431666666666667, 0.5573333333333333, 0.5468333333333333, 0.5545, 0.55, 0.5548333333333333, 0.548, 0.5553333333333333, 0.5536666666666666, 0.5476666666666666, 0.5578333333333333, 0.5543333333333333, 0.5605, 0.5583333333333333, 0.5588333333333333, 0.5666666666666667, 0.561, 0.5458333333333333, 0.552, 0.5521666666666667, 0.5658333333333333, 0.5613333333333334, 0.5603333333333333, 0.5391666666666667, 0.5515, 0.5445, 0.5293333333333333, 0.5238333333333334, 0.5115, 0.5176666666666667, 0.5135, 0.508, 0.502, 0.5063333333333333, 0.49883333333333335, 0.49883333333333335, 0.49883333333333335, 0.49883333333333335, 0.49883333333333335, 0.49883333333333335, 0.5011666666666666, 0.5011666666666666, 0.49883333333333335, 0.5011666666666666, 0.5011666666666666, 0.5011666666666666, 0.5011666666666666, 0.49883333333333335, 0.49883333333333335, 0.5011666666666666, 0.5011666666666666], 'L-SVM': [0.5118333333333334, 0.5321666666666667, 0.525, 0.5401666666666667, 0.538, 0.5511666666666667, 0.5411666666666667, 0.553, 0.5408333333333334, 0.5568333333333333, 0.5478333333333333, 0.556, 0.5501666666666667, 0.5475, 0.5656666666666667, 0.557, 0.5686666666666667, 0.5596666666666666, 0.5621666666666667, 0.5695, 0.562, 0.566, 0.5655, 0.5756666666666667, 0.5683333333333334, 0.5728333333333333, 0.5781666666666667, 0.5593333333333333, 0.5543333333333333, 0.5506666666666666, 0.5518333333333333, 0.5398333333333334, 0.5248333333333334, 0.5321666666666667, 0.5305, 0.5186666666666667, 0.5095, 0.5133333333333333, 0.49883333333333335, 0.49883333333333335, 0.49883333333333335, 0.49883333333333335, 0.49883333333333335, 0.49883333333333335, 0.49883333333333335, 0.49883333333333335, 0.49883333333333335, 0.49883333333333335, 0.49883333333333335, 0.49883333333333335, 0.49883333333333335, 0.49883333333333335, 0.49883333333333335, 0.49883333333333335, 0.49883333333333335]}\n",
      "{'MLP': [0.5343333333333333, 0.5601666666666667, 0.5406666666666666, 0.5518333333333333, 0.5521666666666667, 0.543, 0.5436666666666666, 0.5548333333333333, 0.5591666666666667, 0.5543333333333333, 0.5408333333333334, 0.5571666666666667, 0.5525, 0.5406666666666666, 0.5603333333333333, 0.5623333333333334, 0.565, 0.5585, 0.56, 0.5713333333333334, 0.5608333333333333, 0.5723333333333334, 0.5723333333333334, 0.567, 0.5716666666666667, 0.5621666666666667, 0.5798333333333333, 0.5715, 0.5531666666666667, 0.5461666666666667, 0.537, 0.5415, 0.5286666666666666, 0.5316666666666666, 0.5318333333333334, 0.522, 0.5095, 0.5136666666666667, 0.5011666666666666, 0.49883333333333335, 0.49883333333333335, 0.5011666666666666, 0.5011666666666666, 0.49883333333333335, 0.5011666666666666, 0.5011666666666666, 0.5011666666666666, 0.5011666666666666, 0.49883333333333335, 0.49883333333333335, 0.49883333333333335, 0.5011666666666666, 0.5011666666666666, 0.49883333333333335, 0.5011666666666666, 0.5011666666666666], 'G-NB': [0.5268333333333334, 0.5513333333333333, 0.5448333333333333, 0.5551666666666667, 0.5431666666666667, 0.5573333333333333, 0.5468333333333333, 0.5545, 0.55, 0.5548333333333333, 0.548, 0.5553333333333333, 0.5536666666666666, 0.5476666666666666, 0.5578333333333333, 0.5543333333333333, 0.5605, 0.5583333333333333, 0.5588333333333333, 0.5666666666666667, 0.561, 0.5458333333333333, 0.552, 0.5521666666666667, 0.5658333333333333, 0.5613333333333334, 0.5603333333333333, 0.5391666666666667, 0.5515, 0.5445, 0.5293333333333333, 0.5238333333333334, 0.5115, 0.5176666666666667, 0.5135, 0.508, 0.502, 0.5063333333333333, 0.49883333333333335, 0.49883333333333335, 0.49883333333333335, 0.49883333333333335, 0.49883333333333335, 0.49883333333333335, 0.5011666666666666, 0.5011666666666666, 0.49883333333333335, 0.5011666666666666, 0.5011666666666666, 0.5011666666666666, 0.5011666666666666, 0.49883333333333335, 0.49883333333333335, 0.5011666666666666, 0.5011666666666666, 0.5011666666666666], 'L-SVM': [0.5118333333333334, 0.5321666666666667, 0.525, 0.5401666666666667, 0.538, 0.5511666666666667, 0.5411666666666667, 0.553, 0.5408333333333334, 0.5568333333333333, 0.5478333333333333, 0.556, 0.5501666666666667, 0.5475, 0.5656666666666667, 0.557, 0.5686666666666667, 0.5596666666666666, 0.5621666666666667, 0.5695, 0.562, 0.566, 0.5655, 0.5756666666666667, 0.5683333333333334, 0.5728333333333333, 0.5781666666666667, 0.5593333333333333, 0.5543333333333333, 0.5506666666666666, 0.5518333333333333, 0.5398333333333334, 0.5248333333333334, 0.5321666666666667, 0.5305, 0.5186666666666667, 0.5095, 0.5133333333333333, 0.49883333333333335, 0.49883333333333335, 0.49883333333333335, 0.49883333333333335, 0.49883333333333335, 0.49883333333333335, 0.49883333333333335, 0.49883333333333335, 0.49883333333333335, 0.49883333333333335, 0.49883333333333335, 0.49883333333333335, 0.49883333333333335, 0.49883333333333335, 0.49883333333333335, 0.49883333333333335, 0.49883333333333335, 0.49883333333333335]}\n",
      "{'MLP': [0.5343333333333333, 0.5601666666666667, 0.5406666666666666, 0.5518333333333333, 0.5521666666666667, 0.543, 0.5436666666666666, 0.5548333333333333, 0.5591666666666667, 0.5543333333333333, 0.5408333333333334, 0.5571666666666667, 0.5525, 0.5406666666666666, 0.5603333333333333, 0.5623333333333334, 0.565, 0.5585, 0.56, 0.5713333333333334, 0.5608333333333333, 0.5723333333333334, 0.5723333333333334, 0.567, 0.5716666666666667, 0.5621666666666667, 0.5798333333333333, 0.5715, 0.5531666666666667, 0.5461666666666667, 0.537, 0.5415, 0.5286666666666666, 0.5316666666666666, 0.5318333333333334, 0.522, 0.5095, 0.5136666666666667, 0.5011666666666666, 0.49883333333333335, 0.49883333333333335, 0.5011666666666666, 0.5011666666666666, 0.49883333333333335, 0.5011666666666666, 0.5011666666666666, 0.5011666666666666, 0.5011666666666666, 0.49883333333333335, 0.49883333333333335, 0.49883333333333335, 0.5011666666666666, 0.5011666666666666, 0.49883333333333335, 0.5011666666666666, 0.5011666666666666, 0.5011666666666666], 'G-NB': [0.5268333333333334, 0.5513333333333333, 0.5448333333333333, 0.5551666666666667, 0.5431666666666667, 0.5573333333333333, 0.5468333333333333, 0.5545, 0.55, 0.5548333333333333, 0.548, 0.5553333333333333, 0.5536666666666666, 0.5476666666666666, 0.5578333333333333, 0.5543333333333333, 0.5605, 0.5583333333333333, 0.5588333333333333, 0.5666666666666667, 0.561, 0.5458333333333333, 0.552, 0.5521666666666667, 0.5658333333333333, 0.5613333333333334, 0.5603333333333333, 0.5391666666666667, 0.5515, 0.5445, 0.5293333333333333, 0.5238333333333334, 0.5115, 0.5176666666666667, 0.5135, 0.508, 0.502, 0.5063333333333333, 0.49883333333333335, 0.49883333333333335, 0.49883333333333335, 0.49883333333333335, 0.49883333333333335, 0.49883333333333335, 0.5011666666666666, 0.5011666666666666, 0.49883333333333335, 0.5011666666666666, 0.5011666666666666, 0.5011666666666666, 0.5011666666666666, 0.49883333333333335, 0.49883333333333335, 0.5011666666666666, 0.5011666666666666, 0.5011666666666666, 0.5011666666666666], 'L-SVM': [0.5118333333333334, 0.5321666666666667, 0.525, 0.5401666666666667, 0.538, 0.5511666666666667, 0.5411666666666667, 0.553, 0.5408333333333334, 0.5568333333333333, 0.5478333333333333, 0.556, 0.5501666666666667, 0.5475, 0.5656666666666667, 0.557, 0.5686666666666667, 0.5596666666666666, 0.5621666666666667, 0.5695, 0.562, 0.566, 0.5655, 0.5756666666666667, 0.5683333333333334, 0.5728333333333333, 0.5781666666666667, 0.5593333333333333, 0.5543333333333333, 0.5506666666666666, 0.5518333333333333, 0.5398333333333334, 0.5248333333333334, 0.5321666666666667, 0.5305, 0.5186666666666667, 0.5095, 0.5133333333333333, 0.49883333333333335, 0.49883333333333335, 0.49883333333333335, 0.49883333333333335, 0.49883333333333335, 0.49883333333333335, 0.49883333333333335, 0.49883333333333335, 0.49883333333333335, 0.49883333333333335, 0.49883333333333335, 0.49883333333333335, 0.49883333333333335, 0.49883333333333335, 0.49883333333333335, 0.49883333333333335, 0.49883333333333335, 0.49883333333333335, 0.49883333333333335]}\n",
      "{'MLP': [0.5343333333333333, 0.5601666666666667, 0.5406666666666666, 0.5518333333333333, 0.5521666666666667, 0.543, 0.5436666666666666, 0.5548333333333333, 0.5591666666666667, 0.5543333333333333, 0.5408333333333334, 0.5571666666666667, 0.5525, 0.5406666666666666, 0.5603333333333333, 0.5623333333333334, 0.565, 0.5585, 0.56, 0.5713333333333334, 0.5608333333333333, 0.5723333333333334, 0.5723333333333334, 0.567, 0.5716666666666667, 0.5621666666666667, 0.5798333333333333, 0.5715, 0.5531666666666667, 0.5461666666666667, 0.537, 0.5415, 0.5286666666666666, 0.5316666666666666, 0.5318333333333334, 0.522, 0.5095, 0.5136666666666667, 0.5011666666666666, 0.49883333333333335, 0.49883333333333335, 0.5011666666666666, 0.5011666666666666, 0.49883333333333335, 0.5011666666666666, 0.5011666666666666, 0.5011666666666666, 0.5011666666666666, 0.49883333333333335, 0.49883333333333335, 0.49883333333333335, 0.5011666666666666, 0.5011666666666666, 0.49883333333333335, 0.5011666666666666, 0.5011666666666666, 0.5011666666666666, 0.49883333333333335], 'G-NB': [0.5268333333333334, 0.5513333333333333, 0.5448333333333333, 0.5551666666666667, 0.5431666666666667, 0.5573333333333333, 0.5468333333333333, 0.5545, 0.55, 0.5548333333333333, 0.548, 0.5553333333333333, 0.5536666666666666, 0.5476666666666666, 0.5578333333333333, 0.5543333333333333, 0.5605, 0.5583333333333333, 0.5588333333333333, 0.5666666666666667, 0.561, 0.5458333333333333, 0.552, 0.5521666666666667, 0.5658333333333333, 0.5613333333333334, 0.5603333333333333, 0.5391666666666667, 0.5515, 0.5445, 0.5293333333333333, 0.5238333333333334, 0.5115, 0.5176666666666667, 0.5135, 0.508, 0.502, 0.5063333333333333, 0.49883333333333335, 0.49883333333333335, 0.49883333333333335, 0.49883333333333335, 0.49883333333333335, 0.49883333333333335, 0.5011666666666666, 0.5011666666666666, 0.49883333333333335, 0.5011666666666666, 0.5011666666666666, 0.5011666666666666, 0.5011666666666666, 0.49883333333333335, 0.49883333333333335, 0.5011666666666666, 0.5011666666666666, 0.5011666666666666, 0.5011666666666666, 0.5011666666666666], 'L-SVM': [0.5118333333333334, 0.5321666666666667, 0.525, 0.5401666666666667, 0.538, 0.5511666666666667, 0.5411666666666667, 0.553, 0.5408333333333334, 0.5568333333333333, 0.5478333333333333, 0.556, 0.5501666666666667, 0.5475, 0.5656666666666667, 0.557, 0.5686666666666667, 0.5596666666666666, 0.5621666666666667, 0.5695, 0.562, 0.566, 0.5655, 0.5756666666666667, 0.5683333333333334, 0.5728333333333333, 0.5781666666666667, 0.5593333333333333, 0.5543333333333333, 0.5506666666666666, 0.5518333333333333, 0.5398333333333334, 0.5248333333333334, 0.5321666666666667, 0.5305, 0.5186666666666667, 0.5095, 0.5133333333333333, 0.49883333333333335, 0.49883333333333335, 0.49883333333333335, 0.49883333333333335, 0.49883333333333335, 0.49883333333333335, 0.49883333333333335, 0.49883333333333335, 0.49883333333333335, 0.49883333333333335, 0.49883333333333335, 0.49883333333333335, 0.49883333333333335, 0.49883333333333335, 0.49883333333333335, 0.49883333333333335, 0.49883333333333335, 0.49883333333333335, 0.49883333333333335, 0.49883333333333335]}\n",
      "{'MLP': [0.5343333333333333, 0.5601666666666667, 0.5406666666666666, 0.5518333333333333, 0.5521666666666667, 0.543, 0.5436666666666666, 0.5548333333333333, 0.5591666666666667, 0.5543333333333333, 0.5408333333333334, 0.5571666666666667, 0.5525, 0.5406666666666666, 0.5603333333333333, 0.5623333333333334, 0.565, 0.5585, 0.56, 0.5713333333333334, 0.5608333333333333, 0.5723333333333334, 0.5723333333333334, 0.567, 0.5716666666666667, 0.5621666666666667, 0.5798333333333333, 0.5715, 0.5531666666666667, 0.5461666666666667, 0.537, 0.5415, 0.5286666666666666, 0.5316666666666666, 0.5318333333333334, 0.522, 0.5095, 0.5136666666666667, 0.5011666666666666, 0.49883333333333335, 0.49883333333333335, 0.5011666666666666, 0.5011666666666666, 0.49883333333333335, 0.5011666666666666, 0.5011666666666666, 0.5011666666666666, 0.5011666666666666, 0.49883333333333335, 0.49883333333333335, 0.49883333333333335, 0.5011666666666666, 0.5011666666666666, 0.49883333333333335, 0.5011666666666666, 0.5011666666666666, 0.5011666666666666, 0.49883333333333335, 0.49883333333333335], 'G-NB': [0.5268333333333334, 0.5513333333333333, 0.5448333333333333, 0.5551666666666667, 0.5431666666666667, 0.5573333333333333, 0.5468333333333333, 0.5545, 0.55, 0.5548333333333333, 0.548, 0.5553333333333333, 0.5536666666666666, 0.5476666666666666, 0.5578333333333333, 0.5543333333333333, 0.5605, 0.5583333333333333, 0.5588333333333333, 0.5666666666666667, 0.561, 0.5458333333333333, 0.552, 0.5521666666666667, 0.5658333333333333, 0.5613333333333334, 0.5603333333333333, 0.5391666666666667, 0.5515, 0.5445, 0.5293333333333333, 0.5238333333333334, 0.5115, 0.5176666666666667, 0.5135, 0.508, 0.502, 0.5063333333333333, 0.49883333333333335, 0.49883333333333335, 0.49883333333333335, 0.49883333333333335, 0.49883333333333335, 0.49883333333333335, 0.5011666666666666, 0.5011666666666666, 0.49883333333333335, 0.5011666666666666, 0.5011666666666666, 0.5011666666666666, 0.5011666666666666, 0.49883333333333335, 0.49883333333333335, 0.5011666666666666, 0.5011666666666666, 0.5011666666666666, 0.5011666666666666, 0.5011666666666666, 0.5011666666666666], 'L-SVM': [0.5118333333333334, 0.5321666666666667, 0.525, 0.5401666666666667, 0.538, 0.5511666666666667, 0.5411666666666667, 0.553, 0.5408333333333334, 0.5568333333333333, 0.5478333333333333, 0.556, 0.5501666666666667, 0.5475, 0.5656666666666667, 0.557, 0.5686666666666667, 0.5596666666666666, 0.5621666666666667, 0.5695, 0.562, 0.566, 0.5655, 0.5756666666666667, 0.5683333333333334, 0.5728333333333333, 0.5781666666666667, 0.5593333333333333, 0.5543333333333333, 0.5506666666666666, 0.5518333333333333, 0.5398333333333334, 0.5248333333333334, 0.5321666666666667, 0.5305, 0.5186666666666667, 0.5095, 0.5133333333333333, 0.49883333333333335, 0.49883333333333335, 0.49883333333333335, 0.49883333333333335, 0.49883333333333335, 0.49883333333333335, 0.49883333333333335, 0.49883333333333335, 0.49883333333333335, 0.49883333333333335, 0.49883333333333335, 0.49883333333333335, 0.49883333333333335, 0.49883333333333335, 0.49883333333333335, 0.49883333333333335, 0.49883333333333335, 0.49883333333333335, 0.49883333333333335, 0.49883333333333335, 0.49883333333333335]}\n",
      "{'MLP': [0.5343333333333333, 0.5601666666666667, 0.5406666666666666, 0.5518333333333333, 0.5521666666666667, 0.543, 0.5436666666666666, 0.5548333333333333, 0.5591666666666667, 0.5543333333333333, 0.5408333333333334, 0.5571666666666667, 0.5525, 0.5406666666666666, 0.5603333333333333, 0.5623333333333334, 0.565, 0.5585, 0.56, 0.5713333333333334, 0.5608333333333333, 0.5723333333333334, 0.5723333333333334, 0.567, 0.5716666666666667, 0.5621666666666667, 0.5798333333333333, 0.5715, 0.5531666666666667, 0.5461666666666667, 0.537, 0.5415, 0.5286666666666666, 0.5316666666666666, 0.5318333333333334, 0.522, 0.5095, 0.5136666666666667, 0.5011666666666666, 0.49883333333333335, 0.49883333333333335, 0.5011666666666666, 0.5011666666666666, 0.49883333333333335, 0.5011666666666666, 0.5011666666666666, 0.5011666666666666, 0.5011666666666666, 0.49883333333333335, 0.49883333333333335, 0.49883333333333335, 0.5011666666666666, 0.5011666666666666, 0.49883333333333335, 0.5011666666666666, 0.5011666666666666, 0.5011666666666666, 0.49883333333333335, 0.49883333333333335, 0.49883333333333335], 'G-NB': [0.5268333333333334, 0.5513333333333333, 0.5448333333333333, 0.5551666666666667, 0.5431666666666667, 0.5573333333333333, 0.5468333333333333, 0.5545, 0.55, 0.5548333333333333, 0.548, 0.5553333333333333, 0.5536666666666666, 0.5476666666666666, 0.5578333333333333, 0.5543333333333333, 0.5605, 0.5583333333333333, 0.5588333333333333, 0.5666666666666667, 0.561, 0.5458333333333333, 0.552, 0.5521666666666667, 0.5658333333333333, 0.5613333333333334, 0.5603333333333333, 0.5391666666666667, 0.5515, 0.5445, 0.5293333333333333, 0.5238333333333334, 0.5115, 0.5176666666666667, 0.5135, 0.508, 0.502, 0.5063333333333333, 0.49883333333333335, 0.49883333333333335, 0.49883333333333335, 0.49883333333333335, 0.49883333333333335, 0.49883333333333335, 0.5011666666666666, 0.5011666666666666, 0.49883333333333335, 0.5011666666666666, 0.5011666666666666, 0.5011666666666666, 0.5011666666666666, 0.49883333333333335, 0.49883333333333335, 0.5011666666666666, 0.5011666666666666, 0.5011666666666666, 0.5011666666666666, 0.5011666666666666, 0.5011666666666666, 0.5011666666666666], 'L-SVM': [0.5118333333333334, 0.5321666666666667, 0.525, 0.5401666666666667, 0.538, 0.5511666666666667, 0.5411666666666667, 0.553, 0.5408333333333334, 0.5568333333333333, 0.5478333333333333, 0.556, 0.5501666666666667, 0.5475, 0.5656666666666667, 0.557, 0.5686666666666667, 0.5596666666666666, 0.5621666666666667, 0.5695, 0.562, 0.566, 0.5655, 0.5756666666666667, 0.5683333333333334, 0.5728333333333333, 0.5781666666666667, 0.5593333333333333, 0.5543333333333333, 0.5506666666666666, 0.5518333333333333, 0.5398333333333334, 0.5248333333333334, 0.5321666666666667, 0.5305, 0.5186666666666667, 0.5095, 0.5133333333333333, 0.49883333333333335, 0.49883333333333335, 0.49883333333333335, 0.49883333333333335, 0.49883333333333335, 0.49883333333333335, 0.49883333333333335, 0.49883333333333335, 0.49883333333333335, 0.49883333333333335, 0.49883333333333335, 0.49883333333333335, 0.49883333333333335, 0.49883333333333335, 0.49883333333333335, 0.49883333333333335, 0.49883333333333335, 0.49883333333333335, 0.49883333333333335, 0.49883333333333335, 0.49883333333333335, 0.49883333333333335]}\n"
     ]
    },
    {
     "data": {
      "text/plain": "<Figure size 432x288 with 1 Axes>",
      "image/png": "[encoded data removed]"
     },
     "metadata": {
      "needs_background": "light"
     },
     "output_type": "display_data"
    }
   ],
   "source": [
    "# Create classifier comparision for multiple scores\n",
    "# Hint: You need to change the respective variables in line 9 and the figure labels\n",
    "scores = {name: [] for name in evaluations[0].keys()}\n",
    "for evaluation in evaluations:\n",
    "    for name, ev in evaluation.items():\n",
    "    # evaluation: confusion, accuracy, precision, recall, fscore\n",
    "        confusion, accuracy, precision, recall, fscore = ev\n",
    "\n",
    "        scores[name].append(accuracy)\n",
    "    print(scores)\n",
    "for label, score in scores.items():\n",
    "    plt.plot(x, score, label = label)\n",
    "plt.xlabel(\"Num Topics\")\n",
    "plt.ylabel(\"Confusion\")\n",
    "plt.legend()\n",
    "plt.savefig(\"img/topic_confusion.pdf\")\n",
    "plt.show()"
   ],
   "metadata": {
    "collapsed": false,
    "pycharm": {
     "name": "#%%\n"
    }
   }
  },
  {
   "cell_type": "code",
   "execution_count": 21,
   "outputs": [
    {
     "name": "stdout",
     "output_type": "stream",
     "text": [
      "range(0, 200, 5)\n"
     ]
    },
    {
     "data": {
      "text/plain": "<Figure size 432x288 with 0 Axes>"
     },
     "metadata": {},
     "output_type": "display_data"
    }
   ],
   "source": [
    "# Create a summary for each classifier\n",
    "\n",
    "names = evaluations[0].keys()\n",
    "x = range(0, 200, 5)\n",
    "print(x)\n",
    "plt.clf()\n",
    "\n",
    "# Create summary figure for all classifiers separately\n",
    "for name in names:\n",
    "    f1 = []\n",
    "    acc = []\n",
    "    pre = []\n",
    "    rec = []\n",
    "    evs = []\n",
    "\n",
    "    for evaluation in evaluations:\n",
    "        for inner_name, ev in evaluation.items():\n",
    "            if inner_name == name:\n",
    "                evs.append(ev)\n",
    "    for ev in evs[:40]:\n",
    "    # evaluation: confusion, accuracy, precision, recall, fscore\n",
    "        confusion, accuracy, precision, recall, fscore = ev\n",
    "\n",
    "        f1.append(fscore)\n",
    "        acc.append(accuracy)\n",
    "        pre.append(precision)\n",
    "        rec.append(recall)\n",
    "    plt.plot(x, f1, label = 'F1')\n",
    "    plt.plot(x, acc, label = 'Accuracy')\n",
    "    plt.plot(x, pre, label = 'Precision')\n",
    "    plt.plot(x, rec, label = 'Recall')\n",
    "    plt.xlabel(\"Num Topics\")\n",
    "    plt.ylabel(\"\")\n",
    "    plt.legend()\n",
    "    plt.savefig(\"img/summary_\" + name.lower() + \".pdf\")\n",
    "    plt.clf()"
   ],
   "metadata": {
    "collapsed": false,
    "pycharm": {
     "name": "#%%\n"
    }
   }
  },
  {
   "cell_type": "code",
   "execution_count": 30,
   "outputs": [],
   "source": [
    "# Figures show 130 topics are the sweet spot\n",
    "lda_model = gensim.models.LdaMulticore(\n",
    "                corpus=corpus[:-1],\n",
    "                id2word=id2word,\n",
    "                num_topics=130,\n",
    "                random_state=100,\n",
    "                chunksize=100,\n",
    "                passes=10\n",
    "            )"
   ],
   "metadata": {
    "collapsed": false,
    "pycharm": {
     "name": "#%%\n"
    }
   }
  },
  {
   "cell_type": "code",
   "execution_count": 37,
   "outputs": [
    {
     "name": "stdout",
     "output_type": "stream",
     "text": [
      "Training classifier\n",
      "Confusion: [[1712 1295]\n",
      " [1314 1679]]\n",
      "Accuracy: 0.5651666666666667\n",
      "Precision: 0.5651614499044595\n",
      "Recall: 0.5651569102987339\n",
      "F1Score: 0.5651535125604217\n"
     ]
    },
    {
     "name": "stderr",
     "output_type": "stream",
     "text": [
      "/home/sifr/uni/nlp/nlp_project/venv/lib64/python3.10/site-packages/sklearn/utils/deprecation.py:87: FutureWarning: Function plot_confusion_matrix is deprecated; Function `plot_confusion_matrix` is deprecated in 1.0 and will be removed in 1.2. Use one of the class methods: ConfusionMatrixDisplay.from_predictions or ConfusionMatrixDisplay.from_estimator.\n",
      "  warnings.warn(msg, category=FutureWarning)\n"
     ]
    },
    {
     "data": {
      "text/plain": "<Figure size 720x720 with 2 Axes>",
      "image/png": "[encoded data removed]"
     },
     "metadata": {
      "needs_background": "light"
     },
     "output_type": "display_data"
    }
   ],
   "source": [
    "# Rerun the classifier on the new dataset\n",
    "\n",
    "df['topic_vec'] = df['trigrams'].apply(lambda trigram: get_document_topic(lda_model, trigram))\n",
    "df['len'] = df['topic_vec'].apply(lambda x: len(x))\n",
    "\n",
    "print('Training classifier')\n",
    "text_train, text_test, label_train, label_test = train_test_split(df[\"topic_vec\"], df['Party'], train_size=0.70, random_state=101, test_size=0.30, shuffle=True)\n",
    "cl = LinearSVC()\n",
    "# Train and predict\n",
    "cl.fit(text_train.to_list(), label_train)\n",
    "prediction = cl.predict(text_test.to_list())\n",
    "# Confusion matrix\n",
    "confusion = confusion_matrix(label_test, prediction)\n",
    "accuracy = accuracy_score(label_test, prediction)\n",
    "precision, recall, fscore, *rest = precision_recall_fscore_support(label_test, prediction, average='macro')\n",
    "\n",
    "print(\"Confusion: \" + str(confusion))\n",
    "print(\"Accuracy: \" + str(accuracy))\n",
    "print(\"Precision: \" + str(precision))\n",
    "print(\"Recall: \" + str(recall))\n",
    "print(\"F1Score: \" + str(fscore))\n",
    "# increase size of plot and fontsize for improved visibility\n",
    "fig, ax_cm = plt.subplots(figsize=(10, 10))\n",
    "plt.rcParams.update({'font.size': 14})\n",
    "# create plot for multi-class confusion matrix, use prepared axes object and change colormap for better contrast\n",
    "plot_confusion_matrix(cl, text_test.to_list(), label_test.to_list(), ax=ax_cm, cmap=plt.cm.Blues_r)\n",
    "# show plot corresponding to printed name and accuracy\n",
    "plt.savefig(\"img/lvm_summary_130.pdf\")\n",
    "plt.show()"
   ],
   "metadata": {
    "collapsed": false,
    "pycharm": {
     "name": "#%%\n"
    }
   }
  }
 ],
 "metadata": {
  "kernelspec": {
   "display_name": "Python 3",
   "language": "python",
   "name": "python3"
  },
  "language_info": {
   "codemirror_mode": {
    "name": "ipython",
    "version": 2
   },
   "file_extension": ".py",
   "mimetype": "text/x-python",
   "name": "python",
   "nbconvert_exporter": "python",
   "pygments_lexer": "ipython2",
   "version": "2.7.6"
  }
 },
 "nbformat": 4,
 "nbformat_minor": 0
}