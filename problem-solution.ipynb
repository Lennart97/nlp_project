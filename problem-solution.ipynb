{
 "cells": [
  {
   "cell_type": "code",
   "execution_count": 25,
   "metadata": {
    "collapsed": true,
    "pycharm": {
     "name": "#%%\n"
    }
   },
   "outputs": [],
   "source": [
    "import numpy as np\n",
    "import glob\n",
    "import re\n",
    "#Gensim\n",
    "import gensim\n",
    "import gensim.corpora as corpora\n",
    "from gensim.utils import simple_preprocess\n",
    "from gensim.models import CoherenceModel\n",
    "\n",
    "#spacy\n",
    "import spacy\n",
    "from nltk.corpus import stopwords\n",
    "\n",
    "#pandas\n",
    "import pandas as pd\n",
    "\n",
    "#vis\n",
    "import pyLDAvis\n",
    "import pyLDAvis.gensim_models\n",
    "pyLDAvis.enable_notebook()"
   ]
  },
  {
   "cell_type": "code",
   "execution_count": 26,
   "outputs": [
    {
     "data": {
      "text/plain": "      Party         Handle                                              Tweet\n0  Democrat  RepDarrenSoto  Today, Senate Dems vote to #SaveTheInternet. P...\n1  Democrat  RepDarrenSoto  RT @WinterHavenSun: Winter Haven resident / Al...\n2  Democrat  RepDarrenSoto  RT @NBCLatino: .@RepDarrenSoto noted that Hurr...\n3  Democrat  RepDarrenSoto  RT @NALCABPolicy: Meeting with @RepDarrenSoto ...\n4  Democrat  RepDarrenSoto  RT @Vegalteno: Hurricane season starts on June...",
      "text/html": "<div>\n<style scoped>\n    .dataframe tbody tr th:only-of-type {\n        vertical-align: middle;\n    }\n\n    .dataframe tbody tr th {\n        vertical-align: top;\n    }\n\n    .dataframe thead th {\n        text-align: right;\n    }\n</style>\n<table border=\"1\" class=\"dataframe\">\n  <thead>\n    <tr style=\"text-align: right;\">\n      <th></th>\n      <th>Party</th>\n      <th>Handle</th>\n      <th>Tweet</th>\n    </tr>\n  </thead>\n  <tbody>\n    <tr>\n      <th>0</th>\n      <td>Democrat</td>\n      <td>RepDarrenSoto</td>\n      <td>Today, Senate Dems vote to #SaveTheInternet. P...</td>\n    </tr>\n    <tr>\n      <th>1</th>\n      <td>Democrat</td>\n      <td>RepDarrenSoto</td>\n      <td>RT @WinterHavenSun: Winter Haven resident / Al...</td>\n    </tr>\n    <tr>\n      <th>2</th>\n      <td>Democrat</td>\n      <td>RepDarrenSoto</td>\n      <td>RT @NBCLatino: .@RepDarrenSoto noted that Hurr...</td>\n    </tr>\n    <tr>\n      <th>3</th>\n      <td>Democrat</td>\n      <td>RepDarrenSoto</td>\n      <td>RT @NALCABPolicy: Meeting with @RepDarrenSoto ...</td>\n    </tr>\n    <tr>\n      <th>4</th>\n      <td>Democrat</td>\n      <td>RepDarrenSoto</td>\n      <td>RT @Vegalteno: Hurricane season starts on June...</td>\n    </tr>\n  </tbody>\n</table>\n</div>"
     },
     "execution_count": 26,
     "metadata": {},
     "output_type": "execute_result"
    }
   ],
   "source": [
    "df = pd.read_csv(\"data/ExtractedTweets.csv\")\n",
    "df.head()"
   ],
   "metadata": {
    "collapsed": false,
    "pycharm": {
     "name": "#%%\n"
    }
   }
  },
  {
   "cell_type": "markdown",
   "source": [
    "### Extract tweet information"
   ],
   "metadata": {
    "collapsed": false,
    "pycharm": {
     "name": "#%% md\n"
    }
   }
  },
  {
   "cell_type": "code",
   "execution_count": 27,
   "outputs": [
    {
     "data": {
      "text/plain": "       Party         Handle  \\\n0   Democrat  RepDarrenSoto   \n1   Democrat  RepDarrenSoto   \n2   Democrat  RepDarrenSoto   \n3   Democrat  RepDarrenSoto   \n4   Democrat  RepDarrenSoto   \n5   Democrat  RepDarrenSoto   \n6   Democrat  RepDarrenSoto   \n7   Democrat  RepDarrenSoto   \n8   Democrat  RepDarrenSoto   \n9   Democrat  RepDarrenSoto   \n10  Democrat  RepDarrenSoto   \n11  Democrat  RepDarrenSoto   \n12  Democrat  RepDarrenSoto   \n13  Democrat  RepDarrenSoto   \n14  Democrat  RepDarrenSoto   \n15  Democrat  RepDarrenSoto   \n16  Democrat  RepDarrenSoto   \n17  Democrat  RepDarrenSoto   \n18  Democrat  RepDarrenSoto   \n19  Democrat  RepDarrenSoto   \n20  Democrat  RepDarrenSoto   \n21  Democrat  RepDarrenSoto   \n22  Democrat  RepDarrenSoto   \n23  Democrat  RepDarrenSoto   \n24  Democrat  RepDarrenSoto   \n25  Democrat  RepDarrenSoto   \n26  Democrat  RepDarrenSoto   \n27  Democrat  RepDarrenSoto   \n28  Democrat  RepDarrenSoto   \n29  Democrat  RepDarrenSoto   \n\n                                                Tweet           retweeted  \\\n0   Today, Senate Dems vote to #SaveTheInternet. P...                  []   \n1   RT @WinterHavenSun: Winter Haven resident / Al...   [@WinterHavenSun]   \n2   RT @NBCLatino: .@RepDarrenSoto noted that Hurr...        [@NBCLatino]   \n3   RT @NALCABPolicy: Meeting with @RepDarrenSoto ...     [@NALCABPolicy]   \n4   RT @Vegalteno: Hurricane season starts on June...        [@Vegalteno]   \n5   RT @EmgageActionFL: Thank you to all who came ...   [@EmgageActionFL]   \n6   Hurricane Maria left approx $90 billion in dam...                  []   \n7   RT @Tharryry: I am delighted that @RepDarrenSo...         [@Tharryry]   \n8   RT @HispanicCaucus: Trump's anti-immigrant pol...   [@HispanicCaucus]   \n9   RT @RepStephMurphy: Great joining @WeAreUnidos...   [@RepStephMurphy]   \n10  RT @AllSaints_FL: Zhihan (John)'s art received...     [@AllSaints_FL]   \n11  .@realDonaldTrump official policy to separate ...                  []   \n12  Thank you to my mom Jean and all the mothers a...                  []   \n13  We paid our respects at Nat’l Law Enforcement ...                  []   \n14  RT @WinterHavenSun: Congratulations to  @AHSbl...   [@WinterHavenSun]   \n15  Meet 12 incredible young leaders appointed to ...                  []   \n16  RT @wildlifeaction: With 1/3 of US wildlife in...   [@wildlifeaction]   \n17  RT @CHeathWFTV: Keeping guns out of the wrong ...       [@CHeathWFTV]   \n18  RT @GermieNYC: TY, @RepDarrenSoto for calling ...        [@GermieNYC]   \n19  Behind every successful student, there's a pro...                  []   \n20  RT @HeardontheHill: .@RepDarrenSoto recalled p...   [@HeardontheHill]   \n21  RT @NathanHale7476: Got to meet @RepDarrenSoto...   [@NathanHale7476]   \n22  RT @WinterHavenSun: Lead story in the Polk New...   [@WinterHavenSun]   \n23  #FACT: 24 percent of Americans said they didn’...                  []   \n24  Americans deserve #ABetterDeal on the cost of ...                  []   \n25  Thank u @BillNye for being a voice for #Scienc...                  []   \n26  RT @RepRubenGallego: Public comment is a respo...  [@RepRubenGallego]   \n27  Sat down with @rollcall to discuss fellowship,...                  []   \n28  RT @rvivian370: At the Pulse Memorial this mor...       [@rvivian370]   \n29  Joined colleagues in opposition to Trump admin...                  []   \n\n                                            mentioned  \\\n0                                                  []   \n1                                    [@RepDarrenSoto]   \n2                                    [@RepDarrenSoto]   \n3                     [@RepDarrenSoto, @LatinoLeader]   \n4     [@Pwr4PuertoRico, @RepDarrenSoto, @EspaillatNY]   \n5                                                  []   \n6                                                  []   \n7                                    [@RepDarrenSoto]   \n8                                                  []   \n9                    [@WeAreUnidosUS, @RepDarrenSoto]   \n10                                                 []   \n11                                 [@realDonaldTrump]   \n12                                                 []   \n13                                                 []   \n14                                  [@AHSbloodhounds]   \n15                                  [@HispanicCaucus]   \n16                                                 []   \n17                            [@WFTV, @RepDarrenSoto]   \n18                                   [@RepDarrenSoto]   \n19                                        [@OCPSnews]   \n20                   [@RepDarrenSoto, @repjoecrowley]   \n21  [@RepDarrenSoto, @MrBettsClass, @AvalonElem_OC...   \n22                   [@RepDarrenSoto, @SenBillNelson]   \n23                                                 []   \n24                                                 []   \n25  [@BillNye, @HispanicCaucus, @AudubonFL, @Sierr...   \n26                                                 []   \n27                                        [@rollcall]   \n28                                   [@RepDarrenSoto]   \n29                                                 []   \n\n                              hashtags  \n0   [#SaveTheInternet, #NetNeutrality]  \n1                                   []  \n2                                   []  \n3                  [#NALCABPolicy2018]  \n4                                   []  \n5                                   []  \n6                                   []  \n7                     [#NetNeutrality]  \n8                                   []  \n9                           [#Orlando]  \n10                                  []  \n11                                  []  \n12                                  []  \n13                                  []  \n14                                  []  \n15                                  []  \n16                                  []  \n17                                  []  \n18            [#HFAnow, #paidsickdays]  \n19                                  []  \n20                                  []  \n21          [#classroomwhereithappens]  \n22                                  []  \n23                             [#FACT]  \n24                      [#ABetterDeal]  \n25                 [#Science, #Sayfie]  \n26                                  []  \n27                                  []  \n28                                  []  \n29                                  []  ",
      "text/html": "<div>\n<style scoped>\n    .dataframe tbody tr th:only-of-type {\n        vertical-align: middle;\n    }\n\n    .dataframe tbody tr th {\n        vertical-align: top;\n    }\n\n    .dataframe thead th {\n        text-align: right;\n    }\n</style>\n<table border=\"1\" class=\"dataframe\">\n  <thead>\n    <tr style=\"text-align: right;\">\n      <th></th>\n      <th>Party</th>\n      <th>Handle</th>\n      <th>Tweet</th>\n      <th>retweeted</th>\n      <th>mentioned</th>\n      <th>hashtags</th>\n    </tr>\n  </thead>\n  <tbody>\n    <tr>\n      <th>0</th>\n      <td>Democrat</td>\n      <td>RepDarrenSoto</td>\n      <td>Today, Senate Dems vote to #SaveTheInternet. P...</td>\n      <td>[]</td>\n      <td>[]</td>\n      <td>[#SaveTheInternet, #NetNeutrality]</td>\n    </tr>\n    <tr>\n      <th>1</th>\n      <td>Democrat</td>\n      <td>RepDarrenSoto</td>\n      <td>RT @WinterHavenSun: Winter Haven resident / Al...</td>\n      <td>[@WinterHavenSun]</td>\n      <td>[@RepDarrenSoto]</td>\n      <td>[]</td>\n    </tr>\n    <tr>\n      <th>2</th>\n      <td>Democrat</td>\n      <td>RepDarrenSoto</td>\n      <td>RT @NBCLatino: .@RepDarrenSoto noted that Hurr...</td>\n      <td>[@NBCLatino]</td>\n      <td>[@RepDarrenSoto]</td>\n      <td>[]</td>\n    </tr>\n    <tr>\n      <th>3</th>\n      <td>Democrat</td>\n      <td>RepDarrenSoto</td>\n      <td>RT @NALCABPolicy: Meeting with @RepDarrenSoto ...</td>\n      <td>[@NALCABPolicy]</td>\n      <td>[@RepDarrenSoto, @LatinoLeader]</td>\n      <td>[#NALCABPolicy2018]</td>\n    </tr>\n    <tr>\n      <th>4</th>\n      <td>Democrat</td>\n      <td>RepDarrenSoto</td>\n      <td>RT @Vegalteno: Hurricane season starts on June...</td>\n      <td>[@Vegalteno]</td>\n      <td>[@Pwr4PuertoRico, @RepDarrenSoto, @EspaillatNY]</td>\n      <td>[]</td>\n    </tr>\n    <tr>\n      <th>5</th>\n      <td>Democrat</td>\n      <td>RepDarrenSoto</td>\n      <td>RT @EmgageActionFL: Thank you to all who came ...</td>\n      <td>[@EmgageActionFL]</td>\n      <td>[]</td>\n      <td>[]</td>\n    </tr>\n    <tr>\n      <th>6</th>\n      <td>Democrat</td>\n      <td>RepDarrenSoto</td>\n      <td>Hurricane Maria left approx $90 billion in dam...</td>\n      <td>[]</td>\n      <td>[]</td>\n      <td>[]</td>\n    </tr>\n    <tr>\n      <th>7</th>\n      <td>Democrat</td>\n      <td>RepDarrenSoto</td>\n      <td>RT @Tharryry: I am delighted that @RepDarrenSo...</td>\n      <td>[@Tharryry]</td>\n      <td>[@RepDarrenSoto]</td>\n      <td>[#NetNeutrality]</td>\n    </tr>\n    <tr>\n      <th>8</th>\n      <td>Democrat</td>\n      <td>RepDarrenSoto</td>\n      <td>RT @HispanicCaucus: Trump's anti-immigrant pol...</td>\n      <td>[@HispanicCaucus]</td>\n      <td>[]</td>\n      <td>[]</td>\n    </tr>\n    <tr>\n      <th>9</th>\n      <td>Democrat</td>\n      <td>RepDarrenSoto</td>\n      <td>RT @RepStephMurphy: Great joining @WeAreUnidos...</td>\n      <td>[@RepStephMurphy]</td>\n      <td>[@WeAreUnidosUS, @RepDarrenSoto]</td>\n      <td>[#Orlando]</td>\n    </tr>\n    <tr>\n      <th>10</th>\n      <td>Democrat</td>\n      <td>RepDarrenSoto</td>\n      <td>RT @AllSaints_FL: Zhihan (John)'s art received...</td>\n      <td>[@AllSaints_FL]</td>\n      <td>[]</td>\n      <td>[]</td>\n    </tr>\n    <tr>\n      <th>11</th>\n      <td>Democrat</td>\n      <td>RepDarrenSoto</td>\n      <td>.@realDonaldTrump official policy to separate ...</td>\n      <td>[]</td>\n      <td>[@realDonaldTrump]</td>\n      <td>[]</td>\n    </tr>\n    <tr>\n      <th>12</th>\n      <td>Democrat</td>\n      <td>RepDarrenSoto</td>\n      <td>Thank you to my mom Jean and all the mothers a...</td>\n      <td>[]</td>\n      <td>[]</td>\n      <td>[]</td>\n    </tr>\n    <tr>\n      <th>13</th>\n      <td>Democrat</td>\n      <td>RepDarrenSoto</td>\n      <td>We paid our respects at Nat’l Law Enforcement ...</td>\n      <td>[]</td>\n      <td>[]</td>\n      <td>[]</td>\n    </tr>\n    <tr>\n      <th>14</th>\n      <td>Democrat</td>\n      <td>RepDarrenSoto</td>\n      <td>RT @WinterHavenSun: Congratulations to  @AHSbl...</td>\n      <td>[@WinterHavenSun]</td>\n      <td>[@AHSbloodhounds]</td>\n      <td>[]</td>\n    </tr>\n    <tr>\n      <th>15</th>\n      <td>Democrat</td>\n      <td>RepDarrenSoto</td>\n      <td>Meet 12 incredible young leaders appointed to ...</td>\n      <td>[]</td>\n      <td>[@HispanicCaucus]</td>\n      <td>[]</td>\n    </tr>\n    <tr>\n      <th>16</th>\n      <td>Democrat</td>\n      <td>RepDarrenSoto</td>\n      <td>RT @wildlifeaction: With 1/3 of US wildlife in...</td>\n      <td>[@wildlifeaction]</td>\n      <td>[]</td>\n      <td>[]</td>\n    </tr>\n    <tr>\n      <th>17</th>\n      <td>Democrat</td>\n      <td>RepDarrenSoto</td>\n      <td>RT @CHeathWFTV: Keeping guns out of the wrong ...</td>\n      <td>[@CHeathWFTV]</td>\n      <td>[@WFTV, @RepDarrenSoto]</td>\n      <td>[]</td>\n    </tr>\n    <tr>\n      <th>18</th>\n      <td>Democrat</td>\n      <td>RepDarrenSoto</td>\n      <td>RT @GermieNYC: TY, @RepDarrenSoto for calling ...</td>\n      <td>[@GermieNYC]</td>\n      <td>[@RepDarrenSoto]</td>\n      <td>[#HFAnow, #paidsickdays]</td>\n    </tr>\n    <tr>\n      <th>19</th>\n      <td>Democrat</td>\n      <td>RepDarrenSoto</td>\n      <td>Behind every successful student, there's a pro...</td>\n      <td>[]</td>\n      <td>[@OCPSnews]</td>\n      <td>[]</td>\n    </tr>\n    <tr>\n      <th>20</th>\n      <td>Democrat</td>\n      <td>RepDarrenSoto</td>\n      <td>RT @HeardontheHill: .@RepDarrenSoto recalled p...</td>\n      <td>[@HeardontheHill]</td>\n      <td>[@RepDarrenSoto, @repjoecrowley]</td>\n      <td>[]</td>\n    </tr>\n    <tr>\n      <th>21</th>\n      <td>Democrat</td>\n      <td>RepDarrenSoto</td>\n      <td>RT @NathanHale7476: Got to meet @RepDarrenSoto...</td>\n      <td>[@NathanHale7476]</td>\n      <td>[@RepDarrenSoto, @MrBettsClass, @AvalonElem_OC...</td>\n      <td>[#classroomwhereithappens]</td>\n    </tr>\n    <tr>\n      <th>22</th>\n      <td>Democrat</td>\n      <td>RepDarrenSoto</td>\n      <td>RT @WinterHavenSun: Lead story in the Polk New...</td>\n      <td>[@WinterHavenSun]</td>\n      <td>[@RepDarrenSoto, @SenBillNelson]</td>\n      <td>[]</td>\n    </tr>\n    <tr>\n      <th>23</th>\n      <td>Democrat</td>\n      <td>RepDarrenSoto</td>\n      <td>#FACT: 24 percent of Americans said they didn’...</td>\n      <td>[]</td>\n      <td>[]</td>\n      <td>[#FACT]</td>\n    </tr>\n    <tr>\n      <th>24</th>\n      <td>Democrat</td>\n      <td>RepDarrenSoto</td>\n      <td>Americans deserve #ABetterDeal on the cost of ...</td>\n      <td>[]</td>\n      <td>[]</td>\n      <td>[#ABetterDeal]</td>\n    </tr>\n    <tr>\n      <th>25</th>\n      <td>Democrat</td>\n      <td>RepDarrenSoto</td>\n      <td>Thank u @BillNye for being a voice for #Scienc...</td>\n      <td>[]</td>\n      <td>[@BillNye, @HispanicCaucus, @AudubonFL, @Sierr...</td>\n      <td>[#Science, #Sayfie]</td>\n    </tr>\n    <tr>\n      <th>26</th>\n      <td>Democrat</td>\n      <td>RepDarrenSoto</td>\n      <td>RT @RepRubenGallego: Public comment is a respo...</td>\n      <td>[@RepRubenGallego]</td>\n      <td>[]</td>\n      <td>[]</td>\n    </tr>\n    <tr>\n      <th>27</th>\n      <td>Democrat</td>\n      <td>RepDarrenSoto</td>\n      <td>Sat down with @rollcall to discuss fellowship,...</td>\n      <td>[]</td>\n      <td>[@rollcall]</td>\n      <td>[]</td>\n    </tr>\n    <tr>\n      <th>28</th>\n      <td>Democrat</td>\n      <td>RepDarrenSoto</td>\n      <td>RT @rvivian370: At the Pulse Memorial this mor...</td>\n      <td>[@rvivian370]</td>\n      <td>[@RepDarrenSoto]</td>\n      <td>[]</td>\n    </tr>\n    <tr>\n      <th>29</th>\n      <td>Democrat</td>\n      <td>RepDarrenSoto</td>\n      <td>Joined colleagues in opposition to Trump admin...</td>\n      <td>[]</td>\n      <td>[]</td>\n      <td>[]</td>\n    </tr>\n  </tbody>\n</table>\n</div>"
     },
     "execution_count": 27,
     "metadata": {},
     "output_type": "execute_result"
    }
   ],
   "source": [
    "def find_retweeted(tweet):\n",
    "    '''This function will extract the twitter handles of retweed people'''\n",
    "    return re.findall('(?<=RT\\\\s)(@[A-Za-z]+[A-Za-z0-9-_]+)', tweet)\n",
    "\n",
    "def find_mentioned(tweet):\n",
    "    '''This function will extract the twitter handles of people mentioned in the tweet'''\n",
    "    return re.findall('(?<!RT\\\\s)(@[A-Za-z]+[A-Za-z0-9-_]+)', tweet)\n",
    "\n",
    "def find_hashtags(tweet):\n",
    "    '''This function will extract hashtags'''\n",
    "    return re.findall('(#[A-Za-z]+[A-Za-z0-9-_]+)', tweet)\n",
    "\n",
    "# make new columns for retweeted usernames, mentioned usernames and hashtags\n",
    "df['retweeted'] = df['Tweet'].apply(find_retweeted)\n",
    "df['mentioned'] = df['Tweet'].apply(find_mentioned)\n",
    "df['hashtags'] = df['Tweet'].apply(find_hashtags)\n",
    "df.head(30)"
   ],
   "metadata": {
    "collapsed": false,
    "pycharm": {
     "name": "#%%\n"
    }
   }
  },
  {
   "cell_type": "markdown",
   "source": [
    "### Clean metioned, retweets and hashtags from tweet"
   ],
   "metadata": {
    "collapsed": false,
    "pycharm": {
     "name": "#%% md\n"
    }
   }
  },
  {
   "cell_type": "code",
   "execution_count": 36,
   "outputs": [
    {
     "data": {
      "text/plain": "      Party         Handle                                              Tweet  \\\n0  Democrat  RepDarrenSoto  today senate dems vote proud support similar l...   \n1  Democrat  RepDarrenSoto   winter resident alta vista teacher one severa...   \n2  Democrat  RepDarrenSoto   noted hurricane maria left approximately $90 ...   \n3  Democrat  RepDarrenSoto   meeting thanks taking time meet ed marucci gu...   \n4  Democrat  RepDarrenSoto   hurricane season starts june 1st puerto rico’...   \n\n           retweeted                                        mentioned  \\\n0                 []                                               []   \n1  [@WinterHavenSun]                                 [@RepDarrenSoto]   \n2       [@NBCLatino]                                 [@RepDarrenSoto]   \n3    [@NALCABPolicy]                  [@RepDarrenSoto, @LatinoLeader]   \n4       [@Vegalteno]  [@Pwr4PuertoRico, @RepDarrenSoto, @EspaillatNY]   \n\n                             hashtags  \n0  [#SaveTheInternet, #NetNeutrality]  \n1                                  []  \n2                                  []  \n3                 [#NALCABPolicy2018]  \n4                                  []  ",
      "text/html": "<div>\n<style scoped>\n    .dataframe tbody tr th:only-of-type {\n        vertical-align: middle;\n    }\n\n    .dataframe tbody tr th {\n        vertical-align: top;\n    }\n\n    .dataframe thead th {\n        text-align: right;\n    }\n</style>\n<table border=\"1\" class=\"dataframe\">\n  <thead>\n    <tr style=\"text-align: right;\">\n      <th></th>\n      <th>Party</th>\n      <th>Handle</th>\n      <th>Tweet</th>\n      <th>retweeted</th>\n      <th>mentioned</th>\n      <th>hashtags</th>\n    </tr>\n  </thead>\n  <tbody>\n    <tr>\n      <th>0</th>\n      <td>Democrat</td>\n      <td>RepDarrenSoto</td>\n      <td>today senate dems vote proud support similar l...</td>\n      <td>[]</td>\n      <td>[]</td>\n      <td>[#SaveTheInternet, #NetNeutrality]</td>\n    </tr>\n    <tr>\n      <th>1</th>\n      <td>Democrat</td>\n      <td>RepDarrenSoto</td>\n      <td>winter resident alta vista teacher one severa...</td>\n      <td>[@WinterHavenSun]</td>\n      <td>[@RepDarrenSoto]</td>\n      <td>[]</td>\n    </tr>\n    <tr>\n      <th>2</th>\n      <td>Democrat</td>\n      <td>RepDarrenSoto</td>\n      <td>noted hurricane maria left approximately $90 ...</td>\n      <td>[@NBCLatino]</td>\n      <td>[@RepDarrenSoto]</td>\n      <td>[]</td>\n    </tr>\n    <tr>\n      <th>3</th>\n      <td>Democrat</td>\n      <td>RepDarrenSoto</td>\n      <td>meeting thanks taking time meet ed marucci gu...</td>\n      <td>[@NALCABPolicy]</td>\n      <td>[@RepDarrenSoto, @LatinoLeader]</td>\n      <td>[#NALCABPolicy2018]</td>\n    </tr>\n    <tr>\n      <th>4</th>\n      <td>Democrat</td>\n      <td>RepDarrenSoto</td>\n      <td>hurricane season starts june 1st puerto rico’...</td>\n      <td>[@Vegalteno]</td>\n      <td>[@Pwr4PuertoRico, @RepDarrenSoto, @EspaillatNY]</td>\n      <td>[]</td>\n    </tr>\n  </tbody>\n</table>\n</div>"
     },
     "execution_count": 36,
     "metadata": {},
     "output_type": "execute_result"
    }
   ],
   "source": [
    "from nltk.corpus import stopwords\n",
    "\n",
    "stop_words = stopwords.words('english')\n",
    "stop_words.append(\"rt\")\n",
    "\n",
    "def clean_retweeted(tweet):\n",
    "    '''This function will extract the twitter handles of retweed people'''\n",
    "    return re.sub('(?<=RT\\\\s)(@[A-Za-z]+[A-Za-z0-9-_]+)', '', tweet)\n",
    "\n",
    "def clean_mentioned(tweet):\n",
    "    '''This function will extract the twitter handles of people mentioned in the tweet'''\n",
    "    return re.sub('(?<!RT\\\\s)(@[A-Za-z]+[A-Za-z0-9-_]+)', '', tweet)\n",
    "\n",
    "def clean_hashtags(tweet):\n",
    "    '''This function will extract hashtags'''\n",
    "    return re.sub('(#[A-Za-z]+[A-Za-z0-9-_]+)', '', tweet)\n",
    "\n",
    "def clean(tweet):\n",
    "    # Remove mentions, retweets and hashtags\n",
    "    tweet = clean_hashtags(tweet)\n",
    "    tweet = clean_mentioned(tweet)\n",
    "    tweet = clean_retweeted(tweet)\n",
    "    tweet = tweet.lower()\n",
    "    # Remove punctuation\n",
    "    tweet = re.sub(\"[\\\\.,;:!/\\\\?]*\", \"\", tweet)\n",
    "    # Remove stop words\n",
    "    tweet = ' '.join([word for word in tweet.split(' ') if not word in stop_words])\n",
    "    # Remove multiple spaces\n",
    "    tweet = re.sub(\"\\\\s+\", \" \", tweet)\n",
    "    return tweet\n",
    "\n",
    "df['Tweet'] = df['Tweet'].apply(clean)\n",
    "df.head()"
   ],
   "metadata": {
    "collapsed": false,
    "pycharm": {
     "name": "#%%\n"
    }
   }
  },
  {
   "cell_type": "markdown",
   "source": [
    "### Lemmatize the text"
   ],
   "metadata": {
    "collapsed": false,
    "pycharm": {
     "name": "#%% md\n"
    }
   }
  },
  {
   "cell_type": "code",
   "execution_count": 29,
   "outputs": [
    {
     "ename": "OSError",
     "evalue": "[E050] Can't find model 'en_core_web_lg'. It doesn't seem to be a Python package or a valid path to a data directory.",
     "output_type": "error",
     "traceback": [
      "\u001B[0;31m---------------------------------------------------------------------------\u001B[0m",
      "\u001B[0;31mOSError\u001B[0m                                   Traceback (most recent call last)",
      "Input \u001B[0;32mIn [29]\u001B[0m, in \u001B[0;36m<cell line: 1>\u001B[0;34m()\u001B[0m\n\u001B[0;32m----> 1\u001B[0m nlp \u001B[38;5;241m=\u001B[39m \u001B[43mspacy\u001B[49m\u001B[38;5;241;43m.\u001B[39;49m\u001B[43mload\u001B[49m\u001B[43m(\u001B[49m\u001B[38;5;124;43m\"\u001B[39;49m\u001B[38;5;124;43men_core_web_lg\u001B[39;49m\u001B[38;5;124;43m\"\u001B[39;49m\u001B[43m,\u001B[49m\u001B[43m \u001B[49m\u001B[43mdisable\u001B[49m\u001B[38;5;241;43m=\u001B[39;49m\u001B[43m[\u001B[49m\u001B[38;5;124;43m\"\u001B[39;49m\u001B[38;5;124;43mparser\u001B[39;49m\u001B[38;5;124;43m\"\u001B[39;49m\u001B[43m,\u001B[49m\u001B[43m \u001B[49m\u001B[38;5;124;43m\"\u001B[39;49m\u001B[38;5;124;43mner\u001B[39;49m\u001B[38;5;124;43m\"\u001B[39;49m\u001B[43m]\u001B[49m\u001B[43m)\u001B[49m\n\u001B[1;32m      3\u001B[0m \u001B[38;5;28;01mdef\u001B[39;00m \u001B[38;5;21mlemmatization\u001B[39m(text, allowed_postags\u001B[38;5;241m=\u001B[39m[\u001B[38;5;124m\"\u001B[39m\u001B[38;5;124mNOUN\u001B[39m\u001B[38;5;124m\"\u001B[39m, \u001B[38;5;124m\"\u001B[39m\u001B[38;5;124mADJ\u001B[39m\u001B[38;5;124m\"\u001B[39m, \u001B[38;5;124m\"\u001B[39m\u001B[38;5;124mVERB\u001B[39m\u001B[38;5;124m\"\u001B[39m, \u001B[38;5;124m\"\u001B[39m\u001B[38;5;124mADV\u001B[39m\u001B[38;5;124m\"\u001B[39m]):\n\u001B[1;32m      4\u001B[0m     texts_out \u001B[38;5;241m=\u001B[39m []\n",
      "File \u001B[0;32m~/uni/nlp/nlp_project/venv/lib64/python3.10/site-packages/spacy/__init__.py:51\u001B[0m, in \u001B[0;36mload\u001B[0;34m(name, vocab, disable, exclude, config)\u001B[0m\n\u001B[1;32m     30\u001B[0m \u001B[38;5;28;01mdef\u001B[39;00m \u001B[38;5;21mload\u001B[39m(\n\u001B[1;32m     31\u001B[0m     name: Union[\u001B[38;5;28mstr\u001B[39m, Path],\n\u001B[1;32m     32\u001B[0m     \u001B[38;5;241m*\u001B[39m,\n\u001B[0;32m   (...)\u001B[0m\n\u001B[1;32m     36\u001B[0m     config: Union[Dict[\u001B[38;5;28mstr\u001B[39m, Any], Config] \u001B[38;5;241m=\u001B[39m util\u001B[38;5;241m.\u001B[39mSimpleFrozenDict(),\n\u001B[1;32m     37\u001B[0m ) \u001B[38;5;241m-\u001B[39m\u001B[38;5;241m>\u001B[39m Language:\n\u001B[1;32m     38\u001B[0m     \u001B[38;5;124;03m\"\"\"Load a spaCy model from an installed package or a local path.\u001B[39;00m\n\u001B[1;32m     39\u001B[0m \n\u001B[1;32m     40\u001B[0m \u001B[38;5;124;03m    name (str): Package name or model path.\u001B[39;00m\n\u001B[0;32m   (...)\u001B[0m\n\u001B[1;32m     49\u001B[0m \u001B[38;5;124;03m    RETURNS (Language): The loaded nlp object.\u001B[39;00m\n\u001B[1;32m     50\u001B[0m \u001B[38;5;124;03m    \"\"\"\u001B[39;00m\n\u001B[0;32m---> 51\u001B[0m     \u001B[38;5;28;01mreturn\u001B[39;00m \u001B[43mutil\u001B[49m\u001B[38;5;241;43m.\u001B[39;49m\u001B[43mload_model\u001B[49m\u001B[43m(\u001B[49m\n\u001B[1;32m     52\u001B[0m \u001B[43m        \u001B[49m\u001B[43mname\u001B[49m\u001B[43m,\u001B[49m\u001B[43m \u001B[49m\u001B[43mvocab\u001B[49m\u001B[38;5;241;43m=\u001B[39;49m\u001B[43mvocab\u001B[49m\u001B[43m,\u001B[49m\u001B[43m \u001B[49m\u001B[43mdisable\u001B[49m\u001B[38;5;241;43m=\u001B[39;49m\u001B[43mdisable\u001B[49m\u001B[43m,\u001B[49m\u001B[43m \u001B[49m\u001B[43mexclude\u001B[49m\u001B[38;5;241;43m=\u001B[39;49m\u001B[43mexclude\u001B[49m\u001B[43m,\u001B[49m\u001B[43m \u001B[49m\u001B[43mconfig\u001B[49m\u001B[38;5;241;43m=\u001B[39;49m\u001B[43mconfig\u001B[49m\n\u001B[1;32m     53\u001B[0m \u001B[43m    \u001B[49m\u001B[43m)\u001B[49m\n",
      "File \u001B[0;32m~/uni/nlp/nlp_project/venv/lib64/python3.10/site-packages/spacy/util.py:427\u001B[0m, in \u001B[0;36mload_model\u001B[0;34m(name, vocab, disable, exclude, config)\u001B[0m\n\u001B[1;32m    425\u001B[0m \u001B[38;5;28;01mif\u001B[39;00m name \u001B[38;5;129;01min\u001B[39;00m OLD_MODEL_SHORTCUTS:\n\u001B[1;32m    426\u001B[0m     \u001B[38;5;28;01mraise\u001B[39;00m \u001B[38;5;167;01mIOError\u001B[39;00m(Errors\u001B[38;5;241m.\u001B[39mE941\u001B[38;5;241m.\u001B[39mformat(name\u001B[38;5;241m=\u001B[39mname, full\u001B[38;5;241m=\u001B[39mOLD_MODEL_SHORTCUTS[name]))  \u001B[38;5;66;03m# type: ignore[index]\u001B[39;00m\n\u001B[0;32m--> 427\u001B[0m \u001B[38;5;28;01mraise\u001B[39;00m \u001B[38;5;167;01mIOError\u001B[39;00m(Errors\u001B[38;5;241m.\u001B[39mE050\u001B[38;5;241m.\u001B[39mformat(name\u001B[38;5;241m=\u001B[39mname))\n",
      "\u001B[0;31mOSError\u001B[0m: [E050] Can't find model 'en_core_web_lg'. It doesn't seem to be a Python package or a valid path to a data directory."
     ]
    }
   ],
   "source": [
    "nlp = spacy.load(\"en_core_web_lg\", disable=[\"parser\", \"ner\"])\n",
    "\n",
    "def lemmatization(text, allowed_postags=[\"NOUN\", \"ADJ\", \"VERB\", \"ADV\"]):\n",
    "    texts_out = []\n",
    "    doc = nlp(text)\n",
    "    new_text = []\n",
    "    for token in doc:\n",
    "        if token.pos_ in allowed_postags:\n",
    "            new_text.append(token.lemma_)\n",
    "    final = \" \".join(new_text)\n",
    "    texts_out.append(final)\n",
    "    return texts_out\n",
    "\n",
    "def gen_words(tweet):\n",
    "    # Use gensims simple simple_preprocess to remove accents, lowercase and tokenize\n",
    "    return gensim.utils.simple_preprocess(tweet, deacc=True)\n"
   ],
   "metadata": {
    "collapsed": false,
    "pycharm": {
     "name": "#%%\n"
    }
   }
  }
 ],
 "metadata": {
  "kernelspec": {
   "display_name": "Python 3",
   "language": "python",
   "name": "python3"
  },
  "language_info": {
   "codemirror_mode": {
    "name": "ipython",
    "version": 2
   },
   "file_extension": ".py",
   "mimetype": "text/x-python",
   "name": "python",
   "nbconvert_exporter": "python",
   "pygments_lexer": "ipython2",
   "version": "2.7.6"
  }
 },
 "nbformat": 4,
 "nbformat_minor": 0
}