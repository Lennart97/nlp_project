{
 "cells": [
  {
   "cell_type": "code",
   "execution_count": 1,
   "metadata": {
    "collapsed": true,
    "pycharm": {
     "name": "#%%\n"
    }
   },
   "outputs": [
    {
     "name": "stderr",
     "output_type": "stream",
     "text": [
      "/home/sifr/uni/nlp/nlp_project/venv/lib/python3.10/site-packages/past/builtins/misc.py:45: DeprecationWarning: the imp module is deprecated in favour of importlib and slated for removal in Python 3.12; see the module's documentation for alternative uses\n",
      "  from imp import reload\n"
     ]
    }
   ],
   "source": [
    "import numpy as np\n",
    "import glob\n",
    "import re\n",
    "#Gensim\n",
    "import gensim\n",
    "import gensim.corpora as corpora\n",
    "from gensim.utils import simple_preprocess\n",
    "from gensim.models import CoherenceModel\n",
    "\n",
    "#spacy\n",
    "import spacy\n",
    "from nltk.corpus import stopwords\n",
    "\n",
    "#pandas\n",
    "import pandas as pd\n",
    "\n",
    "#vis\n",
    "import pyLDAvis\n",
    "import pyLDAvis.gensim_models\n",
    "\n",
    "import matplotlib.pyplot as plt\n",
    "%matplotlib inline\n",
    "\n",
    "# Enable logging for gensim - optional\n",
    "import logging\n",
    "logging.basicConfig(format='%(asctime)s : %(levelname)s : %(message)s', level=logging.ERROR)\n",
    "\n",
    "import warnings\n",
    "warnings.filterwarnings(\"ignore\",category=DeprecationWarning)\n",
    "\n",
    "pyLDAvis.enable_notebook()"
   ]
  },
  {
   "cell_type": "code",
   "execution_count": 2,
   "outputs": [
    {
     "data": {
      "text/plain": "      Party         Handle                                              Tweet\n0  Democrat  RepDarrenSoto  Today, Senate Dems vote to #SaveTheInternet. P...\n1  Democrat  RepDarrenSoto  RT @WinterHavenSun: Winter Haven resident / Al...\n2  Democrat  RepDarrenSoto  RT @NBCLatino: .@RepDarrenSoto noted that Hurr...\n3  Democrat  RepDarrenSoto  RT @NALCABPolicy: Meeting with @RepDarrenSoto ...\n4  Democrat  RepDarrenSoto  RT @Vegalteno: Hurricane season starts on June...",
      "text/html": "<div>\n<style scoped>\n    .dataframe tbody tr th:only-of-type {\n        vertical-align: middle;\n    }\n\n    .dataframe tbody tr th {\n        vertical-align: top;\n    }\n\n    .dataframe thead th {\n        text-align: right;\n    }\n</style>\n<table border=\"1\" class=\"dataframe\">\n  <thead>\n    <tr style=\"text-align: right;\">\n      <th></th>\n      <th>Party</th>\n      <th>Handle</th>\n      <th>Tweet</th>\n    </tr>\n  </thead>\n  <tbody>\n    <tr>\n      <th>0</th>\n      <td>Democrat</td>\n      <td>RepDarrenSoto</td>\n      <td>Today, Senate Dems vote to #SaveTheInternet. P...</td>\n    </tr>\n    <tr>\n      <th>1</th>\n      <td>Democrat</td>\n      <td>RepDarrenSoto</td>\n      <td>RT @WinterHavenSun: Winter Haven resident / Al...</td>\n    </tr>\n    <tr>\n      <th>2</th>\n      <td>Democrat</td>\n      <td>RepDarrenSoto</td>\n      <td>RT @NBCLatino: .@RepDarrenSoto noted that Hurr...</td>\n    </tr>\n    <tr>\n      <th>3</th>\n      <td>Democrat</td>\n      <td>RepDarrenSoto</td>\n      <td>RT @NALCABPolicy: Meeting with @RepDarrenSoto ...</td>\n    </tr>\n    <tr>\n      <th>4</th>\n      <td>Democrat</td>\n      <td>RepDarrenSoto</td>\n      <td>RT @Vegalteno: Hurricane season starts on June...</td>\n    </tr>\n  </tbody>\n</table>\n</div>"
     },
     "execution_count": 2,
     "metadata": {},
     "output_type": "execute_result"
    }
   ],
   "source": [
    "df = pd.read_csv(\"data/ExtractedTweets.csv\")\n",
    "df.head()"
   ],
   "metadata": {
    "collapsed": false,
    "pycharm": {
     "name": "#%%\n"
    }
   }
  },
  {
   "cell_type": "markdown",
   "source": [
    "### Extract tweet information"
   ],
   "metadata": {
    "collapsed": false,
    "pycharm": {
     "name": "#%% md\n"
    }
   }
  },
  {
   "cell_type": "code",
   "execution_count": 3,
   "outputs": [
    {
     "data": {
      "text/plain": "       Party         Handle  \\\n0   Democrat  RepDarrenSoto   \n1   Democrat  RepDarrenSoto   \n2   Democrat  RepDarrenSoto   \n3   Democrat  RepDarrenSoto   \n4   Democrat  RepDarrenSoto   \n5   Democrat  RepDarrenSoto   \n6   Democrat  RepDarrenSoto   \n7   Democrat  RepDarrenSoto   \n8   Democrat  RepDarrenSoto   \n9   Democrat  RepDarrenSoto   \n10  Democrat  RepDarrenSoto   \n11  Democrat  RepDarrenSoto   \n12  Democrat  RepDarrenSoto   \n13  Democrat  RepDarrenSoto   \n14  Democrat  RepDarrenSoto   \n15  Democrat  RepDarrenSoto   \n16  Democrat  RepDarrenSoto   \n17  Democrat  RepDarrenSoto   \n18  Democrat  RepDarrenSoto   \n19  Democrat  RepDarrenSoto   \n20  Democrat  RepDarrenSoto   \n21  Democrat  RepDarrenSoto   \n22  Democrat  RepDarrenSoto   \n23  Democrat  RepDarrenSoto   \n24  Democrat  RepDarrenSoto   \n25  Democrat  RepDarrenSoto   \n26  Democrat  RepDarrenSoto   \n27  Democrat  RepDarrenSoto   \n28  Democrat  RepDarrenSoto   \n29  Democrat  RepDarrenSoto   \n\n                                                Tweet           retweeted  \\\n0   Today, Senate Dems vote to #SaveTheInternet. P...                  []   \n1   RT @WinterHavenSun: Winter Haven resident / Al...   [@WinterHavenSun]   \n2   RT @NBCLatino: .@RepDarrenSoto noted that Hurr...        [@NBCLatino]   \n3   RT @NALCABPolicy: Meeting with @RepDarrenSoto ...     [@NALCABPolicy]   \n4   RT @Vegalteno: Hurricane season starts on June...        [@Vegalteno]   \n5   RT @EmgageActionFL: Thank you to all who came ...   [@EmgageActionFL]   \n6   Hurricane Maria left approx $90 billion in dam...                  []   \n7   RT @Tharryry: I am delighted that @RepDarrenSo...         [@Tharryry]   \n8   RT @HispanicCaucus: Trump's anti-immigrant pol...   [@HispanicCaucus]   \n9   RT @RepStephMurphy: Great joining @WeAreUnidos...   [@RepStephMurphy]   \n10  RT @AllSaints_FL: Zhihan (John)'s art received...     [@AllSaints_FL]   \n11  .@realDonaldTrump official policy to separate ...                  []   \n12  Thank you to my mom Jean and all the mothers a...                  []   \n13  We paid our respects at Nat’l Law Enforcement ...                  []   \n14  RT @WinterHavenSun: Congratulations to  @AHSbl...   [@WinterHavenSun]   \n15  Meet 12 incredible young leaders appointed to ...                  []   \n16  RT @wildlifeaction: With 1/3 of US wildlife in...   [@wildlifeaction]   \n17  RT @CHeathWFTV: Keeping guns out of the wrong ...       [@CHeathWFTV]   \n18  RT @GermieNYC: TY, @RepDarrenSoto for calling ...        [@GermieNYC]   \n19  Behind every successful student, there's a pro...                  []   \n20  RT @HeardontheHill: .@RepDarrenSoto recalled p...   [@HeardontheHill]   \n21  RT @NathanHale7476: Got to meet @RepDarrenSoto...   [@NathanHale7476]   \n22  RT @WinterHavenSun: Lead story in the Polk New...   [@WinterHavenSun]   \n23  #FACT: 24 percent of Americans said they didn’...                  []   \n24  Americans deserve #ABetterDeal on the cost of ...                  []   \n25  Thank u @BillNye for being a voice for #Scienc...                  []   \n26  RT @RepRubenGallego: Public comment is a respo...  [@RepRubenGallego]   \n27  Sat down with @rollcall to discuss fellowship,...                  []   \n28  RT @rvivian370: At the Pulse Memorial this mor...       [@rvivian370]   \n29  Joined colleagues in opposition to Trump admin...                  []   \n\n                                            mentioned  \\\n0                                                  []   \n1                                    [@RepDarrenSoto]   \n2                                    [@RepDarrenSoto]   \n3                     [@RepDarrenSoto, @LatinoLeader]   \n4     [@Pwr4PuertoRico, @RepDarrenSoto, @EspaillatNY]   \n5                                                  []   \n6                                                  []   \n7                                    [@RepDarrenSoto]   \n8                                                  []   \n9                    [@WeAreUnidosUS, @RepDarrenSoto]   \n10                                                 []   \n11                                 [@realDonaldTrump]   \n12                                                 []   \n13                                                 []   \n14                                  [@AHSbloodhounds]   \n15                                  [@HispanicCaucus]   \n16                                                 []   \n17                            [@WFTV, @RepDarrenSoto]   \n18                                   [@RepDarrenSoto]   \n19                                        [@OCPSnews]   \n20                   [@RepDarrenSoto, @repjoecrowley]   \n21  [@RepDarrenSoto, @MrBettsClass, @AvalonElem_OC...   \n22                   [@RepDarrenSoto, @SenBillNelson]   \n23                                                 []   \n24                                                 []   \n25  [@BillNye, @HispanicCaucus, @AudubonFL, @Sierr...   \n26                                                 []   \n27                                        [@rollcall]   \n28                                   [@RepDarrenSoto]   \n29                                                 []   \n\n                              hashtags  \n0   [#SaveTheInternet, #NetNeutrality]  \n1                                   []  \n2                                   []  \n3                  [#NALCABPolicy2018]  \n4                                   []  \n5                                   []  \n6                                   []  \n7                     [#NetNeutrality]  \n8                                   []  \n9                           [#Orlando]  \n10                                  []  \n11                                  []  \n12                                  []  \n13                                  []  \n14                                  []  \n15                                  []  \n16                                  []  \n17                                  []  \n18            [#HFAnow, #paidsickdays]  \n19                                  []  \n20                                  []  \n21          [#classroomwhereithappens]  \n22                                  []  \n23                             [#FACT]  \n24                      [#ABetterDeal]  \n25                 [#Science, #Sayfie]  \n26                                  []  \n27                                  []  \n28                                  []  \n29                                  []  ",
      "text/html": "<div>\n<style scoped>\n    .dataframe tbody tr th:only-of-type {\n        vertical-align: middle;\n    }\n\n    .dataframe tbody tr th {\n        vertical-align: top;\n    }\n\n    .dataframe thead th {\n        text-align: right;\n    }\n</style>\n<table border=\"1\" class=\"dataframe\">\n  <thead>\n    <tr style=\"text-align: right;\">\n      <th></th>\n      <th>Party</th>\n      <th>Handle</th>\n      <th>Tweet</th>\n      <th>retweeted</th>\n      <th>mentioned</th>\n      <th>hashtags</th>\n    </tr>\n  </thead>\n  <tbody>\n    <tr>\n      <th>0</th>\n      <td>Democrat</td>\n      <td>RepDarrenSoto</td>\n      <td>Today, Senate Dems vote to #SaveTheInternet. P...</td>\n      <td>[]</td>\n      <td>[]</td>\n      <td>[#SaveTheInternet, #NetNeutrality]</td>\n    </tr>\n    <tr>\n      <th>1</th>\n      <td>Democrat</td>\n      <td>RepDarrenSoto</td>\n      <td>RT @WinterHavenSun: Winter Haven resident / Al...</td>\n      <td>[@WinterHavenSun]</td>\n      <td>[@RepDarrenSoto]</td>\n      <td>[]</td>\n    </tr>\n    <tr>\n      <th>2</th>\n      <td>Democrat</td>\n      <td>RepDarrenSoto</td>\n      <td>RT @NBCLatino: .@RepDarrenSoto noted that Hurr...</td>\n      <td>[@NBCLatino]</td>\n      <td>[@RepDarrenSoto]</td>\n      <td>[]</td>\n    </tr>\n    <tr>\n      <th>3</th>\n      <td>Democrat</td>\n      <td>RepDarrenSoto</td>\n      <td>RT @NALCABPolicy: Meeting with @RepDarrenSoto ...</td>\n      <td>[@NALCABPolicy]</td>\n      <td>[@RepDarrenSoto, @LatinoLeader]</td>\n      <td>[#NALCABPolicy2018]</td>\n    </tr>\n    <tr>\n      <th>4</th>\n      <td>Democrat</td>\n      <td>RepDarrenSoto</td>\n      <td>RT @Vegalteno: Hurricane season starts on June...</td>\n      <td>[@Vegalteno]</td>\n      <td>[@Pwr4PuertoRico, @RepDarrenSoto, @EspaillatNY]</td>\n      <td>[]</td>\n    </tr>\n    <tr>\n      <th>5</th>\n      <td>Democrat</td>\n      <td>RepDarrenSoto</td>\n      <td>RT @EmgageActionFL: Thank you to all who came ...</td>\n      <td>[@EmgageActionFL]</td>\n      <td>[]</td>\n      <td>[]</td>\n    </tr>\n    <tr>\n      <th>6</th>\n      <td>Democrat</td>\n      <td>RepDarrenSoto</td>\n      <td>Hurricane Maria left approx $90 billion in dam...</td>\n      <td>[]</td>\n      <td>[]</td>\n      <td>[]</td>\n    </tr>\n    <tr>\n      <th>7</th>\n      <td>Democrat</td>\n      <td>RepDarrenSoto</td>\n      <td>RT @Tharryry: I am delighted that @RepDarrenSo...</td>\n      <td>[@Tharryry]</td>\n      <td>[@RepDarrenSoto]</td>\n      <td>[#NetNeutrality]</td>\n    </tr>\n    <tr>\n      <th>8</th>\n      <td>Democrat</td>\n      <td>RepDarrenSoto</td>\n      <td>RT @HispanicCaucus: Trump's anti-immigrant pol...</td>\n      <td>[@HispanicCaucus]</td>\n      <td>[]</td>\n      <td>[]</td>\n    </tr>\n    <tr>\n      <th>9</th>\n      <td>Democrat</td>\n      <td>RepDarrenSoto</td>\n      <td>RT @RepStephMurphy: Great joining @WeAreUnidos...</td>\n      <td>[@RepStephMurphy]</td>\n      <td>[@WeAreUnidosUS, @RepDarrenSoto]</td>\n      <td>[#Orlando]</td>\n    </tr>\n    <tr>\n      <th>10</th>\n      <td>Democrat</td>\n      <td>RepDarrenSoto</td>\n      <td>RT @AllSaints_FL: Zhihan (John)'s art received...</td>\n      <td>[@AllSaints_FL]</td>\n      <td>[]</td>\n      <td>[]</td>\n    </tr>\n    <tr>\n      <th>11</th>\n      <td>Democrat</td>\n      <td>RepDarrenSoto</td>\n      <td>.@realDonaldTrump official policy to separate ...</td>\n      <td>[]</td>\n      <td>[@realDonaldTrump]</td>\n      <td>[]</td>\n    </tr>\n    <tr>\n      <th>12</th>\n      <td>Democrat</td>\n      <td>RepDarrenSoto</td>\n      <td>Thank you to my mom Jean and all the mothers a...</td>\n      <td>[]</td>\n      <td>[]</td>\n      <td>[]</td>\n    </tr>\n    <tr>\n      <th>13</th>\n      <td>Democrat</td>\n      <td>RepDarrenSoto</td>\n      <td>We paid our respects at Nat’l Law Enforcement ...</td>\n      <td>[]</td>\n      <td>[]</td>\n      <td>[]</td>\n    </tr>\n    <tr>\n      <th>14</th>\n      <td>Democrat</td>\n      <td>RepDarrenSoto</td>\n      <td>RT @WinterHavenSun: Congratulations to  @AHSbl...</td>\n      <td>[@WinterHavenSun]</td>\n      <td>[@AHSbloodhounds]</td>\n      <td>[]</td>\n    </tr>\n    <tr>\n      <th>15</th>\n      <td>Democrat</td>\n      <td>RepDarrenSoto</td>\n      <td>Meet 12 incredible young leaders appointed to ...</td>\n      <td>[]</td>\n      <td>[@HispanicCaucus]</td>\n      <td>[]</td>\n    </tr>\n    <tr>\n      <th>16</th>\n      <td>Democrat</td>\n      <td>RepDarrenSoto</td>\n      <td>RT @wildlifeaction: With 1/3 of US wildlife in...</td>\n      <td>[@wildlifeaction]</td>\n      <td>[]</td>\n      <td>[]</td>\n    </tr>\n    <tr>\n      <th>17</th>\n      <td>Democrat</td>\n      <td>RepDarrenSoto</td>\n      <td>RT @CHeathWFTV: Keeping guns out of the wrong ...</td>\n      <td>[@CHeathWFTV]</td>\n      <td>[@WFTV, @RepDarrenSoto]</td>\n      <td>[]</td>\n    </tr>\n    <tr>\n      <th>18</th>\n      <td>Democrat</td>\n      <td>RepDarrenSoto</td>\n      <td>RT @GermieNYC: TY, @RepDarrenSoto for calling ...</td>\n      <td>[@GermieNYC]</td>\n      <td>[@RepDarrenSoto]</td>\n      <td>[#HFAnow, #paidsickdays]</td>\n    </tr>\n    <tr>\n      <th>19</th>\n      <td>Democrat</td>\n      <td>RepDarrenSoto</td>\n      <td>Behind every successful student, there's a pro...</td>\n      <td>[]</td>\n      <td>[@OCPSnews]</td>\n      <td>[]</td>\n    </tr>\n    <tr>\n      <th>20</th>\n      <td>Democrat</td>\n      <td>RepDarrenSoto</td>\n      <td>RT @HeardontheHill: .@RepDarrenSoto recalled p...</td>\n      <td>[@HeardontheHill]</td>\n      <td>[@RepDarrenSoto, @repjoecrowley]</td>\n      <td>[]</td>\n    </tr>\n    <tr>\n      <th>21</th>\n      <td>Democrat</td>\n      <td>RepDarrenSoto</td>\n      <td>RT @NathanHale7476: Got to meet @RepDarrenSoto...</td>\n      <td>[@NathanHale7476]</td>\n      <td>[@RepDarrenSoto, @MrBettsClass, @AvalonElem_OC...</td>\n      <td>[#classroomwhereithappens]</td>\n    </tr>\n    <tr>\n      <th>22</th>\n      <td>Democrat</td>\n      <td>RepDarrenSoto</td>\n      <td>RT @WinterHavenSun: Lead story in the Polk New...</td>\n      <td>[@WinterHavenSun]</td>\n      <td>[@RepDarrenSoto, @SenBillNelson]</td>\n      <td>[]</td>\n    </tr>\n    <tr>\n      <th>23</th>\n      <td>Democrat</td>\n      <td>RepDarrenSoto</td>\n      <td>#FACT: 24 percent of Americans said they didn’...</td>\n      <td>[]</td>\n      <td>[]</td>\n      <td>[#FACT]</td>\n    </tr>\n    <tr>\n      <th>24</th>\n      <td>Democrat</td>\n      <td>RepDarrenSoto</td>\n      <td>Americans deserve #ABetterDeal on the cost of ...</td>\n      <td>[]</td>\n      <td>[]</td>\n      <td>[#ABetterDeal]</td>\n    </tr>\n    <tr>\n      <th>25</th>\n      <td>Democrat</td>\n      <td>RepDarrenSoto</td>\n      <td>Thank u @BillNye for being a voice for #Scienc...</td>\n      <td>[]</td>\n      <td>[@BillNye, @HispanicCaucus, @AudubonFL, @Sierr...</td>\n      <td>[#Science, #Sayfie]</td>\n    </tr>\n    <tr>\n      <th>26</th>\n      <td>Democrat</td>\n      <td>RepDarrenSoto</td>\n      <td>RT @RepRubenGallego: Public comment is a respo...</td>\n      <td>[@RepRubenGallego]</td>\n      <td>[]</td>\n      <td>[]</td>\n    </tr>\n    <tr>\n      <th>27</th>\n      <td>Democrat</td>\n      <td>RepDarrenSoto</td>\n      <td>Sat down with @rollcall to discuss fellowship,...</td>\n      <td>[]</td>\n      <td>[@rollcall]</td>\n      <td>[]</td>\n    </tr>\n    <tr>\n      <th>28</th>\n      <td>Democrat</td>\n      <td>RepDarrenSoto</td>\n      <td>RT @rvivian370: At the Pulse Memorial this mor...</td>\n      <td>[@rvivian370]</td>\n      <td>[@RepDarrenSoto]</td>\n      <td>[]</td>\n    </tr>\n    <tr>\n      <th>29</th>\n      <td>Democrat</td>\n      <td>RepDarrenSoto</td>\n      <td>Joined colleagues in opposition to Trump admin...</td>\n      <td>[]</td>\n      <td>[]</td>\n      <td>[]</td>\n    </tr>\n  </tbody>\n</table>\n</div>"
     },
     "execution_count": 3,
     "metadata": {},
     "output_type": "execute_result"
    }
   ],
   "source": [
    "def find_retweeted(tweet):\n",
    "    '''This function will extract the twitter handles of retweed people'''\n",
    "    return re.findall('(?<=RT\\\\s)(@[A-Za-z]+[A-Za-z0-9-_]+)', tweet)\n",
    "\n",
    "def find_mentioned(tweet):\n",
    "    '''This function will extract the twitter handles of people mentioned in the tweet'''\n",
    "    return re.findall('(?<!RT\\\\s)(@[A-Za-z]+[A-Za-z0-9-_]+)', tweet)\n",
    "\n",
    "def find_hashtags(tweet):\n",
    "    '''This function will extract hashtags'''\n",
    "    return re.findall('(#[A-Za-z]+[A-Za-z0-9-_]+)', tweet)\n",
    "\n",
    "# make new columns for retweeted usernames, mentioned usernames and hashtags\n",
    "df['retweeted'] = df['Tweet'].apply(find_retweeted)\n",
    "df['mentioned'] = df['Tweet'].apply(find_mentioned)\n",
    "df['hashtags'] = df['Tweet'].apply(find_hashtags)\n",
    "df.head(30)"
   ],
   "metadata": {
    "collapsed": false,
    "pycharm": {
     "name": "#%%\n"
    }
   }
  },
  {
   "cell_type": "markdown",
   "source": [
    "### Clean metioned, retweets and hashtags from tweet"
   ],
   "metadata": {
    "collapsed": false,
    "pycharm": {
     "name": "#%% md\n"
    }
   }
  },
  {
   "cell_type": "code",
   "execution_count": 4,
   "outputs": [
    {
     "data": {
      "text/plain": "      Party         Handle                                              Tweet  \\\n0  Democrat  RepDarrenSoto  Today, Senate Dems vote to #SaveTheInternet. P...   \n1  Democrat  RepDarrenSoto  RT @WinterHavenSun: Winter Haven resident / Al...   \n2  Democrat  RepDarrenSoto  RT @NBCLatino: .@RepDarrenSoto noted that Hurr...   \n3  Democrat  RepDarrenSoto  RT @NALCABPolicy: Meeting with @RepDarrenSoto ...   \n4  Democrat  RepDarrenSoto  RT @Vegalteno: Hurricane season starts on June...   \n\n           retweeted                                        mentioned  \\\n0                 []                                               []   \n1  [@WinterHavenSun]                                 [@RepDarrenSoto]   \n2       [@NBCLatino]                                 [@RepDarrenSoto]   \n3    [@NALCABPolicy]                  [@RepDarrenSoto, @LatinoLeader]   \n4       [@Vegalteno]  [@Pwr4PuertoRico, @RepDarrenSoto, @EspaillatNY]   \n\n                             hashtags  \\\n0  [#SaveTheInternet, #NetNeutrality]   \n1                                  []   \n2                                  []   \n3                 [#NALCABPolicy2018]   \n4                                  []   \n\n                                        TweetCleaned  \n0  today senate dems vote proud support similar l...  \n1   winter resident alta vista teacher one severa...  \n2   noted hurricane maria left approximately $90 ...  \n3   meeting thanks taking time meet ed marucci gu...  \n4   hurricane season starts june 1st puerto rico’...  ",
      "text/html": "<div>\n<style scoped>\n    .dataframe tbody tr th:only-of-type {\n        vertical-align: middle;\n    }\n\n    .dataframe tbody tr th {\n        vertical-align: top;\n    }\n\n    .dataframe thead th {\n        text-align: right;\n    }\n</style>\n<table border=\"1\" class=\"dataframe\">\n  <thead>\n    <tr style=\"text-align: right;\">\n      <th></th>\n      <th>Party</th>\n      <th>Handle</th>\n      <th>Tweet</th>\n      <th>retweeted</th>\n      <th>mentioned</th>\n      <th>hashtags</th>\n      <th>TweetCleaned</th>\n    </tr>\n  </thead>\n  <tbody>\n    <tr>\n      <th>0</th>\n      <td>Democrat</td>\n      <td>RepDarrenSoto</td>\n      <td>Today, Senate Dems vote to #SaveTheInternet. P...</td>\n      <td>[]</td>\n      <td>[]</td>\n      <td>[#SaveTheInternet, #NetNeutrality]</td>\n      <td>today senate dems vote proud support similar l...</td>\n    </tr>\n    <tr>\n      <th>1</th>\n      <td>Democrat</td>\n      <td>RepDarrenSoto</td>\n      <td>RT @WinterHavenSun: Winter Haven resident / Al...</td>\n      <td>[@WinterHavenSun]</td>\n      <td>[@RepDarrenSoto]</td>\n      <td>[]</td>\n      <td>winter resident alta vista teacher one severa...</td>\n    </tr>\n    <tr>\n      <th>2</th>\n      <td>Democrat</td>\n      <td>RepDarrenSoto</td>\n      <td>RT @NBCLatino: .@RepDarrenSoto noted that Hurr...</td>\n      <td>[@NBCLatino]</td>\n      <td>[@RepDarrenSoto]</td>\n      <td>[]</td>\n      <td>noted hurricane maria left approximately $90 ...</td>\n    </tr>\n    <tr>\n      <th>3</th>\n      <td>Democrat</td>\n      <td>RepDarrenSoto</td>\n      <td>RT @NALCABPolicy: Meeting with @RepDarrenSoto ...</td>\n      <td>[@NALCABPolicy]</td>\n      <td>[@RepDarrenSoto, @LatinoLeader]</td>\n      <td>[#NALCABPolicy2018]</td>\n      <td>meeting thanks taking time meet ed marucci gu...</td>\n    </tr>\n    <tr>\n      <th>4</th>\n      <td>Democrat</td>\n      <td>RepDarrenSoto</td>\n      <td>RT @Vegalteno: Hurricane season starts on June...</td>\n      <td>[@Vegalteno]</td>\n      <td>[@Pwr4PuertoRico, @RepDarrenSoto, @EspaillatNY]</td>\n      <td>[]</td>\n      <td>hurricane season starts june 1st puerto rico’...</td>\n    </tr>\n  </tbody>\n</table>\n</div>"
     },
     "execution_count": 4,
     "metadata": {},
     "output_type": "execute_result"
    }
   ],
   "source": [
    "from nltk.corpus import stopwords\n",
    "\n",
    "stop_words = stopwords.words('english')\n",
    "stop_words.append(\"rt\")\n",
    "\n",
    "def clean_retweeted(tweet):\n",
    "    '''This function will extract the twitter handles of retweed people'''\n",
    "    return re.sub('(?<=RT\\\\s)(@[A-Za-z]+[A-Za-z0-9-_]+)', '', tweet)\n",
    "\n",
    "def clean_mentioned(tweet):\n",
    "    '''This function will extract the twitter handles of people mentioned in the tweet'''\n",
    "    return re.sub('(?<!RT\\\\s)(@[A-Za-z]+[A-Za-z0-9-_]+)', '', tweet)\n",
    "\n",
    "def clean_hashtags(tweet):\n",
    "    '''This function will extract hashtags'''\n",
    "    return re.sub('(#[A-Za-z]+[A-Za-z0-9-_]+)', '', tweet)\n",
    "\n",
    "def clean(tweet):\n",
    "    # Remove mentions, retweets and hashtags\n",
    "    tweet = clean_hashtags(tweet)\n",
    "    tweet = clean_mentioned(tweet)\n",
    "    tweet = clean_retweeted(tweet)\n",
    "    tweet = tweet.lower()\n",
    "    # Remove punctuation\n",
    "    tweet = re.sub(\"[\\\\.,;:!/\\\\?]*\", \"\", tweet)\n",
    "    # Remove stop words\n",
    "    tweet = ' '.join([word for word in tweet.split(' ') if not word in stop_words])\n",
    "    # Remove multiple spaces\n",
    "    tweet = re.sub(\"\\\\s+\", \" \", tweet)\n",
    "    return tweet\n",
    "\n",
    "df['TweetCleaned'] = df['Tweet'].apply(clean)\n",
    "df.head()"
   ],
   "metadata": {
    "collapsed": false,
    "pycharm": {
     "name": "#%%\n"
    }
   }
  },
  {
   "cell_type": "markdown",
   "source": [
    "### Lemmatize the text"
   ],
   "metadata": {
    "collapsed": false,
    "pycharm": {
     "name": "#%% md\n"
    }
   }
  },
  {
   "cell_type": "code",
   "execution_count": 5,
   "outputs": [
    {
     "data": {
      "text/plain": "      Party         Handle                                              Tweet  \\\n0  Democrat  RepDarrenSoto  Today, Senate Dems vote to #SaveTheInternet. P...   \n1  Democrat  RepDarrenSoto  RT @WinterHavenSun: Winter Haven resident / Al...   \n2  Democrat  RepDarrenSoto  RT @NBCLatino: .@RepDarrenSoto noted that Hurr...   \n3  Democrat  RepDarrenSoto  RT @NALCABPolicy: Meeting with @RepDarrenSoto ...   \n4  Democrat  RepDarrenSoto  RT @Vegalteno: Hurricane season starts on June...   \n\n           retweeted                                        mentioned  \\\n0                 []                                               []   \n1  [@WinterHavenSun]                                 [@RepDarrenSoto]   \n2       [@NBCLatino]                                 [@RepDarrenSoto]   \n3    [@NALCABPolicy]                  [@RepDarrenSoto, @LatinoLeader]   \n4       [@Vegalteno]  [@Pwr4PuertoRico, @RepDarrenSoto, @EspaillatNY]   \n\n                             hashtags  \\\n0  [#SaveTheInternet, #NetNeutrality]   \n1                                  []   \n2                                  []   \n3                 [#NALCABPolicy2018]   \n4                                  []   \n\n                                        TweetCleaned  \n0  today dem vote proud support similar legislati...  \n1  winter resident teacher several recognize nati...  \n2  note hurricane maria leave approximately damag...  \n3                            meeting thank take time  \n4           hurricane season start readinesswell ♂ 😡  ",
      "text/html": "<div>\n<style scoped>\n    .dataframe tbody tr th:only-of-type {\n        vertical-align: middle;\n    }\n\n    .dataframe tbody tr th {\n        vertical-align: top;\n    }\n\n    .dataframe thead th {\n        text-align: right;\n    }\n</style>\n<table border=\"1\" class=\"dataframe\">\n  <thead>\n    <tr style=\"text-align: right;\">\n      <th></th>\n      <th>Party</th>\n      <th>Handle</th>\n      <th>Tweet</th>\n      <th>retweeted</th>\n      <th>mentioned</th>\n      <th>hashtags</th>\n      <th>TweetCleaned</th>\n    </tr>\n  </thead>\n  <tbody>\n    <tr>\n      <th>0</th>\n      <td>Democrat</td>\n      <td>RepDarrenSoto</td>\n      <td>Today, Senate Dems vote to #SaveTheInternet. P...</td>\n      <td>[]</td>\n      <td>[]</td>\n      <td>[#SaveTheInternet, #NetNeutrality]</td>\n      <td>today dem vote proud support similar legislati...</td>\n    </tr>\n    <tr>\n      <th>1</th>\n      <td>Democrat</td>\n      <td>RepDarrenSoto</td>\n      <td>RT @WinterHavenSun: Winter Haven resident / Al...</td>\n      <td>[@WinterHavenSun]</td>\n      <td>[@RepDarrenSoto]</td>\n      <td>[]</td>\n      <td>winter resident teacher several recognize nati...</td>\n    </tr>\n    <tr>\n      <th>2</th>\n      <td>Democrat</td>\n      <td>RepDarrenSoto</td>\n      <td>RT @NBCLatino: .@RepDarrenSoto noted that Hurr...</td>\n      <td>[@NBCLatino]</td>\n      <td>[@RepDarrenSoto]</td>\n      <td>[]</td>\n      <td>note hurricane maria leave approximately damag...</td>\n    </tr>\n    <tr>\n      <th>3</th>\n      <td>Democrat</td>\n      <td>RepDarrenSoto</td>\n      <td>RT @NALCABPolicy: Meeting with @RepDarrenSoto ...</td>\n      <td>[@NALCABPolicy]</td>\n      <td>[@RepDarrenSoto, @LatinoLeader]</td>\n      <td>[#NALCABPolicy2018]</td>\n      <td>meeting thank take time</td>\n    </tr>\n    <tr>\n      <th>4</th>\n      <td>Democrat</td>\n      <td>RepDarrenSoto</td>\n      <td>RT @Vegalteno: Hurricane season starts on June...</td>\n      <td>[@Vegalteno]</td>\n      <td>[@Pwr4PuertoRico, @RepDarrenSoto, @EspaillatNY]</td>\n      <td>[]</td>\n      <td>hurricane season start readinesswell ♂ 😡</td>\n    </tr>\n  </tbody>\n</table>\n</div>"
     },
     "execution_count": 5,
     "metadata": {},
     "output_type": "execute_result"
    }
   ],
   "source": [
    "nlp = spacy.load(\"en_core_web_sm\", disable=[\"parser\", \"ner\"])\n",
    "\n",
    "def lemmatization(tweet, allowed_postags=[\"NOUN\", \"ADJ\", \"VERB\", \"ADV\"]):\n",
    "    doc = nlp(tweet)\n",
    "    new_text = []\n",
    "    for token in doc:\n",
    "        if token.pos_ in allowed_postags:\n",
    "            new_text.append(token.lemma_)\n",
    "    final = \" \".join(new_text)\n",
    "    return final\n",
    "\n",
    "df['TweetCleaned'] = df['TweetCleaned'].apply(lemmatization)\n",
    "df.head()"
   ],
   "metadata": {
    "collapsed": false,
    "pycharm": {
     "name": "#%%\n"
    }
   }
  },
  {
   "cell_type": "code",
   "execution_count": 6,
   "outputs": [
    {
     "data": {
      "text/plain": "      Party         Handle                                              Tweet  \\\n0  Democrat  RepDarrenSoto  Today, Senate Dems vote to #SaveTheInternet. P...   \n1  Democrat  RepDarrenSoto  RT @WinterHavenSun: Winter Haven resident / Al...   \n2  Democrat  RepDarrenSoto  RT @NBCLatino: .@RepDarrenSoto noted that Hurr...   \n3  Democrat  RepDarrenSoto  RT @NALCABPolicy: Meeting with @RepDarrenSoto ...   \n4  Democrat  RepDarrenSoto  RT @Vegalteno: Hurricane season starts on June...   \n\n           retweeted                                        mentioned  \\\n0                 []                                               []   \n1  [@WinterHavenSun]                                 [@RepDarrenSoto]   \n2       [@NBCLatino]                                 [@RepDarrenSoto]   \n3    [@NALCABPolicy]                  [@RepDarrenSoto, @LatinoLeader]   \n4       [@Vegalteno]  [@Pwr4PuertoRico, @RepDarrenSoto, @EspaillatNY]   \n\n                             hashtags  \\\n0  [#SaveTheInternet, #NetNeutrality]   \n1                                  []   \n2                                  []   \n3                 [#NALCABPolicy2018]   \n4                                  []   \n\n                                        TweetCleaned  \n0  today dem vote proud support similar legislati...  \n1  winter resident teacher several recognize nati...  \n2  note hurricane maria leave approximately damag...  \n3                            meeting thank take time  \n4           hurricane season start readinesswell ♂ 😡  ",
      "text/html": "<div>\n<style scoped>\n    .dataframe tbody tr th:only-of-type {\n        vertical-align: middle;\n    }\n\n    .dataframe tbody tr th {\n        vertical-align: top;\n    }\n\n    .dataframe thead th {\n        text-align: right;\n    }\n</style>\n<table border=\"1\" class=\"dataframe\">\n  <thead>\n    <tr style=\"text-align: right;\">\n      <th></th>\n      <th>Party</th>\n      <th>Handle</th>\n      <th>Tweet</th>\n      <th>retweeted</th>\n      <th>mentioned</th>\n      <th>hashtags</th>\n      <th>TweetCleaned</th>\n    </tr>\n  </thead>\n  <tbody>\n    <tr>\n      <th>0</th>\n      <td>Democrat</td>\n      <td>RepDarrenSoto</td>\n      <td>Today, Senate Dems vote to #SaveTheInternet. P...</td>\n      <td>[]</td>\n      <td>[]</td>\n      <td>[#SaveTheInternet, #NetNeutrality]</td>\n      <td>today dem vote proud support similar legislati...</td>\n    </tr>\n    <tr>\n      <th>1</th>\n      <td>Democrat</td>\n      <td>RepDarrenSoto</td>\n      <td>RT @WinterHavenSun: Winter Haven resident / Al...</td>\n      <td>[@WinterHavenSun]</td>\n      <td>[@RepDarrenSoto]</td>\n      <td>[]</td>\n      <td>winter resident teacher several recognize nati...</td>\n    </tr>\n    <tr>\n      <th>2</th>\n      <td>Democrat</td>\n      <td>RepDarrenSoto</td>\n      <td>RT @NBCLatino: .@RepDarrenSoto noted that Hurr...</td>\n      <td>[@NBCLatino]</td>\n      <td>[@RepDarrenSoto]</td>\n      <td>[]</td>\n      <td>note hurricane maria leave approximately damag...</td>\n    </tr>\n    <tr>\n      <th>3</th>\n      <td>Democrat</td>\n      <td>RepDarrenSoto</td>\n      <td>RT @NALCABPolicy: Meeting with @RepDarrenSoto ...</td>\n      <td>[@NALCABPolicy]</td>\n      <td>[@RepDarrenSoto, @LatinoLeader]</td>\n      <td>[#NALCABPolicy2018]</td>\n      <td>meeting thank take time</td>\n    </tr>\n    <tr>\n      <th>4</th>\n      <td>Democrat</td>\n      <td>RepDarrenSoto</td>\n      <td>RT @Vegalteno: Hurricane season starts on June...</td>\n      <td>[@Vegalteno]</td>\n      <td>[@Pwr4PuertoRico, @RepDarrenSoto, @EspaillatNY]</td>\n      <td>[]</td>\n      <td>hurricane season start readinesswell ♂ 😡</td>\n    </tr>\n  </tbody>\n</table>\n</div>"
     },
     "execution_count": 6,
     "metadata": {},
     "output_type": "execute_result"
    }
   ],
   "source": [
    "gensim.utils.simple_preprocess(\"today vote proud support similar legislation\", deacc=True)\n",
    "df.head()"
   ],
   "metadata": {
    "collapsed": false,
    "pycharm": {
     "name": "#%%\n"
    }
   }
  },
  {
   "cell_type": "code",
   "execution_count": 7,
   "outputs": [
    {
     "data": {
      "text/plain": "      Party         Handle                                              Tweet  \\\n0  Democrat  RepDarrenSoto  Today, Senate Dems vote to #SaveTheInternet. P...   \n1  Democrat  RepDarrenSoto  RT @WinterHavenSun: Winter Haven resident / Al...   \n2  Democrat  RepDarrenSoto  RT @NBCLatino: .@RepDarrenSoto noted that Hurr...   \n3  Democrat  RepDarrenSoto  RT @NALCABPolicy: Meeting with @RepDarrenSoto ...   \n4  Democrat  RepDarrenSoto  RT @Vegalteno: Hurricane season starts on June...   \n\n           retweeted                                        mentioned  \\\n0                 []                                               []   \n1  [@WinterHavenSun]                                 [@RepDarrenSoto]   \n2       [@NBCLatino]                                 [@RepDarrenSoto]   \n3    [@NALCABPolicy]                  [@RepDarrenSoto, @LatinoLeader]   \n4       [@Vegalteno]  [@Pwr4PuertoRico, @RepDarrenSoto, @EspaillatNY]   \n\n                             hashtags  \\\n0  [#SaveTheInternet, #NetNeutrality]   \n1                                  []   \n2                                  []   \n3                 [#NALCABPolicy2018]   \n4                                  []   \n\n                                        TweetCleaned  \\\n0  today dem vote proud support similar legislati...   \n1  winter resident teacher several recognize nati...   \n2  note hurricane maria leave approximately damag...   \n3                            meeting thank take time   \n4           hurricane season start readinesswell ♂ 😡   \n\n                                          TweetWords  \n0  [today, dem, vote, proud, support, similar, le...  \n1  [winter, resident, teacher, several, recognize...  \n2  [note, hurricane, maria, leave, approximately,...  \n3                       [meeting, thank, take, time]  \n4          [hurricane, season, start, readinesswell]  ",
      "text/html": "<div>\n<style scoped>\n    .dataframe tbody tr th:only-of-type {\n        vertical-align: middle;\n    }\n\n    .dataframe tbody tr th {\n        vertical-align: top;\n    }\n\n    .dataframe thead th {\n        text-align: right;\n    }\n</style>\n<table border=\"1\" class=\"dataframe\">\n  <thead>\n    <tr style=\"text-align: right;\">\n      <th></th>\n      <th>Party</th>\n      <th>Handle</th>\n      <th>Tweet</th>\n      <th>retweeted</th>\n      <th>mentioned</th>\n      <th>hashtags</th>\n      <th>TweetCleaned</th>\n      <th>TweetWords</th>\n    </tr>\n  </thead>\n  <tbody>\n    <tr>\n      <th>0</th>\n      <td>Democrat</td>\n      <td>RepDarrenSoto</td>\n      <td>Today, Senate Dems vote to #SaveTheInternet. P...</td>\n      <td>[]</td>\n      <td>[]</td>\n      <td>[#SaveTheInternet, #NetNeutrality]</td>\n      <td>today dem vote proud support similar legislati...</td>\n      <td>[today, dem, vote, proud, support, similar, le...</td>\n    </tr>\n    <tr>\n      <th>1</th>\n      <td>Democrat</td>\n      <td>RepDarrenSoto</td>\n      <td>RT @WinterHavenSun: Winter Haven resident / Al...</td>\n      <td>[@WinterHavenSun]</td>\n      <td>[@RepDarrenSoto]</td>\n      <td>[]</td>\n      <td>winter resident teacher several recognize nati...</td>\n      <td>[winter, resident, teacher, several, recognize...</td>\n    </tr>\n    <tr>\n      <th>2</th>\n      <td>Democrat</td>\n      <td>RepDarrenSoto</td>\n      <td>RT @NBCLatino: .@RepDarrenSoto noted that Hurr...</td>\n      <td>[@NBCLatino]</td>\n      <td>[@RepDarrenSoto]</td>\n      <td>[]</td>\n      <td>note hurricane maria leave approximately damag...</td>\n      <td>[note, hurricane, maria, leave, approximately,...</td>\n    </tr>\n    <tr>\n      <th>3</th>\n      <td>Democrat</td>\n      <td>RepDarrenSoto</td>\n      <td>RT @NALCABPolicy: Meeting with @RepDarrenSoto ...</td>\n      <td>[@NALCABPolicy]</td>\n      <td>[@RepDarrenSoto, @LatinoLeader]</td>\n      <td>[#NALCABPolicy2018]</td>\n      <td>meeting thank take time</td>\n      <td>[meeting, thank, take, time]</td>\n    </tr>\n    <tr>\n      <th>4</th>\n      <td>Democrat</td>\n      <td>RepDarrenSoto</td>\n      <td>RT @Vegalteno: Hurricane season starts on June...</td>\n      <td>[@Vegalteno]</td>\n      <td>[@Pwr4PuertoRico, @RepDarrenSoto, @EspaillatNY]</td>\n      <td>[]</td>\n      <td>hurricane season start readinesswell ♂ 😡</td>\n      <td>[hurricane, season, start, readinesswell]</td>\n    </tr>\n  </tbody>\n</table>\n</div>"
     },
     "execution_count": 7,
     "metadata": {},
     "output_type": "execute_result"
    }
   ],
   "source": [
    "def gen_words(tweet):\n",
    "    # Use gensims simple simple_preprocess to remove accents, lowercase and tokenize\n",
    "    return gensim.utils.simple_preprocess(tweet, deacc=True)\n",
    "\n",
    "df['TweetWords'] = df['TweetCleaned'].apply(gen_words)\n",
    "df.head()"
   ],
   "metadata": {
    "collapsed": false,
    "pycharm": {
     "name": "#%%\n"
    }
   }
  },
  {
   "cell_type": "code",
   "execution_count": 8,
   "outputs": [
    {
     "data": {
      "text/plain": "       Party         Handle  \\\n0   Democrat  RepDarrenSoto   \n1   Democrat  RepDarrenSoto   \n2   Democrat  RepDarrenSoto   \n3   Democrat  RepDarrenSoto   \n4   Democrat  RepDarrenSoto   \n5   Democrat  RepDarrenSoto   \n6   Democrat  RepDarrenSoto   \n7   Democrat  RepDarrenSoto   \n8   Democrat  RepDarrenSoto   \n9   Democrat  RepDarrenSoto   \n10  Democrat  RepDarrenSoto   \n11  Democrat  RepDarrenSoto   \n12  Democrat  RepDarrenSoto   \n13  Democrat  RepDarrenSoto   \n14  Democrat  RepDarrenSoto   \n15  Democrat  RepDarrenSoto   \n16  Democrat  RepDarrenSoto   \n17  Democrat  RepDarrenSoto   \n18  Democrat  RepDarrenSoto   \n19  Democrat  RepDarrenSoto   \n20  Democrat  RepDarrenSoto   \n21  Democrat  RepDarrenSoto   \n22  Democrat  RepDarrenSoto   \n23  Democrat  RepDarrenSoto   \n24  Democrat  RepDarrenSoto   \n25  Democrat  RepDarrenSoto   \n26  Democrat  RepDarrenSoto   \n27  Democrat  RepDarrenSoto   \n28  Democrat  RepDarrenSoto   \n29  Democrat  RepDarrenSoto   \n\n                                                Tweet           retweeted  \\\n0   Today, Senate Dems vote to #SaveTheInternet. P...                  []   \n1   RT @WinterHavenSun: Winter Haven resident / Al...   [@WinterHavenSun]   \n2   RT @NBCLatino: .@RepDarrenSoto noted that Hurr...        [@NBCLatino]   \n3   RT @NALCABPolicy: Meeting with @RepDarrenSoto ...     [@NALCABPolicy]   \n4   RT @Vegalteno: Hurricane season starts on June...        [@Vegalteno]   \n5   RT @EmgageActionFL: Thank you to all who came ...   [@EmgageActionFL]   \n6   Hurricane Maria left approx $90 billion in dam...                  []   \n7   RT @Tharryry: I am delighted that @RepDarrenSo...         [@Tharryry]   \n8   RT @HispanicCaucus: Trump's anti-immigrant pol...   [@HispanicCaucus]   \n9   RT @RepStephMurphy: Great joining @WeAreUnidos...   [@RepStephMurphy]   \n10  RT @AllSaints_FL: Zhihan (John)'s art received...     [@AllSaints_FL]   \n11  .@realDonaldTrump official policy to separate ...                  []   \n12  Thank you to my mom Jean and all the mothers a...                  []   \n13  We paid our respects at Nat’l Law Enforcement ...                  []   \n14  RT @WinterHavenSun: Congratulations to  @AHSbl...   [@WinterHavenSun]   \n15  Meet 12 incredible young leaders appointed to ...                  []   \n16  RT @wildlifeaction: With 1/3 of US wildlife in...   [@wildlifeaction]   \n17  RT @CHeathWFTV: Keeping guns out of the wrong ...       [@CHeathWFTV]   \n18  RT @GermieNYC: TY, @RepDarrenSoto for calling ...        [@GermieNYC]   \n19  Behind every successful student, there's a pro...                  []   \n20  RT @HeardontheHill: .@RepDarrenSoto recalled p...   [@HeardontheHill]   \n21  RT @NathanHale7476: Got to meet @RepDarrenSoto...   [@NathanHale7476]   \n22  RT @WinterHavenSun: Lead story in the Polk New...   [@WinterHavenSun]   \n23  #FACT: 24 percent of Americans said they didn’...                  []   \n24  Americans deserve #ABetterDeal on the cost of ...                  []   \n25  Thank u @BillNye for being a voice for #Scienc...                  []   \n26  RT @RepRubenGallego: Public comment is a respo...  [@RepRubenGallego]   \n27  Sat down with @rollcall to discuss fellowship,...                  []   \n28  RT @rvivian370: At the Pulse Memorial this mor...       [@rvivian370]   \n29  Joined colleagues in opposition to Trump admin...                  []   \n\n                                            mentioned  \\\n0                                                  []   \n1                                    [@RepDarrenSoto]   \n2                                    [@RepDarrenSoto]   \n3                     [@RepDarrenSoto, @LatinoLeader]   \n4     [@Pwr4PuertoRico, @RepDarrenSoto, @EspaillatNY]   \n5                                                  []   \n6                                                  []   \n7                                    [@RepDarrenSoto]   \n8                                                  []   \n9                    [@WeAreUnidosUS, @RepDarrenSoto]   \n10                                                 []   \n11                                 [@realDonaldTrump]   \n12                                                 []   \n13                                                 []   \n14                                  [@AHSbloodhounds]   \n15                                  [@HispanicCaucus]   \n16                                                 []   \n17                            [@WFTV, @RepDarrenSoto]   \n18                                   [@RepDarrenSoto]   \n19                                        [@OCPSnews]   \n20                   [@RepDarrenSoto, @repjoecrowley]   \n21  [@RepDarrenSoto, @MrBettsClass, @AvalonElem_OC...   \n22                   [@RepDarrenSoto, @SenBillNelson]   \n23                                                 []   \n24                                                 []   \n25  [@BillNye, @HispanicCaucus, @AudubonFL, @Sierr...   \n26                                                 []   \n27                                        [@rollcall]   \n28                                   [@RepDarrenSoto]   \n29                                                 []   \n\n                              hashtags  \\\n0   [#SaveTheInternet, #NetNeutrality]   \n1                                   []   \n2                                   []   \n3                  [#NALCABPolicy2018]   \n4                                   []   \n5                                   []   \n6                                   []   \n7                     [#NetNeutrality]   \n8                                   []   \n9                           [#Orlando]   \n10                                  []   \n11                                  []   \n12                                  []   \n13                                  []   \n14                                  []   \n15                                  []   \n16                                  []   \n17                                  []   \n18            [#HFAnow, #paidsickdays]   \n19                                  []   \n20                                  []   \n21          [#classroomwhereithappens]   \n22                                  []   \n23                             [#FACT]   \n24                      [#ABetterDeal]   \n25                 [#Science, #Sayfie]   \n26                                  []   \n27                                  []   \n28                                  []   \n29                                  []   \n\n                                         TweetCleaned  \\\n0   today dem vote proud support similar legislati...   \n1   winter resident teacher several recognize nati...   \n2   note hurricane maria leave approximately damag...   \n3                             meeting thank take time   \n4            hurricane season start readinesswell ♂ 😡   \n5   thank come orlando gala successful night possible   \n6              leave damage yet allocate rebuild grid   \n7                            delight voting rule find   \n8   trump anti - immigrant policy hurt small busin...   \n9   great join roundtable federal issue affect cen...   \n10  art receive award year state competition find ...   \n11  official policy separate immigrant child mothe...   \n12  thank jean mother nation raise future httpstco...   \n13  pay respect law enforcement officer memorial t...   \n14  congratulation senior abygayle rausch start se...   \n15  meet incredible young leader appoint military ...   \n16  wildlife snowy plover need advocate co - spons...   \n17  keep gun wrong hand follow report ask atf look...   \n18           ty call ensure worker access matter live   \n19  successful student proud community family teac...   \n20  recall playing music dem retreat httpstcopvpnz...   \n21                                     get meet today   \n22         lead story polk news sun voter decide auto   \n23  percent say fill prescription previous year hi...   \n24  deserve cost prescription drug senior allow ht...   \n25                                              thank   \n26  public comment responsibility federal agency p...   \n27  sit discuss fellowship get thing do band rider...   \n28  pulse memorial morning represent beautiful cer...   \n29  join colleague opposition trump add citizenshi...   \n\n                                           TweetWords  \\\n0   [today, dem, vote, proud, support, similar, le...   \n1   [winter, resident, teacher, several, recognize...   \n2   [note, hurricane, maria, leave, approximately,...   \n3                        [meeting, thank, take, time]   \n4           [hurricane, season, start, readinesswell]   \n5   [thank, come, orlando, gala, successful, night...   \n6       [leave, damage, yet, allocate, rebuild, grid]   \n7                       [delight, voting, rule, find]   \n8   [trump, anti, immigrant, policy, hurt, small, ...   \n9   [great, join, roundtable, federal, issue, affe...   \n10  [art, receive, award, year, state, competition...   \n11  [official, policy, separate, immigrant, child,...   \n12  [thank, jean, mother, nation, raise, future, h...   \n13  [pay, respect, law, enforcement, officer, memo...   \n14  [congratulation, senior, abygayle, rausch, sta...   \n15  [meet, incredible, young, leader, appoint, mil...   \n16  [wildlife, snowy, plover, need, advocate, co, ...   \n17  [keep, gun, wrong, hand, follow, report, ask, ...   \n18   [ty, call, ensure, worker, access, matter, live]   \n19  [successful, student, proud, community, family...   \n20             [recall, playing, music, dem, retreat]   \n21                                 [get, meet, today]   \n22  [lead, story, polk, news, sun, voter, decide, ...   \n23  [percent, say, fill, prescription, previous, y...   \n24  [deserve, cost, prescription, drug, senior, al...   \n25                                            [thank]   \n26  [public, comment, responsibility, federal, age...   \n27  [sit, discuss, fellowship, get, thing, do, ban...   \n28  [pulse, memorial, morning, represent, beautifu...   \n29  [join, colleague, opposition, trump, add, citi...   \n\n                                             bigramms  \\\n0   [today, dem, vote, proud, support, similar, le...   \n1   [winter, resident, teacher, several, recognize...   \n2   [note, hurricane, maria, leave, approximately,...   \n3                        [meeting, thank, take, time]   \n4            [hurricane_season, start, readinesswell]   \n5   [thank, come, orlando, gala, successful, night...   \n6       [leave, damage, yet, allocate, rebuild, grid]   \n7                       [delight, voting, rule, find]   \n8   [trump, anti, immigrant, policy, hurt, small_b...   \n9   [great, join, roundtable, federal, issue, affe...   \n10  [art, receive, award, year, state, competition...   \n11  [official, policy, separate, immigrant, child,...   \n12  [thank, jean, mother, nation, raise, future, h...   \n13  [pay, respect, law_enforcement, officer_memori...   \n14  [congratulation, senior, abygayle, rausch, sta...   \n15  [meet, incredible, young, leader, appoint, mil...   \n16  [wildlife, snowy, plover, need, advocate, co_s...   \n17  [keep, gun, wrong, hand, follow, report, ask, ...   \n18   [ty, call, ensure, worker, access, matter, live]   \n19  [successful, student, proud, community, family...   \n20             [recall, playing, music, dem, retreat]   \n21                                 [get, meet, today]   \n22  [lead, story, polk, news, sun, voter, decide, ...   \n23  [percent, say, fill, prescription, previous, y...   \n24  [deserve, cost, prescription_drug, senior, all...   \n25                                            [thank]   \n26  [public, comment, responsibility, federal_agen...   \n27  [sit, discuss, fellowship, get, thing, do, ban...   \n28  [pulse, memorial, morning, represent, beautifu...   \n29  [join, colleague, opposition, trump, add_citiz...   \n\n                                             trigrams  \n0   [today, dem, vote, proud, support, similar, le...  \n1   [winter, resident, teacher, several, recognize...  \n2   [note, hurricane, maria, leave, approximately,...  \n3                        [meeting, thank, take, time]  \n4            [hurricane_season, start, readinesswell]  \n5   [thank, come, orlando, gala, successful, night...  \n6       [leave, damage, yet, allocate, rebuild, grid]  \n7                       [delight, voting, rule, find]  \n8   [trump, anti_immigrant, policy, hurt, small_bu...  \n9   [great, join, roundtable, federal, issue, affe...  \n10  [art, receive, award, year, state, competition...  \n11  [official, policy, separate, immigrant, child,...  \n12  [thank, jean, mother, nation, raise, future, h...  \n13  [pay, respect, law_enforcement, officer_memori...  \n14  [congratulation, senior, abygayle, rausch, sta...  \n15  [meet, incredible, young, leader, appoint, mil...  \n16  [wildlife, snowy, plover, need, advocate, co_s...  \n17  [keep, gun, wrong, hand, follow, report, ask, ...  \n18   [ty, call, ensure, worker, access, matter, live]  \n19  [successful, student, proud, community, family...  \n20             [recall, playing, music, dem, retreat]  \n21                                 [get, meet, today]  \n22  [lead, story, polk, news, sun, voter, decide, ...  \n23  [percent, say, fill, prescription, previous, y...  \n24  [deserve, cost, prescription_drug, senior, all...  \n25                                            [thank]  \n26  [public, comment, responsibility, federal_agen...  \n27  [sit, discuss, fellowship, get, thing, do, ban...  \n28  [pulse, memorial, morning, represent, beautifu...  \n29  [join, colleague, opposition, trump, add_citiz...  ",
      "text/html": "<div>\n<style scoped>\n    .dataframe tbody tr th:only-of-type {\n        vertical-align: middle;\n    }\n\n    .dataframe tbody tr th {\n        vertical-align: top;\n    }\n\n    .dataframe thead th {\n        text-align: right;\n    }\n</style>\n<table border=\"1\" class=\"dataframe\">\n  <thead>\n    <tr style=\"text-align: right;\">\n      <th></th>\n      <th>Party</th>\n      <th>Handle</th>\n      <th>Tweet</th>\n      <th>retweeted</th>\n      <th>mentioned</th>\n      <th>hashtags</th>\n      <th>TweetCleaned</th>\n      <th>TweetWords</th>\n      <th>bigramms</th>\n      <th>trigrams</th>\n    </tr>\n  </thead>\n  <tbody>\n    <tr>\n      <th>0</th>\n      <td>Democrat</td>\n      <td>RepDarrenSoto</td>\n      <td>Today, Senate Dems vote to #SaveTheInternet. P...</td>\n      <td>[]</td>\n      <td>[]</td>\n      <td>[#SaveTheInternet, #NetNeutrality]</td>\n      <td>today dem vote proud support similar legislati...</td>\n      <td>[today, dem, vote, proud, support, similar, le...</td>\n      <td>[today, dem, vote, proud, support, similar, le...</td>\n      <td>[today, dem, vote, proud, support, similar, le...</td>\n    </tr>\n    <tr>\n      <th>1</th>\n      <td>Democrat</td>\n      <td>RepDarrenSoto</td>\n      <td>RT @WinterHavenSun: Winter Haven resident / Al...</td>\n      <td>[@WinterHavenSun]</td>\n      <td>[@RepDarrenSoto]</td>\n      <td>[]</td>\n      <td>winter resident teacher several recognize nati...</td>\n      <td>[winter, resident, teacher, several, recognize...</td>\n      <td>[winter, resident, teacher, several, recognize...</td>\n      <td>[winter, resident, teacher, several, recognize...</td>\n    </tr>\n    <tr>\n      <th>2</th>\n      <td>Democrat</td>\n      <td>RepDarrenSoto</td>\n      <td>RT @NBCLatino: .@RepDarrenSoto noted that Hurr...</td>\n      <td>[@NBCLatino]</td>\n      <td>[@RepDarrenSoto]</td>\n      <td>[]</td>\n      <td>note hurricane maria leave approximately damag...</td>\n      <td>[note, hurricane, maria, leave, approximately,...</td>\n      <td>[note, hurricane, maria, leave, approximately,...</td>\n      <td>[note, hurricane, maria, leave, approximately,...</td>\n    </tr>\n    <tr>\n      <th>3</th>\n      <td>Democrat</td>\n      <td>RepDarrenSoto</td>\n      <td>RT @NALCABPolicy: Meeting with @RepDarrenSoto ...</td>\n      <td>[@NALCABPolicy]</td>\n      <td>[@RepDarrenSoto, @LatinoLeader]</td>\n      <td>[#NALCABPolicy2018]</td>\n      <td>meeting thank take time</td>\n      <td>[meeting, thank, take, time]</td>\n      <td>[meeting, thank, take, time]</td>\n      <td>[meeting, thank, take, time]</td>\n    </tr>\n    <tr>\n      <th>4</th>\n      <td>Democrat</td>\n      <td>RepDarrenSoto</td>\n      <td>RT @Vegalteno: Hurricane season starts on June...</td>\n      <td>[@Vegalteno]</td>\n      <td>[@Pwr4PuertoRico, @RepDarrenSoto, @EspaillatNY]</td>\n      <td>[]</td>\n      <td>hurricane season start readinesswell ♂ 😡</td>\n      <td>[hurricane, season, start, readinesswell]</td>\n      <td>[hurricane_season, start, readinesswell]</td>\n      <td>[hurricane_season, start, readinesswell]</td>\n    </tr>\n    <tr>\n      <th>5</th>\n      <td>Democrat</td>\n      <td>RepDarrenSoto</td>\n      <td>RT @EmgageActionFL: Thank you to all who came ...</td>\n      <td>[@EmgageActionFL]</td>\n      <td>[]</td>\n      <td>[]</td>\n      <td>thank come orlando gala successful night possible</td>\n      <td>[thank, come, orlando, gala, successful, night...</td>\n      <td>[thank, come, orlando, gala, successful, night...</td>\n      <td>[thank, come, orlando, gala, successful, night...</td>\n    </tr>\n    <tr>\n      <th>6</th>\n      <td>Democrat</td>\n      <td>RepDarrenSoto</td>\n      <td>Hurricane Maria left approx $90 billion in dam...</td>\n      <td>[]</td>\n      <td>[]</td>\n      <td>[]</td>\n      <td>leave damage yet allocate rebuild grid</td>\n      <td>[leave, damage, yet, allocate, rebuild, grid]</td>\n      <td>[leave, damage, yet, allocate, rebuild, grid]</td>\n      <td>[leave, damage, yet, allocate, rebuild, grid]</td>\n    </tr>\n    <tr>\n      <th>7</th>\n      <td>Democrat</td>\n      <td>RepDarrenSoto</td>\n      <td>RT @Tharryry: I am delighted that @RepDarrenSo...</td>\n      <td>[@Tharryry]</td>\n      <td>[@RepDarrenSoto]</td>\n      <td>[#NetNeutrality]</td>\n      <td>delight voting rule find</td>\n      <td>[delight, voting, rule, find]</td>\n      <td>[delight, voting, rule, find]</td>\n      <td>[delight, voting, rule, find]</td>\n    </tr>\n    <tr>\n      <th>8</th>\n      <td>Democrat</td>\n      <td>RepDarrenSoto</td>\n      <td>RT @HispanicCaucus: Trump's anti-immigrant pol...</td>\n      <td>[@HispanicCaucus]</td>\n      <td>[]</td>\n      <td>[]</td>\n      <td>trump anti - immigrant policy hurt small busin...</td>\n      <td>[trump, anti, immigrant, policy, hurt, small, ...</td>\n      <td>[trump, anti, immigrant, policy, hurt, small_b...</td>\n      <td>[trump, anti_immigrant, policy, hurt, small_bu...</td>\n    </tr>\n    <tr>\n      <th>9</th>\n      <td>Democrat</td>\n      <td>RepDarrenSoto</td>\n      <td>RT @RepStephMurphy: Great joining @WeAreUnidos...</td>\n      <td>[@RepStephMurphy]</td>\n      <td>[@WeAreUnidosUS, @RepDarrenSoto]</td>\n      <td>[#Orlando]</td>\n      <td>great join roundtable federal issue affect cen...</td>\n      <td>[great, join, roundtable, federal, issue, affe...</td>\n      <td>[great, join, roundtable, federal, issue, affe...</td>\n      <td>[great, join, roundtable, federal, issue, affe...</td>\n    </tr>\n    <tr>\n      <th>10</th>\n      <td>Democrat</td>\n      <td>RepDarrenSoto</td>\n      <td>RT @AllSaints_FL: Zhihan (John)'s art received...</td>\n      <td>[@AllSaints_FL]</td>\n      <td>[]</td>\n      <td>[]</td>\n      <td>art receive award year state competition find ...</td>\n      <td>[art, receive, award, year, state, competition...</td>\n      <td>[art, receive, award, year, state, competition...</td>\n      <td>[art, receive, award, year, state, competition...</td>\n    </tr>\n    <tr>\n      <th>11</th>\n      <td>Democrat</td>\n      <td>RepDarrenSoto</td>\n      <td>.@realDonaldTrump official policy to separate ...</td>\n      <td>[]</td>\n      <td>[@realDonaldTrump]</td>\n      <td>[]</td>\n      <td>official policy separate immigrant child mothe...</td>\n      <td>[official, policy, separate, immigrant, child,...</td>\n      <td>[official, policy, separate, immigrant, child,...</td>\n      <td>[official, policy, separate, immigrant, child,...</td>\n    </tr>\n    <tr>\n      <th>12</th>\n      <td>Democrat</td>\n      <td>RepDarrenSoto</td>\n      <td>Thank you to my mom Jean and all the mothers a...</td>\n      <td>[]</td>\n      <td>[]</td>\n      <td>[]</td>\n      <td>thank jean mother nation raise future httpstco...</td>\n      <td>[thank, jean, mother, nation, raise, future, h...</td>\n      <td>[thank, jean, mother, nation, raise, future, h...</td>\n      <td>[thank, jean, mother, nation, raise, future, h...</td>\n    </tr>\n    <tr>\n      <th>13</th>\n      <td>Democrat</td>\n      <td>RepDarrenSoto</td>\n      <td>We paid our respects at Nat’l Law Enforcement ...</td>\n      <td>[]</td>\n      <td>[]</td>\n      <td>[]</td>\n      <td>pay respect law enforcement officer memorial t...</td>\n      <td>[pay, respect, law, enforcement, officer, memo...</td>\n      <td>[pay, respect, law_enforcement, officer_memori...</td>\n      <td>[pay, respect, law_enforcement, officer_memori...</td>\n    </tr>\n    <tr>\n      <th>14</th>\n      <td>Democrat</td>\n      <td>RepDarrenSoto</td>\n      <td>RT @WinterHavenSun: Congratulations to  @AHSbl...</td>\n      <td>[@WinterHavenSun]</td>\n      <td>[@AHSbloodhounds]</td>\n      <td>[]</td>\n      <td>congratulation senior abygayle rausch start se...</td>\n      <td>[congratulation, senior, abygayle, rausch, sta...</td>\n      <td>[congratulation, senior, abygayle, rausch, sta...</td>\n      <td>[congratulation, senior, abygayle, rausch, sta...</td>\n    </tr>\n    <tr>\n      <th>15</th>\n      <td>Democrat</td>\n      <td>RepDarrenSoto</td>\n      <td>Meet 12 incredible young leaders appointed to ...</td>\n      <td>[]</td>\n      <td>[@HispanicCaucus]</td>\n      <td>[]</td>\n      <td>meet incredible young leader appoint military ...</td>\n      <td>[meet, incredible, young, leader, appoint, mil...</td>\n      <td>[meet, incredible, young, leader, appoint, mil...</td>\n      <td>[meet, incredible, young, leader, appoint, mil...</td>\n    </tr>\n    <tr>\n      <th>16</th>\n      <td>Democrat</td>\n      <td>RepDarrenSoto</td>\n      <td>RT @wildlifeaction: With 1/3 of US wildlife in...</td>\n      <td>[@wildlifeaction]</td>\n      <td>[]</td>\n      <td>[]</td>\n      <td>wildlife snowy plover need advocate co - spons...</td>\n      <td>[wildlife, snowy, plover, need, advocate, co, ...</td>\n      <td>[wildlife, snowy, plover, need, advocate, co_s...</td>\n      <td>[wildlife, snowy, plover, need, advocate, co_s...</td>\n    </tr>\n    <tr>\n      <th>17</th>\n      <td>Democrat</td>\n      <td>RepDarrenSoto</td>\n      <td>RT @CHeathWFTV: Keeping guns out of the wrong ...</td>\n      <td>[@CHeathWFTV]</td>\n      <td>[@WFTV, @RepDarrenSoto]</td>\n      <td>[]</td>\n      <td>keep gun wrong hand follow report ask atf look...</td>\n      <td>[keep, gun, wrong, hand, follow, report, ask, ...</td>\n      <td>[keep, gun, wrong, hand, follow, report, ask, ...</td>\n      <td>[keep, gun, wrong, hand, follow, report, ask, ...</td>\n    </tr>\n    <tr>\n      <th>18</th>\n      <td>Democrat</td>\n      <td>RepDarrenSoto</td>\n      <td>RT @GermieNYC: TY, @RepDarrenSoto for calling ...</td>\n      <td>[@GermieNYC]</td>\n      <td>[@RepDarrenSoto]</td>\n      <td>[#HFAnow, #paidsickdays]</td>\n      <td>ty call ensure worker access matter live</td>\n      <td>[ty, call, ensure, worker, access, matter, live]</td>\n      <td>[ty, call, ensure, worker, access, matter, live]</td>\n      <td>[ty, call, ensure, worker, access, matter, live]</td>\n    </tr>\n    <tr>\n      <th>19</th>\n      <td>Democrat</td>\n      <td>RepDarrenSoto</td>\n      <td>Behind every successful student, there's a pro...</td>\n      <td>[]</td>\n      <td>[@OCPSnews]</td>\n      <td>[]</td>\n      <td>successful student proud community family teac...</td>\n      <td>[successful, student, proud, community, family...</td>\n      <td>[successful, student, proud, community, family...</td>\n      <td>[successful, student, proud, community, family...</td>\n    </tr>\n    <tr>\n      <th>20</th>\n      <td>Democrat</td>\n      <td>RepDarrenSoto</td>\n      <td>RT @HeardontheHill: .@RepDarrenSoto recalled p...</td>\n      <td>[@HeardontheHill]</td>\n      <td>[@RepDarrenSoto, @repjoecrowley]</td>\n      <td>[]</td>\n      <td>recall playing music dem retreat httpstcopvpnz...</td>\n      <td>[recall, playing, music, dem, retreat]</td>\n      <td>[recall, playing, music, dem, retreat]</td>\n      <td>[recall, playing, music, dem, retreat]</td>\n    </tr>\n    <tr>\n      <th>21</th>\n      <td>Democrat</td>\n      <td>RepDarrenSoto</td>\n      <td>RT @NathanHale7476: Got to meet @RepDarrenSoto...</td>\n      <td>[@NathanHale7476]</td>\n      <td>[@RepDarrenSoto, @MrBettsClass, @AvalonElem_OC...</td>\n      <td>[#classroomwhereithappens]</td>\n      <td>get meet today</td>\n      <td>[get, meet, today]</td>\n      <td>[get, meet, today]</td>\n      <td>[get, meet, today]</td>\n    </tr>\n    <tr>\n      <th>22</th>\n      <td>Democrat</td>\n      <td>RepDarrenSoto</td>\n      <td>RT @WinterHavenSun: Lead story in the Polk New...</td>\n      <td>[@WinterHavenSun]</td>\n      <td>[@RepDarrenSoto, @SenBillNelson]</td>\n      <td>[]</td>\n      <td>lead story polk news sun voter decide auto</td>\n      <td>[lead, story, polk, news, sun, voter, decide, ...</td>\n      <td>[lead, story, polk, news, sun, voter, decide, ...</td>\n      <td>[lead, story, polk, news, sun, voter, decide, ...</td>\n    </tr>\n    <tr>\n      <th>23</th>\n      <td>Democrat</td>\n      <td>RepDarrenSoto</td>\n      <td>#FACT: 24 percent of Americans said they didn’...</td>\n      <td>[]</td>\n      <td>[]</td>\n      <td>[#FACT]</td>\n      <td>percent say fill prescription previous year hi...</td>\n      <td>[percent, say, fill, prescription, previous, y...</td>\n      <td>[percent, say, fill, prescription, previous, y...</td>\n      <td>[percent, say, fill, prescription, previous, y...</td>\n    </tr>\n    <tr>\n      <th>24</th>\n      <td>Democrat</td>\n      <td>RepDarrenSoto</td>\n      <td>Americans deserve #ABetterDeal on the cost of ...</td>\n      <td>[]</td>\n      <td>[]</td>\n      <td>[#ABetterDeal]</td>\n      <td>deserve cost prescription drug senior allow ht...</td>\n      <td>[deserve, cost, prescription, drug, senior, al...</td>\n      <td>[deserve, cost, prescription_drug, senior, all...</td>\n      <td>[deserve, cost, prescription_drug, senior, all...</td>\n    </tr>\n    <tr>\n      <th>25</th>\n      <td>Democrat</td>\n      <td>RepDarrenSoto</td>\n      <td>Thank u @BillNye for being a voice for #Scienc...</td>\n      <td>[]</td>\n      <td>[@BillNye, @HispanicCaucus, @AudubonFL, @Sierr...</td>\n      <td>[#Science, #Sayfie]</td>\n      <td>thank</td>\n      <td>[thank]</td>\n      <td>[thank]</td>\n      <td>[thank]</td>\n    </tr>\n    <tr>\n      <th>26</th>\n      <td>Democrat</td>\n      <td>RepDarrenSoto</td>\n      <td>RT @RepRubenGallego: Public comment is a respo...</td>\n      <td>[@RepRubenGallego]</td>\n      <td>[]</td>\n      <td>[]</td>\n      <td>public comment responsibility federal agency p...</td>\n      <td>[public, comment, responsibility, federal, age...</td>\n      <td>[public, comment, responsibility, federal_agen...</td>\n      <td>[public, comment, responsibility, federal_agen...</td>\n    </tr>\n    <tr>\n      <th>27</th>\n      <td>Democrat</td>\n      <td>RepDarrenSoto</td>\n      <td>Sat down with @rollcall to discuss fellowship,...</td>\n      <td>[]</td>\n      <td>[@rollcall]</td>\n      <td>[]</td>\n      <td>sit discuss fellowship get thing do band rider...</td>\n      <td>[sit, discuss, fellowship, get, thing, do, ban...</td>\n      <td>[sit, discuss, fellowship, get, thing, do, ban...</td>\n      <td>[sit, discuss, fellowship, get, thing, do, ban...</td>\n    </tr>\n    <tr>\n      <th>28</th>\n      <td>Democrat</td>\n      <td>RepDarrenSoto</td>\n      <td>RT @rvivian370: At the Pulse Memorial this mor...</td>\n      <td>[@rvivian370]</td>\n      <td>[@RepDarrenSoto]</td>\n      <td>[]</td>\n      <td>pulse memorial morning represent beautiful cer...</td>\n      <td>[pulse, memorial, morning, represent, beautifu...</td>\n      <td>[pulse, memorial, morning, represent, beautifu...</td>\n      <td>[pulse, memorial, morning, represent, beautifu...</td>\n    </tr>\n    <tr>\n      <th>29</th>\n      <td>Democrat</td>\n      <td>RepDarrenSoto</td>\n      <td>Joined colleagues in opposition to Trump admin...</td>\n      <td>[]</td>\n      <td>[]</td>\n      <td>[]</td>\n      <td>join colleague opposition trump add citizenshi...</td>\n      <td>[join, colleague, opposition, trump, add, citi...</td>\n      <td>[join, colleague, opposition, trump, add_citiz...</td>\n      <td>[join, colleague, opposition, trump, add_citiz...</td>\n    </tr>\n  </tbody>\n</table>\n</div>"
     },
     "execution_count": 8,
     "metadata": {},
     "output_type": "execute_result"
    }
   ],
   "source": [
    "#BIGRAMS AND TRIGRAMS\n",
    "bigram_phrases = gensim.models.Phrases(df['TweetWords'], min_count=5, threshold=100)\n",
    "trigram_phrases = gensim.models.Phrases(bigram_phrases[df['TweetWords']], threshold=100)\n",
    "\n",
    "bigram = gensim.models.phrases.Phraser(bigram_phrases)\n",
    "trigram = gensim.models.phrases.Phraser(trigram_phrases)\n",
    "\n",
    "def make_bigrams(tweetWords):\n",
    "    return bigram[tweetWords]\n",
    "\n",
    "def make_trigrams(bigrams):\n",
    "    return trigram[bigram[bigrams]]\n",
    "\n",
    "df['bigramms'] =  df['TweetWords'].apply(make_bigrams)\n",
    "df['trigrams'] = df['bigramms'].apply(make_trigrams)\n",
    "df.head(30)"
   ],
   "metadata": {
    "collapsed": false,
    "pycharm": {
     "name": "#%%\n"
    }
   }
  },
  {
   "cell_type": "markdown",
   "source": [
    "### Remove tokens which occur very often, since they do not contain semantic meaning and tokens which occur only a few times to reduce data noise"
   ],
   "metadata": {
    "collapsed": false,
    "pycharm": {
     "name": "#%% md\n"
    }
   }
  },
  {
   "cell_type": "code",
   "execution_count": 9,
   "outputs": [
    {
     "data": {
      "text/plain": "[[(0, 1),\n  (1, 1),\n  (2, 1),\n  (3, 1),\n  (4, 1),\n  (5, 1),\n  (6, 1),\n  (7, 1),\n  (8, 1),\n  (9, 1)],\n [(10, 1), (11, 1), (12, 1), (13, 1), (14, 2), (15, 1)],\n [(16, 1), (17, 1), (18, 1), (19, 1), (20, 1), (21, 1), (22, 1)],\n [(23, 1), (24, 1), (25, 1), (26, 1)],\n [(27, 1), (28, 1), (29, 1)]]"
     },
     "execution_count": 9,
     "metadata": {},
     "output_type": "execute_result"
    }
   ],
   "source": [
    "#TF-IDF REMOVAL\n",
    "from gensim.models import TfidfModel\n",
    "\n",
    "id2word = corpora.Dictionary(df['trigrams'])\n",
    "\n",
    "texts = df['trigrams']\n",
    "\n",
    "corpus = [id2word.doc2bow(text) for text in texts]\n",
    "# print (corpus[0][0:20])\n",
    "\n",
    "tfidf = TfidfModel(corpus, id2word=id2word)\n",
    "\n",
    "low_value = 0.03\n",
    "words  = []\n",
    "words_missing_in_tfidf = []\n",
    "for i in range(0, len(corpus)):\n",
    "    bow = corpus[i]\n",
    "    low_value_words = [] #reinitialize to be safe. You can skip this.\n",
    "    tfidf_ids = [id for id, value in tfidf[bow]]\n",
    "    bow_ids = [id for id, value in bow]\n",
    "    low_value_words = [id for id, value in tfidf[bow] if value < low_value]\n",
    "    drops = low_value_words+words_missing_in_tfidf\n",
    "    for item in drops:\n",
    "        words.append(id2word[item])\n",
    "    words_missing_in_tfidf = [id for id in bow_ids if id not in tfidf_ids] # The words with tf-idf socre 0 will be missing\n",
    "\n",
    "    new_bow = [b for b in bow if b[0] not in low_value_words and b[0] not in words_missing_in_tfidf]\n",
    "    corpus[i] = new_bow\n",
    "\n",
    "corpus[:5]"
   ],
   "metadata": {
    "collapsed": false,
    "pycharm": {
     "name": "#%%\n"
    }
   }
  },
  {
   "cell_type": "code",
   "execution_count": 10,
   "outputs": [
    {
     "ename": "KeyboardInterrupt",
     "evalue": "",
     "output_type": "error",
     "traceback": [
      "\u001B[0;31m---------------------------------------------------------------------------\u001B[0m",
      "\u001B[0;31mKeyboardInterrupt\u001B[0m                         Traceback (most recent call last)",
      "Input \u001B[0;32mIn [10]\u001B[0m, in \u001B[0;36m<cell line: 1>\u001B[0;34m()\u001B[0m\n\u001B[0;32m----> 1\u001B[0m lda_model \u001B[38;5;241m=\u001B[39m \u001B[43mgensim\u001B[49m\u001B[38;5;241;43m.\u001B[39;49m\u001B[43mmodels\u001B[49m\u001B[38;5;241;43m.\u001B[39;49m\u001B[43mldamodel\u001B[49m\u001B[38;5;241;43m.\u001B[39;49m\u001B[43mLdaModel\u001B[49m\u001B[43m(\u001B[49m\u001B[43mcorpus\u001B[49m\u001B[38;5;241;43m=\u001B[39;49m\u001B[43mcorpus\u001B[49m\u001B[43m[\u001B[49m\u001B[43m:\u001B[49m\u001B[38;5;241;43m-\u001B[39;49m\u001B[38;5;241;43m1\u001B[39;49m\u001B[43m]\u001B[49m\u001B[43m,\u001B[49m\n\u001B[1;32m      2\u001B[0m \u001B[43m                                            \u001B[49m\u001B[43mid2word\u001B[49m\u001B[38;5;241;43m=\u001B[39;49m\u001B[43mid2word\u001B[49m\u001B[43m,\u001B[49m\n\u001B[1;32m      3\u001B[0m \u001B[43m                                            \u001B[49m\u001B[43mnum_topics\u001B[49m\u001B[38;5;241;43m=\u001B[39;49m\u001B[38;5;241;43m10\u001B[39;49m\u001B[43m,\u001B[49m\n\u001B[1;32m      4\u001B[0m \u001B[43m                                            \u001B[49m\u001B[43mrandom_state\u001B[49m\u001B[38;5;241;43m=\u001B[39;49m\u001B[38;5;241;43m100\u001B[39;49m\u001B[43m,\u001B[49m\n\u001B[1;32m      5\u001B[0m \u001B[43m                                            \u001B[49m\u001B[43mupdate_every\u001B[49m\u001B[38;5;241;43m=\u001B[39;49m\u001B[38;5;241;43m1\u001B[39;49m\u001B[43m,\u001B[49m\n\u001B[1;32m      6\u001B[0m \u001B[43m                                            \u001B[49m\u001B[43mchunksize\u001B[49m\u001B[38;5;241;43m=\u001B[39;49m\u001B[38;5;241;43m100\u001B[39;49m\u001B[43m,\u001B[49m\n\u001B[1;32m      7\u001B[0m \u001B[43m                                            \u001B[49m\u001B[43mpasses\u001B[49m\u001B[38;5;241;43m=\u001B[39;49m\u001B[38;5;241;43m10\u001B[39;49m\u001B[43m,\u001B[49m\n\u001B[1;32m      8\u001B[0m \u001B[43m                                            \u001B[49m\u001B[43malpha\u001B[49m\u001B[38;5;241;43m=\u001B[39;49m\u001B[38;5;124;43m\"\u001B[39;49m\u001B[38;5;124;43mauto\u001B[39;49m\u001B[38;5;124;43m\"\u001B[39;49m\u001B[43m)\u001B[49m\n",
      "File \u001B[0;32m~/uni/nlp/nlp_project/venv/lib64/python3.10/site-packages/gensim/models/ldamodel.py:520\u001B[0m, in \u001B[0;36mLdaModel.__init__\u001B[0;34m(self, corpus, num_topics, id2word, distributed, chunksize, passes, update_every, alpha, eta, decay, offset, eval_every, iterations, gamma_threshold, minimum_probability, random_state, ns_conf, minimum_phi_value, per_word_topics, callbacks, dtype)\u001B[0m\n\u001B[1;32m    518\u001B[0m use_numpy \u001B[38;5;241m=\u001B[39m \u001B[38;5;28mself\u001B[39m\u001B[38;5;241m.\u001B[39mdispatcher \u001B[38;5;129;01mis\u001B[39;00m \u001B[38;5;129;01mnot\u001B[39;00m \u001B[38;5;28;01mNone\u001B[39;00m\n\u001B[1;32m    519\u001B[0m start \u001B[38;5;241m=\u001B[39m time\u001B[38;5;241m.\u001B[39mtime()\n\u001B[0;32m--> 520\u001B[0m \u001B[38;5;28;43mself\u001B[39;49m\u001B[38;5;241;43m.\u001B[39;49m\u001B[43mupdate\u001B[49m\u001B[43m(\u001B[49m\u001B[43mcorpus\u001B[49m\u001B[43m,\u001B[49m\u001B[43m \u001B[49m\u001B[43mchunks_as_numpy\u001B[49m\u001B[38;5;241;43m=\u001B[39;49m\u001B[43muse_numpy\u001B[49m\u001B[43m)\u001B[49m\n\u001B[1;32m    521\u001B[0m \u001B[38;5;28mself\u001B[39m\u001B[38;5;241m.\u001B[39madd_lifecycle_event(\n\u001B[1;32m    522\u001B[0m     \u001B[38;5;124m\"\u001B[39m\u001B[38;5;124mcreated\u001B[39m\u001B[38;5;124m\"\u001B[39m,\n\u001B[1;32m    523\u001B[0m     msg\u001B[38;5;241m=\u001B[39m\u001B[38;5;124mf\u001B[39m\u001B[38;5;124m\"\u001B[39m\u001B[38;5;124mtrained \u001B[39m\u001B[38;5;132;01m{\u001B[39;00m\u001B[38;5;28mself\u001B[39m\u001B[38;5;132;01m}\u001B[39;00m\u001B[38;5;124m in \u001B[39m\u001B[38;5;132;01m{\u001B[39;00mtime\u001B[38;5;241m.\u001B[39mtime() \u001B[38;5;241m-\u001B[39m start\u001B[38;5;132;01m:\u001B[39;00m\u001B[38;5;124m.2f\u001B[39m\u001B[38;5;132;01m}\u001B[39;00m\u001B[38;5;124ms\u001B[39m\u001B[38;5;124m\"\u001B[39m,\n\u001B[1;32m    524\u001B[0m )\n",
      "File \u001B[0;32m~/uni/nlp/nlp_project/venv/lib64/python3.10/site-packages/gensim/models/ldamodel.py:1019\u001B[0m, in \u001B[0;36mLdaModel.update\u001B[0;34m(self, corpus, chunksize, decay, offset, passes, update_every, eval_every, iterations, gamma_threshold, chunks_as_numpy)\u001B[0m\n\u001B[1;32m   1017\u001B[0m     logger\u001B[38;5;241m.\u001B[39minfo(\u001B[38;5;124m\"\u001B[39m\u001B[38;5;124mreached the end of input; now waiting for all remaining jobs to finish\u001B[39m\u001B[38;5;124m\"\u001B[39m)\n\u001B[1;32m   1018\u001B[0m     other \u001B[38;5;241m=\u001B[39m \u001B[38;5;28mself\u001B[39m\u001B[38;5;241m.\u001B[39mdispatcher\u001B[38;5;241m.\u001B[39mgetstate()\n\u001B[0;32m-> 1019\u001B[0m \u001B[38;5;28;43mself\u001B[39;49m\u001B[38;5;241;43m.\u001B[39;49m\u001B[43mdo_mstep\u001B[49m\u001B[43m(\u001B[49m\u001B[43mrho\u001B[49m\u001B[43m(\u001B[49m\u001B[43m)\u001B[49m\u001B[43m,\u001B[49m\u001B[43m \u001B[49m\u001B[43mother\u001B[49m\u001B[43m,\u001B[49m\u001B[43m \u001B[49m\u001B[43mpass_\u001B[49m\u001B[43m \u001B[49m\u001B[38;5;241;43m>\u001B[39;49m\u001B[43m \u001B[49m\u001B[38;5;241;43m0\u001B[39;49m\u001B[43m)\u001B[49m\n\u001B[1;32m   1020\u001B[0m \u001B[38;5;28;01mdel\u001B[39;00m other  \u001B[38;5;66;03m# frees up memory\u001B[39;00m\n\u001B[1;32m   1022\u001B[0m \u001B[38;5;28;01mif\u001B[39;00m \u001B[38;5;28mself\u001B[39m\u001B[38;5;241m.\u001B[39mdispatcher:\n",
      "File \u001B[0;32m~/uni/nlp/nlp_project/venv/lib64/python3.10/site-packages/gensim/models/ldamodel.py:1065\u001B[0m, in \u001B[0;36mLdaModel.do_mstep\u001B[0;34m(self, rho, other, extra_pass)\u001B[0m\n\u001B[1;32m   1062\u001B[0m logger\u001B[38;5;241m.\u001B[39mdebug(\u001B[38;5;124m\"\u001B[39m\u001B[38;5;124mupdating topics\u001B[39m\u001B[38;5;124m\"\u001B[39m)\n\u001B[1;32m   1063\u001B[0m \u001B[38;5;66;03m# update self with the new blend; also keep track of how much did\u001B[39;00m\n\u001B[1;32m   1064\u001B[0m \u001B[38;5;66;03m# the topics change through this update, to assess convergence\u001B[39;00m\n\u001B[0;32m-> 1065\u001B[0m previous_Elogbeta \u001B[38;5;241m=\u001B[39m \u001B[38;5;28;43mself\u001B[39;49m\u001B[38;5;241;43m.\u001B[39;49m\u001B[43mstate\u001B[49m\u001B[38;5;241;43m.\u001B[39;49m\u001B[43mget_Elogbeta\u001B[49m\u001B[43m(\u001B[49m\u001B[43m)\u001B[49m\n\u001B[1;32m   1066\u001B[0m \u001B[38;5;28mself\u001B[39m\u001B[38;5;241m.\u001B[39mstate\u001B[38;5;241m.\u001B[39mblend(rho, other)\n\u001B[1;32m   1068\u001B[0m current_Elogbeta \u001B[38;5;241m=\u001B[39m \u001B[38;5;28mself\u001B[39m\u001B[38;5;241m.\u001B[39mstate\u001B[38;5;241m.\u001B[39mget_Elogbeta()\n",
      "File \u001B[0;32m~/uni/nlp/nlp_project/venv/lib64/python3.10/site-packages/gensim/models/ldamodel.py:282\u001B[0m, in \u001B[0;36mLdaState.get_Elogbeta\u001B[0;34m(self)\u001B[0m\n\u001B[1;32m    274\u001B[0m \u001B[38;5;28;01mdef\u001B[39;00m \u001B[38;5;21mget_Elogbeta\u001B[39m(\u001B[38;5;28mself\u001B[39m):\n\u001B[1;32m    275\u001B[0m     \u001B[38;5;124;03m\"\"\"Get the log (posterior) probabilities for each topic.\u001B[39;00m\n\u001B[1;32m    276\u001B[0m \n\u001B[1;32m    277\u001B[0m \u001B[38;5;124;03m    Returns\u001B[39;00m\n\u001B[0;32m   (...)\u001B[0m\n\u001B[1;32m    280\u001B[0m \u001B[38;5;124;03m        Posterior probabilities for each topic.\u001B[39;00m\n\u001B[1;32m    281\u001B[0m \u001B[38;5;124;03m    \"\"\"\u001B[39;00m\n\u001B[0;32m--> 282\u001B[0m     \u001B[38;5;28;01mreturn\u001B[39;00m \u001B[43mdirichlet_expectation\u001B[49m\u001B[43m(\u001B[49m\u001B[38;5;28;43mself\u001B[39;49m\u001B[38;5;241;43m.\u001B[39;49m\u001B[43mget_lambda\u001B[49m\u001B[43m(\u001B[49m\u001B[43m)\u001B[49m\u001B[43m)\u001B[49m\n",
      "\u001B[0;31mKeyboardInterrupt\u001B[0m: "
     ]
    }
   ],
   "source": [
    "lda_model = gensim.models.ldamodel.LdaModel(corpus=corpus[:-1],\n",
    "                                            id2word=id2word,\n",
    "                                            num_topics=10,\n",
    "                                            random_state=100,\n",
    "                                            update_every=1,\n",
    "                                            chunksize=100,\n",
    "                                            passes=10,\n",
    "                                            alpha=\"auto\")\n"
   ],
   "metadata": {
    "collapsed": false,
    "pycharm": {
     "name": "#%%\n"
    }
   }
  },
  {
   "cell_type": "code",
   "execution_count": null,
   "outputs": [],
   "source": [
    "vis = pyLDAvis.gensim_models.prepare(lda_model, corpus, id2word, mds=\"mmds\", R=30)\n",
    "vis"
   ],
   "metadata": {
    "collapsed": false,
    "pycharm": {
     "name": "#%%\n"
    }
   }
  },
  {
   "cell_type": "markdown",
   "source": [
    "Evaluating the model see: https://www.machinelearningplus.com/nlp/topic-modeling-gensim-python/#5preparestopwords"
   ],
   "metadata": {
    "collapsed": false,
    "pycharm": {
     "name": "#%% md\n"
    }
   }
  },
  {
   "cell_type": "code",
   "execution_count": null,
   "outputs": [],
   "source": [
    "def compute_coherence_values(dictionary, corpus, texts, limit, start=2, step=3):\n",
    "    \"\"\"\n",
    "    Compute c_v coherence for various number of topics\n",
    "\n",
    "    Parameters:\n",
    "    ----------\n",
    "    dictionary : Gensim dictionary\n",
    "    corpus : Gensim corpus\n",
    "    texts : List of input texts\n",
    "    limit : Max num of topics\n",
    "\n",
    "    Returns:\n",
    "    -------\n",
    "    model_list : List of LDA topic models\n",
    "    coherence_values : Coherence values corresponding to the LDA model with respective number of topics\n",
    "    \"\"\"\n",
    "    coherence_values = []\n",
    "    model_list = []\n",
    "    for num_topics in range(start, limit, step):\n",
    "        model = gensim.models.ldamodel.LdaModel(corpus=corpus[:-1],\n",
    "                                            id2word=id2word,\n",
    "                                            num_topics=10,\n",
    "                                            random_state=100,\n",
    "                                            update_every=1,\n",
    "                                            chunksize=100,\n",
    "                                            passes=10,\n",
    "                                            alpha=\"auto\")\n",
    "\n",
    "        model_list.append(model)\n",
    "        coherencemodel = CoherenceModel(model=model, texts=texts, dictionary=dictionary, coherence='c_v')\n",
    "        coherence_values.append(coherencemodel.get_coherence())\n",
    "\n",
    "    return model_list, coherence_values"
   ],
   "metadata": {
    "collapsed": false,
    "pycharm": {
     "name": "#%%\n"
    }
   }
  },
  {
   "cell_type": "code",
   "execution_count": null,
   "outputs": [],
   "source": [
    "model_list, coherence_values = compute_coherence_values(dictionary=id2word, corpus=corpus, texts=texts, start=2, limit=40, step=6)"
   ],
   "metadata": {
    "collapsed": false,
    "pycharm": {
     "name": "#%%\n"
    }
   }
  },
  {
   "cell_type": "code",
   "execution_count": null,
   "outputs": [],
   "source": [
    "# Show graph\n",
    "limit=40; start=2; step=6;\n",
    "x = range(start, limit, step)\n",
    "plt.plot(x, coherence_values)\n",
    "plt.xlabel(\"Num Topics\")\n",
    "plt.ylabel(\"Coherence score\")\n",
    "plt.legend((\"coherence_values\"), loc='best')\n",
    "plt.show()"
   ],
   "metadata": {
    "collapsed": false,
    "pycharm": {
     "name": "#%%\n"
    }
   }
  }
 ],
 "metadata": {
  "kernelspec": {
   "display_name": "Python 3",
   "language": "python",
   "name": "python3"
  },
  "language_info": {
   "codemirror_mode": {
    "name": "ipython",
    "version": 2
   },
   "file_extension": ".py",
   "mimetype": "text/x-python",
   "name": "python",
   "nbconvert_exporter": "python",
   "pygments_lexer": "ipython2",
   "version": "2.7.6"
  }
 },
 "nbformat": 4,
 "nbformat_minor": 0
}